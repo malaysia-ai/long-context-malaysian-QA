{
 "cells": [
  {
   "cell_type": "code",
   "execution_count": 55,
   "id": "493869c4",
   "metadata": {},
   "outputs": [],
   "source": [
    "# !wget https://huggingface.co/datasets/malaysia-ai/dedup-text-dataset/resolve/main/malaysia-ejudgement.jsonl"
   ]
  },
  {
   "cell_type": "code",
   "execution_count": null,
   "id": "3b2f1736",
   "metadata": {},
   "outputs": [],
   "source": [
    "# !pip install -q -U google-generativeai"
   ]
  },
  {
   "cell_type": "code",
   "execution_count": 43,
   "id": "1613f798",
   "metadata": {},
   "outputs": [],
   "source": [
    "import json\n",
    "from glob import glob\n",
    "from typing import List\n",
    "from time import time, sleep\n",
    "\n",
    "from tenacity import Retrying, RetryError, \\\n",
    "                     stop_after_attempt, wait_fixed\n",
    "\n",
    "from tqdm import tqdm\n",
    "from pydantic import BaseModel\n",
    "\n",
    "from huggingface_hub import HfApi\n",
    "import google.generativeai as genai"
   ]
  },
  {
   "cell_type": "code",
   "execution_count": 44,
   "id": "93e44f47",
   "metadata": {},
   "outputs": [],
   "source": [
    "# configure model credentials. Get your own API key!\n",
    "\n",
    "genai.configure(api_key=\"\")\n",
    "\n",
    "model = genai.GenerativeModel('gemini-1.5-flash')"
   ]
  },
  {
   "cell_type": "code",
   "execution_count": 20,
   "id": "0399e562",
   "metadata": {},
   "outputs": [
    {
     "data": {
      "text/plain": [
       "{'properties': {'question': {'title': 'Question', 'type': 'string'},\n",
       "  'answer': {'title': 'Answer', 'type': 'string'}},\n",
       " 'required': ['question', 'answer'],\n",
       " 'title': 'SyntheticQASchema',\n",
       " 'type': 'object'}"
      ]
     },
     "execution_count": 20,
     "metadata": {},
     "output_type": "execute_result"
    }
   ],
   "source": [
    "class SyntheticQASchema(BaseModel):\n",
    "    question: str\n",
    "    answer: str\n",
    "    \n",
    "schema = SyntheticQASchema.schema()\n",
    "schema"
   ]
  },
  {
   "cell_type": "markdown",
   "id": "cd21a554",
   "metadata": {},
   "source": [
    "### 1.0 Append chunks together (to get 100k context length)"
   ]
  },
  {
   "cell_type": "markdown",
   "id": "b3e9765a",
   "metadata": {},
   "source": [
    "#### 1.1 Count token length in dataset"
   ]
  },
  {
   "cell_type": "code",
   "execution_count": 31,
   "id": "17d75648",
   "metadata": {},
   "outputs": [
    {
     "name": "stderr",
     "output_type": "stream",
     "text": [
      "0it [00:00, ?it/s]"
     ]
    },
    {
     "name": "stdout",
     "output_type": "stream",
     "text": [
      "Microsoft Word - DRAFT GOJ HUP HUAT CONSTRUCTION AND ENGINEERING SDN BHD v. PECCA LEATHER SDN BHD  Another\n",
      "\n",
      "\n",
      " 1   IN THE HIGH COURT OF MALAYA AT KANGAR \n",
      "\n",
      "IN THE STATE OF PERLIS, MALAYSIA \n",
      "\n",
      "(COMMERCIAL DIVISION) \n",
      "\n",
      "COMPANIES WINDING -UP NO RA-28NCC-4-03/2022 \n",
      "\n",
      "POST COMPANIES (WINDING UP) APPLICATION NO.: RA-28PW-4-05/2023 \n",
      "\n",
      "(COMPANIES WINDING-UP NO.:RA-28NCC-4-03/2022)   In the matter of sections 465 (1)(e), and \n",
      "\n",
      "466(1)(a), 471, 492, 492 and 494 of the \n",
      "\n",
      "Companies Act, 2016,   And   In the matter of HUP HUAT \n",
      "\n",
      "CONSTRUCTION AND ENGINEERING SDN. \n",
      "\n",
      "BHD. (Company No.783563-M) (In \n",
      "\n",
      "Liquidation),   And   In the matter of the Companies (Winding-\n",
      "\n",
      "Up) Rules 1972,   And   In the matter of Ooi Lee Wei (NRIC : No.: \n",
      "\n",
      "770220-09-5197), the Applicant \n",
      "\n",
      "09/02/2024 12:30:38\n",
      "\n",
      "RA-28PW-4-05/2023 Kand. 105\n",
      "\n",
      "S/N I6I3gBthU6C4y3ED3Q9Q\n",
      "**Note : Serial number will be used to verify the originality of this document via eFILING portal\n",
      "\n",
      "\n",
      "\n",
      " 2   BETWEEN   PECCA LEATHER SDN BHD   ... PETITIONER   AND   HUP HUAT CONSTRUCTION AND ENGINEERING SDN BHD (IN \n",
      "\n",
      "LIQUIDATION) \n",
      "\n",
      "(Company No: 783563-M)   .. RESPONDENT   AND   OOI LEE WEI \n",
      "\n",
      "(NRIC NO. 770220-09-5197)   .. APPLICANT   S/N I6I3gBthU6C4y3ED3Q9Q\n",
      "**Note : Serial number will be used to verify the originality of this document via eFILING portal\n",
      "\n",
      "\n",
      "\n",
      " 3\n",
      "\n",
      "JUDGMENT   [1]  This is an appeal by the Liquidator of the Respondent, Hup Huat \n",
      "\n",
      "Construction and Engineering Sdn Bhd (In Liquidation) against the decision \n",
      "\n",
      "of this Court in dismissing the Liquidator’s interlocutory application in Forms \n",
      "\n",
      "of Summons (Liquidator’s Application to admit Enclosure 50, Affidavit of \n",
      "\n",
      "Leong Ying Hoe and to seek leave to file further Affidavit) in Enclosure 55.   [2] The Applicant in this case is a contributory and one of the \n",
      "\n",
      "shareholders of the Respondent, namely Hup Huat Construction and \n",
      "\n",
      "Engineering Sdn Bhd.   [3] The Liquidator on the other hand is the private liquidator of Hup Huat \n",
      "\n",
      "Construction and Engineering Sdn Bhd (In Liquidation) appointed by this \n",
      "\n",
      "Court by Winding-Up Order dated 2/3/2023.   [4] Vide an Amended Form of Summons in Enclosure 11, the Applicant \n",
      "\n",
      "seeks for the following orders –   S/N I6I3gBthU6C4y3ED3Q9Q\n",
      "**Note : Serial number will be used to verify the originality of this document via eFILING portal\n",
      "\n",
      "\n",
      "\n",
      " 4\n",
      "\n",
      "(a) that Ooi Lee Wei (NRIC No: 770220-09-5197) be granted with \n",
      "\n",
      "leave to intervene and proceed with this application filed herein, \n",
      "\n",
      "if necessary;   (b) that a Consent Judgment to be entered to stay the Order for \n",
      "\n",
      "Winding Up by the Court dated 2.3.2023;   (c) that no order as to costs; and   (d) such other and/or further reliefs this Honourable Court deems \n",
      "\n",
      "just and fair.   [5] Pending the hearing of the main suit in Enclosure 11, on 13/9/2023, \n",
      "\n",
      "the Liquidator filed the Liquidator’s Application in Enclosure 55 for the \n",
      "\n",
      "following orders –   (a) that leave is to be granted in favour of the Liquidator to \n",
      "\n",
      "regularize the filing of the Affidavit of Leong Ying Hoe duly \n",
      "\n",
      "affirmed on 04.09.2023 (Enclosure 50) which was filed under \n",
      "\n",
      "Enclosure 18 (Liquidator’s Application for Stay of Proceedings) \n",
      "\n",
      "S/N I6I3gBthU6C4y3ED3Q9Q\n",
      "**Note : Serial number will be used to verify the originality of this document via eFILING portal\n",
      "\n",
      "\n",
      "\n",
      " 5\n",
      "\n",
      "vide Post Companies (Winding Up) Application No.: RA-28PW-\n",
      "\n",
      "4-05/2023;   (b) that this Honourable Court admits Affidavit of Leong Ying Hoe \n",
      "\n",
      "duly affirmed on 04.09.2023 (Enclosure 50) to be taken into \n",
      "\n",
      "consideration for Enclosure 18 (Liquidator’s Application for Stay \n",
      "\n",
      "of Proceedings) vide Post Companies (Winding Up) Application \n",
      "\n",
      "No.: RA-28PW-4- 05/2023;   (c) that this Honourable Court allows and admits Affidavit of Leong \n",
      "\n",
      "Ying Hoe duly affirmed on 04.09.2023 (Enclosure 50) to be \n",
      "\n",
      "taken into consideration for Enclosure 1 and/or 11 (Applicant’s \n",
      "\n",
      "Application to Stay Winding Up Order) vide Post Companies \n",
      "\n",
      "(Winding Up) Application No.: RA-28PW-4-05/2023;   (d) that leave is also granted to the Liquidator to file a further \n",
      "\n",
      "Affidavit to state the latest discovery and development of facts \n",
      "\n",
      "pertaining to the matter;   (e) that the costs for this application is to be cost in the cause; and \n",
      "\n",
      "S/N I6I3gBthU6C4y3ED3Q9Q\n",
      "**Note : Serial number will be used to verify the originality of this document via eFILING portal\n",
      "\n",
      "\n",
      "\n",
      " 6\n",
      "\n",
      "(f) such further and/or other reliefs or orders as the Court deems fit \n",
      "\n",
      "and proper.   [6] The Applicant and the Petitioner had objected to Enclosure 55. After \n",
      "\n",
      "hearing all parties, on 5/10/2023, this Court had dismissed Enclosure 55 \n",
      "\n",
      "with costs in the cause as there is no merits in the Liquidator’s Application.   [7] Dissatisfied with the decision of this Court, the Liquidator had \n",
      "\n",
      "appealed against the said decision.   [8] However, pending the hearing and disposal of the Liquidator’s \n",
      "\n",
      "appeal, upon hearing all parties on 11/1/2024, this Court had allowed \n",
      "\n",
      "Enclosure 11 (the main suit) for the following terms and conditions –   “1. Ooi Lee Wei (NRIC No: 770220-09-5197) be granted with leave \n",
      "\n",
      "to intervene and proceed with this application filed herein;   2. the Winding Up Order dated 02.03.2023 granted by this Court \n",
      "\n",
      "against the Respondent (“Winding Up Order”) shall be stayed \n",
      "\n",
      "S/N I6I3gBthU6C4y3ED3Q9Q\n",
      "**Note : Serial number will be used to verify the originality of this document via eFILING portal\n",
      "\n",
      "\n",
      "\n",
      " 7\n",
      "\n",
      "until 11.04.2024 pursuant to Section 492 of the Companies Act \n",
      "\n",
      "2016, subject to the following conditions;   (1) the terms of the draft Consent Order (exhibit “OLW-4” of \n",
      "\n",
      "Enclosure 2) be amended and entered as follows:   (2) the Respondent shall pay or the Applicant shall cause the \n",
      "\n",
      "Respondent to pay the Petitioner a total sum of \n",
      "\n",
      "RM654,741.58 being the full and final settlement sum \n",
      "\n",
      "(“Settlement Sum”) in one lump-sum payment by way of a \n",
      "\n",
      "cheque within thirty (30) days from the date of this Order;   (3) the payment of the Settlement Sum shall be secured by \n",
      "\n",
      "the Applicant’s own property with an address at No. 16, \n",
      "\n",
      "Jalan Ria, Taman Pertama, 01000 Kangar, Perlis \n",
      "\n",
      "(“Property”) as collateral for the payment and a personal \n",
      "\n",
      "guarantee by the Applicant, Mr. Ooi Lee Wei;   (4) the Respondent shall hand-over or the Applicant shall \n",
      "\n",
      "cause the Respondent to hand-over all the following \n",
      "\n",
      "S/N I6I3gBthU6C4y3ED3Q9Q\n",
      "**Note : Serial number will be used to verify the originality of this document via eFILING portal\n",
      "\n",
      "\n",
      "\n",
      " 8\n",
      "\n",
      "documents within thirty (30) days from the date of this \n",
      "\n",
      "Order;   a. the cheque stated at paragraph (1) above in the \n",
      "\n",
      "sum of RM654,741.58; and   b. the duly signed and stamped “Director’s Irrevocable \n",
      "\n",
      "Personal Guarantee & Indemnity”;   (5) the Petitioner shall be entitled to enter a private caveat in \n",
      "\n",
      "respect of the Property for the purpose as stated at \n",
      "\n",
      "paragraph (2) above;   (6) the management and control of the Respondent be \n",
      "\n",
      "granted to the Applicant from the date of this Order until \n",
      "\n",
      "11.4.2024;   (7) the Applicant be allowed to operate the Respondent’s \n",
      "\n",
      "current bank account no. 3141756216 with Public Bank \n",
      "\n",
      "S/N I6I3gBthU6C4y3ED3Q9Q\n",
      "**Note : Serial number will be used to verify the originality of this document via eFILING portal\n",
      "\n",
      "\n",
      "\n",
      " 9\n",
      "\n",
      "Berhad at Kangar, Perlis from the date of this Order until \n",
      "\n",
      "11.4.2024;   (8) in the event of default on any of the payment terms and/or \n",
      "\n",
      "breach of any of the terms and conditions set out herein:   a. the Petitioner shall be entitled to take necessary \n",
      "\n",
      "steps to recover any amount due and owing to the \n",
      "\n",
      "Petitioner; and   b. any stay of the Winding Up Order shall immediately \n",
      "\n",
      "be ceased and/or terminated whereupon the \n",
      "\n",
      "Winding Up Order shall be reinstated and the \n",
      "\n",
      "Liquidator be allowed to execute his duties pursuant \n",
      "\n",
      "to the Winding Up Order;   (9) upon clearance of the payment of RM654,741.58, the \n",
      "\n",
      "Petitioner shall have no objection for the Applicant or the \n",
      "\n",
      "Contributory of the Respondent to apply for termination of \n",
      "\n",
      "the Winding Up Order; \n",
      "\n",
      "S/N I6I3gBthU6C4y3ED3Q9Q\n",
      "**Note : Serial number will be used to verify the originality of this document via eFILING portal\n",
      "\n",
      "\n",
      "\n",
      " 10\n",
      "\n",
      "(10) a copy of the Order herein should be lodged with \n",
      "\n",
      "Pendaftar Suruhanjaya Syarikat Malaysia within thirty (30) \n",
      "\n",
      "days from the date of this Order; and   3. No order as to costs.”.   [9]  Since the main suit in Enclosure 11 has been disposed of by this \n",
      "\n",
      "Court on 11/1/2024, this Court is of the view that the Liquidator’s appeal in \n",
      "\n",
      "Enclosure 55 has become academic.   Dated   :   7 February 2024   (DR. ARIK SANUSI BIN YEOP JOHARI) \n",
      "\n",
      "Judge \n",
      "\n",
      "High Court of Malaya, Kangar \n",
      "\n",
      "The State of Perlis   S/N I6I3gBthU6C4y3ED3Q9Q\n",
      "**Note : Serial number will be used to verify the originality of this document via eFILING portal\n",
      "\n",
      "\n",
      "\n",
      " 11\n",
      "\n",
      " \n",
      "The Solicitor’s –   The Applicant’s Solicitor: \n",
      " \n",
      "Mr. Low Eu Thuan  \n",
      "(together with Ang Jinn Fenn) \n",
      "Messrs. Cheong Wai Meng & Van Buerle \n",
      "49, Lebuh Gereja \n",
      "10200, Pulau Pinang   The Petitioner’s Solicitor: \n",
      " \n",
      "Ms. Alane Neo  \n",
      "Messrs. YY Chin & Co \n",
      "VO3-05-03, Designer Office VO3, \n",
      "Lingkaran SV, Sunway Velocity, \n",
      "55100 Kuala Lumpur   The Liquidator’s Solicitor: \n",
      " \n",
      "Mr Tan Eng Keat  \n",
      "Messrs. Gan, Lee & Tan \n",
      "Suite 13.03, Level 13  \n",
      "Menara IGB, Mid Valley City \n",
      "Lingkaran Syed Putra \n",
      "59200 Kuala Lumpur   S/N I6I3gBthU6C4y3ED3Q9Q\n",
      "**Note : Serial number will be used to verify the originality of this document via eFILING portal\n"
     ]
    },
    {
     "name": "stderr",
     "output_type": "stream",
     "text": [
      "\n"
     ]
    }
   ],
   "source": [
    "# check what one sample looks like\n",
    "with open('malaysia-ejudgement.jsonl') as f:\n",
    "    for x in tqdm(f):\n",
    "        x=json.loads(x)\n",
    "        print(x)\n",
    "        break"
   ]
  },
  {
   "cell_type": "code",
   "execution_count": 39,
   "id": "395da387",
   "metadata": {},
   "outputs": [],
   "source": [
    "def count_token(filename):\n",
    "    filename_write = f'count_token_{filename.split(\".\")[0]}.jsonl'\n",
    "    print(f'Writing to: {filename_write}')\n",
    "    \n",
    "    with open(filename_write, 'w') as f:\n",
    "        with open(filename) as f2:\n",
    "            for x in tqdm(f2):\n",
    "\n",
    "                x=json.loads(x)\n",
    "\n",
    "                data = {}\n",
    "                while True:\n",
    "                    try:\n",
    "                        data['count'] = model.count_tokens(x).total_tokens\n",
    "                        break\n",
    "                    except:\n",
    "                        time.sleep(60)\n",
    "\n",
    "                data['prompt'] = x\n",
    "\n",
    "                json.dump(data, f)\n",
    "                f.write('\\n')"
   ]
  },
  {
   "cell_type": "code",
   "execution_count": 40,
   "id": "254e988a",
   "metadata": {},
   "outputs": [
    {
     "name": "stdout",
     "output_type": "stream",
     "text": [
      "Writing to: count_token_malaysia-ejudgement.jsonl\n"
     ]
    },
    {
     "name": "stderr",
     "output_type": "stream",
     "text": [
      "17204it [23:24, 12.25it/s]\n"
     ]
    }
   ],
   "source": [
    "count_token('malaysia-ejudgement.jsonl')"
   ]
  },
  {
   "cell_type": "code",
   "execution_count": 41,
   "id": "f7e22761",
   "metadata": {
    "scrolled": true
   },
   "outputs": [
    {
     "name": "stderr",
     "output_type": "stream",
     "text": [
      "0it [00:00, ?it/s]"
     ]
    },
    {
     "name": "stdout",
     "output_type": "stream",
     "text": [
      "{'count': 2916, 'prompt': 'Microsoft Word - DRAFT GOJ HUP HUAT CONSTRUCTION AND ENGINEERING SDN BHD v. PECCA LEATHER SDN BHD  Another\\n\\n\\n 1   IN THE HIGH COURT OF MALAYA AT KANGAR \\n\\nIN THE STATE OF PERLIS, MALAYSIA \\n\\n(COMMERCIAL DIVISION) \\n\\nCOMPANIES WINDING -UP NO RA-28NCC-4-03/2022 \\n\\nPOST COMPANIES (WINDING UP) APPLICATION NO.: RA-28PW-4-05/2023 \\n\\n(COMPANIES WINDING-UP NO.:RA-28NCC-4-03/2022)   In the matter of sections 465 (1)(e), and \\n\\n466(1)(a), 471, 492, 492 and 494 of the \\n\\nCompanies Act, 2016,   And   In the matter of HUP HUAT \\n\\nCONSTRUCTION AND ENGINEERING SDN. \\n\\nBHD. (Company No.783563-M) (In \\n\\nLiquidation),   And   In the matter of the Companies (Winding-\\n\\nUp) Rules 1972,   And   In the matter of Ooi Lee Wei (NRIC : No.: \\n\\n770220-09-5197), the Applicant \\n\\n09/02/2024 12:30:38\\n\\nRA-28PW-4-05/2023 Kand. 105\\n\\nS/N I6I3gBthU6C4y3ED3Q9Q\\n**Note : Serial number will be used to verify the originality of this document via eFILING portal\\n\\n\\n\\n 2   BETWEEN   PECCA LEATHER SDN BHD   ... PETITIONER   AND   HUP HUAT CONSTRUCTION AND ENGINEERING SDN BHD (IN \\n\\nLIQUIDATION) \\n\\n(Company No: 783563-M)   .. RESPONDENT   AND   OOI LEE WEI \\n\\n(NRIC NO. 770220-09-5197)   .. APPLICANT   S/N I6I3gBthU6C4y3ED3Q9Q\\n**Note : Serial number will be used to verify the originality of this document via eFILING portal\\n\\n\\n\\n 3\\n\\nJUDGMENT   [1]  This is an appeal by the Liquidator of the Respondent, Hup Huat \\n\\nConstruction and Engineering Sdn Bhd (In Liquidation) against the decision \\n\\nof this Court in dismissing the Liquidator’s interlocutory application in Forms \\n\\nof Summons (Liquidator’s Application to admit Enclosure 50, Affidavit of \\n\\nLeong Ying Hoe and to seek leave to file further Affidavit) in Enclosure 55.   [2] The Applicant in this case is a contributory and one of the \\n\\nshareholders of the Respondent, namely Hup Huat Construction and \\n\\nEngineering Sdn Bhd.   [3] The Liquidator on the other hand is the private liquidator of Hup Huat \\n\\nConstruction and Engineering Sdn Bhd (In Liquidation) appointed by this \\n\\nCourt by Winding-Up Order dated 2/3/2023.   [4] Vide an Amended Form of Summons in Enclosure 11, the Applicant \\n\\nseeks for the following orders –   S/N I6I3gBthU6C4y3ED3Q9Q\\n**Note : Serial number will be used to verify the originality of this document via eFILING portal\\n\\n\\n\\n 4\\n\\n(a) that Ooi Lee Wei (NRIC No: 770220-09-5197) be granted with \\n\\nleave to intervene and proceed with this application filed herein, \\n\\nif necessary;   (b) that a Consent Judgment to be entered to stay the Order for \\n\\nWinding Up by the Court dated 2.3.2023;   (c) that no order as to costs; and   (d) such other and/or further reliefs this Honourable Court deems \\n\\njust and fair.   [5] Pending the hearing of the main suit in Enclosure 11, on 13/9/2023, \\n\\nthe Liquidator filed the Liquidator’s Application in Enclosure 55 for the \\n\\nfollowing orders –   (a) that leave is to be granted in favour of the Liquidator to \\n\\nregularize the filing of the Affidavit of Leong Ying Hoe duly \\n\\naffirmed on 04.09.2023 (Enclosure 50) which was filed under \\n\\nEnclosure 18 (Liquidator’s Application for Stay of Proceedings) \\n\\nS/N I6I3gBthU6C4y3ED3Q9Q\\n**Note : Serial number will be used to verify the originality of this document via eFILING portal\\n\\n\\n\\n 5\\n\\nvide Post Companies (Winding Up) Application No.: RA-28PW-\\n\\n4-05/2023;   (b) that this Honourable Court admits Affidavit of Leong Ying Hoe \\n\\nduly affirmed on 04.09.2023 (Enclosure 50) to be taken into \\n\\nconsideration for Enclosure 18 (Liquidator’s Application for Stay \\n\\nof Proceedings) vide Post Companies (Winding Up) Application \\n\\nNo.: RA-28PW-4- 05/2023;   (c) that this Honourable Court allows and admits Affidavit of Leong \\n\\nYing Hoe duly affirmed on 04.09.2023 (Enclosure 50) to be \\n\\ntaken into consideration for Enclosure 1 and/or 11 (Applicant’s \\n\\nApplication to Stay Winding Up Order) vide Post Companies \\n\\n(Winding Up) Application No.: RA-28PW-4-05/2023;   (d) that leave is also granted to the Liquidator to file a further \\n\\nAffidavit to state the latest discovery and development of facts \\n\\npertaining to the matter;   (e) that the costs for this application is to be cost in the cause; and \\n\\nS/N I6I3gBthU6C4y3ED3Q9Q\\n**Note : Serial number will be used to verify the originality of this document via eFILING portal\\n\\n\\n\\n 6\\n\\n(f) such further and/or other reliefs or orders as the Court deems fit \\n\\nand proper.   [6] The Applicant and the Petitioner had objected to Enclosure 55. After \\n\\nhearing all parties, on 5/10/2023, this Court had dismissed Enclosure 55 \\n\\nwith costs in the cause as there is no merits in the Liquidator’s Application.   [7] Dissatisfied with the decision of this Court, the Liquidator had \\n\\nappealed against the said decision.   [8] However, pending the hearing and disposal of the Liquidator’s \\n\\nappeal, upon hearing all parties on 11/1/2024, this Court had allowed \\n\\nEnclosure 11 (the main suit) for the following terms and conditions –   “1. Ooi Lee Wei (NRIC No: 770220-09-5197) be granted with leave \\n\\nto intervene and proceed with this application filed herein;   2. the Winding Up Order dated 02.03.2023 granted by this Court \\n\\nagainst the Respondent (“Winding Up Order”) shall be stayed \\n\\nS/N I6I3gBthU6C4y3ED3Q9Q\\n**Note : Serial number will be used to verify the originality of this document via eFILING portal\\n\\n\\n\\n 7\\n\\nuntil 11.04.2024 pursuant to Section 492 of the Companies Act \\n\\n2016, subject to the following conditions;   (1) the terms of the draft Consent Order (exhibit “OLW-4” of \\n\\nEnclosure 2) be amended and entered as follows:   (2) the Respondent shall pay or the Applicant shall cause the \\n\\nRespondent to pay the Petitioner a total sum of \\n\\nRM654,741.58 being the full and final settlement sum \\n\\n(“Settlement Sum”) in one lump-sum payment by way of a \\n\\ncheque within thirty (30) days from the date of this Order;   (3) the payment of the Settlement Sum shall be secured by \\n\\nthe Applicant’s own property with an address at No. 16, \\n\\nJalan Ria, Taman Pertama, 01000 Kangar, Perlis \\n\\n(“Property”) as collateral for the payment and a personal \\n\\nguarantee by the Applicant, Mr. Ooi Lee Wei;   (4) the Respondent shall hand-over or the Applicant shall \\n\\ncause the Respondent to hand-over all the following \\n\\nS/N I6I3gBthU6C4y3ED3Q9Q\\n**Note : Serial number will be used to verify the originality of this document via eFILING portal\\n\\n\\n\\n 8\\n\\ndocuments within thirty (30) days from the date of this \\n\\nOrder;   a. the cheque stated at paragraph (1) above in the \\n\\nsum of RM654,741.58; and   b. the duly signed and stamped “Director’s Irrevocable \\n\\nPersonal Guarantee & Indemnity”;   (5) the Petitioner shall be entitled to enter a private caveat in \\n\\nrespect of the Property for the purpose as stated at \\n\\nparagraph (2) above;   (6) the management and control of the Respondent be \\n\\ngranted to the Applicant from the date of this Order until \\n\\n11.4.2024;   (7) the Applicant be allowed to operate the Respondent’s \\n\\ncurrent bank account no. 3141756216 with Public Bank \\n\\nS/N I6I3gBthU6C4y3ED3Q9Q\\n**Note : Serial number will be used to verify the originality of this document via eFILING portal\\n\\n\\n\\n 9\\n\\nBerhad at Kangar, Perlis from the date of this Order until \\n\\n11.4.2024;   (8) in the event of default on any of the payment terms and/or \\n\\nbreach of any of the terms and conditions set out herein:   a. the Petitioner shall be entitled to take necessary \\n\\nsteps to recover any amount due and owing to the \\n\\nPetitioner; and   b. any stay of the Winding Up Order shall immediately \\n\\nbe ceased and/or terminated whereupon the \\n\\nWinding Up Order shall be reinstated and the \\n\\nLiquidator be allowed to execute his duties pursuant \\n\\nto the Winding Up Order;   (9) upon clearance of the payment of RM654,741.58, the \\n\\nPetitioner shall have no objection for the Applicant or the \\n\\nContributory of the Respondent to apply for termination of \\n\\nthe Winding Up Order; \\n\\nS/N I6I3gBthU6C4y3ED3Q9Q\\n**Note : Serial number will be used to verify the originality of this document via eFILING portal\\n\\n\\n\\n 10\\n\\n(10) a copy of the Order herein should be lodged with \\n\\nPendaftar Suruhanjaya Syarikat Malaysia within thirty (30) \\n\\ndays from the date of this Order; and   3. No order as to costs.”.   [9]  Since the main suit in Enclosure 11 has been disposed of by this \\n\\nCourt on 11/1/2024, this Court is of the view that the Liquidator’s appeal in \\n\\nEnclosure 55 has become academic.   Dated   :   7 February 2024   (DR. ARIK SANUSI BIN YEOP JOHARI) \\n\\nJudge \\n\\nHigh Court of Malaya, Kangar \\n\\nThe State of Perlis   S/N I6I3gBthU6C4y3ED3Q9Q\\n**Note : Serial number will be used to verify the originality of this document via eFILING portal\\n\\n\\n\\n 11\\n\\n \\nThe Solicitor’s –   The Applicant’s Solicitor: \\n \\nMr. Low Eu Thuan  \\n(together with Ang Jinn Fenn) \\nMessrs. Cheong Wai Meng & Van Buerle \\n49, Lebuh Gereja \\n10200, Pulau Pinang   The Petitioner’s Solicitor: \\n \\nMs. Alane Neo  \\nMessrs. YY Chin & Co \\nVO3-05-03, Designer Office VO3, \\nLingkaran SV, Sunway Velocity, \\n55100 Kuala Lumpur   The Liquidator’s Solicitor: \\n \\nMr Tan Eng Keat  \\nMessrs. Gan, Lee & Tan \\nSuite 13.03, Level 13  \\nMenara IGB, Mid Valley City \\nLingkaran Syed Putra \\n59200 Kuala Lumpur   S/N I6I3gBthU6C4y3ED3Q9Q\\n**Note : Serial number will be used to verify the originality of this document via eFILING portal'}\n"
     ]
    },
    {
     "name": "stderr",
     "output_type": "stream",
     "text": [
      "\n"
     ]
    }
   ],
   "source": [
    "# check what one sample looks like\n",
    "with open('count_token_malaysia-ejudgement.jsonl') as _:\n",
    "    for y in tqdm(_):\n",
    "        y=json.loads(y)\n",
    "        print(y)\n",
    "        break"
   ]
  },
  {
   "cell_type": "markdown",
   "id": "0aba9705",
   "metadata": {},
   "source": [
    "#### 1.2 Append examples with each other to reach 100k Context Length"
   ]
  },
  {
   "cell_type": "code",
   "execution_count": 42,
   "id": "9529a21e",
   "metadata": {},
   "outputs": [
    {
     "name": "stderr",
     "output_type": "stream",
     "text": [
      "17204it [00:13, 1254.89it/s]\n"
     ]
    }
   ],
   "source": [
    "fw = 'malaysia-ejudgement_context_append.jsonl'\n",
    "f = 'count_token_malaysia-ejudgement.jsonl'\n",
    "chunk_temp = []\n",
    "count = 0\n",
    "\n",
    "with open(fw,'w') as fopen:\n",
    "    with open(f) as fopen1:\n",
    "        for x in tqdm(fopen1):\n",
    "            \n",
    "            x=json.loads(x)\n",
    "            count+=x['count']\n",
    "            chunk_temp.extend(x['prompt'])\n",
    "            \n",
    "            if count<=100000:\n",
    "                pass\n",
    "            else:\n",
    "                data = {}\n",
    "                data['count'] = count\n",
    "                data['context'] = ''.join(list(chunk_temp))\n",
    "                \n",
    "                json.dump(data, fopen)\n",
    "                fopen.write('\\n')\n",
    "                \n",
    "                # reset count and variable for appended text variable.\n",
    "                count=0\n",
    "                chunk_temp=[]"
   ]
  },
  {
   "cell_type": "markdown",
   "id": "9bbdbf32",
   "metadata": {},
   "source": [
    "### 2.0 Generate Q&A from datasets"
   ]
  },
  {
   "cell_type": "markdown",
   "id": "223dd40e",
   "metadata": {},
   "source": [
    "#### 2.1 Testing"
   ]
  },
  {
   "cell_type": "code",
   "execution_count": 12,
   "id": "3d98f364",
   "metadata": {},
   "outputs": [],
   "source": [
    "fw = 'malaysia-ejudgement_context_append.jsonl'"
   ]
  },
  {
   "cell_type": "code",
   "execution_count": 13,
   "id": "bd509801",
   "metadata": {},
   "outputs": [
    {
     "name": "stderr",
     "output_type": "stream",
     "text": [
      "1689it [00:01, 964.31it/s]\n"
     ]
    }
   ],
   "source": [
    "data_monitor = []\n",
    "\n",
    "with open(fw) as f:\n",
    "    for x in tqdm(f):\n",
    "        data_monitor.append(json.loads(x))"
   ]
  },
  {
   "cell_type": "code",
   "execution_count": 6,
   "id": "6c76afb6",
   "metadata": {},
   "outputs": [
    {
     "data": {
      "text/plain": [
       "{'count': 108787,\n",
       " 'context': 'Microsoft Word - DRAFT GOJ HUP HUAT CONSTRUCTION AND ENGINEERING SDN BHD v. PECCA LEATHER SDN BHD  Another\\n\\n\\n 1   IN THE HIGH COURT OF MALAYA AT KANGAR \\n\\nIN THE STATE OF PERLIS, MALAYSIA \\n\\n(COMMERCIAL DIVISION) \\n\\nCOMPANIES WINDING -UP NO RA-28NCC-4-03/2022 \\n\\nPOST COMPANIES (WINDING UP) APPLICATION NO.: RA-28PW-4-05/2023 \\n\\n(COMPANIES WINDING-UP NO.:RA-28NCC-4-03/2022)   In the matter of sections 465 (1)(e), and \\n\\n466(1)(a), 471, 492, 492 and 494 of the \\n\\nCompanies Act, 2016,   And   In the matter of HUP HUAT \\n\\nCONSTRUCTION AND ENGINEERING SDN. \\n\\nBHD. (Company No.783563-M) (In \\n\\nLiquidation),   And   In the matter of the Companies (Winding-\\n\\nUp) Rules 1972,   And   In the matter of Ooi Lee Wei (NRIC : No.: \\n\\n770220-09-5197), the Applicant \\n\\n09/02/2024 12:30:38\\n\\nRA-28PW-4-05/2023 Kand. 105\\n\\nS/N I6I3gBthU6C4y3ED3Q9Q\\n**Note : Serial number will be used to verify the originality of this document via eFILING portal\\n\\n\\n\\n 2   BETWEEN   PECCA LEATHER SDN BHD   ... PETITIONER   AND   HUP HUAT CONSTRUCTION AND ENGINEERING SDN BHD (IN \\n\\nLIQUIDATION) \\n\\n(Company No: 783563-M)   .. RESPONDENT   AND   OOI LEE WEI \\n\\n(NRIC NO. 770220-09-5197)   .. APPLICANT   S/N I6I3gBthU6C4y3ED3Q9Q\\n**Note : Serial number will be used to verify the originality of this document via eFILING portal\\n\\n\\n\\n 3\\n\\nJUDGMENT   [1]  This is an appeal by the Liquidator of the Respondent, Hup Huat \\n\\nConstruction and Engineering Sdn Bhd (In Liquidation) against the decision \\n\\nof this Court in dismissing the Liquidator’s interlocutory application in Forms \\n\\nof Summons (Liquidator’s Application to admit Enclosure 50, Affidavit of \\n\\nLeong Ying Hoe and to seek leave to file further Affidavit) in Enclosure 55.   [2] The Applicant in this case is a contributory and one of the \\n\\nshareholders of the Respondent, namely Hup Huat Construction and \\n\\nEngineering Sdn Bhd.   [3] The Liquidator on the other hand is the private liquidator of Hup Huat \\n\\nConstruction and Engineering Sdn Bhd (In Liquidation) appointed by this \\n\\nCourt by Winding-Up Order dated 2/3/2023.   [4] Vide an Amended Form of Summons in Enclosure 11, the Applicant \\n\\nseeks for the following orders –   S/N I6I3gBthU6C4y3ED3Q9Q\\n**Note : Serial number will be used to verify the originality of this document via eFILING portal\\n\\n\\n\\n 4\\n\\n(a) that Ooi Lee Wei (NRIC No: 770220-09-5197) be granted with \\n\\nleave to intervene and proceed with this application filed herein, \\n\\nif necessary;   (b) that a Consent Judgment to be entered to stay the Order for \\n\\nWinding Up by the Court dated 2.3.2023;   (c) that no order as to costs; and   (d) such other and/or further reliefs this Honourable Court deems \\n\\njust and fair.   [5] Pending the hearing of the main suit in Enclosure 11, on 13/9/2023, \\n\\nthe Liquidator filed the Liquidator’s Application in Enclosure 55 for the \\n\\nfollowing orders –   (a) that leave is to be granted in favour of the Liquidator to \\n\\nregularize the filing of the Affidavit of Leong Ying Hoe duly \\n\\naffirmed on 04.09.2023 (Enclosure 50) which was filed under \\n\\nEnclosure 18 (Liquidator’s Application for Stay of Proceedings) \\n\\nS/N I6I3gBthU6C4y3ED3Q9Q\\n**Note : Serial number will be used to verify the originality of this document via eFILING portal\\n\\n\\n\\n 5\\n\\nvide Post Companies (Winding Up) Application No.: RA-28PW-\\n\\n4-05/2023;   (b) that this Honourable Court admits Affidavit of Leong Ying Hoe \\n\\nduly affirmed on 04.09.2023 (Enclosure 50) to be taken into \\n\\nconsideration for Enclosure 18 (Liquidator’s Application for Stay \\n\\nof Proceedings) vide Post Companies (Winding Up) Application \\n\\nNo.: RA-28PW-4- 05/2023;   (c) that this Honourable Court allows and admits Affidavit of Leong \\n\\nYing Hoe duly affirmed on 04.09.2023 (Enclosure 50) to be \\n\\ntaken into consideration for Enclosure 1 and/or 11 (Applicant’s \\n\\nApplication to Stay Winding Up Order) vide Post Companies \\n\\n(Winding Up) Application No.: RA-28PW-4-05/2023;   (d) that leave is also granted to the Liquidator to file a further \\n\\nAffidavit to state the latest discovery and development of facts \\n\\npertaining to the matter;   (e) that the costs for this application is to be cost in the cause; and \\n\\nS/N I6I3gBthU6C4y3ED3Q9Q\\n**Note : Serial number will be used to verify the originality of this document via eFILING portal\\n\\n\\n\\n 6\\n\\n(f) such further and/or other reliefs or orders as the Court deems fit \\n\\nand proper.   [6] The Applicant and the Petitioner had objected to Enclosure 55. After \\n\\nhearing all parties, on 5/10/2023, this Court had dismissed Enclosure 55 \\n\\nwith costs in the cause as there is no merits in the Liquidator’s Application.   [7] Dissatisfied with the decision of this Court, the Liquidator had \\n\\nappealed against the said decision.   [8] However, pending the hearing and disposal of the Liquidator’s \\n\\nappeal, upon hearing all parties on 11/1/2024, this Court had allowed \\n\\nEnclosure 11 (the main suit) for the following terms and conditions –   “1. Ooi Lee Wei (NRIC No: 770220-09-5197) be granted with leave \\n\\nto intervene and proceed with this application filed herein;   2. the Winding Up Order dated 02.03.2023 granted by this Court \\n\\nagainst the Respondent (“Winding Up Order”) shall be stayed \\n\\nS/N I6I3gBthU6C4y3ED3Q9Q\\n**Note : Serial number will be used to verify the originality of this document via eFILING portal\\n\\n\\n\\n 7\\n\\nuntil 11.04.2024 pursuant to Section 492 of the Companies Act \\n\\n2016, subject to the following conditions;   (1) the terms of the draft Consent Order (exhibit “OLW-4” of \\n\\nEnclosure 2) be amended and entered as follows:   (2) the Respondent shall pay or the Applicant shall cause the \\n\\nRespondent to pay the Petitioner a total sum of \\n\\nRM654,741.58 being the full and final settlement sum \\n\\n(“Settlement Sum”) in one lump-sum payment by way of a \\n\\ncheque within thirty (30) days from the date of this Order;   (3) the payment of the Settlement Sum shall be secured by \\n\\nthe Applicant’s own property with an address at No. 16, \\n\\nJalan Ria, Taman Pertama, 01000 Kangar, Perlis \\n\\n(“Property”) as collateral for the payment and a personal \\n\\nguarantee by the Applicant, Mr. Ooi Lee Wei;   (4) the Respondent shall hand-over or the Applicant shall \\n\\ncause the Respondent to hand-over all the following \\n\\nS/N I6I3gBthU6C4y3ED3Q9Q\\n**Note : Serial number will be used to verify the originality of this document via eFILING portal\\n\\n\\n\\n 8\\n\\ndocuments within thirty (30) days from the date of this \\n\\nOrder;   a. the cheque stated at paragraph (1) above in the \\n\\nsum of RM654,741.58; and   b. the duly signed and stamped “Director’s Irrevocable \\n\\nPersonal Guarantee & Indemnity”;   (5) the Petitioner shall be entitled to enter a private caveat in \\n\\nrespect of the Property for the purpose as stated at \\n\\nparagraph (2) above;   (6) the management and control of the Respondent be \\n\\ngranted to the Applicant from the date of this Order until \\n\\n11.4.2024;   (7) the Applicant be allowed to operate the Respondent’s \\n\\ncurrent bank account no. 3141756216 with Public Bank \\n\\nS/N I6I3gBthU6C4y3ED3Q9Q\\n**Note : Serial number will be used to verify the originality of this document via eFILING portal\\n\\n\\n\\n 9\\n\\nBerhad at Kangar, Perlis from the date of this Order until \\n\\n11.4.2024;   (8) in the event of default on any of the payment terms and/or \\n\\nbreach of any of the terms and conditions set out herein:   a. the Petitioner shall be entitled to take necessary \\n\\nsteps to recover any amount due and owing to the \\n\\nPetitioner; and   b. any stay of the Winding Up Order shall immediately \\n\\nbe ceased and/or terminated whereupon the \\n\\nWinding Up Order shall be reinstated and the \\n\\nLiquidator be allowed to execute his duties pursuant \\n\\nto the Winding Up Order;   (9) upon clearance of the payment of RM654,741.58, the \\n\\nPetitioner shall have no objection for the Applicant or the \\n\\nContributory of the Respondent to apply for termination of \\n\\nthe Winding Up Order; \\n\\nS/N I6I3gBthU6C4y3ED3Q9Q\\n**Note : Serial number will be used to verify the originality of this document via eFILING portal\\n\\n\\n\\n 10\\n\\n(10) a copy of the Order herein should be lodged with \\n\\nPendaftar Suruhanjaya Syarikat Malaysia within thirty (30) \\n\\ndays from the date of this Order; and   3. No order as to costs.”.   [9]  Since the main suit in Enclosure 11 has been disposed of by this \\n\\nCourt on 11/1/2024, this Court is of the view that the Liquidator’s appeal in \\n\\nEnclosure 55 has become academic.   Dated   :   7 February 2024   (DR. ARIK SANUSI BIN YEOP JOHARI) \\n\\nJudge \\n\\nHigh Court of Malaya, Kangar \\n\\nThe State of Perlis   S/N I6I3gBthU6C4y3ED3Q9Q\\n**Note : Serial number will be used to verify the originality of this document via eFILING portal\\n\\n\\n\\n 11\\n\\n \\nThe Solicitor’s –   The Applicant’s Solicitor: \\n \\nMr. Low Eu Thuan  \\n(together with Ang Jinn Fenn) \\nMessrs. Cheong Wai Meng & Van Buerle \\n49, Lebuh Gereja \\n10200, Pulau Pinang   The Petitioner’s Solicitor: \\n \\nMs. Alane Neo  \\nMessrs. YY Chin & Co \\nVO3-05-03, Designer Office VO3, \\nLingkaran SV, Sunway Velocity, \\n55100 Kuala Lumpur   The Liquidator’s Solicitor: \\n \\nMr Tan Eng Keat  \\nMessrs. Gan, Lee & Tan \\nSuite 13.03, Level 13  \\nMenara IGB, Mid Valley City \\nLingkaran Syed Putra \\n59200 Kuala Lumpur   S/N I6I3gBthU6C4y3ED3Q9Q\\n**Note : Serial number will be used to verify the originality of this document via eFILING portal1 \\n\\nIN THE MAGISTRATE’S COURT, KUALA LUMPUR \\n\\nIN THE FEDERAL TERRITORY OF KUALA LUMPUR \\n\\nCIVIL SUIT NO.: WA-A71KJ-3-02/2023   BETWEEN   GOVERNMENT OF MALAYSIA   .PLAINTIFF   AND   ELAYN CHAN KAR YEE .DEFENDANT   GROUNDS OF JUDGMENT   A. BACKGROUND   1. The Plaintiff’s suit arise from a running down incident involving the Plaintiff’s \\n\\nmotorcycle (WQG 7765) that was ridden by Effandi Bin Malek and the Defendant’s \\n\\nmotorcar (WA 2963 A) that had occurred on 26.9.2017 at around 8.45am. The \\n\\naccident had occurred while Effandi was riding along the Mex Highway, just after \\n\\npassing the Salak South toll. While he was riding on the leftmost lane, suddenly the \\n\\nDefendant’s motorcar had hit the Plaintiff’s motorcycle from the right. As a result, the \\n\\nPlaintiff’s motorcycle had suffered damages. Plaintiff is now claiming for damages for \\n\\nthe cost of repairs for the motorcycle.  \\n\\n09/02/2024 09:57:57\\n\\nWA-A71KJ-3-02/2023 Kand. 40\\n\\nS/N XPgnTfoH/kOsnu0NoJ2Eow\\n**Note : Serial number will be used to verify the originality of this document via eFILING portal\\n\\n\\n\\n 2   2. After 3 days of trial and after hearing the submissions from both parties, and on \\n\\nthe balance of probabilities, this Court decided to allow a portion of the Plaintiff’s claims \\n\\nwith costs of RM2,000.00 to be paid to the Plaintiff.   3. To be specific, this Court finds that the Defendant is to be held 100% liable for \\n\\nnegligently causing the accident however this Court only allows a nominal sum of \\n\\nRM10.00 of damages to the Plaintiffs.   4. Not satisfied with this Court’s decision, Plaintiff has now filed a Notice of Appeal \\n\\nagainst this Court’s decision on the issue of quantum (only) on 20.12.2023. Here are \\n\\nthis Court’s grounds of decision on the issue of quantum.   5. At trial, Plaintiff had called a total of 5 witnesses while the Defendant did not \\n\\ncall any witnesses. The list of witnesses are as follows;   Name of Witness Role Label Witness \\n\\nStatement \\n\\nEffandi Bin Abd Malek Rider to Plaintiff’s \\n\\nmotorcycle \\n\\nSP1 PSSP1 \\n\\nInspector Muhammad Fauzi B. \\n\\nAhmad Fuaat \\n\\nInvestigating \\n\\nOfficer \\n\\nSP2 PSSP2 \\n\\nShahrinniswan Bin Abd \\n\\nRahman \\n\\nRepresentative \\n\\nfrom Bahagian \\n\\nLogistik \\n\\nSP3 PSS3 \\n\\nS/N XPgnTfoH/kOsnu0NoJ2Eow\\n**Note : Serial number will be used to verify the originality of this document via eFILING portal\\n\\n\\n\\n 3 \\n\\nPengangkutan \\n\\n(Teknikal), IPKKL \\n\\nMaizatul Hafiza Binti \\n\\nMohamad \\n\\nRepresentative \\n\\nfrom Finance \\n\\nUnit, IPKKL \\n\\nSP4 PSSP4 \\n\\nMohamad Zamri Bin Idris Director of \\n\\nGerbang Cahaya \\n\\nResources SDn \\n\\nBhd \\n\\nSP5 PSSP5   B. THIS COURT’S GROUNDS OF DECISION ON THE ISSUE OF QUANTUM   6. In this suit, the Plaintiff claimed for the cost of repairing the Plaintiff’s motorcycle \\n\\nwhich the Plaintiff claims amounted to RM18,310.00. After hearing all the testimonies \\n\\nfrom the witnesses at trial and after perusing through all the documentary evidences \\n\\nadduced, this Court finds at the Plaintiff had failed to prove succinctly how much was \\n\\nthe cost of repairs, what was the basis of them claiming that amount and whether or \\n\\nnot the motorcycle was indeed repaired as specified. This inadequacy makes it \\n\\nimpossible for the Court to grant the whole amount as pleaded by the Plaintiff.   7. However, taking into account that the Defendant WAS liable for causing the \\n\\naccident, but it is just a failure on the part of the Plaintiff in proving the special damages \\n\\nthat they had incurred, this Court hereby grants a nominal award of RM10.00 to the \\n\\nPlaintiff.  \\n\\nS/N XPgnTfoH/kOsnu0NoJ2Eow\\n**Note : Serial number will be used to verify the originality of this document via eFILING portal\\n\\n\\n\\n 4   8. Before this Court goes into the basis of this Court’s decision on the issue of \\n\\nquantum, I will briefly state the law with regards to special damages. It is an \\n\\nestablished principle of law where special damages is to be pleaded specifically and \\n\\nproven strictly. Reference is made to the case of Ong Ah Long v Dr S Underwood \\n\\n[1983] 2 MLJ 324 in where the Federal Court Judge, His Lordship Syed Agil Barakbah \\n\\n(as he was then) said as follows : \\n\\n“It is a well-established principle that special damages in contrast to general \\n\\ndamages have to be specifically pleaded and strictly proven. They are \\n\\nrecoverable only where they can be included in the proper measure of damages \\n\\nand are not too remote (see Halsbury’s Laws of England 4th edition, volume 11 \\n\\npage 218 [ara 386). That in our view is the cardinal principle adopted by all \\n\\ncourts both in England and this country. The same principle was adopted by \\n\\nOng Hock Thye, FJ (as he then was) in Yee Hup Transport & Co and Anor v \\n\\nWong Kong [1967] 2 MLJ 93 which was an appeal on quantum of damages. \\n\\nQuoting an excerpt from the judgment of Wilmer LJ in Ilkiw v Samuels [1963] 1 \\n\\nWLR 991; [1963] 2 All ER 879 he held that general damages should not be \\n\\nawarded as though they were special damages properly pleaded and proved. \\n\\nSimiliarly Chong Swee Pian [1980] 1 MLJ 216 applied the principle in Ilkiw v \\n\\nSamuels (supra) that special damages if pleases as in that case could be \\n\\nrecovered. The principle was also adopted by Mohamed Azmi, J (as he then \\n\\nwas) in Sam Wun Hoong v Kader Ibramshah [1981] 1 MLJ 295 in the Federal \\n\\nCourt.  \\n\\nS/N XPgnTfoH/kOsnu0NoJ2Eow\\n**Note : Serial number will be used to verify the originality of this document via eFILING portal\\n\\n\\n\\n 5 \\n\\nThe reason that special damages have to be specifically pleaded is to comply \\n\\nwith its object which is to crystallise the issue and to enable both parties to \\n\\nprepare for trial (per Edmund Davies, LJ in Domsalla v Barr [1969] 1 WLR 630, \\n\\n635. In special damages claims the exact loss must be pleaded where the \\n\\nprecise amount of item of damages has been become clear before the trial \\n\\neither because it has already occurred and so become crystallised or because \\n\\nit can be measure with complete accuracy (MacGregor on Damages 14th \\n\\nedition page 1012 para 1498). The purpose is to put the defendants on their \\n\\nguard and tell them what they have to meet when the case comes on trial (per \\n\\nCotton, LJ in Phillips v Phillips (1878) 4 QBD 127,139”.  \\n\\n9. Refernce is also made to the book Fundamentals of Running Down And \\n\\nPersonal Injury Litigation where the author  Jeyaseelan Anthony, at page 198-200 had \\n\\nlisted the 4 elements that had to be fulfilled in every claim for special damages :   \\n\\n“6.2 SPECIAL DAMAGES  \\n\\n[6.007] Four elements must be satisfied to constitute special damages:  \\n\\n1. It is a damage which is actually suffered before the trial.  \\n\\n2. It is capable of precise quantification.  \\n\\n3. It must be specifically pleaded in the statement of claim.  \\n\\n4. It must be proved either by receipts or some other evidence.”   10. At the forefront, this Court finds that the Plaintiff had failed to prove element 2 \\n\\ndan 4 as listed above. Among others, the basis for this Court’s decision on this issue \\n\\nS/N XPgnTfoH/kOsnu0NoJ2Eow\\n**Note : Serial number will be used to verify the originality of this document via eFILING portal\\n\\n\\n\\n 6 \\n\\nis due to the fact that the list of damages and/or damaged parts to the Plaintiff’s \\n\\nmotorcycle is not proven at trial.   11. Firstly, reference is made to paragraph 6 of the Statement of Claim in which the \\n\\nPlaintiff pleads as follows:   “6. Perlanggaran tersebut telah menyebabkan Motosikal Plaintif mengalami \\n\\nkerosakan iaitu kangaroo bar kiri dan kanan bengkok, siren kiri dan kanan \\n\\npecah, lampu becon kiri dan kana pecah, cover set kiri dan kanan pecah \\n\\ndan lain-lain kerosakan.”   12. Meanwhile, En Effandi Bin Abd Malek (SP1) who was the rider to the Plaintiff’s \\n\\nmotorcycle at the time of accident had reported the damages to the motorcycle in his \\n\\npolice report as follows:   “.Saya tidak dapat mengawal m/sikal lalu terbabas diibahu Lebuhraya MEX \\n\\ntersebut. Kerosakan pada m/sikal kangaroo bar kiri dan kanan bengkok, siren \\n\\nkiri dan kanan pecah, lampu beaco light kiri kanan pecah, cover set kiri dan \\n\\nkanan pecah lain-lain kerosakan belum pasti.”   13. However, this Court began to notice a discrepancy as to which part of the \\n\\nmotorcycle is damaged exactly, when the two evidences above is cross-referred to the  \\n\\nstatements of Encik Shahrinniswan Bin Abd Rahman from Bahagian Logistik IPKKL \\n\\n(SP3) and Pn Mizatul Hafiza Binti Mohamad from the Finance Unit IPKKL (SP4).   S/N XPgnTfoH/kOsnu0NoJ2Eow\\n**Note : Serial number will be used to verify the originality of this document via eFILING portal\\n\\n\\n\\n 7 \\n\\n14. In specific, reference is made to SP3\\'s answer at question 6 of his Witness \\n\\nStatement (PSSP3) where he had stated that the document Pesanan Kerajaan was \\n\\nprepared to list out the repair works to be carried out on WQG7765. SP2 had also \\n\\nstated the list of damaged parts to be windshield, RHS Cowl, LHS Cowl, FR RHS \\n\\nFireball, RR LHS Cowl and FR Upper Cowl. However, when SP3 is asked during \\n\\ncross-examination, SP3 confirms that the following parts that were stated in the \\n\\nStatement of Claim and in SP2’s police report, were not listed as the damaged parts \\n\\nin the Pesanan Kerajaan : \\n\\na. Kangaroo bar (LH/RH); \\n\\nb. Messenger box; \\n\\nc. Siren (LH/RH); \\n\\nd. Beacon light (LH);and \\n\\ne. Coverset (LH/RH).   15. Similiarly, the witness Pn Mizatul Hafiza Binti Mohamad (SP4) also confirms \\n\\nduring cross-examination that there was no mention of any damage to parts such as \\n\\nkangaroo bar, messenger box, etc. In fact, SP4 went a step further by agreeing to the \\n\\nDefence counsel’s suggestion that there isn’t any list of damaged parts included in any \\n\\nof the Government documents uploaded in the ePerolehan system. For the record, the \\n\\nlist of Government document extracted from the ePerolehan system is as follows: \\n\\na. Pesanan Kerajaan (P5); \\n\\nb. Arahan Pembayaran (P6); \\n\\nc. Invois (P7); \\n\\nd. Pesanan Penghantaran (P8);and \\n\\ne. Nota Penerimaan Bekalan / Perkhidmatan (P9). \\n\\nS/N XPgnTfoH/kOsnu0NoJ2Eow\\n**Note : Serial number will be used to verify the originality of this document via eFILING portal\\n\\n\\n\\n 8   16. With reference to the testimonies and evidences stated under paragraph 11 \\n\\nuntil 15 of this Ground of Judgment, this Court notes that there is no same testimony \\n\\nor no same list adduced to explain what parts exactly of the motorcycle that needs to \\n\\nbe repaired/replaced. The list of damaged parts stated in the Statement of Claim, \\n\\nreport by SP1 differs from the testimonies given by SP3 and SP4.   17. On the issue of identification of damaged parts, this Court notes that the usual \\n\\npractice in these cases is for the Plaintiff to call a witness from Bahagian Workshop, \\n\\nJabatan Kerja Raya whose task is to examine the damaged motorcycle and then \\n\\nprepare a list of parts that needs to be repaired / replaced. This witness was not \\n\\npresent as a witness at trial. A copy of Borang/Senarai Kerosakan prepared by JKR \\n\\nwas also not allowed to be admitted as reference in this trial due to non-compliance to \\n\\npre-trial direction.   18. To counter this issue, the Plaintiff submits that a copy of the list of damaged \\n\\nparts was also provided in the “Senarai Kerosakan” and quotation provided by the \\n\\nworkshop that had carried out the repair works, Gerbang Cahaya Resources Sdn Bhd. \\n\\nHowever, both documents were not tendered in Court. En Mohamad Zamri Bin Idris, \\n\\na director of Gerbang Cahaya Resources Sdn Bhd, testified that his workshop had \\n\\nindeed carried out repair works as per requested by the Plaintiff. However, he was \\n\\nunable to tender a copy of the “Senarai Kerosakan” and quotation as his records were \\n\\ndestroyed due to flooding. SP5 was also unable to give an oral explanation what works \\n\\nwere carried out as the repair work had been carried out years ago.   S/N XPgnTfoH/kOsnu0NoJ2Eow\\n**Note : Serial number will be used to verify the originality of this document via eFILING portal\\n\\n\\n\\n 9   19. Therefore, this Court finds that there was a failure on the Plaintiff to succinctly \\n\\nprove what are the damaged parts that needs to be replaced / repaired in order for \\n\\nthem to be awarded damages to repair said parts.   20. Furthermore, this Court also notes that there is no breakdown of price for each \\n\\nof the spare parts that is allegedly needed to repair/replace the damaged parts on the \\n\\nmotorcycle. What all of witness testimonies and the above Government documents \\n\\nshows is at best, the total of the cost of repair works that had been done. But the \\n\\nquestion of what spare parts, or what actual repair works that had been carried out on \\n\\nthe motorcycle, plus how much cost per part is left unanswered.   21. Since this Court is unable to determine what parts are damaged and are in need \\n\\nof replacement / repair, how then will this Court determine how much the alleged \\n\\nreplacement / repair is to cost?   22. For the record, this Court is satisfied that some level of repair work had indeed \\n\\nbeen carried out on the motorcycle (as stated by SP3, SP4 and SP5) and payment for \\n\\nworks done has also been paid out. However the issue that remains a mystery to this \\n\\nCourt is what repair works that had been done and whether the repair works or cost \\n\\nof spare parts that were used in the repair works are reasonable and had been carried \\n\\nout to the tee. No evidence or testimonies were adduced by Plaintiff that could \\n\\nelucidate on this matter. Therefore, this Court is unable to grant the special damages \\n\\nas pleaded by the Plaintiff.   S/N XPgnTfoH/kOsnu0NoJ2Eow\\n**Note : Serial number will be used to verify the originality of this document via eFILING portal\\n\\n\\n\\n 10 \\n\\n23. Nevertheless putting aside the failure of the Plaintiff to sufficienly prove their \\n\\nclaim for special damages, considering the fact that this Court had found the \\n\\nDefendants wholly liable for negligently causing the accident, this Court grants a sum \\n\\nRM10.00 as nominal damages for the Plaintiff.   24. Overall on the balance of probabilities, this Court decides to allow a part of the \\n\\nPlaintiff’s claims with costs of RM2,000.00 to be paid to the Plaintiff.   Case Details \\n\\nMagistrate : Shairil Farhana Binti Ruslan \\n\\nCounsel for Plaintiff : Arina Azmin Binti Ahmad Marzuki, Federal Counsel \\n\\nCounsel for Defendant : Faliq Faizal and Ralizah (PDK), Messrs Murali B. Pillai & \\n\\nAssociates \\n\\nDate of Decision : 8th December 2023 \\n\\nDate of Ground of Decision : 7th February 2024  \\n\\nS/N XPgnTfoH/kOsnu0NoJ2Eow\\n**Note : Serial number will be used to verify the originality of this document via eFILING portal09/02/2024 14:47:54\\n\\nCB-62D-31-01/2024 Kand. 9\\n\\nS/N IdQpUKi68UKAoXkrCuYQdQ\\n**Note : Serial number will be used to verify the originality of this document via eFILING portal\\n\\n\\n\\nS/N IdQpUKi68UKAoXkrCuYQdQ\\n**Note : Serial number will be used to verify the originality of this document via eFILING portal\\n\\n\\n\\nS/N IdQpUKi68UKAoXkrCuYQdQ\\n**Note : Serial number will be used to verify the originality of this document via eFILING portal\\n\\n\\n\\nS/N IdQpUKi68UKAoXkrCuYQdQ\\n**Note : Serial number will be used to verify the originality of this document via eFILING portal\\n\\n\\n\\nS/N IdQpUKi68UKAoXkrCuYQdQ\\n**Note : Serial number will be used to verify the originality of this document via eFILING portal\\n\\n\\n\\nS/N IdQpUKi68UKAoXkrCuYQdQ\\n**Note : Serial number will be used to verify the originality of this document via eFILING portal\\n\\n\\n\\nS/N IdQpUKi68UKAoXkrCuYQdQ\\n**Note : Serial number will be used to verify the originality of this document via eFILING portal\\n\\n\\n\\nS/N IdQpUKi68UKAoXkrCuYQdQ\\n**Note : Serial number will be used to verify the originality of this document via eFILING portal\\n\\n\\n\\nS/N IdQpUKi68UKAoXkrCuYQdQ\\n**Note : Serial number will be used to verify the originality of this document via eFILING portal\\n\\n\\n\\nS/N IdQpUKi68UKAoXkrCuYQdQ\\n**Note : Serial number will be used to verify the originality of this document via eFILING portal\\n\\n\\n\\nS/N IdQpUKi68UKAoXkrCuYQdQ\\n**Note : Serial number will be used to verify the originality of this document via eFILING portal\\n\\n\\n\\nS/N IdQpUKi68UKAoXkrCuYQdQ\\n**Note : Serial number will be used to verify the originality of this document via eFILING portal\\n\\n\\n\\nS/N IdQpUKi68UKAoXkrCuYQdQ\\n**Note : Serial number will be used to verify the originality of this document via eFILING portal\\n\\n\\n\\nS/N IdQpUKi68UKAoXkrCuYQdQ\\n**Note : Serial number will be used to verify the originality of this document via eFILING portal\\n\\n\\n\\nS/N IdQpUKi68UKAoXkrCuYQdQ\\n**Note : Serial number will be used to verify the originality of this document via eFILING portal\\n\\n\\n\\nS/N IdQpUKi68UKAoXkrCuYQdQ\\n**Note : Serial number will be used to verify the originality of this document via eFILING portal\\n\\n\\n\\nS/N IdQpUKi68UKAoXkrCuYQdQ\\n**Note : Serial number will be used to verify the originality of this document via eFILING portal\\n\\n\\n  ca—62D—31—u1/2024 Kand. 9\\n\\n. ,0;/22:4 4-4‘ :4\\n\\n \\n\\nDALAM MAHKAMAH sssvsu DI TEMERLOH.\\nDALAM NEGERI PAHANG DARUL MAKMUR, MALAYSIA\\nKES NO: cs—s2n.31.1/zrm\\n,~ DI ANTARA\\nPENDAKWA RAVA ...PENDAKWA\\n\\nDAN\\n\\nAMINUDDIN am AZIZ MTERTUDUH\\n\\nKORUM: HAJI JAMALUDIN BIN HAJI MAT,\\nHAKIM MAHKAMAH SESYEN 1.\\nTEMERLOH\\n\\nTARIKH HIJKUMAN: 20 JANIJARI 2024\\n\\nALASAN FENGHAKIMAN\\n\\ncannnw mu   N mapuxxaauxnaxncuvoan\\nmm Sum M... M“ be used m wow u. nvwvuﬁlv mm; “Mm. VII mum Wm\\n\\n FERMULAAN\\n\\n1 Alasan penghakvmzn Inv dwsedlakan benkulan danpaﬂa rayuan\\nTenuduh yang musk herpuas hzn Ierhadap kepmusan says yang\\n5 mbenxan pada 24.1.2024 dx rnana saya (elem mensabI|ksn\\nTenuuun an hawih Seklyen I5[1)(a) Am Dadah Berhallaya\\n1552 dan dvhukum pen] m salami a (man dx bawah soksyon\\n39C(1)(b) Aktu nmah Berbahaya 1952 dan dlperimahkan\\nmemalzm pengawasan AADK selama 2 mum se\\\\epas menmam\\n\\nm hukuman m bawah semen :35 Am mush Eerbihaya 1952\\n\\n2 Rayuan ada\\\\ah (erhadap hukuman sahaja\\n\\n3 Fenmih pemsmavaan ndak dnawakmkan\\n\\nPERTUDUHAN\\n\\n4 Fzda 2412024. Terludun le\\\\ah mhadapkan ke Mahkamah\\nSesyen Temerloh ﬂengan perluduhan sepem benkut\\n\\n \\n\\ngnaw >IVAV1AMI4A/Dwv!V>lALl nnm mam. H5: Page :\\n\\nsw mupumaumxmvuan\\n-ms Sum IHIVVDIY WW 2. used m mm u. nvwhuﬂly mm; dun-mm VII mum pm\\n\\n 1n   FAKTOR MITIGASI\\n\\n24 D! sampmg nu says wga mempeﬂvmbangkan nInIgasITer\\\\uduI1\\nWa\\\\au bzgaimanapun. saya max nampak sebarang alasan yang\\nrnunasabah mkemukakan bag: membenarkan Tenuduh Ierus\\nmengmangi kesmahan yang sama berulang xan.\\n\\n25 Saya mendapau ml\\nbarmem sama sexan\\n\\nas: yang dvbenkan olsh Tenuduh max\\n\\n \\n\\nFENGAKUAN SALAH\\n2s. saya jug: menganmu klva pengzkuan sa\\\\ah Tenuduh yang le\\\\ah\\nmenyIma|kan masa din kaa plhak-pmak yang eembac\\n\\n27 Walau bagarmanapun. pengakuan salah Tertuduh max amen\\nmemadw vakmr mMigas1 yang kual da\\\\am xeaaaan an mana\\nTenuduh meming max mempunyal zpa—apz pemhelaan uka kes\\nnu dubmarakan\\n\\n2a Mahkamah Km menganmu pendekalan yang sama sehagalmana\\ndalam kes TI: an Long 1/. Public Pm:-ecutor[2ﬂ04] 4 cm 71 di\\nmane VA Mukhlar Swdm HMR menyatakan\\n\\n\\'[1|Ammugh n 5 an zcoemaﬂ Me n9waL1u>e|halan accused\\npevwn —who pluds gmuy cu an uvledme wnn whmh he has been\\nchavged V snoum he awe/\\\\ 3 msceunl an the senlzncethat wmm\\n\\ncuzwv V7114 M. u\\n\\n.y...Wmm yvzuln mum...\\n\\nN mupuMauKAaxwcuvuan\\n\\nma Snr1n\\\\n-nhnrwmlxe used m mm .. mxmuuy mm: dun-mm wa mum pm   mhatwlsu have been Imposed an Inn naahebeen comm: me:\\na lnal‘ ye: mus ave m-pnnam aztoenhons la Hus aenemx mu:\\nmean the Mlermes was (he Dangerous Drugs Ad 1952 .2\\nexceanons In Ims me-\\n\\n29. Mahkamah Im se¥an\\'uInya merujuk kes up u. Amtuma/im lshak\\n.5 saw Lagi [2013] 9 cm 559 m mama YA Mona Zawawl Saﬂeh\\nHMR |e¥ah menzalwkan pandangannya sebagalmana bervkuc\\n‘K21!Tuuaxdapamvpenrkawkaneanawa kssalahanyann mm...\\nvs denaan mam adahh memvllun um K-uahhsn yang mums\\nyang belch meuglnum kasnlamatzn din kuentelaman nsgara\\nsen: xa..r..m. umum Dadamedah ausynnmn nebagal musuh\\nnomhovsilu nsgava man Kerinan had: lamm ma Jus\\\\eru Ma\\nmahkamah memamhkan hukumnn yang nnvan mm um\\nvs Iesalahan mu dvxelankan melalm mum“ sebavm xenus.\\nsadan lemu Pﬁllmdungln ldwapmya mak dapzl mm\"\\nmud. many mmzl Dalam kn mmam. samm. V pp\\nluupm) mzhknman msnegaskan\\nThe many or sentence can my be lo Mlecl\\nzu Farhamenfs Inlenlmn mm mrmclrvn Var being m\\nDnssesslnn at a large imnum no my lnlm av nmmmx-a\\nmummuslcommensumavnlmhnsamumxmlzlpassad\\ncm In: pecmmvam Much ale\\n\\n:5 PESALAH TEGAR\\n\\nan Says jug: mempemmbangkan vaknor bahaw: semen kal Im\\nbukanlzh kesalahan panama Terluduh Rekod sabman lampau\\nTenuduh wet yang dlkemukakan dw Mzhkamah menulwkkan\\n\\n(;cxmH1)2A >AM<AH\\\\ul¢\\\\Iﬂ1A1R .... mm\\n\\n \\n\\nsw muvumauxmxkmuvuan\\n«-um smm ...m.mm be used m mm .. mm-y mm: dun-mm VII muNG pm\\n\\n bahawa Tenuuun mernpunyal 4 sannan Ialu nagu kesamhan yang\\nsum:\\n\\n31 Rekad sahnan lampau Tenudun IFS) menuruukkan banawa\\n\\ns Tenuuun mempakan Desalan (agar, masm behml msaman masxh\\n\\nnemm senk walaupun le\\\\ah hemlang kall kelual masuk penjan.\\n\\nKebanyakan kesalahan yang auaxuxan ‘uga adalah barman\\ndengandadah\\n\\nw 32 oxen yang dermkwany sewajamya Tenuduh dikanakan hukuman\\nyang ham\\n\\n3: Berdasarkan kepada nas—nas an alas‘ saya berpuas nan hahawa\\nhukuman penjzra s Iahun yang dlkanakan olen Mahkamah Im\\nwe adaml selan dengan kepuluszn Mahkamah masan m alas yang\\nmengnennam Mahkamah mengenakan hukuman yang heral nagx\\n\\nkeskes yang mehbalkan kepenimgan swam\\n\\nTIADA RASA INSAF DAN EERTAUEAT\\n\\n:4. Wa\\\\aupun da1am mI|IgasInya, Terluduh menyatakan (e\\\\ah kesal\\nﬂan msal, «exam kewakuannya menuruukkan sebaluknya\\n\\nas Sekvvany: behau benar-benar msal. sudah lsnm hehau «max akzn\\n25 merlgulangw kesalahan yang same berwang kall\\n\\nMn,..¢..¢. mAI4\\\\\\\\,|)0w|v1AuL W... xrum Pagen   N muvumauxnaxwcuvuan\\num Snr1n\\\\n-nhnrwmlxe used m yaw .. mnuuny mm: dun-mm VI] .nuNG pm\\n\\n 35 Mahkamah Im menquk Kes PP v. my Ah cneng [1973] 2 MLJ\\nme an mana YA Abdocl CaderH |e\\\\ah manyaxakan sepem benkm\\n\\n-rn. raipondaﬂl also puls «mwm m m plea m mmgamn the\\ncm mat he u employed and suppons an aged mama and\\nﬂeobvomevs Ne should or course have ma-mm al ms belove\\nwmrmllmg the awevwes ma nnl nnev, he 1: m iacl nrenam\\nrvamshvp ansmn mm In wnseﬂuenues nl N5 awn 15!: mm :\\n\\nwe-An vederale mm x mm mxzulun plzmuusly In Lmserve m\\n\\nm mmg. use um zn ulfnndal muuld not mm to exam 17!\\nnames; any sympalhy on an Ipie dual by laklna ma: slance m\\nm. wmpeluuvs youm who kwea ms parents wnlh an are and men\\nvluaea m mmaanon that he was an crum-\\n\\nz< KEPENTINGAN AwAM TERPELIHARA\\n\\n37 saya percaya, kepemlngan awam akan Vebwh lelvelnhava uka\\nTenuduh masmgkan danpada masyarakzt dalam sualu Iempuh\\n\\nyang uaruang\\n\\n3a Tempnh pememaraan yang paruang mg: amarapkan dapac\\nmembanlu Terluduh unluk melupakan naps dadah yang mungkm\\nsudah memam dalah aagmg Tenuduh.\\n\\n25 as Tempnh pemeruzvaan yang paruang mg: dmarapkan aapac\\nmemutuskan mmungan Terluduh dengan rakarnakan\\nsepemenayan yang lam ﬂan Tenuduh dapal men|a|Im program-\\nprogvam pemuhhan dengan aman\\n\\ncan M. Wm. ». pa. u   N muvuxnaauxnaxkrcuvuan\\num smm ...m.mm be used m mm .. mm-y mm: dun-mm VI] muNG pm   an Sermga selepas menglkun program-prngram yang nalan dlsusun\\n\\nsemasa an penjarz nanll dzpat menglnsalkan Tenuauh ﬂan\\n\\nrnunben peming kepada Terluduh un|uk bermuhzsabah dun dan\\n\\ns bsrubah Kepada ssarang insan yang Vebm baxk ﬂan dapal\\nmenwnggmkan dadah segenunnya.\\n\\n41 saya juga bevharap behau menganmn peluang semasa manyaxanx\\n\\nhukuman penjara unluk mempenayan pelbagal kemahxran\\n\\nm banaeaan yang holeh mgunakan unmk mencan rezekv yang ha\\\\a|\\nkeuxa dubebaskan danpadz penyara nann\\n\\nPELUANG MEMEAIKI DIRI\\n\\nus 42 Semaga dengzn lempoh pemanyaman yang Vama ml rnarnben\\npeluang kspida Tenuduh un|uk nanman dan memperhalkl um\\nmenpadl seovang wavganegara yang barguna dan menukav Cara\\nhmuu kepada yang Vebm hawk\\n\\n2» 43. D. penjara ‘uga, Temmun berpeluang unwk hehjar Hmu-nmu\\nakadermk dan Hmu-Ilmu kemahxran kendm secara Ielsusun\\nbersarna pegawavpegawai yang berlauhah\\n\\n44 Adam: dvharapkan, selepas mnanaskan ganpaaa peruara nancn\\n25 Tenuduh Wu mm mm a new leaf dan membebaskan dm\\ndanpada najls dadah sens meruam seorang msan barn yang xemn\\n\\nproduknl, menyayangn dan dusayangv oleh anggma masyavakal\\n\\nl!l>YV/B44 L M mm. swcwvynnvw. 1 mus   n mupuxmaumaxkrcuvuan\\nNuns Snr1nVn:nhnrw\\\\HI>e used m mm n. nrW\\\\ruU|Y mm: dun-mm wa mum pm\\n\\n RUMUSAN\\n\\n45. D1 akmr anallsns saya berpendapal hukuman yang le\\\\ah\\n\\ns dumuhkan adalah menglkut Imdang—undang wa;ar dan\\nmunasabah sens aemnpal ﬂengan kesalahan yang dllakukan men\\nTerluduh\\n\\nBenarikh pada sub. Fumuarl 2024.\\n\\n \\n\\nMamum-h Sesyen Temerlah,\\nPan:-g Dam! Makmm.\\n\\n(..,.m.,.,;. rl>ANA|A*4vDNvIWA1\\\\Z 1:11 wm.....m men.\\n\\nsw muvumauxnaxncuvuan\\n-ms Sum IHIVVDIY WW be used m mm u. nvwhuﬂly mm; dun-mm VII mum pm\\n\\n P Ik-Plluk:\\n\\nPendakwa Ray: diwa alell Puan TPR Wong Zhi Gian.\\ns P-mmnmoalun Pundlkwl Ruyl,\\nTemellnll.   En Ahmad Zahid bin Ahu Hashim dzri vaax mewa\\n\\n \\n\\n.n...mm. |».v<u4\\\\>4u>)>~|m~11 7-A1114 i:~munuus: mm   w muvumauxnaxncuvoan\\n-ms Sum M... M“ be used m mm u. nvVWuH|Y mm; “Mm. VII mum pm   zu\\n\\nvcxwuuunw\\namuwa mmu Mm Ix HAKIBULAN oKmaE1<2n:3JAvI mam xuumn\\nms TENGAH mm. azxrmnr on u-man nammm smsnm\\nmmvm wzmm mt, pmmr mnun mu. m mum meme\\nmm. on mum wmm mums rwuu mxmun. man numum\\nMmuzmm Kumlm mm mwm Swami mmu RERBAHAVA mus\\nMOKPDHNE\" my mmm »¢w.;mm mu mum mm nu mm\\nnun MIILAKUKAN mu xssaumw DWAWAII sax mum um\\nmum seam-a.«u wsz mm mm: nmwummaawm szxsvm 3900\\nAnn uxc. sum. oumc/\\\\ anznm snxsym mm mm own:\\nHLRHAHAVA ms:\\n\\nHIIKIJMAN\\num mswlr xcsumw nevmmm nmuxum paw/um SLLAMA\\nnwou 1l|7AK xuxmc nsmmuv my» mm u:nm um nnmuw mm\\nnmmmm umummn sum nmk mam mm 4;; ssrunw um\\nPENGAWASAN nmx mum zm-mu mm nmx MELEBIHA 2 msuw\\n\\nPENGAKUAN\\n\\n5 Perluduhan an alas lelah amacakan derlgzn Ierang dan piss\\nkepada Terluduh dalam Eahasa Malaysia yang mlahamx alen\\nTanuduh.\\n\\n6 Tarluuuh dengan sukarels mengaku bevsalah kc alas\\n\\nperluduhan lersebul\\n\\nzuznxwnn ...u=m...u I47/N14 :7-umnnssr Page]\\n\\nsm muvumauxnaxmuvuau\\nmm. smm ...m.mm .. LAIQ4 w may he mm-y mm: dun-mm VII mum pm\\n\\n 1 Mahkamah se\\\\erusnya menerangkan sum dan akrbat pengakuan\\nsedan lersebm dan pemnmkan hukuman yang baleh dlkenakan ks\\nalas Terluduh\\n\\n5 e Terluduh memahaml penerangan Mahkamah dan mzsih\\nmengaku salah ke eras perluduhan‘ dan laham swan ﬂan ax-nax\\npengakuanrlyi nu\\n\\nRINGKASAN FAKTA KES PENDAKWAAN\\n\\n9 Selerusnya, Pegawal Fsndakwa |erpe\\\\a;ar mengemukakan\\nnngkasan Vakta kes pzndakwaan\\n\\n1n Rmgkasan izklz kes Ielah dmacakan aan unerangkan kepada\\nM Tenuaun me\\\\aIuI jurubahasa Mahkzmah dan msankan sebagaw\\n\\nnew\\n\\n11 Rmgkasan vakca kes kemumannya dwandakan sebagan eksmm\\n\\nP1\\n10\\nEKSHIEIY-EKSHIEIT\\n12. Selerusnya‘ Twmbalan Pendakwa Rzya |erpe\\\\z]zrmengemuKakan\\nekshnhnekshxhxl seperli bankur\\n:5\\n\\n(ap Mengkuang nepan No 346/2023 sehzgzx F2\\n(K7) Tnang Repon N1: 351 512023 sebagal P3\\n\\ng.,.,..m. .....4...‘.m.~... 14m:v:4 sw<u)\\\\Ixmz r. .   IN muvuxmaumaxwcuvuan\\n-um Sum ...m.. WW be used m mm u. nvwhuﬂlli mm; dun-mm VI] muNG pm\\n\\n 1:7 Lapovan palolagu sebagax P4 — dnuruukkan dan mam\\n(.1) 4 keplng gambav halo! min sabagax F5A»D - mmrwkkan ﬂan\\ndlakul.\\n(e) Rekod Pusil Penaanaran Pemenayah wbzgar P6 —\\ns umacakan dan mam\\n\\nRAVUAN TERTUEIUH\\n\\n13 Mankamah setemsnya mendengar rayuin ﬂanpada Tenudun\\nIn\\nIA Terluduh me\\\\alm peguam VBGK, da\\\\am vayuannya menyaxakan\\n(a) on berusxa 52 lahun\\nmy om bekena sebagaw buruh ladang dengan pendapalan\\nRmuousenuxan\\nws (c) on sudah berkzhwm, menanggung seovang men earn 5\\nnrang anak\\n(.1) Fengakuan salah le\\\\ah umalkan masa dan kos pendakwaan\\n(e) OKTkasaIdan|nsa1serIaber[an] dakulangwkesalahanlagl\\n(r) Mahkamah penu wmbangi kepenungan awam dengan\\nzo kspanllngan on sendln dengan mengenakan hukuman\\nyang rmmma Kevana secara langsungnya pemara yang\\nrmruma akan benkan pengqaran dan peluang yang kedua\\nkepada 0K1 unzuk kemuau Kepada masyanaxax dalam\\nKeadian yang normal\\n(9; on memahnn hukumin pemara rmmma\\n\\n;...»...v.. Awvnum/nnmlmuu mu. (wmAnMl§/ Fag-:5   IN muvumaumaxkmuvuan\\n-um smm ...m.mm be used m mm .. mmuny mm: dun-mm VI] muNG pm\\n\\n HUJAH PEMBERATAN OLEN PEGAWAI FENDAKWA\\n\\n15 Twmhalan F-‘endakwa Raya lerpelapr berhujzh\\n(a) Pnhun hukuman seumpal ks 3155 on.\\n(b) Kepermngan awam me\\\\eb|m kepen||ngan on\\n(c) In: merupakan kesalahan kenma on d\\\\ bawah 5 15(1) ADE\\n1952\\n(.1) Pnhon pemmhangkan Kekerapan kes a. bawah s. 390 ADE\\n1952 yang zaenaku dl Negev: Pahang\\nm (e) Pom-n hukuman mkna danpada Iankh (angkap 15102023\\nkerana on mreman darn lankh |angkap\\n\\nSABITAN\\n\\nvs 15. Setelah mendengar pengakuan sa\\\\ah Yenudun (anpa syaral‘\\nmenganalisa Vakla kes. meneml eksmbwt-eksmbul yang Celah\\nmxemuxaxan an hadapan Mahkamah‘ Mahkamah menenmz\\npengakuan salah Terluduh ks alas peﬂuduhan dan mensahﬂkan\\nTemmuh sehagaumana penuduhan\\n\\nHUKUMAN\\n17. Se|e\\\\ah menimbang rayuan Terluduh‘ man pemberalzn\\n\\nTwmhalarv Pandakwa Rays‘ Mahkamah menglmkum Tenuduh\\nzs dsngan hukuman sepem beukm\\n\\n_ \\n\\ncnz>.nvuu ».m..m..w...m zvmun w.,mm. nus   IN muvuxmaumaxwcuvuan\\n-um Sum ...m.. WW be used m mm u. nvwhuﬂlli mm; dun-mm VI] muNG pm\\n\\n OKT dmukum vemara selzma a mm. m bawah Selxsyon\\nascmm) Akla Dzdah Earl-aahayu 1552 ﬂan mpennxanxan\\nrnen]a\\\\am pengawasan AADK selama 2 lallun sdepas merualaru\\nhukuman dw bawah Seksyen 335 Am umah Eerbzhaya 1:52\\n\\nALASAN ATAS HUKUMAN SEDEMIKIAN DIPUTUSKAN\\n\\nFRINSIP UNDANG-UNDANG DALAM MENGHUKUM\\n\\nm 15 Pnnsup undzngamdang berhuhung hukuman (e\\\\ah .eIas ﬂan\\nmama». Pertlmbangan mama rnengenaw hukuman ml se\\\\aIn\\nlaklnwlaktm lam ada\\\\ah Iaklor kepentmgan awam m samplng rlu.\\nvakxov kepenlmgan awam ml pevlu dumbangw dengan vakcor\\nm Igasi Terluduh\\n\\n19 Eenepalan an slni unluk an xrnbas Kembah pznduan menghukum\\nyang mnyanaxan da\\\\am kes Public Pmucmo: v. Loo Choon\\nFaﬂ[19‘/6] 2 MLJ 259 yang mengelaskan seperll benkm\\n\\n‘One ul me mum cmmdevatmns m m assessmenl ac senlenoe\\nVs of mum: me uuaqmn m bum: waves! On lms poml u need\\nonly mm: a passage mm me |udgmenl av Hxlbery J m Rex V\\n»<.m4n John nan as iaﬂowsr\\n\\nm decwdvng me apnmhrmle senlnnci a cum! mama zrways\\nhe gumea by uenam conswderatmns Tm ml and lovemoil\\nrs me gum mlarssl The cnmmal Vaw .; pubhdy enimced‘\\nnu! nmy mm me gum» m punishing cnme but also m the\\n\\n7&4 .».v.«.um.,‘. All 2-mu F1g»7   N mupumaumxmvuan\\nmm Sum In-nhnv WW he used m mm u. nvwhuﬂly mm; dun-mm VII mum pm\\n\\n haul nfpvwannnq m A placer sentence‘ mm .n public.\\nnews! In: mun mleresl .n Iwc whys n mly nah! amen\\nwno rmqhlbe hemmed m kyulma u Ieuvlmg Ia oilaveaiy\\nmany an lhesupwsllmn Huhlllve uﬂendanscaugmarld\\n5 mm: Iruuxlwca «n: plmlshmenl Ml! be neghjwe Such a\\nsenlznce mly also darn me pamcuhr cnmmal «mm\\ncummmmg a crime again or Induce mm In mm mm a\\ncnmmal in an nonesx Me The pubh: mam. _ mdaed\\nmm, and best served. .1 (he aﬂender n. Induced In mm\\nm Vmm alumna! my: to huncsl lwmg Om law am nu!‘\\nIhevelnre. ﬁx ma umanua la! a pamcmal mine‘ but ﬁxes a\\nmaximum lenlancn and leaves m lo the coun Io demde mm\\nmnm ms mmnunn me appmvﬂam senlelvue om aacn\\ncnmIna\\\\ m ma palllculav amumslanuts at am use Nm\\nu umy .n realm to each cnme Imlm mgud lo each cnmmil‘\\nthe com has In: mm imam: dulylu dauﬂe wr-emeua he\\n‘amen! or ssvsm‘\\nPzesmenls ind Mzgwslratas ave Mien Inchned qune namraﬂy la\\nba :1uIv»sympzIVreI1c cu the accused Hus .. . m>mu\\\\\\n2a vsyumlogbcal mcnon m we smmlmn m vmvm an. lundy\\nmuses Is seen Vining an army Mwvm-Hus with 2umorI|y The\\nmmaanan suhmmed by x onnvuﬂgd pelwn mu am: namuny\\nhung up pmbbms av mnny havdslup and me Mher usual\\npmblem! cl Ivmg In such a swluahon nne coun: mlgm pemavs\\nﬁnd n dnlﬁcuu nu mm» as m what senlznce snmm b mpnud\\n:0 «nu ma wnvlclsd periou may not he mnher mmnm ml)!\\naaamm: namsmp ms 15 my new .. . wvung lppmach   rne toned appmach .5 In sum . b-Vina. ax va as pass4b\\\\:‘\\nbelween me mleruls ul me nublxc and me mlevesm cl the\\n\\nm accused mm Gnddam LCJ Vn Rex V smnanawm altered\\nsome good aawc: wnen he saM—\\n\\n,.....‘..... ...n..m...u >«wo:< 5x\\'<mAnan:z Pa:->8\\n\\nsm muvumauxmxkmuvuau\\nmm. smm n-nhnrwm .. LAIQ4 w may he nnmnmy mm: dun-mm VII munc pm   Theludge musl cmsmerme mhevesb uﬂuslme as we?! 1:\\nme vrueveslx cl me pnsmlets u .5 (an altar: nawl m\\nlhauwhl m seemslu hamnugm manna mlevetls ulwwea\\nmeam nmy the Inleveslx nﬂhu pnwners\"\\n\\nBUDI BICARA\\n\\n20 serain nu. say: juga mengamnu makvum hahawa undangrundang\\nmembenkan bum mcara sepenuhnya kepada hahm mcaua unluk\\n\\nH; menenlukan hukuman yang sepammya duamhkan ke alas\\nDasalah ledam kuasa Im hendsldah dﬂaksanakan secara am: ﬂan\\nszksama se\\\\avas dengan prinswp undang-undang hemubung\\n\\nnukuman\\n\\nI5 21 Pnnsip W dInya|akan dengan Jena: dalam kes PP v. Jlfa bin\\nBaud [1551] 1 ms 25, [1951] 1 MLJ 315. an mzna Hakim\\nMorumeu Azmu (pada mesa nu) menggarlskan pnnsip-prlnswp\\n\\nhukuman yang sepamnya sehigalmana bankul:\\n\\n‘A ‘seniance awarding «a um means that 0:: umamz mull nod\\nzn amy ha wnmn m. ambn 0! m. punlihabk semen‘ mu u must\\naka :2. assented and passed -n aocovdanoe wlm eszannsneu\\nlumual plmmp\\\\es In assessmgsenlence‘ mm mm ma\\\\n1acIors\\nto be wnsxdeved .5 whelrver me cam/vcted person ‘s 3 mt\\nnﬂender u ‘s «K Hus Durvvse um belure naxsmg sgmeuua a\\nMngwsinle . required «a nil! luv evidence or wnluvmahon   N muvuxnaauxnaxkrcuvuan\\num smm ...m.mm be used m mm .. mm-y mm: dun-mm VI] muNG pm\\n\\n venavdmv Ihe hackweund anxecadanl and sharing ml me\\naccused Wheve me canmchd nlvmn has nmwnus vecums anﬂ\\nmamas mum is owned m. cmm must mnildnv whvther ma\\nclient: nv uﬂencel cnmmmzd pmvmusly wavn cl mm name\\n2; me am: wm. mm. he -n pvesamry merged rm.» mun must\\nthen mum: me iemervces Imposed m mamevmusmvmns\\ncan mum nﬂenaes m determine whelhgv Ihey hive run any\\nuexmm even an mm Wheve he .; «mm m no : vemmenx\\nauemy luv .3 mm we av uﬁlnoss (Mn n 1: m in: mtawu nl\\nm ....u.2 Ina! . delavlenl samance snoula be passed and‘ m such\\n. cast nlzssmem ave axupmonax mroumslancevi me warmly\\nnature or value at me suBpeI:l—n-miter ov me oﬂame mm mm he\\n\\\\s cunenﬂymamed can very rarely mnsnm a mmanww hum\\nlemnhasws Maori)’\\n\\n \\n\\nKESALAHAN SERIIJS\\n\\n22 Kembah kepada kes lerhadap Terluduh m say: mengambll\\nmaldum bahawa kesalahan yang auakukan uleh Terluduh adalah\\n20 suaru kesalaharl yang senus dan dlpandang beral nleh Pammen\\nyang meneiapkan hukuman pemara mmima 5 lahun hingga 7\\nIahun dan sebalan holeh sampan 3 sebaun\\n\\n23 Femrvlukan hukuman yang beret nu menumuxxan bahaw:\\nIs kesalahan yang dllakukan men Terluduh adalah serlus\\n\\n;..4»....:.,. ».m.m...m.~.« !<vr:14 S.-uu.z..m Pagan)   sw muvuxmauxnaxxrcuvuan\\num smm ...m.mm be used m mm .. mm-y mm: dun-mm VI] muNG pm09/02/2024 14:52:06\\n\\nCB-62D-334-12/2023 Kand. 13\\n\\nS/N TXxFf9sKr02uLF7nfKDRVA\\n**Note : Serial number will be used to verify the originality of this document via eFILING portal\\n\\n\\n\\nS/N TXxFf9sKr02uLF7nfKDRVA\\n**Note : Serial number will be used to verify the originality of this document via eFILING portal\\n\\n\\n\\nS/N TXxFf9sKr02uLF7nfKDRVA\\n**Note : Serial number will be used to verify the originality of this document via eFILING portal\\n\\n\\n\\nS/N TXxFf9sKr02uLF7nfKDRVA\\n**Note : Serial number will be used to verify the originality of this document via eFILING portal\\n\\n\\n\\nS/N TXxFf9sKr02uLF7nfKDRVA\\n**Note : Serial number will be used to verify the originality of this document via eFILING portal\\n\\n\\n\\nS/N TXxFf9sKr02uLF7nfKDRVA\\n**Note : Serial number will be used to verify the originality of this document via eFILING portal\\n\\n\\n\\nS/N TXxFf9sKr02uLF7nfKDRVA\\n**Note : Serial number will be used to verify the originality of this document via eFILING portal\\n\\n\\n\\nS/N TXxFf9sKr02uLF7nfKDRVA\\n**Note : Serial number will be used to verify the originality of this document via eFILING portal\\n\\n\\n\\nS/N TXxFf9sKr02uLF7nfKDRVA\\n**Note : Serial number will be used to verify the originality of this document via eFILING portal\\n\\n\\n\\nS/N TXxFf9sKr02uLF7nfKDRVA\\n**Note : Serial number will be used to verify the originality of this document via eFILING portal\\n\\n\\n\\nS/N TXxFf9sKr02uLF7nfKDRVA\\n**Note : Serial number will be used to verify the originality of this document via eFILING portal\\n\\n\\n\\nS/N TXxFf9sKr02uLF7nfKDRVA\\n**Note : Serial number will be used to verify the originality of this document via eFILING portal\\n\\n\\n\\nS/N TXxFf9sKr02uLF7nfKDRVA\\n**Note : Serial number will be used to verify the originality of this document via eFILING portal\\n\\n\\n\\nS/N TXxFf9sKr02uLF7nfKDRVA\\n**Note : Serial number will be used to verify the originality of this document via eFILING portal\\n\\n\\n\\nS/N TXxFf9sKr02uLF7nfKDRVA\\n**Note : Serial number will be used to verify the originality of this document via eFILING portal\\n\\n\\n\\nS/N TXxFf9sKr02uLF7nfKDRVA\\n**Note : Serial number will be used to verify the originality of this document via eFILING portal\\n\\n\\n  ca—s2D—33a—12/2u23\\n\\nDALAM MAHKAMAH sssvsu nu YEMERLOH,\\nDALAM NEGERI PANANG DARUL MAKMUR, MALAVSIA\\nKES No: ca-520434.12/1023\\ns DI ANTARA\\nPEMDAKWA RAVA ...PENoAKwA\\n\\nDAN\\n\\nARASU A/I. VENUGUFAL @ VELUGOPAL ...YERYUDUM\\n\\nH KORUM: HAJI JAMALUDIN BIN HAJI MAT.\\nHAKIM MAHKAMAH SESVEN 1.\\nTEMERLOH\\n\\nTARIKH HUKUMAN: 22 DISEMBER 2023\\n\\nALASAN PENGHAKIMAN   mu...“ »,..m.m.,w_m....,.m. ,._. \\\\wr\\\\mIIuw$:>\\'i)1BI\\n\\nsw rx.m;mmmmum\\nmm Sum INNDIY M“ be used m mm u. nvwvuﬁlv mm; nnmmnnl VII mum Wm   FERMULAAII\\n\\n1 Nasan penghaklman my msemaxan benkulan danpada rayuan\\nTenuduh yang max berpuas nan lemadap kepulusan siya yang\\numenkan Dada 22.12.2023 a. mans saya |e|ah mensamnkan\\nTerluduh m bawah Snksyon csmm ma Dudah Berhallaya\\nI952 dan dmukum penjm selzmz a mum mulaw danpadz cam:\\n2n.9.2o2a darn 2 seblnan an bawah seksyen J5C(I](b) Akin\\nmam Eerhlllaya 1952 dzn dlpenmahkan\\nDengawasan AADK se\\\\ama 2 mum selepas memalam hukuman\\nan bawah Sekayen sea Aktz Dzdzh Berbahayi 1952\\n\\nmemalam\\n\\n2 Rayuan adalah |emadap hukuman sahqz\\n\\n3 Pennlah pemenjaraan wax dnawakuﬂxan\\n\\nPERTUDUHAN\\n\\n4 pm 21122023, Terluduh lelah umadapkan ke Mahkamah\\nSesyen Temeﬂuh dengan perluduhan sepem henkut\\n\\npnzrunumm\\nrmH.\\\\\\\\w. Kw!‘ MM 20 HAxmu|AN srvrwnrn 1()l3,JAM u-nm\\nK|‘RANG mm PA(:I.BEl<1EMPAI uu>a1.«ans,amcum s[AsArAN\\nxzmmx mxxom usu rmuw mzxm mu. m mum\\nmm/unazm numumuzcnummm mxuu.m<Muu mm\\nmmpm MrwaI:R|KA\\\\‘ arm» um xmu swam mmm\\n\\n \\n\\nN rx.m;mmmn<u»zvA\\n\\num Sum ...m.. WW be used m mm u. nvwhuﬂlli mm; dun-mm VI] muNG pm   25. Say: menuapau mmgasl yang dnberlkan oleh Tenuﬂuh max\\nbermenl sama sekan\\n\\nPENGAKUAN SALAH\\n\\n25. save wga mengamml klra pengakuan salah Terluduh yang Ielah\\n\\nmenumzlkzn mesa den ms pmax-pmax yang |embat\\n27 Wa\\\\au bagalmanapuny pengakuan salan Terluduh «max boleh\\nmerqaw laklor mtligasl yang kuat dalam keadaan an mana\\nTenumm memang miak mempunyaw apaapa pembe\\\\aan pka kes\\nml mbwaukan\\n\\n25 Mahkamah ml mengamhn pendskalan yang sama seoagavnana\\ndamn kes Tia Ah Long y. Public Pmsacuh-ar[20U4] 4 cu 17 m\\nmana YA Mokmar Sldln HMR menyalakan\\n\\n‘In mm-mu :1 Vs an aooeunea mle nfpiamce mat an acnusad\\nassay. 7 ma pleads umlly In an enema mm Much he has been\\nIzhalged mm In given 2 ducoum an we aannenca um mm\\nmamsanava beanlmpused unmm has n. hezncunwﬂad mar\\na mzl. ym an... 2.. nnpanam sxnapimns In om gmam Mu\\nmaeea, Ihe oiiewes under me Danpemus Dual An 1952 ave\\nexoebnons m (ms mle‘\\n\\n29 Mankaman ml savamulnya msrujuk kes PP v. Abdul Naum /ahak\\n4 saw Lagi [2013] 9 cm 559 m mzna VA Mnhd Zawaw: sauen\\n\\nHMR Ielah menzalwkan pandangannya sebagaxmana benkm\\n\\n(£42-n)4w1.mz1 PP|wNAIl-QMAVVEVI/k0>r~k./EH/@¢M mm. s:\\'KmAI:-|as1Pagel1\\n\\nN YxxFmsKmzuLnmKuRvA\\nma s.nn ...m.mm be used m yaw ma mmuny mm: dun-mm VI] muNG pm\\n\\n ‘[2111-cak dzpﬁiumennkarkan Dahzwakssahhanyind ‘xemauan\\ndenwan dadah aaaxan mempakan mu kenalahan yang sews\\nvans boleh menaancam keselnmavan ﬂan mememman neﬁara\\nsen: kzsmavan umum mm Ielah dusylmavkan sebavax musuh\\n: nmubursmunegl aleh xmym pad: u.>m.. 1553 Juslem. pk:\\nmahkamsh mimslmkan lmkuman yzng rmgin kapndx um\\nmauanan vans u-mapxan me\\\\aIu\\\\ Parllmen wbagau sews‘\\nsudah llnw Demndungan myanmya max dine! «mum\\nmm wan! um. Dalam ken Vusma/In Samsudm y FF\\n10 (smart) mahklmah meneanskan\\nYhe seveuly cl serllznce can my be in veiled\\np.m.m.m Imammn that mlvvlﬂmn luv bsmq m\\nwsumn of a was amour-I 07 am term at vvommlad\\ndtvgs mun wmmensmue mm the sentence 1» be name\\nIs on me Dec-Aha: Incls oi mm case‘\\n\\nPESALAH TEGAR\\n\\n \\n\\nso Saya juga memperlimhangkan laklm bahawa sabﬂan x\\nzu bukamah kesalahan panama Tenuduh Rakod sabnan Iimpau\\nTenuduh (P5) yang dikemukakan dx Mzhkamah menunjukkan\\nbahawa Tenuduh mempunym 3 samnan Varu bagv kasawahan yang\\nsama\\n\\n25 31 Rekod sabnan lampau Tenuduh menuruukkan bahawa Terluduh\\nmerupakan pesaxah legar‘ masm belum msav dan mam belum\\nserik wedaupun Ielah beruxang kah keluar masuk pevuara. Semua\\nxesawanan yang mlakukan yuga adalah berkadan denqan dadah\\n\\nW :2\\n\\n \\n\\nsw YxxFmsKmzuLnmKDRvA\\n«-um smm ...m.mm be used m mm .. mm-y mm: dun-mm VII muNG pm\\n\\n 32 Oleh yang demlklany sewa.amya Temmun dxkenakan hukuman\\nyang berat\\n\\nas Beraasarkan kepada nas-nas an mas, saya berpuas nan nanawa\\n\\n5 nnkmnan peruava s lahun dzn 2 sehatzn yang mxenakan oleh\\n\\nMankaman um auarah semi dengan kepulusan Mahkamah Alasan\\n\\nm axaa yang menghendakl Mahkamzh mengenakan hukuman\\n\\nyang berae nagx kes-kes yang melunawan kepemlngan awam\\n\\nHukuman peruava 5 12mm dan 2 sanacan adalah wa.ar\\n\\nm marnandangkan om mempunyav 3 sabnan Vampau bagx\\nkesakahan yang sama sebemm .n.\\n\\nTIADA RAsA INSAF um asnnuan\\n\\n15 34 Walaupun da\\\\am mmgaswnyay Terluduh menyalakan telah kesal\\ndan msal, [slam kelakuannya menunjukkan sebalxknyi\\n\\n35 Sekiranya behau benar—benar insav, sudan Ientu bellau max axan\\nmsngulangl kesalahan yang sama bevulang kah\\n\\nas. Mahkamah Im mevujuk kes PP V4 Tah An Cheng [1975] 2 MLJ\\n155 m mana YA Abdmﬂ Carter H |e\\\\ah menya|akan sepem henk\\n\\n \\n\\nThe mponaam am pm: lnrwlm .n N: mu m mmgalmn me\\n:5 (ad um ha 15 emphyad lml supwﬂ: In lged maths! and\\nsteobmthers He should or course have |hmAgM ul ms belave\\nwnnnnng me eifemes and nm am I1: \\\\s m lam pleading\\n\\ncnunnxuzmj ,.....4nmma.‘..yaum... Wm :19: mam   N YxxFmsKn1zuLnnrKDRvA\\nma saw ...n.mn be used m van; .. mn.ny mm: m.u.n wa mum puns!   rvavdimp ansmg «nun me oonuquencns av ms awn an: and I\\nwound rename wnal u had oocanon pveanusny m absent: m\\nanalhev cnse max an erlender snaum no! man «a exzns ov\\nharness any symnanny on an ms: mm try Iakmﬁ max azanoe or\\nthe xmvﬂuuus mm whu kmad ms pnrams mm an us and (hen\\npmadad .n mmnxllun uunn wu an mphan\\'\\n\\nKEFENYINGAN AWAM TERPELJHARA\\n\\n37.\\n\\n33\\n\\n39\\n\\n40\\n\\nsaya psrcaya. Kepantmgan awam akan leblh (erpehhari Ma\\nTermduh diasmgkan danpada masyarakal dalam sualu tempoh\\n\\nyang pamang\\n\\nTempon pemeruaraan yang panpng mga dmaraykan ﬂapal\\nmembanm Terluduh un|uk melupakan najls dadah yang mungkln\\na-man meluadl damn dagmg rammn\\n\\nTempah pemeruaraan yang panyang Inga dmlvlpkan dapal\\nhubungan Terluduh dengan Iakarrvakan\\nsepemenayah yang lawn dan Tenuduh dapal memalam progvim»\\nprogram pemuhhan dengan aman\\n\\nmemuluskan\\n\\nSemaga se\\\\epas rnenglkuh program-plcgvam yang (e\\\\ah msusun\\nsernasa dw pemara nanu dapal mengmsalkan Tenuduh dan\\nmembarl peluang kapada Tanudun umuk berrmmasabah dun dan\\nbembah kepada aamang mszn yang lebm hawk ﬂan dapal\\nmemnggalkan dadah sepenunnya\\n\\nI-mwuus«mvrwm mrnnrnnu nu/um Uumnn v:xPa;=.<u\\n\\nN YxxFmsKmzuLnmKDRvA\\n\\nNuns a.nn n-nhnrwm be used m mm a. annnnn mm: dun-mm wa mum Wm\\n\\n 41. Says wga bemarap belllu mengambvl pamang semasa meruaiam\\nhukuman penjara Imtuk mempe\\\\a‘an pehzagax kemahwan\\nnerraeaan yang bolen dvgunakan unluk mencan vezekl yang ha\\\\a!\\nkaxika mbebaskan darlpada penjara nanll\\n\\nPELUANG MEMBAIKI DIRI\\n\\n42. sernoga dengan (empnh pemerualaan yang Vamz Im member:\\npemang kepada Tsnuduh unmk herubah aan memperhilkw dun’\\nmeruadl seclang warganegara yang berguna dan menuksr cars\\n\\nnnmp xepaaa yang Iebm balk\\n\\n4: Di penjara ‘ugay Tertuduh bsrpeluang unmk bewayar nmu—un-u\\naxaaannx din Ilmu-Ilmu kemamran kandm secara tersusun\\n\\nbevsama pegawa\\\\—pegzwa| yang benaunan\\n\\nAuawan cnnarapxan, sekzpas dmebaskan danpada penya.-a nannn\\nTenuduh ‘mu mm mm a new leaf den membebzskan din\\ndavipada nans dadzh sena memadv seurang msan barn yang Islam\\n\\n20 pmauknv, menyayangx din dwssyangl oxen :nggo|a masyaraka|\\n\\nRulausm\\n\\n45. D: aknn anansus, saya berpendapat hukumzn yang lelah\\ndualuhkan adalzh menglkm unaang-unuang, wajar dan\\n\\nc..m,,.m, »..y.....g~.Mw...mm».. mm mn...n,n>;;us\\n\\nsyn rx.m;mmnnn<u»zvn\\nNuns Snr1n\\\\n-nhnrwmlxe used m van; .. nrimruﬂly mm: dun-mm VIZ mum wrm\\n\\n munasabah ssna sehmpa\\\\ dengan kssmahan yang dllakukan meh\\nTerluduh\\n\\nEonarlkh pad; arm. Fehmari 2024.\\n\\n \\n\\nMahkamah Sasyen Temerloh,\\nPahang Damn Mukmur‘\\n\\nPvhak-Pihak:\\n\\nPnndakwa Ray: dlwaklll clan Fuan TPR Ar-duul Azw: binli\\nKAmaru|Anuzr\\n\\nzn Pnmm nmtunn Pan-ukwu Ruyu,\\nTerllerlah.\\n\\nEn Khziml Anna! bin Ahu Haszn Ashaa1irnew2kil|T:m|dulI.\\n\\n.w..m~. .mm.= -Lu/ufln 1xv11n1> mm. Mug. I5\\n\\nsw rx.m;xmzumnmum\\n-ms Sum M... M“ be used m mm u. nvVWuH|Y mm; “Mm. VII mum pm\\n\\n snxsamu news -woxrznm. l\\\\l ADALAH KLSALAHAN mu\\nxzzww mm m mmu mm Mzuxuux: snu xcsxunm\\nmmwm sm mum um. mom BICKEAHAVA V152 am 301 m\\n|J1Hw.LM nvmmu srxsvm wcu; mm ww: smu mum\\nnrwm smvw sax-xum<u nnmu nrrumu/M N52\\n\\nnmumn\\nmm DYSABITKESALAHAN l[E\\\\DAkLAHDlHUkU\\\\1 FENIAKA sum“\\nmmaon nmx ma/mu rs) mum on nmx uznm mm m\\n\\nm mmw rm HENDAKI AH nnxzmmm snm nmx Ltam mm m\\nsrnmw mm PwGA\\\\w\\\\sAV mun KURAN * 2 mum I)/w YIDAK\\nMrvrmm Izmulx.\\n\\n \\n\\nPENGAKUAN\\n\\n5 Pertumman m alas lelah dlbacakan dengan Ierang dan was\\nkapida Tanuduh dakam Eahasa Tamﬂ yang dﬂahaml men\\nTenuduh\\n\\nza 6 Tenuduh dengzn sukarela mengaku bersalah ke alas\\nnenuaunan (ersebul.\\n\\n7 Mihkamah ssleruwlya manevangkan sﬂai den aklbal pengakuan\\nsalah lersebuldan perumukan hukuman yang bo\\\\eh dlkenakan ke\\n:5 alas Tenuduh\\n\\n¢..mW..., .,...Mwm.mm... xwmvn sxIcmAI>I\\\\v:1P2g<3\\n\\nsw YxxFmsKn1zuLnmKDRvA\\n«ms smm ...m.mm be used m mm .. mm-y mm: dun-mm VII mum pm\\n\\n a Tenuduh memahaml penerangan Mahkamah aan maslh\\nmengaku salah ke alas penuduhan‘ dan (aham sifat dan zkmat\\npengakuannya ||u\\n\\nRINGKASAN FAKTA KES FENDAKWAAN\\n\\n9 secemsnya, nmnaran Fendakwz Raya (evpelmar msngemuxakan\\nnngkasan Iakla kes vendakwaan\\n\\nH) 10 Rmgkasan fakla kes lelah dwbacakan dan dnerangkzn kepada\\nTertuduh melahn guruhahasa Tamv Mahkamah din dwsahkan\\nsebagal belul\\n\\n11 Rlngkasan (akta kes kamudlinnya uwanaakan sehagal ekshibxl\\nI5 P1\\n\\nEKSH|B|T—EKSHlB|T\\n\\n12 Selelusnya, Tlmbalan Fendakwz Raya Ielpelajar mengemukakan\\n20 ekshmn-sksmbvl sepem bsnkul\\n\\n(a) Tnang Repurl N 125/2023 sebagax F2\\n([1) Tnang Reparl No 3135/2023 sebagaw P3\\n(ch Lapovan palolugu sebagax P4 — auumuxkan can dlakw\\ns (a) Rekad Pusal Pendaﬂaran Pemenayah sebagai P5 —\\ndnbacakan aan mam\\n\\n \\n\\n(;u2v1u\\\\1mo:7 —.m..ww..W....v....m».. uvnvzl ;m.u»...;.m.;\\n\\nsw rx.m;mmmn<u»zvA\\n-um smm ...m.mm be used m mm .. mmuny mm: dun-mm VI] muNG pm\\n\\n (ep 4 kepmg gambar new unn sebagav FSA-D — cmumukkan um\\nmam\\n\\nRAVUAN Tsnumm\\n\\n13 Mahkamah selemsnya mendengzv myuan ﬂanpada Terluduh\\n\\n14 Terluduh melaluv peguam vaex, dalam rayuannya menyatakan.\\n(at on berusla 44 (shun\\nm (h) old bekeqa sebagaw pemolong buah sawu dengan\\nnenaapacsn RM! ‘ooo sebman.\\n(C) OKT sudah berkahwm‘ menanggung seomng Isten din\\nseorang anak yang masm belzgav\\n(<1) Pengakuan salah celan jlmalkan mass dan kos pendakwaan\\n15 (e) on less! dan Insafsenz beqann hdak ulangl kesa\\\\ahan Wag!\\nll) OKT penanggung mama Keluarga\\n(g) on ada penyakﬂ asma\\nmy OKT memohun nukuman peruara mnuma bsrmwa dam tankh\\n(angkap dan sehalan yang mwma\\n\\nzo\\nHUJAH PEMEERATAN OLEH PEGAWAI psunmwa\\n15 nmnalan Pendakwa Raya lerpemar bemwah\\n15) Pnhon nukuman se(Impa\\\\ beruemuk pengajaran agar em\\n25 hdak lag: mengmangi keszdahan yang sama pada masa\\n\\nhadavan\\n\\n041:3)“:-nn ruwmxnsq/Axvin/w>nu.vluo<.a>u nurmv :1~c(nAI>Im1 Erzges\\n\\naw YxxmsKmzuLnnrKuRvA\\n-ma Sum ...m.. WW be used m mm a. nvwhuﬂlli mm; dun-mm VI] muNG pm\\n\\n my Pohnn hukuman yang dzpzt hen pengqaran kepada on\\nﬂan masyarakax lam an luar sana agav «oak xenenak da\\\\am\\ngEja\\\\a penaglhan dadah\\n\\n(cl Fohan amhu kw: rekcd simian Ian-pan ow sebanyak 3 hall\\n\\n5 dibawahs15(1)(a)ADB1952\\n(up Kepenlmgan swam adalan maleblm kepermngan on\\n(e) OKT diremzn dan (znkh |angkzp mm 20 9 2023\\n\\nsuamu\\nm\\n15 Setelah mendengar pengakuan salzh Telluduh lanpa syarat.\\nmenganahsa ‘Iakla kes‘ menelm ekshnbll-eksmbn yang leiah\\nmkemukakan m hadapan Mahkamah, Mahkzmah menenma\\npengakuan salah Yermduh ke alas psrtuduhan dan mensamxan\\nls Tenuduh sebagalmana perluduhan\\nHLIKUMAN\\n17. Selelah memmbang rayuan Terluduh‘ mush pembeman\\nIn TImha\\\\an Pendakwa Raya‘ Mahkamah menghukum Tenuduh\\n\\ndengan hukuman seperll benkm\\n\\non dmukum peruava se\\\\ama s mum mmaw 20.5.2023 den 2\\nsehatan an bawah Seksyell 39C(1)(b) Akin Dadah Bcrbahaya\\n1952 den aupenmankan merualam pengawasan AADK se\\\\ama 1\\nmum se\\\\epas merualam hukuman dw bawah Seksyen use Akla\\n\\nDadah Eerhahay: 1952\\n\\ncnznnaxzaeu ..W....;u._mw...mw.. mm xMmA|7n~:1V:gea\\n\\nsw rx.m;mmmn<um\\n-ms Sum In-nhnv WW he used m mm u. nvwhuﬂly mm; dun-mm VII mum pm\\n\\n ALASAN ATA5 HUKUMAN SEDEMIKIAN DIPUTUSKAN\\n\\nPRIMSIP IJNDANG-UNDANG mum MENGNUKUM\\n\\n5 15 Pnnslp unnang-undang bemubung hukuman Ielah jelas dan\\nmanlap Pemmbangan mam: mengenau hukuman ml se\\\\aIn\\nvakxouakm lam adadah Iakxov kepenlmgan awam D: samplng nu,\\nVaklor kepenlmgan awam Im perlu dumbangw ﬂengan vakxor\\nmwigasi Tenuduh\\n\\nwe aenepauan an sml unluk di Imbas kembah panduan menghukum\\nyang mnyavakan dalam kes Public Pmsecular v. Loo Choon\\nFanlmel 2 MLJ 259 Van: merllelaskan sewn benkut\\n\\n‘On: no the mam cnnswderzlmnl vn Ina uszssmem 04 senlence\\nu ul cuulse ms nuuhun :11‘ pm: xmmut On this am u need\\nonw qume a Fissaga lvom the wdgment cl Hnbaly J m Rex V\\nKsnrwm ./aim sau aa ioﬂuws —\\n\\n:u ‘M aeudma me aPDropna|e semenoe a cam! muuld away:\\n\\nbe named by cerlam mnsrdernhans Tneﬁrsland umemosa\\nws me name mines! The ctimmal xaw ws Duhlhsly enlcvoed‘\\nrum nmy war. In: ahgeul M pumsmng crime. am an m me\\nmaps no prevenlmg n A pmplv senlnnca. hissed m pm:\\n\\n2s mm me Dubhc uneven M1 M0 way: u may delat mhers\\n\\nwho mam betemuled to ny cnme aa seammg In ailarazxy\\nmam math: supwsman (ha! vllhe Mendel wscaughl and\\nbroughl m mshce. Ine p1mIshmen|wﬂIbe negxwe Such 3\\n“Mann: may Ibo ﬂelev we psmculm alumina! «mm\\n\\nxyvhlrn ~‘,NvnnASuAAv(MAd .m... mvnnzx um... .31 F237\\n\\nN YxxFmsKn1zuLnnrKDRvA\\nma saw n-nhnrwm be used m mm a. mm-y mm: dun-mm VI] .mm mm   oumrmllmsl a cum: aaim. ul mane: mm to mm mm a\\nmmmal la in nanesl me The pm: \\\\meIes\\\\ Vs mused\\nserved am besl served. iv me mum ‘a \"mean In mm\\n«mm anmmax way! «a mmax| Vnmlg Om Ilw does nut.\\ns mecelurz. nx ms sentence my a pamcmal crime‘ an ﬁxes a\\nmaxmm unlance and was n lo ma court lo «mas wna:\\nus, wnmn It-a maximum. me avhmrmatae senlence hr each\\nnnmlrm m me namcular chcumslanaes at each use Nm\\nmum veqard In each mm: mu m mam m each cnmmnl\\nm lheawnMsmengmnndllzdulylndactdnwhalharkube\\n\\nramam nv revere’\\nPvasrdam: am Magmmaa a. Man Inchmd quite nanmauy Io\\nbe vvauymvilheuc to live aamsa Tms m a nurrna\\\\\\nhsychokzglcal veuuon m the suuamn m mm Ihe many\\n15 nccused 15 seen (saw an array atvmnesses wuh mnhonly ma\\nrmlxg-lwn submmed by a carwuned palsun mu llw rmrmiﬂy\\nbring up pmmemt ow famny havdsmp and the ulnar uiua\\\\\\npvuhhms nl lwmg In such a snuauan the wane mam pemaps\\nmm 1: menu «a dsade as to what semence should he Vmposed\\nIn so that me covwmled versan may nal he mm. huldened mm\\naaamanax hands\\n1:... mrvecl nnnvubch .a m xlnka a hlmnua a. 1:! aa vuunhm\\nnanwaan the Interest: m ma publxc and ma mlevvsts m we\\nhound Lam Goddard LCJ In Rex v smnatmm. oilered\\n\\n25 someueodadwoe whenhes:>d—\\n\\nwe M0512 mus! wwsxuet me Inlemsu onuslme as weﬂ as\\nme vmetesls nl ma pnsmver: u .a (nu anan nvwidiys\\n\\n \\n\\nYms .a my m. is a wmna iﬂbmicn\\n\\nlhauahl, m seems m be Ihcuglm Irmlne mheresl: nhullme\\n\\nmean) amyml Inlnvuts uﬂha winners\\n\\nBUDI BICARA\\n\\ncnabnmzxn ...m....Wma.a.a.maaa... ...m., ;1~(H|.\\\\nnI~§1l7iReB\\n\\nsm YxxmsKn1zuLnmKDRvA\\n“Nair am.‘ n-nhnrwm a. LAIQ4 w my a. nﬂmnnﬂly mm: dun-mm VII .mm mm\\n\\n zo Selam nu, saya .uga mengambll maklum bahawa unaang-unaang\\nmembenkan bud: blcara sepenuhnya kepada haklm bmara uruuk\\nrnsnamukan nukuman yang sepalmnya dualuhkan ke alas\\n\\n5 pesaxan lelapw kuasa m1 hendaklah dﬂaksanzkan secava aun dan\\nsaksama selalas dengan Prinmp undangdmdang belhubung\\n\\nnukuman\\n\\n21 Pnnslp ml dlnyalakan dengan Aelas dalam kes as V. Jlh bin\\n\\nm mm: [1931] 1 ms 25‘ [1951] 1 MLJ 315. a. man: Hakim\\n\\nMohamed Azmi (pads masa VIM) mengganskan pnnslp-pllnslp\\nrmkuman yang sspamlnya sebagalmana benkm\\n\\n‘A ‘senlvnce aconmmq In 1:»! main: max 1n: aamervue mus! no:\\nwhy he wllmn me ambul 0! ms pumshalﬂs :ec1mn. mu 11 mm\\n\\n1: 315° he assessnd and passed -n acwmance wlm estzbluhad\\n\\nludmalnrvnmvles 1n assessmg senxenon one n! we rnamfadolx\\n1.: be oansmamﬂ 1: whemer Ihe umwmled person 15 : ﬁvsl\\nnﬂendel 11. [av ms pawns: mm heme passmi sen1en=e1 a\\nMagnbale 1; veqmrad m can our ewdanne ur Inlavmalmn\\n\\nzu Isgammg (ha badgmund‘ anlscndam and Izhavaclal av me\\n\\namused Wheve me cmwmled veuson has Nevlous rectum: mud\\nadnms mem as auvvecl we own musl aonsmu whemel me\\nnrﬂunca or Mltnces cammnled D1e»4mus\\\\y wave 91 stmﬂar name\\n.5 1n. an: Mm which in Is Dleienlly unnamed The com! mus!\\n\\n25 men mlmdsrlhe semancu Imnnxed .n ma vvzvmuscnnvscmns\\n\\nm.m.1...., ...wn...;1...1.n.w..mwa«.. zzwwx ..:m.~1   n YxxmsKn1zuLnmKDRvA\\nNuns s.n.1 In-v1hnrw\\\\H be used w my 1.. nnnmun mm: dun-mm wa nnum pm\\n\\n lav svmnm offence: to delemlme memeq may have haﬂ nnv\\nﬂalnnunl anaax an nnn Wnlm ha 1: found In be 2 perxmam\\noﬂanﬂev ran a wvmav -we 0! Mver-oei. «nan n V; In (he mleveil 471\\nwines that a datelvenl semenoe snomu be passed ana, m such\\na case unlass there are exaeolmnnlalcumslances meauanmy\\nname avvalue anne suh1eI:1~ma\\\\lel Mme meme wllh which he\\nn cunenlly umgea can very lively urmslllule . mmgahng fadur\\nmnnnana mad)‘\\n\\nH) KESALAHAN SERIUS\\n\\n22. Ksmhall kepaaa Kas (avhadau Tenuduh mu. saya mengimbn\\nmaklum ballawa kesalahan yang mlakukan aleh Tenuduh ada\\\\ah\\nsualu kesamhan yang senus can mpamung bera! oleh Pammen\\n\\nIs yang menelapkan hukuman penjara Irwuma 5 tahun ningga 7\\n(ahun dan seba|an wen sampal 3 sebalan\\n\\n23 Perunlukan hukuman yang beta! nu menunjukkan bahawa\\nkesmahan yang anakukan oleh Tenuduh adalah senus\\n\\nFAKTOR MWIGASI\\n\\n2A Dv samplng nu saya yuga mampemmbangkan mmgasx Tenuduh\\n\\nWalau nagannanapun, saya hdak nampzk sebzrang a\\\\asan yang\\n\\nzs munasahah mkemukakan bagl membenarkan Tenuaun (ems\\nmengmang. kesalahan yang sama bemlang kah\\n\\nwar .n. Wnwr-Ar!-\\\\w~\\\\vrwawM yam nvnm) :1mnnI>ImzP:1guI0\\n\\n \\n\\nN YxxFmsKmzuLnmKDRvA\\nNuns a.nn n-nhnrwm be used w my a. annnnn mm: dun-mm wa .nuNG wrmMicrosoft Word - GOJ CA-42S-6-09-2022 Mohamad Zawani v PP (Akta Kanak-Kanak) 2.2024\\n\\n\\n1 \\n \\n\\nDALAM MAHKAMAH TINGGI MALAYA DI KUANTAN \\n\\nDALAM NEGERI PAHANG DARUL MAKMUR \\n\\nRAYUAN JENAYAH NO. CA-42S-6-09/2022 \\n\\nANTARA   1.  MOHAMMAD ZAWANI BIN MOHAMMAD JASNI \\n\\n(NO. K/P: 880102-10-5179) \\n\\n2.  AZREEN BINTI JUNYSAR \\n\\n(NO. K/P: 881213-06-5194)   ...PERAYU-PERAYU \\n\\nDAN \\n\\nPENDAKWA RAYA   ...RESPONDEN \\n\\n(RAYUAN TERTUDUH)   DALAM MAHKAMAH TINGGI MALAYA DI KUANTAN \\n\\nDALAM NEGERI PAHANG DARUL MAKMUR \\n\\nRAYUAN JENAYAH NO. CA-42H-1-09/2022 \\n\\nANTARA   PENDAKWA RAYA   ...PERAYU \\n\\nLAWAN \\n\\n1.  MOHAMMAD ZAWANI BIN MOHAMMAD JASNI \\n\\n(NO. K/P: 880102-10-5179) \\n\\n2.  AZREEN BINTI JUNYSAR \\n\\n(NO. K/P: 881213-06-5194)    ...RESPONDEN-RESPONDEN \\n\\n(RAYUAN SILANG PENDAKWA RAYA)   (Dalam Perkara Mahkamah Sesyen Jenayah (4) Kuantan \\n\\nNo. Kes: CA-62-41-10/2020) \\n\\n09/02/2024 10:44:40\\n\\nCA-42S-6-09/2022 Kand. 42\\n\\nS/N VgFzKjBpjkKEt28iIb3rTA\\n**Note : Serial number will be used to verify the originality of this document via eFILING portal\\n\\n\\n\\n2 \\n \\n\\nALASAN PENGHAKIMAN   LATARBELAKANG   [1] Kedua-dua Perayu telah disabitkan oleh Hakim Mahkamah Sesyen \\n\\n(“HMS”) dengan pertuduhan di bawah seksyen 31(1)(a) Akta Kanak-\\n\\nKanak 2001 yang di baca bersama seksyen 34 Kanun Keseksaan. \\n\\nKedua-dua Perayu dijatuhkan hukuman penjara 8 tahun mulai tarikh \\n\\nhukuman (13/9/2022). Kedua-dua Perayu juga diperintahkan \\n\\nmelaksanakan bon berkelakuan baik dengan pengawasan selama 3 \\n\\ntahun menurut s. 31(2)(a) Akta Kanak-Kanak 2001, serta diperintahkan \\n\\nuntuk menjalani program khidmat masyarakat selama 120 jam menurut s. \\n\\n31 (3A) Akta yang sama, yang perlu diselesaikan dalam tempoh 6 bulan \\n\\ndari tarikh hukuman. Mereka memfailkan rayuan ke Mahkamah ini bagi \\n\\nsabitan dan hukuman tersebut.   [2] Pihak Pendakwaan pula memfailkan rayuan silang terhadap \\n\\nhukuman penjara lapan (8) tahun yang dijatuhkan oleh HMS dan \\n\\nmemohon Mahkamah ini meminda hukuman tersebut kepada hukuman \\n\\npenjara yang lebih panjang tempohnya.   S/N VgFzKjBpjkKEt28iIb3rTA\\n**Note : Serial number will be used to verify the originality of this document via eFILING portal\\n\\n\\n\\n3 \\n \\n\\n[3] Mahkamah ini telah menolak rayuan kedua-dua Perayu dan \\n\\nmengekalkan sabitan oleh HMS. Mahkamah ini telah membenarkan \\n\\nrayuan Pihak Pendakwaan dan menukar hukuman penjara kepada \\n\\nkedua-dua Perayu dari 8 tahun kepada 9 tahun, dan mengekalkan \\n\\nperintah-perintah lain yang diberikan oleh HMS mengenai bon \\n\\nberkelakuan baik dan program khidmat masyarakat.   [4] Kedua-dua Perayu sekarang merayu terhadap keputusan \\n\\nMahkamah ini.   KEPUTUSAN MAHKAMAH SESYEN   [5] Keterangan di hadapan HMS secara ringkasnya adalah seperti \\n\\nberikut:   5.1 Jam 12 tengah hari 9/7/2018 Jabatan Kecemasan Hospital \\n\\nTengku Ampuan Afzan Kuantan (HTAA) menerima panggilan \\n\\ndari Perayu Kedua (ibu Simati) memaklumkan bahawa anaknya, \\n\\nSimati tidak sedarkan diri.   5.2 Ambulans sampai di tempat kejadian pada jam 12.30 tengah \\n\\nhari.  \\n\\nS/N VgFzKjBpjkKEt28iIb3rTA\\n**Note : Serial number will be used to verify the originality of this document via eFILING portal\\n\\n\\n\\n4 \\n \\n\\n5.3 Sesampai di HTAA, pegawai perubatan bertugas, SP8, \\n\\nmelakukan pemeriksaan terhadap Simati dan mendapati beliau \\n\\nsudah tidak bernyawa.   5.4 Dari pemeriksaan luar, SP8 dapati luka dan kecederaan berikut \\n\\npada Simati: \\n\\n(i)  lebam di pelbagai anggota badan Simati; \\n\\n(ii)  gigi patah iaitu gigi depan bahagian atas dan bahagian \\n\\nbawah; \\n\\n(iii)  satu luka di bahagian kepala; \\n\\n(iv)  satu parut lama di bahagian lengan kanan; \\n\\n(v)  lebam belah kiri lengan, ketiak kiri, dan bahagian \\n\\nbelakang badan; \\n\\n(vi)  luka kecil di kemaluan; dan \\n\\n(vii)  parut lama kecil di bahagian perut.   5.5 SP8 menghubungi Perayu Kedua dan memaklumkan keadaan \\n\\nSimati.  Perayu Kedua memaklumkan SP8 bahawa pada malam \\n\\nsebelumnya (8/7/2018) Simati mengalami berak cair dan Simati \\n\\nterjatuh semasa keluar dari tandas.  Esok paginya (9/7/2018) \\n\\nSimati tidak ke sekolah kerana sakit kepala dan hanya tidur.  \\n\\nJam 11.00 pagi Perayu Kedua mendapati Simati dalam keadaan \\n\\nS/N VgFzKjBpjkKEt28iIb3rTA\\n**Note : Serial number will be used to verify the originality of this document via eFILING portal\\n\\n\\n\\n5 \\n \\n\\npucat dan letih. Beberapa minit kemudian Perayu Kedua dapati \\n\\nSimati tidak sedarkan diri lalu beliau memanggil ambulans.   5.6 SP8 dapati sejarah yang diberikan oleh ibu Si mati adalah tidak \\n\\nkonsisten dengan hasil pemeriksaan luaran yang dijalankan oleh \\n\\nSP8. SP8 selanjutnya membuat laporan polis sebagaimana \\n\\nLaporan Kuantan 19794/18 (Ekshibit P20).   5.7 Post mortem yang dijalankan oleh SP13 mendapati punca \\n\\nkematian mangsa adalah “gastro-intestinal bleed due to \\n\\nesophageal ulcer” sebagaimana yang dinyatakan di dalam \\n\\nLaporan Post Mortem yang dikeluarkan oleh SP13 (Ekshibit \\n\\nP89).   5.8 Hasil siasatan pegawai penyiasat (SP14) mendapati Simati \\n\\nmerupakan anak kandung kepada Perayu Kedua dan \\n\\nberdasarkan Sijil Kelahiran Simati (Ekshibit P93), maklumat \\n\\nbapa adalah tidak diperoleh.   5.9 Simati tinggal bersama dengan kedua-dua Perayu dan seorang \\n\\nadik simati (Hudfurqan Zulqarnain bin Abdullah) di rumah tempat \\n\\nkejadian beralamat seperti dalam pertuduhan.  \\n\\nS/N VgFzKjBpjkKEt28iIb3rTA\\n**Note : Serial number will be used to verify the originality of this document via eFILING portal\\n\\n\\n\\n6 \\n \\n\\n5.10 Pihak Pembelaan berhujah bahawa Pihak Pendakwaan gagal \\n\\nmembuktikan kes prima facie terhadap kedua-dua Perayu \\n\\natas alasan-alasan berikut:   (i) Perayu Pertama telah mengemukakan Notis Alibi untuk \\n\\nmenunjukkan bahawa Perayu Pertama tidak berada di \\n\\ntempat kejadian dari 7/7/2018-9/7/2018 kerana berada di \\n\\nKlang.   (ii) Keterangan SP8 mengesahkan bahawa laporan polis \\n\\nbeliau (eksibit P20) hanya menyatakan Simati mengalami \\n\\n“lebam dan luka pada anggota badan” dan tidak \\n\\nmenyatakan secara terperinci kecederaan Simati.   (iii) SP8 juga mengatakan beliau hanya mengesyaki terdapat \\n\\npenderaan pada diri Simati namun tidak pasti sama ada \\n\\nkecederaan pada diri Simati adalah betul-betul \\n\\ndisebabkan penderaan.   (iv) Kegagalan Pihak Pendakwaan memanggil adik simati \\n\\n(Hudfurqan Zulqarnain) membolehkan HMS \\n\\nS/N VgFzKjBpjkKEt28iIb3rTA\\n**Note : Serial number will be used to verify the originality of this document via eFILING portal\\n\\n\\n\\n7 \\n \\n\\nmenggunakan s. 114(g) Akta Keterangan 1950 terhadap \\n\\nPihak Pendakwaan.   (v) Adalah jelas bahawa kematian Simati bukan disebabkan \\n\\nkecederaan fizikal pada badannya tetapi pendarahan \\n\\nsalur makanan akibat ulcer oesophagus, sepertimana \\n\\nlaporan post mortem SP13.   (vi) Pihak Pendakwaan gagal mengemukakan hasil analisa \\n\\nforensik yang dilakukan oleh pihak polis terhadap 3 \\n\\ntelefon bimbit dan 1 tablet milik kedua-dua Perayu yang \\n\\ndirampas dari mereka.   [6] Mahkamah ini memutuskan dapatan HMS bagi semua analisa yang \\n\\ndibuatnya dalam menghuraikan intipati s. 31(1)(a) Akta Kanak-Kanak \\n\\n2001 berdasarkan prinsip-prinsip yang diputuskan dalam kes-kes \\n\\nterdahulu dan selanjutnya merumuskan bahawa Pihak Pendakwaan telah \\n\\nberjaya membuktikan setiap intipati pertuduhan terhadap kedua-dua \\n\\nPerayu, adalah dapatan yang betul yang tidak perlu diganggu oleh \\n\\nMahkamah ini.   S/N VgFzKjBpjkKEt28iIb3rTA\\n**Note : Serial number will be used to verify the originality of this document via eFILING portal\\n\\n\\n\\n8 \\n \\n\\n[7] Setelah Mahkamah ini meneliti segala dapatan HMS seperti \\n\\ndinyatakan dengan terperinci dalam Alasan Penghakimannya, \\n\\nMahkamah ini dapati HMS telah menggunapakai peruntukan undang-\\n\\nundang dan prinsip undang-undang yang betul tatkala memutuskan untuk \\n\\nmemanggil kedua-dua Perayu membela diri bagi pertuduhan setelah \\n\\nberpuashati bahawa Pihak Pendakwaan telah berjaya membuktikan kes \\n\\nprima facie: s. 180(1) Kanun Prosedur Jenayah, PP v Mohd Radzi Abu \\n\\nBakar [2006] 1 CLJ 457, Low Kow Chai & Anor v PP [2003] 2 MLJ 69, \\n\\nBalachandran v PP [2005] 1 CLJ 85.   [8] Keterangan Perayu Pertama (SD1) semasa membela diri adalah \\n\\nsemata-mata untuk menujukkan bahawa beliau tiada di tempat kejadian \\n\\npada tarikh dan waktu kejadian. Beliau menceritakan kali terakhir beliau \\n\\nberjumpa Simati ialah pada 6.7.2018.  Pada pagi 7.7.2018 beliau bertolak \\n\\nke Kuala Lumpur. Pada tengah hari 7.7.2018 beliau pulang ke rumah \\n\\nemaknya di Klang dan berjumpa emaknya (SD3).  Pada petang 8.7.2018 \\n\\nbeliau keluar minum bersama adiknya SD4. Pada pagi 9/7/2018 beliau \\n\\nmendapat panggilan telefon dari isterinya, Perayu Kedua, memaklumkan \\n\\nSimati tidak sedar diri, lalu Perayu Pertama terus bergegas balik ke \\n\\nKuantan.   S/N VgFzKjBpjkKEt28iIb3rTA\\n**Note : Serial number will be used to verify the originality of this document via eFILING portal\\n\\n\\n\\n9 \\n \\n\\n[9] Perayu Kedua (SD2) memberi keterangan pada pagi kejadian \\n\\nSimati tidak pergi ke sekolah kerana Perayu Kedua terlewat bangun pada \\n\\npagi itu dan tidak sempat menyiapkan Simati. Beliau lalu mengejutkan \\n\\nSimati dan memberitahu dia tidak perlu ke sekolah. Dalam pukul 11.00 \\n\\npagi beliau kejutkan Simati tetapi Simati tidak buka mata dan tidak \\n\\nbangun. Apabila mendapati Simati tiada respon, beliau menelefon \\n\\nsuaminya, Perayu Pertama, dan juga menelefon ambulans.   [10] Mahkamah ini mendapati dapatan HMS yang memutuskan bahawa \\n\\npembelaan alibi Perayu Pertama adalah penafian semata-mata tanpa \\n\\ndisokong oleh mana-mana keterangan lain adalah dapatan yang betul. \\n\\nWalaupun keterangan SD3 dan SD4 digambarkan seolah-olah Perayu \\n\\nPertama tiada di tempat kejadian pada tarikh dan hari kejadian, namun \\n\\nHMS mendapati keberadaan Perayu Pertama telah disahkan sendiri oleh \\n\\nkedua-dua Perayu semasa Pemeriksaan Utama. Keterangan SD3 dan \\n\\nSD4 yang merupakan saksi berkepentingan dinilai oleh HMS secara \\n\\nberhati-hati, sejajar dengan prinsip yang diputuskan dalam kes Kofri \\n\\nMustafar v PP [2010] 9 CLJ 519, PP v Ng Nai Lim [2011] 1 LNS 487, \\n\\nPP v Shawal Senin [2012] 1 LNS 1229.   [11] Mahkamah ini selanjutnya mendapati HMS telah membuat dapatan \\n\\nyang betul setelah beliau berpuashati bahawa keterangan SD3 dan SD4 \\n\\nS/N VgFzKjBpjkKEt28iIb3rTA\\n**Note : Serial number will be used to verify the originality of this document via eFILING portal\\n\\n\\n\\n10 \\n \\n\\nadalah tidak credible dan “tainted and tailored” memandangkan status \\n\\nmereka sebagai saksi berkepentingan.   [12] Berdasarkan segala dapatan tersebut, Mahkamah ini dapati HMS \\n\\ntelah membuat rumusan dan keputusan yang betul di akhir kes Pihak \\n\\nPembelaan apablia memutuskan bahawa hasil penilaiannya secara \\n\\nmenyeluruh ke atas keterangan saksi-saksi Pendakwaan dan pembelaan \\n\\njelas menunjukkan bahawa Pihak Pendakwaan telah berjaya \\n\\nmembuktikan suatu kes melebihi keraguan munasabah manakala kedua-\\n\\ndua Perayu pula telah didapati gagal untuk menimbulkan sebarang \\n\\nkeraguan yang munasabah ke atas kes Pihak Pendakwaan.   KEPUTUSAN MAHKAMAH INI   ISU PRELIMINARI: KEABSAHAN PERTUDUHAN  \\n\\n[13] Pertamanya, Mahkamah ini ingin menyentuh mengenai Pertuduhan \\n\\nterhadap kedua-dua Perayu, yang berbunyi seperti berikut:   “Bahawa kamu bersama-sama antara 09/06/2018 hingga \\n\\n09/07/2018 di rumah beralamat No. 32, Lorong Permatang Badak \\n\\nMaju 39, Taman Permatang Badak Maju, dalam Daerah Kuantan, \\n\\ndi dalam Negeri Pahang Darul Makmur, sebagai orang yang \\n\\nmempunyai pemeliharaan terhadap seorang kanak-kanak iaitu \\n\\nS/N VgFzKjBpjkKEt28iIb3rTA\\n**Note : Serial number will be used to verify the originality of this document via eFILING portal\\n\\n\\n\\n11 \\n \\n\\nMuhammad Luthhakim bin Abdullah, No. KP 080201-10-2349, telah \\n\\nmengabaikan kanak-kanak tersebut daripada mendapatkan \\n\\nrawatan perubatan dan pemeliharaan yang mencukupi sehingga \\n\\nmenyebabkan kanak-kanak tersebut mengalami kecederaan fizikal \\n\\nyang membawa kepada kematian kanak-kanak itu. \\n\\nOleh itu kamu telah melakukan kesalahan yang boleh dihukum di \\n\\nbawah seksyen 31(1) Akta kanak-Kanak 2001 dan dibaca bersama \\n\\nseksyen 34 Kanun Keseksaan.”   [14] Sebelum Mahkamah ini membacakan keputusannya, Mahkamah ini \\n\\ntelah bertanya kepada Timbalan Pendakwa Raya sama ada pertuduhan \\n\\ndipinda oleh Pihak Pendakwaan pada mana-mana peringkat di hadapan \\n\\nHMS untuk menyatakan secara spesifik bahawa kedua-dua Perayu \\n\\ndituduh bagi kesalahan di bawah s. 31(1)(a) Akta Kanak-Kanak 2001?   [15] Mahkamah membangkitkan persoalan ini kerana pertuduhan \\n\\nterhadap kedua-dua Perayu seperti dinyatakan dalam perenggan di atas \\n\\nyang juga dikemukakan di ms 5 RR Jilid 1 hanya menyebut “seksyen \\n\\n31(1) Akta Kanak-Kanak 2001”. Namun demikian, Mahkamah ini dapati \\n\\nHujahan Bertulis Pihak Pendakwaan di akhir Kes Pendakwaan (ms 2 - 28 \\n\\nRR Jilid 4) menyebut pertuduhan terhadap kedua-dua Perayu adalah di \\n\\nbawah “seksyen 31(1)(a) Akta Kanak-Kanak 2001”. Manakala dalam \\n\\nHujahan Pihak Pendakwaan bagi maksud rayuan di hadapan Mahkamah \\n\\nS/N VgFzKjBpjkKEt28iIb3rTA\\n**Note : Serial number will be used to verify the originality of this document via eFILING portal\\n\\n\\n\\n12 \\n \\n\\nini pula (Kand. 24), Timbalan Pendakwa Raya menyatakan kedua-dua \\n\\nPerayu dituduh di bawah “seksyen 31(1) Akta Kanak-Kanak 2001”.   [16] Walaupun perkara ini tidak dibangkitkan oleh peguam kedua-dua \\n\\nPerayu sama ada di hadapan HMS atau dalam hujahannya di hadapan \\n\\nMahkamah ini dan juga tidak dijelaskan oleh Timbalan Pendakwa Raya \\n\\ndi hadapan Mahkamah ini sehinggalah perkara ini dibangkitkan oleh \\n\\nMahkamah ini, namun undang-undang adalah jelas bahawa Mahkamah \\n\\nini semasa meneliti sesuatu rayuan di hadapannya mempunyai kuasa \\n\\nuntuk meneliti semula segala keterangan dan dokumen di hadapan \\n\\nMahkamah dan membuat dapatan sewajarnya. Peranan Mahkamah ini \\n\\nsebagai mahkamah rayuan adalah sebagaimana yang dihuraikan dalam \\n\\npetikan di bawah dalam kes Dato Seri Anwar Ibrahim v. PP & Another \\n\\nAppeal [2004] 3 CLJ 737 di ms 752:   “This Court speaking through another eminent Judge, Abdul Hamid Mohamad \\n\\nFCJ (as he then was) explained the role of appellate court as follows:- \\n\\n“Clearly, an appellate court does not and should not put a brake and not \\n\\ngoing any further the moment it sees that the trial judge says that that is his \\n\\nfinding of fact. It should go further and examine the evidence and \\n\\ncircumstances under which the finding was made to see whether, to borrow \\n\\nthe words of HT Ong (CJ Malaya) in Herchun Singh\\'s case (supra)\" there \\n\\nare substantial and compelling reasons for disagreeing with the finding. \\n\\n\"Otherwise, no judgment would ever be reversed on question of fact and the \\n\\nprovision of s. 87 CJA 1964 that an appeal may lie not only on a question of \\n\\nlaw but also a question of mixed fact and law would be meaningless.” \\n\\nS/N VgFzKjBpjkKEt28iIb3rTA\\n**Note : Serial number will be used to verify the originality of this document via eFILING portal\\n\\n\\n\\n13 \\n \\n\\n[17] Dalam hal ini, Mahkamah ini memutuskan walaupun pertuduhan \\n\\ntidak menyebut secara spesifik sama ada kesalahan adalah di bawah s. \\n\\n31(1)(a) Akta Kanak-Kanak 2001, namun ketinggalan ini tidak \\n\\nmenimbulkan sebarang ketakadilan kepada kedua-dua Perayu.  Ini \\n\\nkerana Mahkamah ini berpuashati bahawa elemen pertuduhan telah \\n\\ndinyatakan dengan jelas dalam pertuduhan, yakni sebagai orang yang \\n\\nmempunyai pemeliharaan terhadap Simati yang merupakan seorang \\n\\nkanak-kanak telah melakukan suatu pengabaian sehingga menyebabkan \\n\\nkecederaan fizikal yang membawa kepada kematian kanak-kanak \\n\\nterbabit.  Perincian pengabaian juga telah dinyatakan dengan jelas dalam \\n\\npertuduhan tersebut.   [18] Atas alasan itu, Mahkamah ini memutuskan pertuduhan terhadap \\n\\nkedua-dua Perayu adalah teratur dan sah, dan walaupun pertuduhan \\n\\nhanya menyebut s. 31(1) Akta Kanak-Kanak 2001, namun apabila \\n\\npertuduhan itu dibaca secara keseluruhannya, adalah jelas bahawa \\n\\nkedua-dua Perayu dituduh di bawah s. 31(1)(a) Akta Kanak-Kanak 2001.   APA YANG PERLU DIBUKTIKAN OLEH PIHAK PENDAKWAAN \\n\\n[19] Peruntukan seksyen 31(1)(a) Akta Kanak-Kanak 2001 yang mana \\n\\nkedua-dua Perayu dipertuduhkan adalah seperti berikut:   S/N VgFzKjBpjkKEt28iIb3rTA\\n**Note : Serial number will be used to verify the originality of this document via eFILING portal\\n\\n\\n\\n14 \\n \\n\\n“31.(1) Mana-mana orang, yang merupakan orang yang mempunyai \\n\\npemeliharaan seseorang kanak-kanak: \\n\\n(a) yang menganiayai, mengabaikan, membuang atau mendedahkan \\n\\nkanak-kanak itu atau bertindak secara cuai dengan cara yang \\n\\nmungkin akan menyebabkannya mengalami kecederaan fizikal atau \\n\\nemosi atau yang menyebabkan atau membenarkannya dianiayai, \\n\\ndiabaikan, dibuang atau didedahkan sedemikian;  \\n\\n.... \\n\\nmelakukan suatu kesalahan dan apabila disabitkan boleh didenda tidak \\n\\nmelebihi dua puluh ribu ringgit atau dipenjarakan selama tempoh tidak \\n\\nmelebihi sepuluh tahun atau kedua-duanya. \\n\\n(2) Mahkamah—  \\n\\n(a) hendaklah, sebagai tambahan kepada apa-apa hukuman yang dinyatakan \\n\\ndalam subseksyen (1), memerintahkan supaya orang yang disabitkan atas \\n\\nsuatu kesalahan di bawah subseksyen itu menyempurnakan suatu bon \\n\\ndengan penjamin untuk berkelakuan baik selama apaapa tempoh yang \\n\\ndifikirkan patut oleh mahkamah; dan  \\n\\n(b) boleh memasukkan dalam bon yang disempurnakan di bawah perenggan \\n\\n(a) apa-apa syarat yang difikirkan patut oleh mahkamah.”   [20] Kesalahan di bawah s. 31(1) adalah dua jenis : \\n\\nPertama: apabila orang yang merupakan orang yang mempunyai \\n\\npemeliharaan seseorang kanak-kanak dengan sendirinya \\n\\nmelakukan mana-mana perbuatan yang berikut: \\n\\n(a)  menganiayai kanak-kanak itu dengan cara yang mungkin akan \\n\\nmenyebabkannya mengalami kecederaan fizikal atau emosi;  \\n\\n(b) mengabaikan kanak-kanak itu dengan cara yang mungkin akan \\n\\nmenyebabkannya mengalami kecederaan fizikal atau emosi;  \\n\\nS/N VgFzKjBpjkKEt28iIb3rTA\\n**Note : Serial number will be used to verify the originality of this document via eFILING portal\\n\\n\\n\\n15 \\n \\n\\n(c) membuang kanak-kanak itu dengan cara yang mungkin akan \\n\\nmenyebabkannya mengalami kecederaan fizikal atau emosi;  \\n\\n(d) mendedahkan kanak-kanak itu dengan cara yang mungkin \\n\\nakan menyebabkannya mengalami kecederaan fizikal atau \\n\\nemosi; atau \\n\\n(e) bertindak secara cuai dengan cara yang mungkin akan \\n\\nmenyebabkannya mengalami kecederaan fizikal atau emosi.   Kedua:  apabila orang yang merupakan orang yang mempunyai \\n\\npemeliharaan seseorang kanak-kanak tidak secara sendiri \\n\\nmelakukan penganiayaan, pengabaian, pembuangan, pendedahan \\n\\natau kecuaian itu tetapi menyebabkan atau membenarkan orang \\n\\nlain melakukan penganiayaan, pengabaian, pembuangan atau \\n\\npendedahan kepada kanak-kanak itu yang mengakibatkan \\n\\nkecederaan fizikal atau kecederaan emosi kepada kanak-kanak itu.   [21] Pertuduhan terhadap kedua-dua Perayu secara khususnya adalah \\n\\nberkenaan kesalahan “mengabaikan Simati daripada mendapatkan \\n\\nrawatan perubatan dan pemeliharaan yang mencukupi sehingga \\n\\nmenyebabkan Simati mengalami kecederaan fizikal yang membawa \\n\\nkepada kematiannya.”   S/N VgFzKjBpjkKEt28iIb3rTA\\n**Note : Serial number will be used to verify the originality of this document via eFILING portal\\n\\n\\n\\n16 \\n \\n\\n[22] Maka, ini bermakna kedua-dua Perayu jatuh dibawah kategori \\n\\npertama yakni mereka dituduh melakukan sendiri pengabaian terhadap \\n\\nkanak-kanak tersebut dan bukan menyebabkan orang lain \\n\\nmelakukannya.   [23] Apa yang perlu dibuktikan oleh Pihak Pendakwaan bagi pertuduhan \\n\\nterhadap kedua-dua Perayu adalah: \\n\\n(i) kedua-dua Perayu merupakan orang yang mempunyai \\n\\npemeliharaan terhadap Muhammad Luthhakim bin Abdullah \\n\\n(seorang kanak-kanak yang berumur 9 tahun 8 bulan pada \\n\\nwaktu kejadian); \\n\\n(ii) kedua-dua Perayu telah melakukan pengabaian terhadap \\n\\nkanak-kanak tersebut, yang dilakukan sendiri oleh kedua-dua \\n\\nPerayu; \\n\\n(iii) pengabaian itu telah menyebabkan kecederaan fizikal kepada \\n\\nkanak-kanak tersebut.   Isu 1: Penduaan Pertuduhan (Duplicity of Charge)   [24] Perkara pertama yang dibangkitkan oleh Peguam Perayu-Perayu \\n\\nadalah bahawa terdapat penduaan pertuduhan (duplicity of charge) \\n\\napabila pertuduhan menyebut : \\n\\nS/N VgFzKjBpjkKEt28iIb3rTA\\n**Note : Serial number will be used to verify the originality of this document via eFILING portal\\n\\n\\n\\n17 \\n \\n\\n(a) mengabaikan kanak-kanak tersebut daripada mendapat \\n\\nrawatan perubatan; dan \\n\\n(b) mengabaikan kanak-kanak tersebut daripada mendapat \\n\\npemeliharaan yang mencukupi.   [25] Mahkamah ini tidak bersetuju dengan hujahan ini. Ia akan menjadi \\n\\npenduaan pertuduhan jika pertuduhan terhadap kedua-dua Perayu \\n\\nmenyebut, contohnya : \\n\\n“ ... telah mengabaikan dan menganiayai kanak-kanak tersebut” atau \\n\\n“... telah mengabaikan dan membuang kanak-kanak tersebut” atau \\n\\n“ ... telah mengabaikan dan mendedahkan kanak-kanak tersebut”.   [26] Ini kerana “pengabaian”, “penganiayaan”, “pembuangan”, \\n\\n“pendedahan” atau “bertindak secara cuai” adalah bentuk-bentuk \\n\\nkesalahan yang berdiri dengan sendiri dan tidak boleh dicampur dalam \\n\\nsatu pertuduhan.   [27] Frasa “mendapatkan rawatan dan pemeliharaan yang mencukupi” \\n\\ndalam pertuduhan bukan suatu bentuk kesalahan. Ia adalah cara dan \\n\\nhuraian pengabaian, yang disebutkan sebagai “dengan cara yang \\n\\nmungkin atau menyebabkan” dalam subseksyen 31(1), yakni pengabaian \\n\\nmendapatkan rawatan yang mencukupi dan pengabaian mendapatkan \\n\\nS/N VgFzKjBpjkKEt28iIb3rTA\\n**Note : Serial number will be used to verify the originality of this document via eFILING portal\\n\\n\\n\\n18 \\n \\n\\npemeliharaan mencukupi telah menyebabkan dan mengakibatkan \\n\\nkecederaan fizikal kepada Simati.   [28] Pengabaian mendapatkan pemeliharan mencukupi tidak sama \\n\\ndengan penganiayaan, yang merupakan suatu bentuk kesalahan yang \\n\\nberdiri secara sendiri.   [29] Kegagalan kedua-dua Perayu mendapatkan rawatan mencukupi \\n\\ndan pemeliharaan mencukupi adalah dua bentuk huraian cara \\n\\npengabaian yang menyebabkan kanak-kanak itu mengalami kecedaraan \\n\\nfizikal. Tatkala Pihak Pendakwaan berjaya membuktikan kewujudan \\n\\npengabaian melalui dua bentuk huraian tersebut maka kehendak s. \\n\\n31(1)(a) telah dibuktikan sepenuhnya.   [30] Maka saya memutuskan alasan pertama rayuan kedua-dua Perayu \\n\\nyang bergantung kepada hujahan bahawa pertuduhan terhadap kedua-\\n\\ndua Perayu adalah berbentuk penduaan adalah ditolak.   Isu 2: Kesukaran Perayu-Perayu memfailkan Notis Alibi disebabkan \\n\\nPenduaan Pertuduhan   S/N VgFzKjBpjkKEt28iIb3rTA\\n**Note : Serial number will be used to verify the originality of this document via eFILING portal\\n\\n\\n\\n19 \\n \\n\\n[31] Susulan dapatan Mahkamah ini terhadap Isu 1 yang dibangkitkan \\n\\noleh Perayu-Perayu, maka Mahkamah ini memutuskan isu berkaitan \\n\\nNotis Alibi yang dikaitkan dengan Penduaan Pertuduhan adalah tidak \\n\\nberbangkit.   [32] Alasan ini juga ditolak oleh Mahkamah ini.   Isu 3: Pemakaian s. 114(g) Akta Keterangan - Kegagalan memanggil \\n\\nMohd Hudfurqan Zulqarnain bin Abdullah, adik Simati   [33] Peguam Perayu-Perayu berhujah bahawa kepentingan memanggil \\n\\nMohd Hudfurqan sebagai saksi adalah timbul ekoran keterangan SP13 \\n\\nbahawa Simati tidak makan dalam tempoh 24 - 48 jam sebelum kematian. \\n\\nMemandangkan Hudfurqan, sebagai adik Simati, individu yang paling \\n\\nhampir dengan Simati kerana hidup dan tinggal bersama-sama Simati \\n\\ndan kedua-dua Perayu, maka adalah penting untuk dia dipanggil memberi \\n\\nketerangan untuk membantu Mahkamah mendapat keterangan mengenai \\n\\nbagaimana kedua-dua Perayu menjaga kebajikan makan-minum, pakai, \\n\\nkesihatan, pendidikan Simati. Peguam Perayu-Perayu juga berhujah \\n\\nbahawa apabila keterangan SP13 dilihat bersama dengan keterangan \\n\\nSP5 yang mengatakan Simati bertubuh gempal dan sihat, ini \\n\\nmenunjukkan tiada pengabaian terhadap Simati. Maka, HMS terkhilaf \\n\\nS/N VgFzKjBpjkKEt28iIb3rTA\\n**Note : Serial number will be used to verify the originality of this document via eFILING portal\\n\\n\\n\\n20 \\n \\n\\nkerana tidak menggunapakai s. 114(g) Akta Keterangan atas kegagalan \\n\\nPihak Pendakwaan memanggil Hudfurqan kerana kegagalan itu \\n\\nmerupakan satu suppression of evidence.   [34] Undang-undang berkaitan pemakaian s. 114(g) Akta Keterangan \\n\\nadalah jelas. Peruntukan ini terpakai tatkala suatu pihak gagal memanggil \\n\\nsaksi yang boleh memberi keterangan yang material dan penting \\n\\nberkaitan isu untuk diputuskan Mahkamah kerana Mahkamah boleh \\n\\nmembuat inferens bahawa kegagalan memanggil saksi memberi \\n\\nketerangan tersebut boleh menggagalkan kes pihak yang tidak \\n\\nmemanggil saksi itu.   [35] Seperti yang telah saya nyatakan awal tadi, apa yang perlu \\n\\ndibuktikan oleh Pihak Pendakwaan adalah: \\n\\n(i) Kedua-dua Perayu merupakan orang yang mempunyai \\n\\npemeliharan terhadap kanak-kanak berkenaan; \\n\\n(ii) Kedua-dua Perayu sendiri yang mengabaikan kanak-kanak \\n\\ntersebut; \\n\\n(iii) Pengabaian yang dilakukan oleh kedua-dua Perayu tersebut \\n\\nadalah pengabaian daripada mendapatkan rawatan perubatan \\n\\ndan pemeliharaan yang mencukupi; \\n\\nS/N VgFzKjBpjkKEt28iIb3rTA\\n**Note : Serial number will be used to verify the originality of this document via eFILING portal\\n\\n\\n\\n21 \\n \\n\\n(iv) Pengabaian sedemikian telah menyebabkan kecederaan fizikal \\n\\nkepada kanak-kanak tersebut   [36] Setelah meneliti fakta kes ini, saya memutuskan dalam kes ini, \\n\\npengabaian yang berlaku bukan semata-mata pengabaian fizikal \\n\\nterhadap Simati. Laporan post mortem oleh SP13 menunjukkan \\n\\npengabaian yang dilakukan dari segi kelewatan mendapatkan rawatan \\n\\nperubatan telah mengakibatkan kecederaan fizikal dalaman yang berlaku \\n\\nterhadap Simati sehingga akhirnya mengakibatkan kematian Simati.   [37] Mahkamah ini putuskan ketiadaan Hudfurqan memberi keterangan \\n\\ntidak sama sekali memberi kesan kepada kes Pihak Pendakwaan. \\n\\nMahkamah ini juga putuskan ketiadaan keterangan Hudfurqan tidak sama \\n\\nsekali membawa kepada suatu keadaan suppression of evidence yang \\n\\nmenimbulkan ketakadilan kepada kedua-dua Perayu. Maka keputusan \\n\\nHMS untuk tidak memakai s.114(g) terhadap Pendakwaan kerana \\n\\nketiadaan keterangan Hudfurqan adalah betul.   [38] Setelah saya meneliti segala keterangan, Alasan Penghakiman \\n\\nHMS dan meneliti segala dokumen-dokumen dalam RR, saya \\n\\nberpuashati bahawa HMS telah membuat keputusan yang betul semasa \\n\\nmemanggil kedua Perayu membela diri terhadap pertuduhan. Saya juga \\n\\nS/N VgFzKjBpjkKEt28iIb3rTA\\n**Note : Serial number will be used to verify the originality of this document via eFILING portal\\n\\n\\n\\n22 \\n \\n\\ndapati HMS telah meneliti segala keterangan pihak pembelaan dan \\n\\nmembuat keputusan yang betul di akhir kes Pembelaan dan membuat \\n\\ndapatan dan rumusan yang betul menurut undang-undang semasa \\n\\nmensabitkan kedua-dua Perayu dengan pertuduhan.   [39] Atas alasan itu, rayuan kedua-dua Perayu atas sabitan dan \\n\\nhukuman adalah ditolak   RAYUAN PIHAK PENDAKWAAN   [40] Seperti yang telah Mahkamah ini rumuskan dalam perenggan di \\n\\natas, pertuduhan terhadap kedua-dua Perayu jatuh dibawah kategori \\n\\npertama yakni mereka dituduh melakukan pengabaian terhadap kanak-\\n\\nkanak tersebut secara sendiri dan bukan menyebabkan orang lain \\n\\nmelakukannya.   [41] Ini bermakna apabila kedua-dua Perayu disabitkan dengan \\n\\npertuduhan, maka hukuman hendaklah lebih berat berbanding jika \\n\\nmereka disabitkan dengan pertuduhan bagi kategori kedua.   [42] Parlimen telah meminda hukuman di bawah s. 31(1) dengan \\n\\nmenaikkan jumlah denda dan penjara yang boleh dijatuhkan oleh \\n\\nS/N VgFzKjBpjkKEt28iIb3rTA\\n**Note : Serial number will be used to verify the originality of this document via eFILING portal\\n\\n\\n\\n23 \\n \\n\\nMahkamah. RM20,000.00 dipinda kepada RM50,000.00 dan 10 tahun \\n\\ndipinda kepada 20 tahun.   [43] Setelah meneliti fakta kes dan hujahan kedua-dua pihak mengenai \\n\\nrayuan Pendakwaan, saya memutuskan untuk menaikkan hukuman \\n\\npenjara yang diperintahkan oleh HMS dari 8 tahun kepada 10 tahun. \\n\\nMemandangkan kedua-dua Perayu dibebaskan dengan jaminan selepas \\n\\npermohonan mereka untuk hukuman digantung sehingga selesai rayuan \\n\\ndi hadapan Mahkamah ini dibenarkan oleh HMS, maka Mahkamah ini \\n\\nmemerintahkan supaya hukuman penjara terhadap kedua-dua Perayu \\n\\nadalah bermula dari tarikh hukuman oleh Mahkamah ini dijatuhkan. \\n\\nPerintah-perintah lain yang diperintahkan oleh HMS adalah dikekalkan. \\n\\nRayuan Pendakwaan adalah dibenarkan.   Bertarikh pada : 08 Februari 2024   -signed- \\n\\n (MOHD RADZI BIN HARUN) \\n\\nHakim \\n\\nMahkamah Tinggi Malaya   S/N VgFzKjBpjkKEt28iIb3rTA\\n**Note : Serial number will be used to verify the originality of this document via eFILING portal\\n\\n\\n\\n24 \\n \\n\\nPIHAK-PIHAK :  \\n\\nPeguam Perayu-Perayu: \\n\\nDato’ Zaharman bin Zainal Abidin \\n\\nTetuan Fatin & Zaharman \\n\\nNo. A-5 Tingkat 2, Lorong Tun Ismail 9  \\n\\n25000 Kuantan, Pahang Darul Makmur   Pendakwa Raya/Responden: \\n\\nPuan Ain Fadilla binti Md Ali bersama Puan Haryati binti Abdullah \\n\\nTimbalan Pendakwa Raya \\n\\nPejabat Timbalan Pendakwa Raya Pahang  \\n\\nNo. 402, Tingkat 4, Mahkota Square Jalan Mahkota  \\n\\n25000 Kuantan Pahang Darul Makmur \\n\\nS/N VgFzKjBpjkKEt28iIb3rTA\\n**Note : Serial number will be used to verify the originality of this document via eFILING portal09/02/2024 15:21:14\\n\\nBA-42S-24-12/2022 Kand. 27\\n\\nS/N dlDNTP2kA0G4zlCBUDSurw\\n**Note : Serial number will be used to verify the originality of this document via eFILING portal\\n\\n\\n\\nS/N dlDNTP2kA0G4zlCBUDSurw\\n**Note : Serial number will be used to verify the originality of this document via eFILING portal\\n\\n\\n\\nS/N dlDNTP2kA0G4zlCBUDSurw\\n**Note : Serial number will be used to verify the originality of this document via eFILING portal\\n\\n\\n\\nS/N dlDNTP2kA0G4zlCBUDSurw\\n**Note : Serial number will be used to verify the originality of this document via eFILING portal\\n\\n\\n\\nS/N dlDNTP2kA0G4zlCBUDSurw\\n**Note : Serial number will be used to verify the originality of this document via eFILING portal\\n\\n\\n\\nS/N dlDNTP2kA0G4zlCBUDSurw\\n**Note : Serial number will be used to verify the originality of this document via eFILING portal\\n\\n\\n\\nS/N dlDNTP2kA0G4zlCBUDSurw\\n**Note : Serial number will be used to verify the originality of this document via eFILING portal\\n\\n\\n\\nS/N dlDNTP2kA0G4zlCBUDSurw\\n**Note : Serial number will be used to verify the originality of this document via eFILING portal\\n\\n\\n\\nS/N dlDNTP2kA0G4zlCBUDSurw\\n**Note : Serial number will be used to verify the originality of this document via eFILING portal\\n\\n\\n\\nS/N dlDNTP2kA0G4zlCBUDSurw\\n**Note : Serial number will be used to verify the originality of this document via eFILING portal\\n\\n\\n\\nS/N dlDNTP2kA0G4zlCBUDSurw\\n**Note : Serial number will be used to verify the originality of this document via eFILING portal\\n\\n\\n\\nS/N dlDNTP2kA0G4zlCBUDSurw\\n**Note : Serial number will be used to verify the originality of this document via eFILING portal\\n\\n\\n\\nS/N dlDNTP2kA0G4zlCBUDSurw\\n**Note : Serial number will be used to verify the originality of this document via eFILING portal\\n\\n\\n\\nS/N dlDNTP2kA0G4zlCBUDSurw\\n**Note : Serial number will be used to verify the originality of this document via eFILING portal\\n\\n\\n\\nS/N dlDNTP2kA0G4zlCBUDSurw\\n**Note : Serial number will be used to verify the originality of this document via eFILING portal\\n\\n\\n\\nS/N dlDNTP2kA0G4zlCBUDSurw\\n**Note : Serial number will be used to verify the originality of this document via eFILING portal\\n\\n\\n\\nS/N dlDNTP2kA0G4zlCBUDSurw\\n**Note : Serial number will be used to verify the originality of this document via eFILING portal\\n\\n\\n\\nS/N dlDNTP2kA0G4zlCBUDSurw\\n**Note : Serial number will be used to verify the originality of this document via eFILING portal\\n\\n\\n\\nS/N dlDNTP2kA0G4zlCBUDSurw\\n**Note : Serial number will be used to verify the originality of this document via eFILING portal\\n\\n\\n\\nS/N dlDNTP2kA0G4zlCBUDSurw\\n**Note : Serial number will be used to verify the originality of this document via eFILING portal\\n\\n\\n\\nS/N dlDNTP2kA0G4zlCBUDSurw\\n**Note : Serial number will be used to verify the originality of this document via eFILING portal\\n\\n\\n\\nS/N dlDNTP2kA0G4zlCBUDSurw\\n**Note : Serial number will be used to verify the originality of this document via eFILING portal\\n\\n\\n\\nS/N dlDNTP2kA0G4zlCBUDSurw\\n**Note : Serial number will be used to verify the originality of this document via eFILING portal\\n\\n\\n\\nS/N dlDNTP2kA0G4zlCBUDSurw\\n**Note : Serial number will be used to verify the originality of this document via eFILING portal\\n\\n\\n\\nS/N dlDNTP2kA0G4zlCBUDSurw\\n**Note : Serial number will be used to verify the originality of this document via eFILING portal\\n\\n\\n\\nS/N dlDNTP2kA0G4zlCBUDSurw\\n**Note : Serial number will be used to verify the originality of this document via eFILING portal\\n\\n\\n  BA—42S—24—12/2022 Kand. 27\\nas/oz/mm ,5 2; 14\\nMAHKAMAH TINGGI MALAVA DI SHAH ALAM\\n\\nDI DALAM NEGERI SELANGOR DARUL EHSAN, MALAYSIA\\nRAVUAN JENAVAH No. BA-42H-33-I2/2022\\n\\nANTARA\\nPENDAKWA RAVA  PERAVU\\nDAN\\nNUR FAYIN NAEILA awn AZMI  RESPDNDEN\\n\\n(No. K/F 98020241345014)\\nRAVUAM SILANG\\nIIIAHKAMAH TINGGI MALAYA DI SHAH ALAM\\n\\nDI DALAM NEGERI SELANGOR DARUL EHSAN. MALAVSIA\\nRAVUAN JENAVAH No. EA-425-24-11/2022\\n\\nANTARA\\nNUR FATIM NAEILA BINTI AZMI  FERAVU\\n(Nu. K/P’ 980202-06-6014)\\nDAN\\nFENDAKWA RAVA  RESPONDEII\\nALASAN PENGHAKIMAN\\n\\nI. PENGENALAN\\n\\nIni adaran mempakan vayuan Timbman Fendakwa Raya (Perayu)\\nterhadap hukumsn (Kandungan 15) den rayuan suang o\\\\eh Ienudun\\n(OKT) jugs larhadap hukuman (Kandungan 22).\\n\\nsw mnnrvzmnsazwcaunsum\\nE\" W; Sum M... M“ be used m wow u. nvwvuﬁlv mm; “Mm. VII mum Wm\\n\\n II. PERTUDUHAN\\nPertuduhan tamadap OKT adalah sepem benkul:\\n\\n‘Bahawa kamu pads e Jun 2021 jam Islam kurang 10.30 pagi,\\nbenempal an bmk um kanakkanak m Babes 3. Ton Chﬂdcare\\nCentre an avenue: Aras Bawah, Bkuk c, Kedlaman Kakllangan\\nHosp\\\\la\\\\ Sevdang. Jaxan Puchong, 43000 KaJang, m dalam Daevah\\nSepang, di dalam Megan Salangor Daml Ehsan. sebagal arena\\nyang mampunyal penlagaan ks acas kanakxanak yang bemama\\nSnﬁa Arm bin\\\\i Muhammad Amman Al~Khair (No, MyKid: moo»\\nm—11au) berumuv 1 lawn a bulan. maapau le\\\\ah mendedahkan\\nkanak—k.anak mu dengan cars mungkm menysbabkan keuederaan\\nﬂzikm lerhadsp kanak-kanak lersebut. Gish yang damikxan, kamu\\ncevah ms\\\\akukan suam kaaavanan dan buleh dmukum di bawah\\nSeksyen 31(1)(a| Akla Kanak-Kanak 2001.\"\\n\\nIII. FAKYA KEs\\n\\n[11 Fans kes adamh sebagaimana dinyalakan di dalam Nasan\\nPengnmnan Hakim Mahkamah Sesysn (nuns; an muka\\nsursl 13 mngga 15, Rskod Rayuan mm I dun jugs pads\\nekslhll F2, Rakod Rayuan Jwlid 3\\nPengadu dw dalam kes wnl mempakan mu kepada mangsa\\nyang bemmur 1 (shun a bulan pada mesa kejadwan dan beliau\\nbanugas sebagal Pegawai Pembatan dw Bahagwan Eumlngi dw\\nHnspilm Ssrdang\\n\\naw aunwzxnnsmcaunsum\\n-ma Sum In-nhnv M“ be used m mm a. nﬂmnnﬂly mm; dun-mm VII mum Wm mu 2 M as   nngan dan dike! n. Peguam menquk kepada kes Tun Svl\\nAbdul Ruhlm Mohd Nnor v. PP [21101] : MLJ I.\\n\\n[33] um damn: kes mvsebul, Paguam msnghujahkan bahawa\\nIevdapal pnnsm yang menyahkan bahawa keadaan dw mans\\nkevarmngan swam sendm mewayarkan sssemang terluduh\\nMu ﬂdak dlmasukkan ke dalam penjara m da\\\\am tempuh yang\\npanjang Kerana Ia akan membawa banyak keburukan\\ndanpada kebaxkan,\\n\\n \\n\\nmama seseumng pesalah mu am\\nmerviadi neruenayah Iegar sﬂepas msnjalani hukuman\\npamara\\n\\n[371 Feguam sekali I391 berhujah dengan merujuk kapada\\nseksyen 3l11)(a) Am Kanak-Kanak‘\\n\\n-Penganiayaan, vengabawan, pembuangan alau vandedahan\\nkanak-kanak\\n\\n31. (1) Marla-mana mang, yang merupakan urang yang\\nmempunyav pernehharaan saeurang kanak-mak-\\n\\n(a) yang msngamayah menganaman‘ membuang atau\\nmandedahkan kanak-kanak nu mu berlmdak\\nsecara cum dengan cars yang mungkln akan\\nmenyebabkannya mengaxamx kecaderaan fzika\\\\\\nalau emusi atau yang rnenyebabkan alau\\nmembenarkanm mamayai, disbaikan, dlhuang\\nalau didedahkan seaamman, alau\\n\\nsw auwwzmnmxwcaunsum\\n  -um Sum ...m.. WW be .15.. m van; M m\\\\g\\\\ruHIy mm; dun-mm VIZ .nuN<: puns! P . u m 25\\n\\n (b) yang mengsmayar nan saga seks kanawkanak nu\\navau yang menyehahkan atau mambenarkannyzi\\ndianlayal sedemikwan.\\nmemkukan suslu kesakahan dan apsbHa msamxkan\\nbuloh dluonua lldnk m chihl liml puluh rihu\\ntlnggll snau mpamarakan semma tampon Iidak\\nmmehmi due p-mm Lahun acau kedua<1uanya.\\'\\n\\n[as] Feguam huiahkan bahawa mat ulama Parnman Malaysia\\nda\\\\am mengguhal undang-undang dan hukuman dw hawah\\nseksysn W adalah bag mjuan mehndungi kanak—kanak den\\njuga hukuman bsrbemuk denda adiﬂah hukuman yang\\nulama‘\\n\\n[391 on yang panama kah mluduh ai bawah seksyen imdanlidak\\npaman me\\\\akukan apa—apa kesalahan jenayah m bawan\\nmanamana undang-undang di Malaysxa.\\n\\n[401 Femenjaraan sa\\\\ama (smpah lapan aavas (15) bulan yang\\ndwksnakan ks alas on merupakan sualu hukuman yang\\nagank beta! bag: slluasx on\\n\\n(411 Hakim Mahkamah Sesyen (elah gage! mampemnmangkan\\nsecara kesemmhan kesamua lakwrrfaklor mmgasi yang\\nre\\\\evan yang memihak kepada Parayu/Respanden apawa\\nlelah memaluhkan hukuman.\\n\\n[42] semasa dmuduh OKT hanyalah beruswa 23 vanun 4 bulan.\\nKami percaya hahama wujud kepenuan unmk mahkamah\\n\\nan auNrPzxAns4x\\\\caunsum\\n  -ma sum ...na.. MU be used m van; ..a an,n.u.y mm; dun-mm wa mum PM Me <2 nu-\\n\\n mempsrumbangkan ksselunman faxcantaktor miligasx yang\\nberplhsk kepada om xermas-man (mar usla muda dan\\nlaktnr-lakmr m gas! yang \\\\am\\n\\n[43] Dawn perkars W Psguam (elah merujuk kepada kes-kes Ru\\nJam: an. Ram: [1155] 1 MLJ 55,- [1955] 1 ms 115,\\nShnnmugnmlhnn VPublic Prosecutor [1957] 1 MLJ 204,-\\nYea Thiam cnyu v Public Prosecutor 11952} 1 MLJ 391\\nha * menuvuukkan bahawa oxr ssbag pesalah muda\\ndengan psnakuan kesa\\\\ehan panama wafer dtbenkan\\nnukuman yang Iehm nngan   [441 Seierusnya damn menghujahkan agar hukuman Iebm ringan\\ndibsnkan kepada om, Feguam mengmuahkan hahawa\\nkecedsraan yang malamx men pihak pengadu adalah udak\\nserius dan ﬂdak mempunyaw kesan yang berlamfan dan\\npamang\\n\\n[45] Dalam Isu Inl Feguam menghwahkan bahawa Laporan\\nFembaian yang dﬂerima tidak menuruukkan kecederaan\\nteruk. um laporun Isngkap psmbalan dtkemukakan hanya\\nLapomn Awal Pemanksaan sedangkan pengadu Ie‘|ah\\nmembawa mangsa unluk rawatan kesihatan G? dUE hospim\\nmasmgrmasmg dw Hospuan Sevdang dan Hospila\\\\ Pengapir\\nUniverswli Pulra Mzﬂaysla pads: 11 06.2021 ﬂan 14.12 2021.\\n\\n[45] Feguam psrcaya bahawa keuedensan yang amam. oleh\\npengadu mam. Udak senus di mana kecedel-aan Ierssbut\\nmarupakan bruises sahsp dan kscsderaan ssdem n Udak\\n\\n \\n\\nsw auNrPzxAns4x\\\\caunsum\\n  \\'Nnl2 sum ...m.. WW .. used m van; M .m,m.u., mm; dun-mm VII mum W Page 1: M an\\n\\n [47]\\n\\n[45]\\n\\n[49]\\n\\n[50]\\n\\n[51]\\n\\n[521\\n\\nsw auwvvzmnsmcaunsum\\n-um smm ...m.mm be used m mm .. mmuny mm: dun-mm VI] muNG pm\\n\\nmenlnggalkan sebarang parul kekm malah Iwdak jugs\\nmenyehahkan kacacalan anggova badnn terhsdap mangsa.\\n\\nBsrkenaan dengan v-awalan Fslkiatn‘ Peguam hnqahkan\\nbahawa xamapae Ismpah enam (5) bulan se|e\\\\ah keuadlun\\nbarman mangsa mbawa unluk pemeriksaan dun ravmlan.\\n\\nMenuml rekod mangsa hsdnr kall panama ks hopntal psikialn\\naﬂsﬂah hanya pada1A.12.2(l21.\\n\\n0\\\\eh Mu sekivanya benar mangsa menghadapi masalah\\npsikiam my krilikm pasmah mangsa (Blah mbawa mum awav\\nunluk pemenksaan dsn awaken\\n\\nTempah s hulan sebelum rawayan Iurul diperlikax kerana\\nmungkinkah berlaku sesualu yang Iain damn: lsmpoh masa\\nlersebul sehmgga menyebabkan Vaporan Iersehul memam\\nudaklapal.\\n\\nLew. lanjul Peguam mengmuankan bahawn sepatmnya\\nrawaian mbual di Hospiliﬂ Semang dan bukan m Hnspi1.a\\\\\\nPengajar Unlversm Pulra Mamysxa yang merupakan huspnaw\\nswasta dw bawah keiolaan pihak Universih Pulra Malaysia.\\n\\nPeguam menquk kepada Eksibxl P23, muka suraI49. Rekad\\nRayuan ma 3 [13:13 perenggall 5 yang menyalakan.\\n\\n‘‘5‘ made ciricin Soﬁa mengala asilah a|au isu barman\\nkewewavan Derksmbangan, keeelsruan psrkemhangan samt\\n\\n{nsum develop mental drsorders] dan sehagainya \\'\\n\\n \\n\\nPlus .4 m :-\\n\\n [521 Juslem, kelmuan mangsa rnandapalkan rawalan swa\\\\ aw\\nkﬁmk aamam lsnabulmsmbukllkan mangsa max mengalaml\\nssbarang ksoederaan mama! yang senus.\\n\\n[541 Akhimya Peguam huiahkan bahawa Hakim Mahkamsh\\nSesyen lelah gags! memberi usnimbangan sewayamya\\nlamadap laklor-laklar mmgas. on.\\n\\n[55] Salem faklmusia muda ianu baruswa 23 xamm 4 bman semasa\\nkejauian. on zuga nanya bernendidikan Sijil Kemamran\\nMalaysia 1SKM) sahaja Klni on ndak bekena dan udak\\nmempunya\\\\ psmiapalan (slap setslah dmementikan danpada\\npusai Jagaan kanak-kanak Ievsebul\\n\\n[551 OKT Iidak Dernah memvurlyaw rekod Jenaysh Iampau dan mu\\nadalah kesalahan panama behau. Mempakan anak hangsu\\ndavipada lujuh (7) mang aavmzaramk dan linggal dengan\\nkakak beﬁau Eeﬁau mempunyai seurang bapa, berumur63\\nIahun dan uaak bekena manaksﬂa mu kepada om Ielah\\nmemnggal duma pads 23.5.2022 alubal penyakn kannmg\\n\\nmanis\\n\\n[57] on ssbagaw ssorang anak parempuan yang hemm\\nberkahwm Isiah mengambH langgungjawab unluk\\nmenggantlkan ternpal Ibunya den menjaga ayahnya an\\nkampung, Perak.\\n\\n[53] OKT ﬁdak hernia! mencedarakan mangsa, sudah msal dan\\nbenanyi unmk Iidak mengulangl pemuacan sebegim\\n\\nsw auwwzknasmcaunsum\\n  -ma smm ...m.mm be used m mm .. mmuny mm: dun-mm VI] muNG mm ’W- \\'5 =\\'“\\n\\n [59] Peguam OKT ken-umannya cewan mberikan kesempafan\\nuntuk mumlaﬂkan hujahan vambahan berkenaan dengan\\nyambar-gambar ﬂan rakaman CCTV.\\n\\n[an] um kerana Umiakan acau pemuacan on yang didakwa Ielah\\n\\'mendera\\' ﬂan/alau mexaxuxan perbualan ke1am (cruel\\nksatmervt) fsrhadap mangsa/anak pengadu sepsmmana\\nyang mputuakan olsh Hakim Mahkamah Sesyen ada\\\\ah udak\\nkansxstan ﬂan henepatan yang maria ﬁngkah Iaku OKT d1\\ndalam gambargambar pegurl ocrv lersebul. P161/A-G]\\n\\n[511 Gambar- gambar pagun ccrv Iarsebut hanya memaparkan\\nkeadaan Indwndu-Vndivldu u. dalam gambangamhar tersebm\\nlam: OKT den mangsa yang sanllasa bembah-ubah daﬂ segw\\nkedudukan/posxsx/pelgevaksn mereka dan Iidak ada\\npemuatan penderaan yang dx Vakukan we?‘ on larhadap\\nmangsa.\\n\\n[52] Ianya |angsung lidak mamaparksn sebarang perbuatan\\nberbahaya, bukamah perbualan \\'mendera“ mangsa nan\\nbukanxan punca mama yang menyebahkan dan/alau\\nperbualan yang bmeh memnggalkan kesan nauma/kevakmnn\\nkepada mangsa\\n\\n[63] Pemuacan-psmuaxan berkenaan adalah ndak kunsisten dam\\nsama sekali udak nulan/ndak dapat dlkailkan dengan\\nkwederaan menial (trauma) dan kecederaan ﬁﬂkal\\nsspemmana yang (elah auaporkan ax dalam Eksmhil P12(A—\\n\\nsyn auwwzmnsmcaunsum ,\\n  -um Sum ...n.. wmlxeusedmvamImenv\\\\g\\\\ruHIyM1M5 m.u.m...num puns! “=9 \\'°”\\'\\n\\n Hi dun iuga Laponln Pembalan mangsa (muka swat 47.52,\\nRekod Rayuan mm 3).\\n\\n[54] Seterusnya Feguam on menghulahkan bshawa rakaman\\nccw iailu Eksxbil FZBKA) dan P2B(B) max peman\\ndwserahkan kepada oxr sabalum on msmhual psngakuan\\nsa\\\\ah.\\n\\n[55] lanya hananoangan dengan ssksyen 51A Kanun Tamara\\nJena)/ah\\n\\n[ea] Psguam meruluk kes Data‘ Sari Anwar bin Ibrahim Iwn\\nFnndakwa Rays [201|\\'l] 1 MLJ 579‘ bemubung pemakaian\\nseksyen 51A Kanun Talacara Jena)/ah. Dw dalam kes ml‘\\nYang Arii Hakim Mamkamah Tmggl Kuala Lumpur lelah\\nnuenmen dapalan beﬁau (erhadap kepentingan seksyen am\\nKanun Talacara Jenayah as da\\\\am memaslikan keaduan\\nKepada semua pnhak\\n\\n[67] Eksrbm 923(5) amanan pemlng bagx\\nmsmbuklukan prima fauis case yang mann dckumen nu\\n\\n \\n\\nak pendakwaan untuk\\n\\nmempakan lakta yang menyebelahi pmnk pendakwaan Gan\\nsekiranyn on tidak membuut psngakuan narsaxan dan mgin\\nmsnemskan dengan pammaan. samssﬁnya dckumen\\nlersehul Vain: vniea ccw akan digunakan u\\\\eh pandskws\\ndalam perbwcariirlv\\n\\n[ea] AdsVah lldsk wajar Eksxbit P2815] dilandakan pads nan yang\\nsama on diialuhkan nukuman\\n\\nan aunwzmnmxwcaunsum\\n  -ma sum ...n.. MU be used m van; me an,n.n, MIN; dun-mm vu mum W ‘W W W N\\n\\n [591 Ada\\\\ah dwlegaskan bahawa video cc1\\'v Eksxbxl P28(B) yang\\ndipavcayai sebagax om adalah di akuv setakal kehamran\\nom dw damn video wrssbul. Wabubagaxmanapun om\\nmenaﬁkan bahawalerdapatpemua|an—perbua1an pendenaan\\nsecara singkat a|au berparuangan yang di lukukan olsh pihak\\nOKT terhadap mangsa\\n\\n[70] oven in secara ksswmpulannya Peguam menghujahkan\\nbahawa alas faktor-laktar an ass, Sena kecederaan yang\\nHdak kelara‘ lerdapamya kelengahan sehingga enam (5)\\nhman unluk vawalan psmam meruyu agur hukuman (erhadap\\non mkevepikan aluu sekuanya ak mbsnarkan‘ on\\nmsmohon hukumsn berbenluk denda lidak max\\njamman sebanyak RM 1o,oun.uu   wang\\n\\nVI. DAPATAII MAHKAMAH\\n\\n[71] Mahkamah um sekalx Vagi merujuk kepada Pensyen Rayuan\\nbagt keduadua kss. yang neran mvaivkan m da\\\\am Rakod\\nRayuan Tambahan, liada mama-mana pmak mambang\\nisu berksnaan dervgan ssnuan yang mkanakan ke atas OKT\\n\\n \\n\\nan\\n\\n[72] one\\ndenuan sabwan dapal dibangkilkan a. dalam rayuan Ra vm   sek \\' agv mtagaskan bahawa Mada isu berksnaan\\n\\nAlasan Panghaklman mi akan nanya merujuk kepada raynan\\nmmauap hukuman sahaﬁ.\\n\\n[73] Rwukan kepada asksyen 305 Kanun Talacara Jenayah\\nadalah sepem berikut:\\n\\nsw auwwzmnmxwcaunsum\\n  -um Sum ...m.. WW be .15.. m van; M m\\\\g\\\\ruHIy mm; dun-mm VIZ mum puns! Fun ‘I M 2|\\n\\n ‘When plea of guuty lwmned ngm of appsaV\\n\\nWhen an accused has pleaded guilly and been eonmea by\\na Magistrate that men, there shaH be appeal m<oep\\\\ as to me\\nexfenl Of Iegewy ol the sentence \"\\n\\nU4] Merujuk Kepada ks: Rex v. Bull 35 Cr. Ann R. 134:\\n\\nvn me ﬁrs! place, we Court does nez after e sentence\\nwhich is me subject of en appeal merely because one\\nmembers of the Couﬂ might have passed 8 drffslsnr\\nsentence The ma] judge has seen me pnsonev and\\nheard ms hisfury and any wrtnssaes m character he may\\nneve enesen to ca//. me only when e senzenee appears\\nerr In principle [hat (his Court will alter if [M sentence ls\\nexcessive orilv adsquala to such an extent as lo sausly\\nwe Court that when n was passed mere was e reume Iv\\napp/y me ngm prmcip/ss, men Ilws com will intervene.\\n/n ueerarng me sppmplfals sentence e cum should\\nalways be guided by cellam considerations The ﬁrs!\\nand Iorsmosf rs me pub/M: mlsmsr.‘\\n\\n:75} Ss|emsnya dalam msnenlukan suatu nukumen, pnnsip an\\ndalam kas PP v. Loo Chuun Fall [1919] 2 IIILJ 25¢ ada!ah\\nditeliu seWni bsrikul.\\n\\nWham Hashim veop sam\\'./ (es mi men was) was ofma\\nView mar (‘Presidents and Magistrates are onen\\ninclined quite naturally to be avez—sympameo\\'c to ma\\n\\nsyn annrvzxansmcaunsum\\n% \"Nara Snr1n\\\\n:uhnrw\\\\HI>e used m van; .. en,n.n, mums m.n.n vu mum Wm! Far I m N\\n\\n accused. This re a normal psyehelogrealraactien to the\\nsiluat/an In whlch the lonely accused ls seen leerng an\\narray at witnesses wrth authollry. The mlligarlon\\nauhrnitteu by a eonvretedperson wlll also normally errng\\nup problems of lernlly hardslvlp and the other usual\\nprob/ems plllving. ln such a smratron the courts might\\nperhaps ﬁnd lt mmeult to decide es lo whet sentence\\nshould he imposedso thattne eonvretetlperacn maynal\\nbe lurther burdened wllh addltlollsl hardship. This in my\\nView re a wrong approach. The correct approach ls ta\\nstrike a balance, as lar as possible, between the\\nlnlslssts oflhs public and the rnterests olthe accused’\\n\\n[76] Mahkamah in: nuerutuk kee on La! Kim v. Public\\nProucuter[1w1]:IlI|.l111\\n\\n‘The Court wl//be leilrng in it: duryifir does no! impose\\na deterrent sentence in this case The gulllshmanl must\\nnot only date! the appellants from Damm/ﬂing 5 sfrlular\\noffence in Ms Iumra bill It must also deter nrhsrs from\\ncammilfing such an Uﬁ87IC9....\\n\\n/rl this case thsrsfbrs the punishment has to be\\nsufllclenlly harsh and propanronete [0 the harm done,\\notherwise society will leel that the ptrnrshrnenl ls\\nrnenilestly inadequate. The punishment must also\\nrelleet public dlseppmval cf the crime committed by the\\nappsllanls. see R v Roberts [1992] 1 All ER 60 at 61.‘\\n\\nSW aDm\\'PzhAns4xtcauDsurw\\n% -we e.n.t ...nmn be ts... m van; .. m,n.u., aunts mmn ta mum W Pm \"1 M\"\\n\\n [21 on pula adavan Pembanlu Taaka m‘ Taska Babes 5. Tots\\nchuucare Centre, Aras Bawah. wok c. Kamaman Kaklxangan\\nHospman Serdang, .la\\\\an Puchong, moo Kzuang, Selsngnr.\\n\\n[3] Menurul pengadu, pads 86.2021 baHau |e\\\\ah menghamar\\nanaknya pads jam 7.50 pagn unluk uaga oleh OK7 di (aska\\nl.ersabu|\\n\\n[41 Kemudwannya pads jam 2.50 penang, on Ielah\\nmemaklumkan kepada Fangadu hahawa mangsa lelsh\\nmengaﬂami keeederaan pads pm Vuka dan kedua belah mata\\nd1 hahaglan bawah Iuka serla lebam CKT mamhsnvahu\\npengadu bahawa lsnuduh lidak perasan mengenai Vuka\\nlerszbut dun hanya sedar sslspas mendengar mangsa\\nmenangws.\\n\\n[51 Fakta selsmsnya adalah berkailan dengan usaha Fengadu\\nmendzpalkan dun menonlon rakaman CCTV \\'da|am tasks\\nberkenaan. Melalul raksman cow yang dmanda sebsgsu\\nEksvbil P1415), pengadu memiapau bahawa anaknya (srah\\ndwpsrlakukan dengan kasar dan ganas.\\n\\n[5] Lanju|an an nu, pengadu lelah membawa mangsa ke\\nBshagian Kecamasan, Haspilm Serdang pm 9 D6.2D21‘]am\\n1 JD pagi\\n\\nm Rujuk Eksxhit FZD mu Laporan Perubatan dan Hnspxtal\\nSerdang, m muka Surat ea Rekud Rayuan Jana 3, mm: yang\\n\\nsw auwwzmnmxwcaunsum\\n-um Sum ...m.. WW be used m mm u. nvwhuﬂlli mm; dun-mm VI] muNG mm m. x m 2.\\n\\n U7] D1 detanu kes R V. Hamil: [law] 1 All ER 541 tellen\\ndipuluskan hahawa:\\n\\n‘Courts should always bsar tn rnlnd lnat mmlnal\\nsentences were in almost every case tnlenae-1 to protect\\nthe pub/t\\'c, whether by punishing me alrender or\\nreion-mng turn, 01 by deterring mm and utllers, or by all\\nof mass lnlngs Comte cannnt and should rm! be\\ntmmmdlul L7! the important public mmenslen of mnunal\\nsentencing and the lntponenee of mamlslnlrlg putzlls\\ncunﬁdence lrl lne sentenclng system.‘\\n\\nma] Manakala berkenaan dengan bidang kuasa rayuan, pnnsip\\nkas H: v. Llnu Len Ho. [2015] 4 cu m‘ dlpuluskan\\nbahawa:\\n\\nThe appellate calm can and will inlerfevs In tne\\nsentence imposed by me lows! caun mt ls satlsﬁsd met\\nany anne fc//owmg Iour gmunds are made out.\\n\\n(5) The sentenarng [udgs had made a wrong declston\\nes to me proper faclualbasls for tne sentence.\\n\\n(DJ There had been an em)! on me pen DI the trial\\n/udgs tn appnactaflng the material facts placed\\nbefore film.’\\n\\n(0) The sentence was wrong ln prlnclple; ov\\n\\nla) The sentence lmposed was manrieslly excessne or\\nlnat1aquala.\\'\\n\\nan auNrP2kAns4xtcaunsum\\nﬂ ‘Nata smut ...n.Mn be ts... m van; .. .n,nn., mt. dun-mnl VII mum W F‘-we 11 at 1-\\n\\n V9] Mahkamah mi merujuk kapada Alasan Psnghakiman cleh\\nHakim Mahkamah Sesyen an muka suraI11 mngga as. Rekcd\\nRayuan Jmd 1 dan berseluju (emadap a\\\\asan-a\\\\assn\\nmbenkan hukuman yang amenkan ke alas on.\\n\\n[an] Di aawam msmbual kapulusan lamadap hukuman, Hakim\\nMahkamah sesyen |e\\\\ah memmbang semua Vaklur\\nIarrnasuklah memaluhi kehandak undsngmndang,\\nkspenhngan awam, pangakuan bersalah on lak\\\\or—Vakwr\\nmmgasi dan mjukan lemadap beherapa kes yang bersamaan\\n\\n[s11 seam asasnya rzryuan lerhadap hukuman yang amujanxan\\nMeh on ada\\\\ah kersna saksyen yang dxperluduhkan\\nIerhadap om hdak mewajlbkan hukuman penjara sebahknya\\nmembenarkan hukuman denda dwkenakzn,\\n\\n[32] Dalam isu mi adaksh bermakna hukuman yang le\\\\ah\\ndvkenakan kn alas OKT ada\\\\ah salah Ruwk kepada seksyan\\n1730:) Kamm Tatacava Jenayah (Akla 59311\\n\\n-(17) Jika |enuduh mengsku sa\\\\ah alas penuduhan nu, sama\\nada da\\\\am bentuk asamya acau yang dipinda‘ akuan mu\\nhendaldah dwrekndkan dan ma blﬂeh disabxlkan atasnya dan\\nMahkamah hendaklah menialuhkan hukuman menwkul\\nundang-Imdang:\"\\n\\n[931 Berdasarkan seks‘/en :11(1)Ia)A1<1a Kanak-Kanak, hukuman\\nyang bmeh dqaluhkan |emadap on ada\\\\ah ‘.apab\\'1\\\\a\\nmsahllkan ho\\\\sh didemia lldak mevehmu hma puluh nbu ringgn\\n\\nsw anNrPzxAns4x1caunsum\\n  -ma 5.11.1 ...m.. WW be .15.. m mm 1.. nﬂmnnﬂly mm; dun-mm VI] muNG pm >=a- 12 0\\' 1-\\n\\n atau dxpemarakan sslama Iempuh «ask mslebmi dua punm\\nvahun alau keduaduanya ~\\n\\n[941 Sebagalmsna dmyalakan pads perenggan 22 Nasan\\nPenghaldman Hakim Mahkamah Sesyen, di muka sum la\\n.mia 1. Rakud Rayuan yang Ialah menuuk kepada kes Lolllln\\nBusmun v Public Pro-acueor man: 5 mm 211, ‘alas\\nbahswa spams uaaanya hukuman mandalnu dmyalakan.\\nhaknm mempunyaw bud! mam unmk mengenakan hukuman\\nyang bersesuaxan dengan kesawanan dam on\\n\\n[as] (Nah nu, Mahkamah mi bersemu Ham Mahkamah Sesyen\\nuaak me\\\\akukan kasawahan apanua mengenakan hukuman\\npenjara ﬂan bukan hukuman denda lerhadau DKT\\n\\n[35] Hukuman Denjara yang dikenakan a\\\\eh Hskxm Mahkamah\\nsesyen sexexan behau menimbangkan Kesalahan yang\\nanakukan alsh om, kepenlmgan awam dan lakwr-faklcr\\nmiﬁgasi.\\n\\n[an Hakxm Mahkamah Sesyen telah menuhs berkenaan dengan\\nperkara mi secara kcmprehenswfpada muka sure! 19 Mnpga\\n35\\n\\n[aa] Mahkamah mu lurm meneliti Iemadap lakmr mmgasi\\n\\nkepenlmgan awam dalam memuuusm unruk mengekalkan\\nhukuman mg dijaluhkan men Hakim Mahkamah Sesyen.\\n\\nsw auwwzmnmxwcaunsum\\n  -um Sum ...m.. WW be used m mm u. nvwhuﬂlli mm; dun-mm VI] muNG pm Pm 15 M1-\\n\\n [as] Mahkamsh mangambu laK|cr»lak|or m\\\\ligas< yang amenxan\\nmsh OKT bshawa hsﬁau adalah hanya bemmur hanya 23\\nvamm A bman semasa kejaman, berkamlusan sm. snak\\nbnngsu nan sepalulnya membanlu keluarga msncan nafkah\\nkerani masmah xasmanan hapanya. Vbunya Ielah meninggal\\nduma dsn beﬂau lsrpaksa bemndak mamaga bapanya\\nSelspas kejadwan beﬁau aikanaxan sudah musk bekena\\n\\n[901 Pm mass sama Mahkamah peﬂu mmangi dengan\\nkepenlmgan swam. CKT hukan sahaja Iemba| dl GHVEVVI kes\\nyang meunatkan saurang kanak-kanak yang hanya beruswa 1\\nIahun a buhan mam-an behau benugas dx puss! 1agaan yang\\ndiamanahkan untuk msmaslikan Jagaan temam bagl anak\\nIerssbul.\\n\\n[911 Ka,aman sepeni . karap berlsku den masysrakal panu\\ndituniukkan pengajaran peﬂakuan ganas aana pangabauan\\noamaaap kanak-kanak sdalah suam yang |idak bavk dan perlu\\ndxkenakan lmdakan tsgas bukan setakal pembayaran denda\\nsahala.\\n\\n[92] Melahn r-akaman ccw .1. Exam 1223(5) menuniukkan\\npsﬂakuan on msmukul sarla menghempas mangsa ke\\nIamav dan wenya aaavan salu tindakan yang max wajar\\nIarhadap mangsa yang hanya herusna 1 (ahun a bman\\n\\n[93] mm mamnu pemmbangan adalah iaklor kecedevaan\\nIemadap mangsa. Wilaupun geguam on menghujahkan\\nbahawa Mada Keoedsman ﬂzlka1 yang leruk lerhadap\\n\\naw aunwzxansmcaunsum\\n  -ma sum ...ua.. MU be used m van; ..a agm.u., MIN; dun-mm Va nF\\\\uNG W has 1‘ M Z-\\n\\n mangsa‘ «exam ianya masih suam kecedeman Iarhadap\\nsearang kanak»kanak yang mak boksh mevawan\\n\\n[94] Merujuk kepada rskod parubalan psﬂdalri (1iE|s\\\\bitP23 muka\\nxural 51 dan 52. Rekeu Rayuan ma 3. jevas menunjukkan\\ndapaxan nleh Fegawaw Pevubaan bahawa mangsa\\nmenga\\\\amikeua1aman sues pzsca trauma (PTSD) dan wanya\\nmemberi Kesan (erhadap perkembangan kognnif, emosw\\nImgkah laku mangsa Axmamya ihu mangsa sacrang\\nPegawal Perubacan larpaksa bemenli kena unmk\\nlllemaganya bagi menjaganya\\n\\n[951 Peguam menghwahkan bahawa tampon masa sebelum\\nrawaian pmkialri ml auaxukan msnunjukkan hahawa uadanya\\nmasa\\\\ah senus kepaaa mangsa Walau pun Mahkamah Udsk\\nmenjumpax alasan mengapa kewewacan ml Ierjadi, telapw xanya\\npaslilah alas «em: mangsa dan keluarga mu senam daVam\\nmenangani «muma PTSD lsrsebul.\\n\\n[96] In: aapamimmuskan melalui lapor-an Hnsi|a\\\\ Psiklaln Iemshm\\npads Eksmm P23 tsrsebut.\\n\\n \\n\\n[97] Trandlerk keskesmehba|kankesalahandibawahseksyan\\n30(1)(a| Akﬁa Kanak-kanak menuruukkan [rend hukuman\\nyang sam.\\n\\n[93] Eardasarkan kepeda alasan-axasan di mas Mahkaman um\\nmendapam bahawa hukuman yang «swan dhaluhkan ulah\\n\\nsw annvvzxansmcaunsum\\n% Wane s.n.‘...u..Mm.w....nmy....mm,.mm..u.m...num W P -W\"\\n\\n Hakim Eicara adalah adil ﬂan ssumpax yang mana Mahkamah\\nin dak perlu un|uk menguhah penmah Isrsebui\\n\\n[99] Hakim mesa ﬁada malakukan spa-spa krmaman segv (akta\\nﬂan urmang-undang. Huxuman (s\\\\ah dussmlhangkan dengan\\nfakior-lakmr rayuan alsh om dan juga kepevmngan swam\\n\\n[100]Mahkamah wn mengekmkan venmah Hakim Mahkamah\\nSesysn benankh 20.11.2022. O\\\\sh Mu Rayuan Fandakwa\\nRaya (erhadap hukuman dan rayuan sﬂang u¥eh Tenuduh\\nada\\\\ah dmﬂak   Mahkamah Tmggx Jenayih (7) Shah\\nBevlankh  3i \\n\\nPmsk-pmak:\\n\\nPen-ayu/Respam1an—\\nTuan Lnkman bin Kaiim\\n[Pejabac TimbaVan Pendakwa Raya Negen sewangml\\n\\nResponden/Perayu»\\n\\nuik lllohd Faris Synzwan bln hinuuamlnl\\nMohammad Shaﬁq bin Muhammad Laxlm\\n[Tetuan Namrl Mahmud. Fans 5. Nadia]\\n\\nsw auwwzmnmxwcaunsum\\n  -ms Sum In-nhnv WW he used m mm u. nvwhuﬂly mm; dun-mm VII mum pm Pm 1\\' M 2\\'\\n\\n merewel mangsa menyalakan hahawa marlgsa rriengeleirii\\nkeoeoereeri seperli berikul.\\n\\n\"Pemerlksaan Flslkal (Physical Exerriirieiiorri:\\n\\nAlan, pink, ::n< zsees, good pulse volume. warm peripneriee,\\nnot (achypneic\\n\\nUpper limbs. bruises over rigrrr elbow -lerii.\\n\\nLower limbs‘ rrrillrirrie bruises over laileierel iiiigri. aria rigm\\neeil -leiri ska linear eereieh mark over rlgm cheek ~acrii,\\npelacrilae bilateral lower eyelid.“\\n\\nls] selaniuzriya rujuk Lapcrsn Perubeleri Exsloil F21 di mukai\\nsurai M, Rekod Rayuan Jllid 3:\\n\\nMulllple ecers noise.\\n\\n1 2am and Liam linear eoresiori over me riglil cheek.\\n\\n2 Bruise aver irie riglii lower eyelld. radish in colour, size\\naround 2cm.\\n\\n3 Bruise over lelerel aspect cf leﬂ proximal radius, yellow\\ngmanlsh in oolour erio srze 05cm x 0.59m.\\n\\n4 Bruise over leu rriidsriin, yellow greenish iii wioul and\\nsize 1cm x «cm\\n\\n5 Bruise uvsr leii medial Hugh, yellow greenish iri mlour\\nand size zorri x iorri.\\n\\n6 Bmise aver rlgm medial lmgn, yellaw greenish in colour\\nand sIZe< u.5ciri.\\n\\n7 Bruise over right rriidsriin. yellvw greeriieri in colour and\\nsize 1 cm x 0 5cm.\\n\\nSIN aDNl\\'PzlrAns4zlcaul3surw\\n-roe Sunni In-vlhnrwﬂl be used e mm ms nrwlruilly mi. dun-mm via nFluNG rm rue. A 91 ac\\n\\n [0] Pengadu Iurul membual salu Laponan P3115 yang dwandakan\\nssbaga|Eks1hilP3 darn balsh Lﬂrujuk di muka sm-am, Rekod\\nRayuan mm 3.\\n\\n[101 on lslah dwluduh di Mahkamah Sssyen Sepang pads\\n21.05.2021 ﬂan diluduh uz bawah seksyen 3l(1)|a) ma\\nKanak Kanak 2001.\\n\\n[11] Kes \\\\e|aI1 anecapkan unluk kncava pemm kali perlama pads\\n13.07.2021 selslah rsprssamasi on mwlak namun\\ndwangguhkan unluk OKT memiailkan plea bargammg den\\nxamumannya pada 21.09.2022 drmaklumkan hahawa plea\\nbargaining yang dipahnn lelah mxolak\\n\\n(121 Pads wikh mam selamulnya imlu 30112022, on le\\\\ah\\nmengaku salah (erhadap penuduhan dun Halum Mahkamah\\nSesyen telah menarima dan merekodkan uengakuan sa\\\\ah\\non Ruiuk muka swat 17 hingga 22 Rekod Rayuan Jvhd 2.\\n\\n[13] men nu DKT (elah mdapau barsalah ﬂan disabnkan dengan\\nImkuman d1 bawah seksyen 31(1)(a) Akla Kanak-Kanak\\nsspemberikur\\n\\n11) FenjaIa15 bulan davi vankh mun hukum\\n\\n(11) OKT nendakvan sempumakan ban berkelukuan hawk\\ndengan jumhah jamman bemagarsebanyak RM5,0D0,DD\\ndengan ssulang pslqamin h5g1 tempo?! salama dua (2)\\nlahun di bawah seksyen 31(2)(a) Akla Kanak-kanak.\\nLnpar dun d1 Ba|a1PoIis berhamuiran lempat nnggav OKT\\n\\nsw auwwzmnmxwcaunsum\\n10.2 5.11.1 ...m.m11 be used .2 mm 1.. 0011.11-y mm. dun-mm VI] .r1uNG pm Pan: 5 n. is\\n\\n seuap salu hanbulan seﬁap bulan sepamang dua cam\\nfzrsebut se|e\\\\ah sewesav menjalsni hukuman penjara\\n\\n(m) om mxenenaakz melaksanakan Pevimah Kmdmat\\nMasyarakal selama (empeh seratus enam puluh (160)\\n]am agnagat dengen psmanlauan Pegawax Kebapkan\\nMasyarakal dakxm Iempoh enam 16] bman dad lankh\\npenniah se\\\\aras dengan pemmukan as hawah seksyen\\n31(2)(n) Akca Kanak-kanak.\\n\\nW. HUJAHAN PENDAKWA RAVA\\n\\n[14] Rujuk kenada Peusyen Rayuan bag! ksduadua kes. yang\\nwan dwankan an dalam Rekod Rayuan Tambahan‘ (iada\\nmana-mans pmak msnmangknkan wsu berkenaan dsngan\\nsatman yang dikenakan ke alas OKT\\n\\n[15] Rujuk pula kepada Nola Ksterangan a. da\\\\am Rekod Rayuan\\nJﬂld 2 G1 muka sum: 17. OKT telah mengaku sa\\\\ah (erhadap\\npenuduhan yang amacaxan. om iuga telah duersngkan den\\namamxan swan dan aklbat pengakuannya man on masm\\nmengaku salah. on jugs ada rﬂwakﬂi o\\\\eh Peguam semasa\\npengakuan sa\\\\ah Iersanut dan wanya dmuax lanpa syaral.\\n\\nus] Dleh nu ma isu berkanaan dengan sabilan dapat\\ntﬂbangkltkan til dalam myuan kes ink\\n\\n[17] Pmak pendakwaan an dalam Pemsyen Rayuan di muka sursl\\n5 mngga 9, Rakad Rayuan Tambahan menyaxakan aVasan\\nmengapa Timbakln Pendakwa Rays hdak berpuas nan\\n\\nsw auwwzmnmxwcaunsum\\n-um Sum ...m.. WW be used m mm u. nvwhuﬂlli mm; dun-mm VI] muNG Wm! mg u mi\\n\\n dengan kapulusan yang diberikan oien Hakim Mahkamah\\nsesyen\\n\\n[18] Secara nngkasnya, pihsk pendakwaan msnyalakari bahswa\\nhukumen yang diberikan terlampau ringan (mannaauy\\ninadequate) ks atas OKT bagi kesai.-man di bawah seksyen\\n31(I)(a)Akta Kanik-Kanak 2001.\\n\\n[19] Hukuman W dibsrikan Ianpa mengambii Kira gravliti\\nkesaianan sens kekeriapavi beﬂakunya Kesalahan seumpania\\nIN kebeiakangan Ini ﬂan ienamaau mengimbil Kira fnklcr\\npengakuan salah oien on\\n\\n[20] Tlada sabararig special cncunisiances yang boien\\nmenjuslmkasi hukuman-hukuman yang rsndah Isrsebul\\ndiberikan Kepada OKT dan is amallah Udak berpadanan unluk\\nmenjaga kepenlirlgarl awam den menjadi iakmi deterrence\\nsens Dengaiaran kepada on uan aakai pesaian (woi.IId—be\\noffends!) yang lain.\\n\\n[21] Di daiam nuianan raynannya, pihak pendakwaan\\n\\n \\n\\nmerighuiahkan bahawa Hakim Bicara gagai mengambi\\nkessluruhan lakia kes dengan lelill dslam menenmkan\\nhukuman yang 5%suai tevhadap OKT\\n\\n[221 Selemsaya menyaiakan bahawa Akia Kansk-Kanak 2001\\nmen\\n\\n \\n\\nvat kanalvkanak sehagai kunci ksniaupan.\\npembangunan dan kemakmuran masyarakal yang sekahgus\\nmengakui bahawa kanak-kanak men-enukan peninaungan\\npemahharaari ﬂan bariluan khas sslspas kelamnan unluk lurul\\n\\nSIN auNrPzxAns4xicaunsum\\n  -nag a.n.i In-vihnrwm be used M mm a. nﬂﬂinnﬂly MIN: dun-mm y.. arium mm P-w 7 M 26\\n\\n sena dawn ﬂan menyumbang secara posmt ka arah\\nmemhenluk suam masyavakal Ma\\\\ay:As yang unggul.\\n\\n[23] Mangsa adakm kanak-kanak yang herumur 1 (ahun s bman\\nyang mama maslh sangal muda darn (idak msmpunyai apa-\\napa ksupsyaan unluk mehndungw mrinya. Manakala on\\nada\\\\a7I Fambanlu Taska yang sudah devmsa dun\\ndiamanahkan unluk menjaga mangsa\\n\\n[24] Fmak pendakwaan m da\\\\am rayuannya msrujuk kepada\\nmuka sural 5, ma 3 Reknd Rayuan bagi menurwkkan betxpa\\nksiamnya perlakuan OKT Ierhadap mangsa\\n\\n[25] Tmdakan ganas (emadap mangsa yang dihmahkan o\\\\eh\\nPendakwa Raya adalah dengan menemx rakaman CCTV\\nadalah\\n\\nm on (elah menoederakan mangsa dengan kasar sena\\nbenindak ganas dengan Cara menghempas mangaa ks\\nmam, menarik hangan dan menampar peha mangaa.\\n\\n(H) Femsnksaan pemuaxan lemadap mangsa mendapan\\nmangsa msngalalm keuederaan ﬁzlkal yang pelbagaw\\nUapursn perubalan :11 make sure: 37dan 41 Jim 3 Rekod\\nRayuan dimjuk)\\n\\n(HI) Pamanksaan pamnan |smadap mangsa mendapau\\nmangsa mengalami kecekuruan slress pasca trauma dan\\nkeadaan Ierssbul «elm: memberikan kssan bukan hanya\\nkepada psrkembangan sma -aeaual, xogmm dan\\nlmgkahlaku mangsa, ma\\\\ahan ibu bapa dan keluargi Jllga\\nIurul nemesan bwamana ibu mangsa Ierpaksa bemanu\\n\\naw aum\\'PzxAns4x\\\\cauDsum\\n  -ma Sum ...ua.. WW be used m van; me m\\\\g\\\\ruHIy mm; dun-mm VII mum pm Fri: a mu\\n\\n kena ksvana keadaan emusi mangsa yang tidak soabiv\\n(Iaparan perubaxan di muka sure! 44 den 46 Jilid 3 Rekod\\nRayuan mmuk)\\n\\n[25] Mangsa mengaxamu trauma keoewuan suass pasca trauma\\ndan kaadaan terssbul «slan membenkan kesan bukan hanya\\nkepaaa perkembangan emosx, swan, kognmv dan lingkahlaku\\nmangsa\\n\\n[27] Fendakwaan luvu\\\\ barman bahawa pmdaan kepada Akla\\nKanak—KarIak Dada Blwn 2016 dengan menaikkan hukuman\\ndsnda danpada RM2o,ooa.oo ka RM50,000 oo dan (ampoh\\nhukuman pemara duamban daripsda an lahun ke 20 Oahun\\nmsmbayangkan swkap Parhman msmandang beral a|as\\n\\nkesalahan per-deraan Ierhadav kanak—kanak\\n\\n[23] Permakwaan manghxqahkan baharwa salu hukuman banal\\nhams\\\\ah dmenxan agar pengmaran diberikan bukan sav-a;a\\nkevada csnuauh, mamh orang lam supaya Iidak melakukan\\nkesalahan yang sama an masa hadapan\\n\\n[291 Pendakwa Rays memohun supaya hukuman lemadap on\\ndlkelepikan dan mganlikan dangan sa|u hukuman yang Vebih\\nImggn.\\n\\nV. HUJANAN FEGUAM\\n\\n[so] Peguam on L1! da\\\\am hujahannya luml menyatakan bahawa\\nHukuman yang dijatuhkan oleh hakim bicara adalah\\n\\nsw auwwzmnmxwcaunsum\\n-ma Sum ...m.. WW be used m mm ua nvwhuﬂlli mm; dun-mm VI] .nuNG pm Plea u ulzl\\n\\n manrfesr/y excessive dan bmeh mkalakan bsrsﬂat banenman\\nla\\\\ah dlhukum (erhadap Psrayu dan/atau Respondan.\\n\\n[313 Peguam rnenghumhkan bahawa dsngan Jabs :1! dalam\\nseksyen 31mm Ana Kanak-Kanik zoo: lsrsabux. benluk\\nhukumsn yang panama yang ax perunlukkan adalah hukuman\\nberbemuk dends wm ads\\\\ah jslas memmjukkan bahawa\\nkesalahan m bahawa sexsyen mi adamh salu kesalahan yang\\nwen m denda.\\n\\n[32] Hukuman bevbanluk pemara pma adalah merupakan saw\\nwhen apabna dinyalakan sehagai “almf sekiranya hukuman\\npenjara adalah Vebih bersesuawan diksnakan kepada psrayu\\ndanlalau responden d‘ dalam Kes In‘.\\n\\n[33] Dawn wsu ini Peguam OKT ssvarusnya menghujahkan\\nhahswa hukuman Dams:-a jug: bo\\\\eh msyaralkan haIsama-\\nsama hukuman denda seklranya perayu gagal unmk\\nmembayar denda yang akan m kanakan oxen Hakwm\\nMahkamah Sesyen\\n\\n[34] OKT meVa|u7 naslhal yang telah d1 berikan uleh pihﬂk Deguam\\n(shah menukar pengakuan bagi tujuan memudahkan prose:\\ndw Mahkamah Perbuzaraan an Mahkamah ﬂan dengan Nat\\nImluk mermapalkan Sam hukuman berbentuk denda dan OKT\\nbersedxa unluk hukuman denda tersebul\\n\\n[35] Peguam menghmahkan banawa Kepenlmgan seseorang\\nlenuduh dw dalam sesuam kss iuga lidak bo\\\\eh m pindang\\n\\nsw auwvvzmnsmcaunsum\\n-um smm ...m.mm be used m mm .. mmuny mm: dun-mm VI] mum pm m. In mu1 \\n\\nIN THE MAGISTRATES’ COURT AT KUALA LUMPUR \\n\\nIN THE FEDERAL TERRITORY OF KUALA LUMPUR \\n\\nCIVIL SUIT NO..: WA-A71KJ-18-07/2022   BETWEEN   KERAJAAN MALAYSIA   .PLAINTIFF   AND   1. AZEMAN BIN HAIRUDIN \\n\\n[I/C NO.:630125-01-6679]   2. SPANCO SDN BHD \\n\\n[COMPANY NO..172957-U]   .DEFENDANTS   GROUNDS OF JUDGEMENT   A. BACKGROUND OF THE CASE   1. The Plaintiff’s claim arises from a road accident that had occurred along Jalan \\n\\nTun Razak heading from Pusat Bandar towards Jalan Duta on 29.7.2019 at about \\n\\n1.30pm. On the day of the accident, Sergeant Kamaluddin Bin Jalal, was driving the \\n\\nPlaintiff’s vehicle (WPP 4529) while conducting his rounds along Jalan Tun Razak. \\n\\n09/02/2024 09:54:35\\n\\nWA-A71KJ-18-07/2022 Kand. 30\\n\\nS/N v9FsHPfFv0iucBq1xJHPIg\\n**Note : Serial number will be used to verify the originality of this document via eFILING portal\\n\\n\\n\\n 2 \\n\\nThe road was congested with traffic and at one point, Sergeant Kamaluddin had \\n\\nstopped his car behind another car. Suddenly, the Defendant’s car, a Proton Preve \\n\\n(W7066L) came from behind and hit the Plaintiff’s car from the back. Due to this \\n\\ncollision, the Plaintiff’s car was damaged, and the Plaintiff is now claiming for the cost \\n\\nof repairs amounting to RM16,600.00 from the Defendant.   2. After a day of trial and after hearing the submissions from both parties, and on \\n\\nthe balance of probabilities, this Court decided to only allow a portion of the Plaintiff’s \\n\\nclaims with costs of RM2,000.00 to be paid to the Plaintiff.   3. To be specific, this Court finds that the Defendant is to be held 100% liable for \\n\\nnegligently causing the accident, however this Court only allowed a nominal sum of \\n\\nRM10.00 of damages to the Plaintiffs.   4. Not satisfied with this Court’s decision, Plaintiff has now filed a Notice of Appeal \\n\\nagainst this Court’s decision on the issue of quantum (only) on 20.12.2023. Here are \\n\\nthis Court’s grounds of decision on the issue of quantum.   5. At trial, Plaintiff had called a total of 2 witnesses while the Defendant did not \\n\\ncall any witnesses. The list of witnesses is as follows;   Name of Witness Role Label Witness \\n\\nStatement \\n\\nSofiyuddin Bin Zakaria Representative \\n\\nfrom \\n\\nSP1 PSSP1 \\n\\nS/N v9FsHPfFv0iucBq1xJHPIg\\n**Note : Serial number will be used to verify the originality of this document via eFILING portal\\n\\n\\n\\n 3 \\n\\nWorksyop, \\n\\nJabatan Kerja \\n\\nRaya \\n\\nSergeant Kamaluddin Bin Jalal Driver of \\n\\nPlaintiff’s \\n\\nvehicle \\n\\nSP2 PSSP2   B. THIS COURT’S GROUNDS OF DECISION ON THE ISSUE OF QUANTUM   6. Before this Court goes into the basis of this Court’s decision on the issue of \\n\\nquantum, I will briefly state the law with regards to special damages. It is an \\n\\nestablished principle of law where special damages is to be pleaded specifically and \\n\\nproven strictly. Reference is made to the case of Ong Ah Long v Dr S Underwood \\n\\n[1983] 2 MLJ 324 in where the Federal Court Judge, His Lordship Syed Agil Barakbah \\n\\n(as he was then) said as follows : \\n\\n“It is a well-established principle that special damages in contrast to general \\n\\ndamages have to be specifically pleaded and strictly proven. They are \\n\\nrecoverable only where they can be included in the proper measure of damages \\n\\nand are not too remote (see Halsbury’s Laws of England 4th edition, volume 11 \\n\\npage 218 [ara 386). That in our view is the cardinal principle adopted by all \\n\\ncourts both in England and this country. The same principle was adopted by \\n\\nOng Hock Thye, FJ (as he then was) in Yee Hup Transport & Co and Anor v \\n\\nWong Kong [1967] 2 MLJ 93 which was an appeal on quantum of damages. \\n\\nQuoting an excerpt from the judgment of Wilmer LJ in Ilkiw v Samuels [1963] 1 \\n\\nWLR 991; [1963] 2 All ER 879 he held that general damages should not be \\n\\nS/N v9FsHPfFv0iucBq1xJHPIg\\n**Note : Serial number will be used to verify the originality of this document via eFILING portal\\n\\n\\n\\n 4 \\n\\nawarded as though they were special damages properly pleaded and proved. \\n\\nSimiliarly Chong Swee Pian [1980] 1 MLJ 216 applied the principle in Ilkiw v \\n\\nSamuels (supra) that special damages if pleases as in that case could be \\n\\nrecovered. The principle was also adopted by Mohamed Azmi, J (as he then \\n\\nwas) in Sam Wun Hoong v Kader Ibramshah [1981] 1 MLJ 295 in the Federal \\n\\nCourt.  \\n\\nThe reason that special damages have to be specifically pleaded is to comply \\n\\nwith its object which is to crystallise the issue and to enable both parties to \\n\\nprepare for trial (per Edmund Davies, LJ in Domsalla v Barr [1969] 1 WLR 630, \\n\\n635. In special damages claims the exact loss must be pleaded where the \\n\\nprecise amount of item of damages has been become clear before the trial \\n\\neither because it has already occurred and so become crystallised or because \\n\\nit can be measure with complete accuracy (MacGregor on Damages 14th \\n\\nedition page 1012 para 1498). The purpose is to put the defendants on their \\n\\nguard and tell them what they have to meet when the case comes on trial (per \\n\\nCotton, LJ in Phillips v Phillips (1878) 4 QBD 127,139”.  \\n\\n7. Reference is also made to the book Fundamentals of Running Down And \\n\\nPersonal Injury Litigation where the author  Jeyaseelan Anthony, at page 198-200 had \\n\\nlisted the 4 elements that had to be fulfilled in every claim for special damages :   \\n\\n“6.2 SPECIAL DAMAGES  \\n\\n[6.007] Four elements must be satisfied to constitute special damages:  \\n\\n1. It is a damage which is actually suffered before the trial.  \\n\\n2. It is capable of precise quantification.  \\n\\nS/N v9FsHPfFv0iucBq1xJHPIg\\n**Note : Serial number will be used to verify the originality of this document via eFILING portal\\n\\n\\n\\n 5 \\n\\n3. It must be specifically pleaded in the statement of claim.  \\n\\n4. It must be proved either by receipts or some other evidence.”  \\n\\n8. In this instant case, this Court finds that the Plaintiff’s claim for special damages \\n\\ncannot be granted in full due to its non-fulfillment of elements 2 and 4 of the elements \\n\\nstated in the paragraph above.   9. For the element of ‘It must be capable of precise quantification’, reference is \\n\\nmade to the testimony given by Encik Sofiyuddin (SP1) who was holding the post of \\n\\nJurutera Mekanikal Gred J41 at JKR Worksyop Persekutuan at the time the Plaintiff’s \\n\\nvehicle was sent for inspection. SP1 stated that the inspection was carried out by a \\n\\nsubordinate (Pembantu Kemahiran) and that subordinate’s findings is later verified by \\n\\nhimself. SP1 concedes that he personally did not carry out the inspection, however he \\n\\nis able to verify the findings of the inspection as he was present at the location when \\n\\nthe inspection was carried out. Reference is made to his testimony as below:   “DF Encik Sofi, sebelum membuat pengesahan di dokumen di muka surat \\n\\n5, dokumen di muka surat 5 dan 6 di Bundle C, adakah Encik Sofi telah \\n\\nmemeriksa kenderaan tersebut sebelum membuat pengesahan? \\n\\n SP1 Saya menyaksikan pemeriksaan.   1DF Soalan saya adakah Encik Sofi memeriksa kenderaan tersebut sebelum \\n\\nmembuat pengesahan? \\n\\nSP1 TIdak   S/N v9FsHPfFv0iucBq1xJHPIg\\n**Note : Serial number will be used to verify the originality of this document via eFILING portal\\n\\n\\n\\n 6 \\n\\nDF Setuju dengan saya, Encik Sofi mengesahkan anggaran kerosakan \\n\\ntersebut hanyalah berdasarkan penilaian oleh pembantu kemahiran \\n\\ndan juga penolong jurutera? Setuju? \\n\\nSP1 Saya minta ulang. \\n\\nDF Encik Sofi mengesahkan anggaran kerosakan tersebut hanyalah \\n\\nberdasarkan penilaian oleh pembantu kemahiran dan juga penolong \\n\\njurutera? \\n\\nSP1 Ya, saya. “ \\n\\n \\n10. In gist, it was another individual who had carried out the inspection and \\n\\nprepared a report listing the damages, SP1’s task was only to verify it. Based on his \\n\\nverification, a total of 26 damaged parts needed to be repaired or replaced on the \\n\\nPlaintiff’s vehicle. The estimated cost of repairs assessed by SP1 amounted to \\n\\nRM16,600.00. \\n\\n \\n11. Based on this Court’s assessment of SP1’s testimony and documents tendered \\n\\nthrough him, this Court finds that basis which SP1 used to assess the cost of damages \\n\\nis unclear/unexplained. As stated above, SP1 did not personally carry out the \\n\\ninspection, he merely verified the findings. SP1 stated that there were pictures taken \\n\\nto show proof of the damages listed, but after the defence counsel showed him each \\n\\nand every photo, SP1 himself admitted that most of the listed damages cannot be \\n\\nseen / shown in the pictures appended.   12. Next, reference is made to ‘Borang Kerosakan’ (P2, page 6) under ‘Perkara \\n\\nKerosakan’ where SP1 had listed out all 26 items that needed to be repaired or \\n\\nreplaced. For items 1 until 23, it is noted that the items are to be replaced whereas for \\n\\nitems 24 to 26, it is noted that the items could be repaired. However, there is no \\n\\nS/N v9FsHPfFv0iucBq1xJHPIg\\n**Note : Serial number will be used to verify the originality of this document via eFILING portal\\n\\n\\n\\n 7 \\n\\nstatement or notation stating how much each and every item would cost. There is only \\n\\na statement at the bottom of the document stating “Anggaran Tafsiran Pembaikan : \\n\\nRM16,600.00”.   13. When questioned by the Defendant’s counsel as to how he had come up with \\n\\nthe estimation of repairs, SP1 had answered as below: \\n\\n \\n“DF En Sofi saya rujuk Encik Sofi kepada soalan 9 yang menyatakan \\n\\nbagaimanakah anggaran tafsiran pembaikan seperti yang anda \\n\\nnyatakan di dalam Borang Laporan Kerosakan tersebut dibuat? Dan \\n\\nEncik Sofi telah menyatakan telah kenderaan tersebut yang telah \\n\\nmenyatakan telah merujuk kepada data dan rekod yang boleh didapati \\n\\ndi dalam rekod kami untuk melihat julat (“range”) harga bagi setiap \\n\\nbahagian kenderaan. Encik Sofi merujuk kepada rekod apa ya? \\n\\nSP1 Rekod kerosakan untuk kenderaan jenis Proton Waja.”   14. SP1 states that his estimation was made by referring to a ‘record kerosakan’ \\n\\nhowever this record was not tendered or referred to in Court. Furthermore, SP1 also \\n\\noffered no explanation as to how the total amount RM16,600.00 came to be:   “DF Encik Sofi setuju dengan saya anggaran tafsiran pembaikan sebanyak \\n\\nRM16,600. Telah dinyatakan tanpa menyatakan harga setiap perkara \\n\\nkerosakan dengan spesifik? \\n\\nSP1 Setuju.”   S/N v9FsHPfFv0iucBq1xJHPIg\\n**Note : Serial number will be used to verify the originality of this document via eFILING portal\\n\\n\\n\\n 8 \\n\\n15. The action of merely giving a lump sum amount, and to claim that THAT is the \\n\\nestimated cost of repairs is unacceptable. This Court is minded that the nature of an \\n\\nestimation is fluid/flexible as it is subject to changes, however the basis on which the \\n\\nestimation is derived from has to be clear. This Court finds that SP1’s mere oral \\n\\nassertion that the amount was derived from a supposed ‘rekod kerosakan’ is not \\n\\nsufficient to support this claim as SP1 himself is not able to explain what are estimated \\n\\ncost listed for each item listed there.   16. Next, on the element of ‘It must be proved either by receipts or some other \\n\\nevidence’. Looking through the testimonies by both SP1 and SP2, this Court finds that \\n\\nthere is no proof to show that the vehicle has actually been repaired and no proof to \\n\\nshow that if there were repairs done, the cost to repair it was RM16,600.00 as claimed \\n\\nby Plaintiff.   17. SP1 confirms that his task was only to inspect and to provide an estimation of \\n\\nthe costs needed to repair the Plaintiff’s vehicle. SP1 also confirms that the actual cost \\n\\nof repair may differ than the estimation which he had provided. An extract of his \\n\\ntestimony is put below for reference: \\n\\n \\n“DF Encik Sofi, oleh kerana JKR hanya memeriksa, dan tidak membaiki. \\n\\nSoalan saya, adakah pihak yang membaiki harus mengikut anggaran \\n\\nJKR? \\n\\nSP1 Tidak \\n\\nDF Jawapan Encik Sofi tidak? \\n\\nSP1 Tidak  \\n\\nDF Encik telah nyatakan bahawa pihak Jawapan Encik tidak? \\n\\nS/N v9FsHPfFv0iucBq1xJHPIg\\n**Note : Serial number will be used to verify the originality of this document via eFILING portal\\n\\n\\n\\n 9 \\n\\nSP1 Tidak \\n\\nDF Encik Sofi, Encik Sofi telah nyatakan pihak pembaiki tidak perlu julat \\n\\nharga yang telah ditetapkan oleh JKR. Oleh itu, mungkin tak apabila \\n\\nkenderaan tersebut dibaiki, harga pembaikan sebenar berbeza dengan \\n\\njulat harga JKR? \\n\\nSP1 Mungkin \\n\\nDF Jadi Encik Sofi setuju dengan saya, pemeriksaan dan anggaran tafsiran \\n\\ndari JKR mungkin berbeza dengan kos pembaikan yang sebenar? \\n\\nSP1 Ya \\n\\n... \\n\\nDF Encik Sofi setuju dengan saya RM16,600.00 ini adalah angka bagi \\n\\nanggaran tafsiran pembaikan dan bukan kos pembaikan kereta tersebut. \\n\\nSP1 Setuju \\n\\n.. \\n\\nDF Encik Sofi, soalan terakhir saya lah kepada Encik Sofi. Anggaran \\n\\nsebanyak RM16,600.00 ini bukanlah resit pembaikan tetapi hanyalah \\n\\nanggaran tafsiran pembaikan, betul? \\n\\nSP1 Setuju.”   18. Based on the extract above, it is clear to this Court that SP1 was not able to \\n\\nprovide information whether or not the actual cost of repairs tallies with the amount \\n\\nestimated by JKR.   19. Another important point that needs to be taken into account is that the Plaintiff \\n\\nhad failed to show that the vehicle had indeed been repaired. Both SP1 dan SP2 was \\n\\nS/N v9FsHPfFv0iucBq1xJHPIg\\n**Note : Serial number will be used to verify the originality of this document via eFILING portal\\n\\n\\n\\n 10 \\n\\nnot involved in the reparation of the vehicle and could not confirm to the Court whether \\n\\nor nor the vehicle has been repaired. An extract of the relevant testimony from SP1 is \\n\\nas below :   “DF Encik Sofi telah mengesahkan Borang Laporan Kerosakan pada muka \\n\\nsurat 5 tersebut pada 19.7.2017, setuju? \\n\\nSP1 Setuju \\n\\nDF Adakah itu tarikh terakhir Encik Sofi melihat kenderaan tersebut? \\n\\nSP1 Ya  \\n\\nDF Saya nyatakan kepada Encik Sofi bahawa setelah Encik Sofi sahkan \\n\\nBorang Laporan Kerosakan dan juga anggaran tafsiran tersebut, Encik \\n\\nSofi tidak lagi mempunyai pengetahuan tentang kenderaan tersebut, \\n\\nsetuju? \\n\\nSP1 Pengetahuan mengenai kenderaan tersebut sama ada dibaiki ataupun \\n\\ntidak? \\n\\nDF Ya. Maksudnya Encik Sofi tidak mempunyai pengetahuan selepas Encik \\n\\nSofi sahkan? \\n\\nSP1 Sama ada kenderaan tersebut dibaiki atau tidak? \\n\\nDF Ya \\n\\nSP1 Ya, saya tak ada pengetahuan.”   20. Whereas, the relevant extract from SP2’s testimony is as below:   “DF Sarjan selepas kemalangan tersebut, adakah Sarjan masih \\n\\nmenggunakan kenderaan tersebut ataupun tidak? \\n\\nS/N v9FsHPfFv0iucBq1xJHPIg\\n**Note : Serial number will be used to verify the originality of this document via eFILING portal\\n\\n\\n\\n 11 \\n\\nSP2 Selepas kemalangan itu, kenderaan itu saya tidak gunakan lagi dan saya \\n\\nserahkan kepada pihak PDRM untuk dibaiki. \\n\\nDF Maksudnya selepas daripada kemalangan tersebut, Sarjan \\n\\nmenggunakan kenderaan lainlah semasa bertugas? \\n\\nSP2 Ya \\n\\nDF Sarjan boleh sahkan yang sehingga hari ini Sarjan selepas kemalangan \\n\\ntersebut, memang Sarjan tidak ada guna langsung kenderaan tersebut? \\n\\nSP2 Tidak ada langsung saya gunakan kenderaan tersebut.”   21. Based on the two testimonies above, this Court finds that there is no sufficient \\n\\nproof to support whether or not the Plaintiff’s vehicle has been repaired.   22. Taking into account all of the issues stated above, the main point that remains \\n\\na mystery to this Court is what repair works that had been carried out, and whether \\n\\nthe repair works or cost of spare parts that were used in the repair works are \\n\\nreasonable and had been carried out to the tee. No evidence or testimonies were \\n\\nadduced by Plaintiff that could elucidate on this matter. The two witnesses that HAD \\n\\nbeen called could only, at best, give evidence that there were damages to the Plaintiff’s \\n\\nvehicle and there is an estimation on how much the repairs were going to cost. The \\n\\nquestion of whether or not the recommended repair works were reasonable and \\n\\nwhether or not the repair works were actually carried out is left unanswered. Therefore, \\n\\nthis Court is unable to grant the special damages as pleaded by the Plaintiff.   23. Nevertheless putting aside the failure of the Plaintiff to sufficiently prove their \\n\\nclaim for special damages, considering the fact that this Court had found the \\n\\nS/N v9FsHPfFv0iucBq1xJHPIg\\n**Note : Serial number will be used to verify the originality of this document via eFILING portal\\n\\n\\n\\n 12 \\n\\nDefendants wholly liable for negligently causing the accident, this Court grants a sum \\n\\nRM10.00 as nominal damages for the Plaintiff.   24. Overall on the balance of probabilities, this Court decides to allow only a part \\n\\nof the Plaintiff’s claims with costs of RM2,000.00 to be paid to the Plaintiff.   Case Details \\n\\nMagistrate : Shairil Farhana Binti Ruslan \\n\\nCounsel for Plaintiff : Raveena a/p Mogan, Federal Counsel \\n\\nCounsel for Defendant : Muhammad Alif Lamra, Messrs Gan, Ho &Razlan Hadri. \\n\\nDate of Decision : 8th December 2023 \\n\\nDate of Ground of Decision : 7th February 2024   S/N v9FsHPfFv0iucBq1xJHPIg\\n**Note : Serial number will be used to verify the originality of this document via eFILING portalJUDGMENT   AP/BA-44-103-08/2023 (uo) 1   DALAM MAHKAMAH TINGGI MALAYA DI SHAH ALAM \\n\\nDALAM NEGERI SELANGOR DARUL EHSAN \\n\\nPERMOHONAN JENAYAH NO: BA-44-103-08/2023   BETWEEN   AZHARUZAMAN BIN WAHAB    .APPLICANT \\n\\n[IC No.: 890705-11-5041]   AND   1. TIMBALAN MENTERI DALAM NEGERI, MALAYSIA \\n\\n2. PENGARAH PUSAT PEMULIHAN AKHLAK  \\n\\n BATU GAJAH, PERAK \\n\\n3. KETUA POLIS NEGARA, MALAYSIA  .APPELLANT   JUDGMENT   BACKGROUND OF THE CASE   [ 1 ] The application was heard on the 23rd of January 2024 and this \\n\\ncourt had dismissed the application. The reasons for the dismissal are set \\n\\nout below.   [ 2 ] A detention order dated 24.3.2023 was issued by the Deputy \\n\\nMinister of Home Affairs (“the Deputy Minister”) against the applicant \\n\\n09/02/2024 11:53:47\\n\\nBA-44-103-08/2023 Kand. 24\\n\\nS/N A5z5F72kI0Oz2cqTO/hrLQ\\n**Note : Serial number will be used to verify the originality of this document via eFILING portal\\n\\n\\n\\nJUDGMENT   AP/BA-44-103-08/2023 (uo) 2   under section 6(1) of the Dangerous Drugs (Special Preventive Measures) \\n\\nAct 1985 (“the Act”), ordering that the applicant be detained at Pusat \\n\\nPemulihan Akhlak Batu Gajah, Perak for two (2) years with effect from the \\n\\ndate of the detention order. The applicant applied for a writ of habeas \\n\\ncorpus citing procedural non-compliance with the Act and the Federal \\n\\nConstitution.   THE ISSUES   [ 3 ] The applicant’s counsel in his written submission raised three \\n\\nissues viz. -   (i) Procedural non-compliance when the detention order is \\n\\ndefective for contradictions found in the first and second \\n\\nallegations of fact;   (ii) Non-compliance of section 3(2)(c) of the Act by DSP \\n\\nSaravanan a/l Divanantong when he failed to apply his mind \\n\\ncorrectly before allowing the applicant’s detention for \\n\\ninvestigation exceeding 14 days; and   (iii) The detention order is ex-facie defective as one of the drug \\n\\ntrafficking location is non-existent i.e. “di tepi jalan sekitar \\n\\nhadapan Eco-Shop Marketing Sdn Bhd., Batu 3, Kuantan, \\n\\nPahang”.   S/N A5z5F72kI0Oz2cqTO/hrLQ\\n**Note : Serial number will be used to verify the originality of this document via eFILING portal\\n\\n\\n\\nJUDGMENT   AP/BA-44-103-08/2023 (uo) 3   THE LAW ON HABEAS CORPUS APPLICATIONS   [ 4 ] Subsection 11C(1) of the Act allowed judicial review for non-\\n\\ncompliance of any procedural requirement of the Act –   “Judicial review of act or decision of Yang di-Pertuan Agong and \\n\\nMinister  \\n\\n11C. (1) There shall be no judicial review in any court of, and no court \\n\\nshall have or exercise any jurisdiction in respect of, any act done or \\n\\ndecision made by the Yang di-Pertuan Agong or the Minister in the \\n\\nexercise of their discretionary power in accordance with this Act, save \\n\\nin regard to any question on compliance with any procedural \\n\\nrequirement in this Act governing such act or decision.” \\n\\n(emphasis added)   [ 5 ] Various decisions of the Federal Court had strictly applied such \\n\\nprovisions as in the following case of Rovin Joty Kodeeswaran v. \\n\\nLembaga Pencegahan Jenayah & Ors And Other Appeals1 -   “[10] Judicial review on the decision of the tribunals exercising similar \\n\\nfunctions to the Board should not be questioned except on \\n\\nprocedural non-compliance. Such discretion in determining the \\n\\nsubstantive / policy matter by the Board was outside the reach of the \\n\\ncourts.”   [ 6 ] The burden of proving compliance with the law and procedures is \\n\\nalways on the Respondents. [see S.K. Tangakaliswaran v Timbalan \\n\\nMenteri Dalam Negeri & Ors.2, Muhammad Jailani Kasim v Timbalan   1 [2021] 4 CLJ 1 \\n2 [2009] 6CLJ 705 \\n\\nS/N A5z5F72kI0Oz2cqTO/hrLQ\\n**Note : Serial number will be used to verify the originality of this document via eFILING portal\\n\\n\\n\\nJUDGMENT   AP/BA-44-103-08/2023 (uo) 4   Menteri Keselamatan Dalam Negeri Malaysia & Ors.3]. A detenu can \\n\\nalso take advantage of any technical imperfections in the action taken by \\n\\nthe detaining authorities. [see Ng Hong Choon v Timbalan Menteri Hal \\n\\nEhwal Dalam Negeri & 1 Lagi SC4].   THE SUBMISSIONS AND FINDING   First issue: The detention order is defective for contradictions in the first \\n\\nand second allegations of fact   [ 7 ] Learned counsel submitted that the detention order is defective, \\n\\nconfusing and prejudicial to the applicant as there are contradictions in \\n\\nthe first and second allegations of fact. The first allegations of fact stated \\n\\nthat the applicant had been involved in drug trafficking activities from end \\n\\nof March 2022 to 12 February 2023 not continuously (secara tidak \\n\\nberterusan). But in the second allegations of fact stated that the \\n\\napplicant’s sale of the drugs was carried out every day (“menjual dadah \\n\\ntersebut dengan kekerapan pada setiap hari”).   [ 8 ] Learned counsel compared the allegations of fact in a detention \\n\\norder as similar to a charge in a criminal trial. As such, the applicant’s \\n\\nrepresentation hearing under Article 151 of the Federal Constitution is \\n\\ndefective which in turn would render the recommendation by the Advisory \\n\\nBoard to the Yang di-Pertuan Agong under subsection 10(1) of the Act \\n\\nalso defective.   3 [2006] 4 CLJ 687] \\n4 [1994] 4 CLJ 47, at p.55]. \\n\\nS/N A5z5F72kI0Oz2cqTO/hrLQ\\n**Note : Serial number will be used to verify the originality of this document via eFILING portal\\n\\n\\n\\nJUDGMENT   AP/BA-44-103-08/2023 (uo) 5   [ 9 ] Learned Senior Federal Counsel (“SFC”) argued that this issue is \\n\\nnot an issue of procedural non-compliance but questioning the exercise \\n\\nof the Deputy Minister’s power in issuing a detention order under section \\n\\n6(1) of the Act. Section 11C(1) of the Act prohibits judicial review of any \\n\\nact done or decision made by the Yang di-Pertuan Agong (“YDPA”) or the \\n\\nMinister in the exercise of their discretionary power in accordance with \\n\\nthis Act.   [ 10 ] It was also submitted that the purpose of the allegations of fact is \\n\\nto enable the applicant to make a representation before the Advisory \\n\\nBoard concerning his detention. The mandatory procedure with regards \\n\\nto the grounds and allegations of fact on which his detention is based on \\n\\nis to furnish the applicant with the same under subsection 9(2) of the Act \\n\\nwhich was duly complied with in this case.   ANALYSIS AND FINDING   [ 11 ] The allegations of fact are reproduced below for a clearer picture \\n\\nof the alleged contradictions –   “PENGATAAN-PENGATAAN FAKTA YANG ATASNYA \\n\\nPERINTAH ITU DIASASKAN -   1.  Bahawa kamu merupakan sebahagian dari \\n\\nsekumpulan besar orang didapati terlibat dengan aktiviti \\n\\npengedaran dadah jenis pil kuda yang mengandungi \\n\\ndadah berbahaya jenis Methamphetamine sejak \\n\\npenghujung bulan Mac 2022 sehingga 12 Februari 2023 \\n\\nS/N A5z5F72kI0Oz2cqTO/hrLQ\\n**Note : Serial number will be used to verify the originality of this document via eFILING portal\\n\\n\\n\\nJUDGMENT   AP/BA-44-103-08/2023 (uo) 6   secara tidak berterusan di sekitar kawasan tepi jalan \\n\\nberhampiran Sekolah Menengah Kebangsaan Seri Damai, \\n\\nKuantan, Pahang, di sekitar kawasan Kampung Seri \\n\\nDamai, Kuantan Pahang, di sekitar kawasan Taman Tas, \\n\\nKuantan, Pahang, di tepi jalan sekitar hadapan rumah \\n\\nberalamat No.252-B, FELDA Sungai Panching Selatan, \\n\\nKuantan, Pahang, di sekitar kawasan belakang Restoran \\n\\nNasi Lemak Zaman, Jalan Kuantan-Gambang, Kuantan, \\n\\nPahang, di tepi jalan sekitar hadapan Eco-Shop Marketing \\n\\nSdn. Bhd., Batu 3, Kuantan, Pahang dan di sekitar \\n\\nkawasan Kampung Tengah, Kuantan, Pahang.   2.  Bahawa kamu merupakan sebahagian dari \\n\\nsekumpulan besar orang didapati menjual dadah jenis Pil \\n\\nKuda yang mengandungi dadah berbahaya jenis \\n\\nMethamphetamine dalam bentuk tongkol (10 peket plastik \\n\\nberisi 200 biji sepeket) dengan harga RM7,000.00 hingga \\n\\nRM8,000.00 setongkol, dalam bentuk peket (5 peket \\n\\nplastik berisi 200 biji sepeket) dengan harga RM3,500.00 \\n\\nhingga RM3,800.00, dalam bentuk peket (3 peket plastik \\n\\nberisi 200 biji sepeket) dengan harga RM2,000.00, dalam \\n\\nbentuk kandang (peket berisi 200 biji) dengan harga \\n\\nRM1,000.00 hingga RM1,200.00 sekandang dan dalam \\n\\nbentuk baris (tiub straw berisi 10 biji) dengan harga \\n\\nRM100.00 sebaris. Bahawa kamu juga mengaku menjual \\n\\nbekalan dadah jenis Pil Kuda yang mengandungi \\n\\ndadah berbahaya jenis Methamphetamine dengan \\n\\nkekerapan setiap hari.  \\n\\nS/N A5z5F72kI0Oz2cqTO/hrLQ\\n**Note : Serial number will be used to verify the originality of this document via eFILING portal\\n\\n\\n\\nJUDGMENT   AP/BA-44-103-08/2023 (uo) 7   3.  Bahawa kamu merupakan sebahagian dari \\n\\nsekumpulan besar orang didapati membeli bekalan dadah \\n\\njenis Pil Kuda yang mengandungi dadah berbahaya jenis \\n\\nMethamphetamine dalam bentuk kandang (peket berisi \\n\\n200 biji) berharga RM700.00 sekandang dan dalam bentuk \\n\\ntiga (3) tongkol (peket berisi 2,000 biji setongkol) berharga \\n\\nRM18,000.00 daripada rakan-rakan sejenayah dan \\n\\nmembuat pembungkusan semula dalam bentuk peket kecil \\n\\npelbagai saiz bagi tujuan pengedaran. Bahawa kamu \\n\\nmengaku membeli bekalan dadah jenis Pil Kuda yang \\n\\nmengandungi dadah berbahaya jenis Methamphetamine \\n\\ndengan kekerapan satu (1) peket hingga tiga (3) kali \\n\\nseminggu bagi tujuan pengedaran kepada rakan-rakan \\n\\nsejenayah.   4. Bahawa kamu merupakan sebahagian dari \\n\\nsekumpulan besar orang didapati mengendalikan aktiviti \\n\\npengedaran dadah jenis Pil Kuda yang mengandungi \\n\\ndadah berbahaya jenis Methamphetamine dengan \\n\\nmerekrut rakan-rakan sejenayah sebagai pengedar dadah \\n\\ndengan membekalkan dadah jenis Pil Kuda yang \\n\\nmengandungi dadah berbahaya jenis Methamphetamine \\n\\ndalam bentuk tongkol (10 peket plastik berisi 200 biji \\n\\nsepeket) dengan harga RM7,000.00 hingga RM8,000.00 \\n\\nsetongkol, dalam bentuk peket (5 peket plastik berisi 200 \\n\\nbiji sepeket) dengan harga RM3,500.00 hingga \\n\\nRM3,800.00, dalam bentuk peket (3 peket plastik berisi \\n\\n200 biji sepeket) dengan harga RM2,000.00, dalam bentuk \\n\\nS/N A5z5F72kI0Oz2cqTO/hrLQ\\n**Note : Serial number will be used to verify the originality of this document via eFILING portal\\n\\n\\n\\nJUDGMENT   AP/BA-44-103-08/2023 (uo) 8   kandang (peket berisi 200 biji) dengan harga RM1,000.00 \\n\\nhingga RM1,200.00 sekandang bagi tujuan pengedaran. \\n\\nBahawa kamu juga didapati mempunyai rakan sejenayah \\n\\nyang berperanan sebagai penjaga stor simpanan dan \\n\\nsebagai penghantar bekalan (runner) dadah jenis Pil Kuda \\n\\nyang mengandungi dadah berbahaya jenis \\n\\nMethamphetamine dengan membayar upah RM500.00 \\n\\nkepada rakan sejenayah berkenaan bagi penghantaran \\n\\nbekalan dadah dalam sehari.” \\n\\n(emphasis added)   [ 12 ] The court finds itself in agreement with learned SFC on this issue. \\n\\nThe issue raised is not a procedural non-compliance issue. The applicant \\n\\nhad been duly served and furnished with a copy of the grounds and \\n\\nallegations of fact together with the detention order as provided under \\n\\nsubsection 9(2) of the Act. The applicant had been given the opportunity \\n\\nto make representation before the Advisory Board. A recommendation \\n\\nwas duly submitted to the YDPA for his approval.   [ 13 ] There is no provision in the Act on how the content of the grounds \\n\\nand allegations of fact should be narrated or then considered by the \\n\\nAdvisory Board. As stated in Lee Kew Sang v Timbalan Menteri Dalam \\n\\nNegeri Malaysia & Ors5 “It is not for the courts to create procedural \\n\\nrequirements because it is not the function of the courts to make law or \\n\\nrules.”   5 [2005] 3 CLJ 914, page 930-931 \\n\\nS/N A5z5F72kI0Oz2cqTO/hrLQ\\n**Note : Serial number will be used to verify the originality of this document via eFILING portal\\n\\n\\n\\nJUDGMENT   AP/BA-44-103-08/2023 (uo) 9   [ 14 ] In any case, the court found no contradictions between the two \\n\\nallegations of fact as each paragraph of the allegations refers to a different \\n\\nactivity and all paragraphs must be read together to have a complete \\n\\npicture of the applicant’s involvement in drug trafficking activities. The first \\n\\nallegation refers to the different areas of the applicant’s drug \\n\\ntrafficking activities in Kuantan, Pahang, not continuously simply means \\n\\ndrug is not trafficked everyday in every area stated. The second allegation \\n\\nspecifically focussed on the sale of drugs in different forms referred to \\n\\nas “tongkol, kandang, peket and baris” priced differently and sold every \\n\\nday without reference to any particular area. The third allegation \\n\\ndetailed how the applicant bought his drug supply and repackaging the \\n\\ndrugs for sale. The fourth allegation laid out how the applicant recruited \\n\\naccomplices for the storage and delivery of the drugs. Read together, no \\n\\nconfusion there, thus the court finds no merit to the first issue.   Second issue: Non-compliance of section 3(2)(c) of the Act by DSP \\n\\nSaravanan a/l Divanantong when he failed to apply his mind correctly \\n\\nbefore allowing the applicant’s detention for investigation exceeding 14 \\n\\ndays.   [ 15 ] It was submitted by learned counsel that the applicant’s case file \\n\\nsubmitted by the Investigation officer Inspector Abang Annuar bin Abang \\n\\nKaderi (“IO/PDRM”) to DSP Saravanan a/l Divanantong (“DSP \\n\\nSaravanan”) was defective and incorrect. Learned counsel based this \\n\\nargument on an incorrect reference to the type of drug that the applicant \\n\\nwas suspected to be trafficking. This can be seen at paragraph 4, line 9 \\n\\nand 10 of DSP Saravanan’s Affidavit (enclosure 12) where he stated the \\n\\nS/N A5z5F72kI0Oz2cqTO/hrLQ\\n**Note : Serial number will be used to verify the originality of this document via eFILING portal\\n\\n\\n\\nJUDGMENT   AP/BA-44-103-08/2023 (uo) 10   type of dangerous drug as ‘Heroin’. In the grounds and allegations of fact \\n\\nthe type of dangerous drug is stated as ‘Methamphetamine’.   [ 16 ] Learned counsel then questioned whether the applicant was \\n\\nactually involved with the trafficking of ‘Heroin’ or ‘Methamphetamine’? \\n\\nConsequently, it was argued that the report made by DSP Saravanan to \\n\\nACP Mohamed Fadzil bin A. Rahman (“ACP Mohamed Fadzil”) which was \\n\\nsubmitted to the Minister under section 3(2)(c) of the Act was also \\n\\ndefective. There was no Affidavit filed by DSP Saravanan to amend the \\n\\nincorrect reference in his Affidavit Jawapan. This shows that DSP \\n\\nSaravanan and ACP Mohamed Fadzil did not use their mind correctly in \\n\\nallowing the continued detention of the applicant.   [ 17 ] On the other hand, learned SFC submitted that the incorrect \\n\\nreference of the drug type was a typing error. Although a correction was \\n\\nnot made by DSP Saravanan, the mistake is not material to the case and \\n\\ndid not prejudice the applicant. The learned SFC relied on the case of Tay \\n\\nLay Beng v Menteri Hal-Ehwal Dalam Negeri & Anor6, PP v Chean \\n\\nHua Sey & Ors7 and Mohd Fazli bin Md Daud v Timbalan Menteri \\n\\nDalam Negeri & 2 Lagi8 as support for his argument.   [ 18 ] It was also argued that the procedural requirement for detaining \\n\\nthe applicant beyond 14 days under section 3(2)(c) of the Act is the \\n\\nreporting of the circumstances of the applicant’s arrest and detention to \\n\\nACP Mohamed Fadzil and to the Minister. This was duly complied with by \\n\\nDSP Saravanan and ACP Mohamed Fadzil. The Minister had   6 [2004] 8 CLJ 674 \\n7 [2008] 9 CLJ 657, para  \\n8 [2022] 1 LNS 913, para 21 \\n\\nS/N A5z5F72kI0Oz2cqTO/hrLQ\\n**Note : Serial number will be used to verify the originality of this document via eFILING portal\\n\\n\\n\\nJUDGMENT   AP/BA-44-103-08/2023 (uo) 11   acknowledged receipt of the report in his Affidavit Jawapan, in paragraph \\n\\n6 (enclosure 5).   ANALYSIS AND FINDING   [ 19 ] Section 3(2)(c) of the Act requires the reporting of the \\n\\ncircumstances of the applicant’s arrest and detention by a a police officer \\n\\nof or above the rank of DSP to the Inspector General of Police (”IGP”) or \\n\\na police officer designated by him to be forwarded forthwith to the Minister. \\n\\nThere is no provision that details what are the circumstances of an \\n\\napplicant’s arrest and detention that must be stated in such report.   [ 20 ] A perusal of the IO/PDRM’s Affidavit (para 6, enclosure 9) shows \\n\\nthat the investigation on the applicant’s involvement in drug trafficking \\n\\nactivities could not be completed within 14 days; as such, a report of the \\n\\ncircumstances of his arrest and detention was made to DSP Saravanan. \\n\\nIn paragraph 5 of DSP Saravanan’s Affidavit (supra), he stated that upon \\n\\nhis perusal of the applicant’s case file, he was satisfied that the \\n\\ninvestigation is yet to be completed and the applicant’s detention should \\n\\nbe extended to more than 14 days. DSP Saravanan then complied with \\n\\nsection 3(2)(c) of the Act by reporting the circumstances of his arrest and \\n\\ndetention to ACP Mohamed Fadzli to be extended to the Minister. The \\n\\nmandatory procedural requirement was duly complied with thus far.   [ 21 ] The court found that the incorrect reference of the type of drug in \\n\\nDSP Saravanan’s Affidavit i.e. Heroin instead of Methamphetamine be it \\n\\na typing error or not is immaterial and not prejudicial to the applicant. At \\n\\nthis stage, the investigation into the applicant’s drug trafficking activities \\n\\nS/N A5z5F72kI0Oz2cqTO/hrLQ\\n**Note : Serial number will be used to verify the originality of this document via eFILING portal\\n\\n\\n\\nJUDGMENT   AP/BA-44-103-08/2023 (uo) 12   with a substantial number of people is not yet complete. The investigation \\n\\nreport by the IO/PDRM under section 3(3) of the Act was only completed \\n\\non 3.3.2023 and sent to the Minister and inquiry officer of the Home \\n\\nMinistry (“IO/KDN”).   [ 22 ] Only upon receipt of both the reports from the IO/PDRM and the \\n\\nIO/KDN under section 5(4) of the Act will the Minister consider the \\n\\nnecessity to issue a detention order against the applicant. The type of \\n\\ndangerous drug stated in the IO/PDRM’s Affidavit Jawapan (para 14, \\n\\nenclosure 9) and the IO/KDN’s Affivadit Jawapan (para 12, enclosure 6) \\n\\nis Methamphetamine. The Minister in turn based his decision to issue a \\n\\ndetention order on these two complete reports and not on the report of \\n\\nACP Mohamed Fadzil and DSP Saravanan’s report. Thus, the type of \\n\\ndangerous drugs stated in the grounds and allegations of fact to the \\n\\ndetention order is consistent with the finding of both the IO/PDRM and \\n\\nIO/KDN. The court finds no merit to this issue.   Third issue: The detention order is ex-facie defective as one of the drug \\n\\ntrafficking location is non-existent i.e. “di tepi jalan, sekitar hadapan Eco-\\n\\nShop Marketing Sdn Bhd., Batu 3, Kuantan, Pahang”.   [ 23 ] In the applicant’s Affidavit Sokongan (enclosure 3), photos of Eco- \\n\\nShops in Pahang sourced from the company’s website were attached as \\n\\n“AH-2”. It was contended that none of the Eco-Shop’s stores in Kuantan \\n\\nshowed an address as stated in the first paragraph of the allegations of \\n\\nfact i.e, Eco-Shop Marketing, Batu 3, Kuantan, Pahang (“the Eco-Shop”). \\n\\nTherefore, learned counsel submitted as the address does not exist, it \\n\\nrenders the detention order ex-facie defective. \\n\\nS/N A5z5F72kI0Oz2cqTO/hrLQ\\n**Note : Serial number will be used to verify the originality of this document via eFILING portal\\n\\n\\n\\nJUDGMENT   AP/BA-44-103-08/2023 (uo) 13   [ 24 ] It was also argued that the IO/PDRM’s reply in his Affidavit \\n\\nJawapan had failed to discharge the Respondent’s burden to answer a \\n\\nspecific issue raised by the applicant. This in turn raised the question of \\n\\nwhether the IO/PDRM had actually visited the place since no proof of the \\n\\nvisit like a photograph of the area was not appended to his Affidavit \\n\\nJawapan to challenge the applicant’s allegation.   [ 25 ] Learned SFC maintained that this issue is also not a procedural \\n\\nnon-compliance issue. As submitted before, the procedure under section \\n\\n9 of the Act is the service and furnishing of the grounds and allegations of \\n\\nfact to the applicant for his representation before the Advisory Board. \\n\\nLearned SFC also argued the fact that the IO/PDRM had actually visited \\n\\nthe place i.e. at the road side, around the front of Eco-Shop Marketing \\n\\nSdn. Bhd, Batu 3, Kuantan, Pahang (para 36 of his Affidavit Jawapan). \\n\\nThe emphasis is on “the road side, around the front of the Eco-Shop” (di \\n\\ntepi jalan, sekitar hadapan Eco-Shop), not the shop itself. On the other \\n\\nhand, the learned counsel had only obtained his information on his search \\n\\nthe company’s website.   ANALYSIS AND FINDING   [ 26 ] The court agrees with learned SFC’s argument that this is another \\n\\nnon-issue of procedural compliance. On closer inspection, it is correct to \\n\\nsay that the emphasis is on the “surrounding area in front of the shop, at \\n\\nthe road side”; not the shop itself. This is consistent with the description \\n\\nof the other areas of drug trafficking activities listed such as “di sekitar \\n\\nkawasan Taman Tas, Kuantan, Pahang, di tepi jalan sekitar hadapan   S/N A5z5F72kI0Oz2cqTO/hrLQ\\n**Note : Serial number will be used to verify the originality of this document via eFILING portal\\n\\n\\n\\nS/N A5z5F72kI0Oz2cqTO/hrLQ\\n**Note : Serial number will be used to verify the originality of this document via eFILING portal\\n\\n\\n\\nS/N A5z5F72kI0Oz2cqTO/hrLQ\\n**Note : Serial number will be used to verify the originality of this document via eFILING portalDALAM MAHKAMAH TINGGI MALAYA DI SHAH ALAM \\n\\nDALAM NEGERI SELANGOR DARUL EHSAN MALAYSIA \\n\\nRAYUAN SIVIL NO: BA-12BNCVC-49-12/2022   ANTARA   HUAT SIANG HARDWARE SDN BHD  \\n\\n(NO. SYARIKAT: 258849-U)   .PERAYU   DAN   AMIR FAEZAL NORZELA & CHONG  \\n\\n(mengamal sebagai satu firma perkongsian)   .RESPONDEN   (Dalam perkara Mahkamah Sesyen di Shah Alam \\n\\nDalam Negeri Selangor Darul Ehsan \\n\\nGuaman Sivil No. BA-B52NCVC-164-07/2020   Antara   Huat Siang Hardware Sdn Bhd  \\n\\n(No. Syarikat: 258849-U)   .Plaintif   Dan   Amir Faezal Norzela & Chong \\n\\n(mengamal sebagai satu firma perkongsian)   .Defendan   Diputuskan oleh Puan Hakim Azian Binti Othman pada 09.12.2022) \\n\\n09/02/2024 09:50:02\\n\\nBA-12BNCvC-49-12/2022 Kand. 26\\n\\nS/N ozZxGWm8tUyjfiGGGSUHCA\\n**Note : Serial number will be used to verify the originality of this document via eFILING portal\\n\\n\\n\\nJUDGMENT   Introduction   [1] Vendors and purchasers of properties place their total trust on the \\n\\nexpertise, advice and acts of their conveyancing lawyers to help them \\n\\ncomplete the tasks of property conveyancing transactions that they are \\n\\ninvolved in. In this regard, the significance of a conveyancing lawyer\\'s role \\n\\nand responsibilities cannot be overstated. The duties and functions \\n\\nundertaken and discharged by those responsible in such property \\n\\nconveying transactions are indeed onerous.   [2] The present suit/appeal before this Court underscores the above \\n\\nobservations and put the spotlight on the professional duties expected of \\n\\nconveyancing lawyers in this country.   The Issues in the Present Suit/Appeal   [3] The overriding issue in the present appeal is whether the learned \\n\\nSessions Court Judge was correct in dismissing the Appellant’s suit \\n\\ninitiated against the Respondent based on professional negligence, \\n\\nmisrepresentation and breach of the terms of appointment for the sum of \\n\\nRM673,000.00.   [4] In determining this prevailing issue, this Court will have to consider \\n\\nwhether a case has been made out against the Respondent for \\n\\nprofessional negligence, misrepresentation and breach of the terms of \\n\\nappointment on a balance of probabilities.   S/N ozZxGWm8tUyjfiGGGSUHCA\\n**Note : Serial number will be used to verify the originality of this document via eFILING portal\\n\\n\\n\\n[5] Foremost is the pivotal issue of whether the Respondent had failed \\n\\nto exercise the standard of care expected of solicitors in the same matter.   The Parties, the Background Facts and the Suit in the Sessions \\n\\nCourt   [6] The Appellant in the present appeal, Huat Siang Hardware Sdn Bhd, \\n\\nwas the Plaintiff in the Sessions Court.   [7] On the other hand, the Respondent in the present appeal, Amir \\n\\nFaezal Norzela & Chong, a legal firm, was the Defendant in the Sessions \\n\\nCourt.   [8] On or around Jun 2018, the Appellant had appointed the \\n\\nRespondent to represent them as its solicitors for the purchase a parcel \\n\\nof freehold land at the purchase price of RM6,600,000.00.   [9] The land in question is registered in the names of 4 individuals, \\n\\nnamely, Mohd Rohim Bin Maskor, Ismail @ Haji Ismail Bin Maskor, Siti \\n\\nRahmah Binti Maskor and Zaiman @ Zainab Binti Maskor.   [10] The Respondent had advised the Appellant that Messrs Malek & \\n\\nAssociates was the vendors’ solicitors.   [11] On 30 July, 2028, in reliance on the Respondent’s advice, the \\n\\nAppellant executed a Sale and Purchase Agreement (the terms of which \\n\\nwere drafted by the Respondent) and the Memorandum of Transfer (that \\n\\nwas prepared by the Respondent).   S/N ozZxGWm8tUyjfiGGGSUHCA\\n**Note : Serial number will be used to verify the originality of this document via eFILING portal\\n\\n\\n\\n[12] On the Vendors’ part, this Sale and Purchase Agreement and \\n\\nMemorandum of Transfer was executed by Mohd Rohim Bin Maskor for \\n\\nhimself and as attorney for Ismail @ Haji Ismail Bin Maskor, Siti Rahmah \\n\\nBinti Maskor and Zaiman @ Zainab Binti Maskor purportedly pursuant to \\n\\na Power of Attorney dated 25 June, 2018.   [13] Although the Power of Attorney was duly registered at the Shah \\n\\nAlam High Court on 25 June, 2018 vide Presentation No. PA10480/18, it \\n\\nwas not registered at the relevant land office notwithstanding that \\n\\nregistration of the Power of Attorney at the land office is mandatory under \\n\\nsection 310 of the National Land Code.   [14] In reliance on the Respondent’s advice as the Appellant’s solicitors, \\n\\nthe Appellant made the following payments to Messrs Malek & \\n\\nAssociates, namely:   1. the sum of RM132,000.00 vide a cheque dated 22 June, 2018 \\n\\nbeing the Earnest Deposit prior to the execution of the Sale \\n\\nand Purchase Agreement; and   2. the sum of RM528,000.00 vide a cheque dated 11 July, 2018 \\n\\nbeing the Balance Deposit upon execution of the said Sale \\n\\nand Purchase Agreement. PA.   Therefore, the total amount paid by the Appellant to Messrs Malek & \\n\\nAssociates was RM660,000.00, being 10% of the Purchase Price of the \\n\\nland in question.   S/N ozZxGWm8tUyjfiGGGSUHCA\\n**Note : Serial number will be used to verify the originality of this document via eFILING portal\\n\\n\\n\\n[15] On or around February 2019, the Respondent informed the \\n\\nAppellant that the Memorandum of Transfer cannot be executed due to \\n\\nthe non-registration of the Power of Attorney at the relevant Land Office. \\n\\nIn order to resolve the matter, the Respondent advised the Appellant to \\n\\n“re-execute” the Sale and Purchase Agreement and the Memorandum of \\n\\nTransfer with the vendors/landowners in their personal capacity, \\n\\ndiscarding the Power of Attorney.   [16]  On 13 March, 2019, in reliance on the Respondent’s advice and \\n\\ninstructions, the Appellant re-executed a new signing page. Thereafter the \\n\\nRespondent removed the existing signing page from the original Sale and \\n\\nPurchase Agreement (which was executed under the Power of Attorney) \\n\\nand replaced it with the newly executed signing page keeping all other \\n\\nterms and conditions therein the same,   [17] The Appellant was also required to sign a new Memorandum of \\n\\nTransfer for the vendors/land owners’ execution in their personal capacity. \\n\\nThe signing of this new Memorandum of Transfer was purportedly \\n\\nwitnessed by one Siti Narida Binti Mohd Nor, Penolong Pentadbir Tanah, \\n\\nPejabat Daerah Tanah Klang.   [18] Sometime in April 2019, the Respondent informed the Appellant that \\n\\nthe Respondent suspected fraud in the land transaction.   [19] The Appellant then instructed the Respondent to demand the return \\n\\nof the Deposit paid to Messrs Malek & Associates together with liquidated \\n\\ndamages pursuant to the terms of the sale and purchase agreement. The \\n\\nAppellant also instructed the Respondent to transfer the file to another \\n\\nfirm of solicitors, Messrs Hisham Yoong – KC Lim.  \\n\\nS/N ozZxGWm8tUyjfiGGGSUHCA\\n**Note : Serial number will be used to verify the originality of this document via eFILING portal\\n\\n\\n\\n[20] Prior to the said transfer, the Respondent demanded payment of the \\n\\nsum of RM13,000.00 being the Respondent’s legal fee for conduct of the \\n\\nLand transaction, which the Appellant paid under protest.   [21] The Appellant claimed that it had thus suffered losses amounting to \\n\\nRM673,000.00 in the above land transaction.   [22] The particulars of the claim by the Appellant against the Respondent \\n\\nbefore the Sessions Court, for negligent and misrepresentation, are as \\n\\nfollows:   (a)  The Respondent had failed to ascertain the credibility and/or \\n\\ntrustworthiness of the vendors’ solicitors;   (b)  The Respondent had failed to discover that the vendors’ \\n\\nsolicitors did not have a valid practising certificate;   (c)  The Respondent had failed to detect signatures on the Letter \\n\\nof Authorisation was different from the signatures on the \\n\\nPower of Attorney and that the Power of Attorney was not \\n\\nregistered with the Land Office; and   (d) The Respondent had failed to obtain a copy of the title to the \\n\\nProperty or certified copies of the vendors’ NRICs.   In addition, the Appellant also alleged breach of the terms of appointment \\n\\nby the Respondent.   S/N ozZxGWm8tUyjfiGGGSUHCA\\n**Note : Serial number will be used to verify the originality of this document via eFILING portal\\n\\n\\n\\n[23] The Respondent’s defences are, inter alia, as follows:   (a) The Appellant had failed to establish a case for professional \\n\\nnegligence, misrepresentation and breach of terms of \\n\\nappointment;   (b) The Appellant’s primary witness (SP-1) had admitted under \\n\\noath that it was the vendors’ solicitors, and not the \\n\\nRespondent, that caused the loss;   (c) if a finding of negligence were made against the Respondent \\n\\n(which the Respondent denied), the actions of the \\n\\nAppellant/purchaser (by expediting on a “bargain deal” and \\n\\nthen pleading ignorance) and its solicitors had broken the \\n\\nchain of causation (novus actus interveniens);   (d) The Appellant ought to have pursued and exhausted all legal \\n\\nremedies against the vendors’ solicitors to recover its loss; \\n\\nand   (e) It was on the Respondent\\'s good advice and due diligence that \\n\\nprevented the Appellant from releasing the partial balance \\n\\npurchase price of RM4.5million to the vendors’ solicitors.   The Decision of the Sessions Court   [24] The reasonings of the learned Sessions Court Judge for dismissing \\n\\nthe claim by the Appellant against the Respondent can be gleaned from \\n\\nS/N ozZxGWm8tUyjfiGGGSUHCA\\n**Note : Serial number will be used to verify the originality of this document via eFILING portal\\n\\n\\n\\nparas [25] – [40] of her Grounds of Judgment. The learned Sessions Court \\n\\nJudge explained as follows:   [25] Dalam kes di hadapan Mahkamah ini, Defendan yang merupakan \\n\\nseorang peguam bela dan peguam cara mempunyai kewajipan \\n\\nberjaga- jaga semasa mengendalikan urusan PJB Tanah kerana \\n\\nPlaintif telah melantik Defendan bagi maksud itu.   [26] Plaintif menyatakan bahawa Defendan telah melakukan suatu \\n\\nkecuaian profesional dalam pengendalian PJB tersebut.   [27] Memandangkan Defendan merupakan seorang peguam bela dan \\n\\npeguam cara, maka, Plaintif hendaklah membuktikan kehendak \\n\\nelemen standard berjaga-jaga bagi membuktikan sama ada \\n\\nseseorang peguam itu telah melakukan suatu kecuaian \\n\\nprofesional.   [28] Merupakan suatu undang-undang yang mantap bahawa untuk \\n\\nmembuktikan kecuaian profesional terhadap seseorang peguam \\n\\nbela dan peguam cara, elemen standard berjaga-jaga yang \\n\\nberikut hendaklah dibuktikan terlebih dahulu -   (a) sama ada Defendan mempunyai kewajipan berjaga-\\n\\njaga terhadap Plaintif;   (b) apakah standard jagaan profesional yang diharapkan \\n\\ndaripada seseorang peguam yang cukup kompeten \\n\\nsemasa mengendalikan transaksi Jual Beli;   (c) sama ada terdapat apa-apa pelanggaran standard \\n\\njagaan profesional; \\n\\nS/N ozZxGWm8tUyjfiGGGSUHCA\\n**Note : Serial number will be used to verify the originality of this document via eFILING portal   (d) sama ada Plaintif telah mengalami apa-apa kerugian \\n\\nakibat daripada pelanggaran langsung standard \\n\\njagaan profesional itu;   [29] Oleh yang demikian, bagi kes di hadapan Mahkamah ini, \\n\\nmemandangkan Defendan merupakan seorang peguam bela dan \\n\\npeguam cara, Plaintif hendaklah membuktikan elemen standard \\n\\nsebagaimana yang dinyatakan dalam perenggan 28.   [30] Mahkamah mendapati bahawa Defendan sebagai seorang \\n\\npeguam bela dan peguam cara telah, dengan cukup kompeten \\n\\nmenjalankan transaksi PJB dengan cukup berhati-hati dengan \\n\\nkewajipan berjaga-jaga.   [31] Hal perkara ini dapat dilihat melalui Pembelaan Defendan yang \\n\\ntelah menerangkan tentang standard jagaan yang telah dilakukan \\n\\noleh Defendan.   [32] Malah, saksi utama Plaintif iaitu Sim Ann Huat [“SP1\"], semasa \\n\\npemeriksaan balas telah mengaku bahawa carian yang dilakukan \\n\\noleh Defendan sememangnya melindungi kepentingan Plaintif \\n\\nsebelum pembayaran Earnet Deposit -   PD Mr. Sim, I just took you through many documents, based on \\n\\nall the documents shown to you, do you agree that before \\n\\nthis 22.6.2018 your lawyer the Defendant had conducted a \\n\\nland search, bankruptcy searches, I showed you the letter of \\n\\nauthorisation signed by the 4 land owners and also the \\n\\nMalaysian Bar Website search. Do you agree?   S/N ozZxGWm8tUyjfiGGGSUHCA\\n**Note : Serial number will be used to verify the originality of this document via eFILING portal\\n\\n\\n\\nSPI I agree.   PD Mr. Sim, do you agree that all of these searches, \\n\\nauthorisation, verifications done by your lawyer Miss Sim \\n\\nwere done to protect the Plaintiff before the earnest deposit \\n\\nwas paid. Agree?   SPI Agree.   PD I therefore put it to you\\' Mr. Sim that the Defendant had taken \\n\\nreasonable and prudent step to protect the Plaintiff\\'s position \\n\\nbefore the earnest deposit was paid to Malek & Associates. \\n\\nAgree?   SP1 Yes.   [33] Malah, saksi pakar Plaintif iaitu Mahendran Shanmuhan \\n\\nSundaram, [“SP2”] juga telah mengaku semasa pemeriksaan \\n\\nbalas bahawa Earnesf Deposit yang dilepaskan adalah \\n\\nmunasabah dalam hal keadaan sedemikian yakni carian telah \\n\\ndilakukan oleh Defendan walaupun dalam tempoh yang singkat \\n\\niaitu 9 hari.   [34] Dengan pengakuan SP1 dan SP2 itu, maka, adalah fakta yang \\n\\ntidak dipertikaikan bahawa sememangnya Defendan telah \\n\\nmelakukan transaksi PJB dengan cukup kompeten dan penuh \\n\\nberhati-hati.   [35] Adakah Plaintif berjaya membuktikan kecuaian profesional \\n\\nterhadap Defendan?   S/N ozZxGWm8tUyjfiGGGSUHCA\\n**Note : Serial number will be used to verify the originality of this document via eFILING portal\\n\\n\\n\\n[36] Mengikut  kes  Shearn  Delamore  &  Co  v  Sadacharmani \\n\\nGovindasamy [2011] 1 MU  486 -   “... .... beban adalah ke atas Plaintif untuk membuktikan standard \\n\\nberhati-hati telah dimungkiri sebelum Defendan dikehendaki \\n\\nuntuk memanggil saksinya untuk mematahkannya. ”   [37] Mahkamah mendapati bahawa Plaintif gagal membuktikan \\n\\nstandard berhati-hati yang dimungkiri oleh Defendan.   [38] Dalam erti kata Iain, Plaintif telah gagal membuktikan kecuaian \\n\\nprofesional terhadap Defendan yang, lantaran itu, tiada apa-apa \\n\\nkerugían dialami oleh Plaintif.   [39] Dalam apa jua keadaan, Mahkamah berpendapat bahawa \\n\\nDefendah telah bertindak mengikut standard pengamal undang-\\n\\nundang yang profesional dan secara munasabah ketika \\n\\nmengendalikan transaksi Jual Beli, dan dalam nasihat Defendan \\n\\nkepada Plaintif tentang pelepasan Earnest Deposit kepada Tetuan \\n\\nM & A.   [40] Mahkamah juga berpendapat bahawa bukan merupakan suatu \\n\\nkecuaian mahupun salahnyataan di pihak Defendan semasa \\n\\ntransaksi Jual Beli itu dikendalikan sehingga menyebabkan Plaintif \\n\\nmengalami kerugían  sebagaimana  didakwa,  TETAPI,  salah  laku  \\n\\noleh Tetuan M & A yang menjadi penyebab utama Plaintif \\n\\nmengalami kerugían.   [25] The learned Sessions Court Judge was satisfied that the Appellant \\n\\nhad failed to establish negligence on the part of the Respondent. The \\n\\nlearned Sessions Court Judge was influenced by the fact that the \\n\\nS/N ozZxGWm8tUyjfiGGGSUHCA\\n**Note : Serial number will be used to verify the originality of this document via eFILING portal\\n\\n\\n\\nRespondent had conducted a land search, bankruptcy searches and \\n\\nhaving letters of authorization signed by the four land owners/vendors in \\n\\ntheir conduct of this conveyancing transaction.   The Decision of this Court   [26] This Court is of the considered view that the facts suggesting that \\n\\nthe Appellant had “instructed” and “directed” the Respondent “to secure \\n\\nthe property as soon as possible” and for “the transaction to be completed \\n\\non an urgent basis” do not absolve the Respondent of the duty owed to \\n\\nthe Appellant. Nor is the fact that the sale of this land was at a bargain \\n\\nprice. These facts have no bearing on the outcome of the central issue \\n\\nunder consideration.   [27] On the crucial issue of whether the Respondent had failed to \\n\\nexercise the standard of care expected of solicitors in the same matter, \\n\\nforemost in the mind of this Court is the following question, that is, having \\n\\nbeen made aware of the intended execution of the Sale and Purchase \\n\\nAgreement using a Power of Attorney, would an attending solicitor be said \\n\\nto have failed to discharge his/her duty of care if the solicitor fails to ensure \\n\\nthat the Power of Attorney be deposited with the relevant land office prior \\n\\nto advising his/her client to execute the Sale and Purchase Agreement, \\n\\nMemorandum of Transfer and to release the balance deposit to the \\n\\nVendor’s solicitors?   [28] In matters involving Sale and Purchase Agreements over \\n\\nimmovable property, where a person claiming to be the Attorney for the \\n\\nvendor(s) utilises a Power of Attorney to execute the Sale and Purchase \\n\\nS/N ozZxGWm8tUyjfiGGGSUHCA\\n**Note : Serial number will be used to verify the originality of this document via eFILING portal\\n\\n\\n\\nAgreement, solicitors engaged to attend to the transaction will be \\n\\nexpected to, inter-alia:   (i) scrutinise the contents of the Power of Attorney to ensure that \\n\\nthe powers conferred therein include the powers of sale, \\n\\ndisposal, execution of all related documents and receipts of \\n\\nproceeds in relation to the subject immovable property;   (ii) ensure that the Power of Attorney has been validly executed \\n\\nin accordance with the Powers of Attorney Act 1949 and duly \\n\\nregistered with the High Court;   (iii) (where the immoveable property has been issued with a \\n\\nseparate document of title), ensure that the Power of Attorney \\n\\nhas been deposited with the relevant land office/land registry \\n\\npursuant to the National Land Code; and   (iv) ensure that the Power of Attorney is still valid, subsisting and \\n\\nhas not been revoked.   [29] As for (iii) above, it is the usual practice for conveyancing lawyers:   (i) to sight a certified true copy of the Power of Attorney (as \\n\\ncertified by the High Court);   (ii) to sight a certified true copy of the identity cards of the \\n\\nAttorney and of the Donor,   S/N ozZxGWm8tUyjfiGGGSUHCA\\n**Note : Serial number will be used to verify the originality of this document via eFILING portal\\n\\n\\n\\n(iii) to state expressly in the Sale and Purchase Agreement the \\n\\nparticulars of the Power of Attorney, including the particulars \\n\\nof the registration with the High Court and the particulars of \\n\\nthe deposit of the Power of Attorney with the land office. These \\n\\nparticulars can be found endorsed on the copy of the Power \\n\\nof Attorney sighted by the solicitors.   [30] In the present case, the Respondent firm failed to ensure that the \\n\\nPower of Attorney has been deposited with the relevant land registry/land \\n\\noffice before execution of the Sale and Purchase Agreement by the \\n\\nPurchaser/Appellant and release of the cheque to Messrs Malek & \\n\\nAssociates. The Respondent ought to be aware that the Power of Attorney \\n\\nmust be deposited with the relevant land registry/land office, for otherwise \\n\\nthe Memorandum of Transfer cannot be registered.   [31] It would be prudent for a solicitor to ensure that the Power of \\n\\nAttorney is first deposited with the relevant land registry/land office before \\n\\nadvising his/her client to execute the Sale and Purchase and pay the \\n\\ndeposit. Depositing the Power of Attorney with the land registry/land office \\n\\nis a quick and simple process of filing the Power of Attorney with the \\n\\nrequisite fees. It will not be unreasonable to expect solicitors acting for a \\n\\npurchaser to insist that this be done before the execution of the Sale and \\n\\nPurchase Agreement and payment of the deposit.   [32] The facts in this case demonstrate the importance of having a Power \\n\\nof Attorney duly deposited with the land office prior to the execution of the \\n\\nSale and Purchase Agreement and the Memorandum of Transfer. This is \\n\\nbecause the land office would in appropriate circumstances be able to \\n\\nS/N ozZxGWm8tUyjfiGGGSUHCA\\n**Note : Serial number will be used to verify the originality of this document via eFILING portal\\n\\n\\n\\ndetect impropriety, raise the necessary alert and avert fraudulent \\n\\ntransactions.   [33] Had the Respondent insisted on the deposit of the Power of Attorney \\n\\nwith the land office, the Respondent would be made aware of the rejection \\n\\nby the land office of the deposit of the Power of Attorney. The Respondent \\n\\nacting reasonably with the alert would be expected to find out the reasons \\n\\nfor the rejection, instead of just agreeing to the re-execution of the Sale \\n\\nand Purchase Agreement and the Memorandum of Transfer. Re-\\n\\nexecuting the SPA by just swapping the signing page without fresh dating \\n\\nthe Sale and Purchase Agreement should not be a practice to be \\n\\ncondoned. Having been alerted of the issue over the Power of Attorney, \\n\\non receipt of the Memorandum of Transfer purportedly executed by the 4 \\n\\nregistered proprietors personally, it would be prudent practice for the \\n\\nRespondent to verify the execution with the person who purportedly \\n\\nattested the execution. If this had been done, the fraud would have been \\n\\ndiscovered and the Appellant would have not have paid the Balance \\n\\nDeposit of RM528,000.00.   [34] The preparation, execution, verification and lodgement of \\n\\nnumerous legal documents are important elements of conveyancing. \\n\\nThese duties extent beyond the conducting of land and bankruptcy \\n\\nsearches.   [35] However, as for the Earnest Deposit of RM132,000.00 which was \\n\\npaid prior to the Respondent being informed of the intended use of the \\n\\nPower of Attorney, it cannot be said that the Respondent had been \\n\\nnegligent.   S/N ozZxGWm8tUyjfiGGGSUHCA\\n**Note : Serial number will be used to verify the originality of this document via eFILING portal\\n\\n\\n\\n[36] The decision of the Sessions Court is hereby set aside.   [37] The Appellant’s claim is allowed, for the amount of RM528,000.00.   [38] The Respondent to pay the Appellant costs of RM20,000.00, subject \\n\\nto allocator.   Dated:  9 February, 2024   sgd \\n\\n[CHOONG YEOW CHOY] \\n\\nJudicial Commissioner \\n\\nHigh Court of Malaya \\n\\nShah Alam   Counsel:   Tee Kuo Ying for the Appellant \\n\\n(Messrs. Hisham Yoong – K C Lim)   Tan Keng Teck with Goh Gin Jhen for the Respondent \\n\\n(Messrs. Lim Kian Leong & Co.) \\n\\nS/N ozZxGWm8tUyjfiGGGSUHCA\\n**Note : Serial number will be used to verify the originality of this document via eFILING portalMicrosoft Word - SINIAH v PTD CAMERON HIGHLANDS\\n\\n\\n1 \\n \\n\\nDALAM MAHKAMAH TINGGI MALAYA DI TEMERLOH \\n\\nDALAM NEGERI PAHANG DARUL MAKMUR, MALAYSIA \\n\\nSAMAN PEMULA NO: CB-24NCVC-131-05/2023   Dalam Perkara Mengenai Hakmilik \\n\\nYang Dipegang Di Bawah Geran \\nAA 10/41 Dan C.T. 847, Mukim Ulu \\nTelom, Daerah Cameron \\nHighlands, Negeri Pahang;   Dan   Dalam Perkara Mengenai Pelan \\nBagi Lot 53, Mukim Ulu Telom, \\nDaerah Cameron Highlands, \\nNegeri Pahang \\n\\n(Pelan Diakui 12513);   Dan   Dalam Perkara Mengenai Hakmilik \\n\\nYang Dipegang Di Bawah PN 3006 \\n\\nLot 74, PN 3093 Lot 77 Dan PN 3094 \\n\\nLot 73 Mukim Ulu Telom, Daerah \\nCameron Highlands, Negeri \\nPahang;   Dan   Dalam Perkara Mengenai Seksyen \\n417 dan 380 Kanun Tanah Negara; \\n\\n09/02/2024 12:06:57\\n\\nCB-24NCvC-131-05/2023 Kand. 28\\n\\nS/N 9eMnSljwvEGU0BZSVpXVFA\\n**Note : Serial number will be used to verify the originality of this document via eFILING portal\\n\\n\\n\\n2 \\n \\n\\nDan   Dalam perkara mengenai Aturan 7 \\nKaedah-kaedah Mahkamah 2012;   Dan   Dalam Perkara mengenai Seksyen \\n41 Akta Relief Spesifik 1950.   ANTARA   SINIAH @ ITAM BINTI SHARIF @ SHARIFF   \\n\\n(NO. K/P: 341007-10-5354) \\n\\nLot 70 Taman Kelana,  \\n\\nJalan Sungai Palas, Tanah Rata \\n\\n39000 Cameron Highlands, Pahang    . PEMOHON   DAN   PENDAFTAR HAK MILIK NEGERI PAHANG   \\n\\nPejabat Tanah Dan Galian Negeri Pahang \\n\\nBangunan PTG \\n\\nBandar Indera Mahkota \\n\\n25990 Kuantan, Pahang     . RESPONDEN   S/N 9eMnSljwvEGU0BZSVpXVFA\\n**Note : Serial number will be used to verify the originality of this document via eFILING portal\\n\\n\\n\\n3 \\n \\n\\nALASAN PENGHAKIMAN   Pendahuluan   [1] Pemohon melalui saman pemula ini memohon agar satu deklarasi \\n\\ndiberikan bahawa tanah-tanah hakmilik PN 3006 Lot 74, PN 3093 Lot \\n\\n77 dan PN 3094 Lot 73 Mukim Ulu Telom, Daerah Cameron Highlands, \\n\\nNegeri Pahang yang didaftarkan sebagai pajakan 99 tahun adalah tidak \\n\\nsah dan terbatal.  Pemohon juga meminta supaya Pendaftar Hakmilik \\n\\nNegeri Pahang hendaklah menggantikan pajakan 99 tahun bagi tanah-\\n\\ntanah tersebut dengan mengeluarkan suratan hakmilik geran pegangan \\n\\nselama-lamanya.   [2] Di dalam Affidavit Sokongan Pemohon telah dinyatakan bahawa \\n\\nPemohon adalah merupakan tuan punya tanah berdaftar bagi tiga \\n\\nhakmilik tanah-tanah tersebut. Pemohon menyatakan bahawa tanah itu \\n\\npada asalnya adalah dirujuk sebagai Approve Plan (AA) No. 10/41 dan \\n\\nPelan Tanah Nombor Lot 52 dan Lot 53 Mukim Ulu Telom Cameron \\n\\nHighlands.   [3] Pemohon menyatakan juga bahawa hakmilik-hakmilik tanah \\n\\ntersebut dikeluarkan pada tahun 1941.  Ini membawa maksud hakmilik \\n\\ntersebut dikeluarkan di bawah Land Code (Cap. 138) iaitu tanah-tanah \\n\\npertanian dikeluarkan di bawah Certified of Title (CT).   S/N 9eMnSljwvEGU0BZSVpXVFA\\n**Note : Serial number will be used to verify the originality of this document via eFILING portal\\n\\n\\n\\n4 \\n \\n\\n[4] Pemohon juga menyatakan bahawa apabila Kanun Tanah \\n\\nNegara 1965 diwartakan maka hakmilik-hakmilik tanah bagi Certified of \\n\\nTitle (CT) akan dikategorikan di bawah geran di bawah Kanun Tanah \\n\\nNegara 1965. Ia membawa maksud tempoh pegangannya adalah \\n\\nselama-lamanya.   [5] Pemohon juga menyatakan carian yang dilakukan di Pejabat \\n\\nTanah Cameron Highlands menunjukkan bahawa tanah CT No. 846, \\n\\nNo. 847 dan No. 848 “Cancelled”. Pemohon menyatakan bahawa \\n\\nmaklumat yang diberikan oleh Responden adalah terkhilaf berkenaan \\n\\nCT No. 847 dan Lot 53 Mukim Ulu Telom, Daerah Cameron Highlands. \\n\\nPemohon mendakwa terdapat kekhilafan di dalam mendaftarkan \\n\\nhakmilik tanah-tanah tersebut yang sepatutnya berstatus selama-\\n\\nlamanya telah ditukarkan kepada pajakan 99 tahun.   [6] Sebaliknya Responden dalam Affidavit Atirah binti Nor Hashim \\n\\niaitu Timbalan Pendaftar Hakmilik yang bertugas di Pejabat Pengarah \\n\\nTanah dan Galian Negeri Pahang serta bertanggungjawab terhadap \\n\\npendaftaran hakmilik di Pejabat Pengarah Tanah dan Galian Negeri \\n\\nPahang menyatakan bahawa tiada kesilapan dalam pengemaskinian \\n\\nmaklumat serta endorsan dalam suratan hakmilik yang melibatkan \\n\\npihak Pemohon dalam kes ini. Malahan di dalam Lampiran yang \\n\\ndikemukakan melalui Affidavit Jawapan tersebut telah dicerakinkan \\n\\nproses pemberian hakmilik tanah tersebut daripada awal sehinggalah \\n\\nkini yang dapat dinyatakan melalui carta seperti berikut:   S/N 9eMnSljwvEGU0BZSVpXVFA\\n**Note : Serial number will be used to verify the originality of this document via eFILING portal\\n\\n\\n\\n5   S/N 9eMnSljwvEGU0BZSVpXVFA\\n**Note : Serial number will be used to verify the originality of this document via eFILING portal\\n\\n\\n\\n6 \\n \\n\\n[7] Responden menyatakan bahawa Pemohon hanya menerima \\n\\npindah milik tanah-tanah ini melalui Nombor Perserahan 2183/75 \\n\\nbertarikh 17.11.1975 daripada James Robertson yang diendorsekan \\n\\ndalam hakmilik SL 502, SL 604 dan SL 501.  Responden menyatakan \\n\\nbahawa tempoh hakmilik bagi tanah-tanah tersebut adalah tanah \\n\\npegangan selama 99 tahun bagi PN 3093 Lot 77 dan PN 3094 Lot 73 \\n\\ntempoh hakmilik berakhir pada 07.10.2040. Manakala bagi PN 3006 Lot \\n\\n74 berakhir pada 26.06.2040.  Responden juga menyatakan bahawa \\n\\nkeputusan carian oleh Pemohon bagi hakmilik CT 847 tertera perkataan \\n\\n‘cancelled’ disebabkan CT 847 itu telah dikeluarkan hakmilik \\n\\nsambungan kepada Approve Application (AA)(10/41) pada 27.06.1941.  \\n\\nSeterusnya kepada State Lease (SL) 604 pada 16.03.1954 dan hakmilik \\n\\nmuktamad Pajakan Negeri (PN) 3006 pada 15.08.1998.  Hakmilik \\n\\nsambungan dan hakmilik muktamad tersebut didaftarkan di Lot 74 \\n\\ndengan keluasan 1 ekar, 2 rod dan 1 pol dengan pegangan bertempoh \\n\\nselama 99 tahun daripada 27.06.1941 dan akan luput pada 26.06.2040.   [8] Dalam Affidavit Balasan Pemohon bertarikh 05.09.2023 di \\n\\nperenggan 6, Pemohon menyatakan bahawa penafian Responden \\n\\nbahawa tanah-tanah di bawah Master Title CT 846, CT 847 dan CT 848 \\n\\nbukanlah merupakan tanah yang mempunyai pegangan selama-\\n\\nlamanya adalah penafian semata-mata memandangkan tiada \\n\\nperuntukan dalam Land Code (Cap. 138) yang membenarkan “lease of \\n\\nstate land” selama 99 tahun.   S/N 9eMnSljwvEGU0BZSVpXVFA\\n**Note : Serial number will be used to verify the originality of this document via eFILING portal\\n\\n\\n\\n7 \\n \\n\\n[9] Pemohon juga menyatakan Pihak Berkuasa Negeri tidak \\n\\nmempunyai bidang kuasa untuk menggantikan taraf pegangan selama-\\n\\nlamanya kepada pajakan 99 tahun selepas hakmilik SL 502, AA 10/41 \\n\\n/ SL 604 dan SL 501 dikeluarkan. Ia adalah satu tindakan yang \\n\\nbertentangan dengan undang-undang.   Analisa   Sejarah ringkas undang-undang bertulis berkaitan tanah di Negeri \\n\\nPahang Darul Makmur   [10] Penelitian kepada undang-undang bertulis berkaitan tanah di \\n\\nPahang mendapati bahawa terdapat undang-undang tanah semenjak \\n\\ntahun 1889 iaitu Pahang General Land Regulations 11 of 1889.  Tujuan \\n\\nPahang General Land Regulations 11 of 1889 ini telah dijelaskan \\n\\ndengan menarik oleh Mahkamah Persekutuan dalam kes Tengku Haji \\n\\nJaafar Ibni Almarhum Tengku Muda Ali & Anor v Government of \\n\\nPahang [1987] 2 MLJ 74 seperti berikut:   “. It is unthinkable that this land should be left out of the system \\n\\nsince the Regulations were intended to be so comprehensive as \\n\\nto cover all the lands in the State of Pahang. For this reason the \\n\\nRegulations enacted that all lands in the State were divided into \\n\\nthe following four classes:   S/N 9eMnSljwvEGU0BZSVpXVFA\\n**Note : Serial number will be used to verify the originality of this document via eFILING portal\\n\\n\\n\\n8 \\n \\n\\nClass I land available for agricultural \\n\\npurposes; \\n\\nClass II land in occupation of natives under \\n\\nMalay tenure; \\n\\nClass III building allotments in towns and \\n\\nvillages or government reserves; and \\n\\nClass IV mining reserves.   The main aim of the Regulations was to introduce a system of \\n\\ncompulsory registration of lands in the State with a view to \\n\\nexercising some control over the Sultan\\'s power of issuing \\n\\nconcessions indiscriminately. We are not concerned here with the \\n\\n3rd and 4th classes of lands since the gift land is neither a building \\n\\nallotment nor a mining reserve. Thus, we will only deal with the \\n\\nfirst two classes of lands.   Under the Regulations all holders of concessions of Class I lands \\n\\n(lands available for agricultural purposes) granted by the Sultan \\n\\nhad first to be recognized by the State Government and only the \\n\\nrecognized concessions were required to be registered in the \\n\\nDistrict Land Office. Failure to register them, despite recognition \\n\\nby the Government, rendered these concessions void. As regards \\n\\nClass II lands i.e. lands occupied by natives under Malay tenure, \\n\\nsuch lands were required by the Regulations to be registered in \\n\\nthe \"Register Native Holdings\" kept by the District Collector within \\n\\nthree months of the date of the Regulations. Failure to register \\n\\nS/N 9eMnSljwvEGU0BZSVpXVFA\\n**Note : Serial number will be used to verify the originality of this document via eFILING portal\\n\\n\\n\\n9 \\n \\n\\nthem rendered the rights of the occupiers in respect of such lands \\n\\nliable to forfeiture.”   [11] Mahkamah Agong dalam kes Tengku Haji Jaafar Ibni \\n\\nAlmarhum Tengku Muda Ali (supra) telah memberikan urutan sejarah \\n\\nringkas undang-undang tanah di Negeri Pahang dengan menyatakan \\n\\nseperti berikut:   “One of the primary reasons of the British intervention in Pahang \\n\\nwas their concern at the indiscriminate concessions of agricultural \\n\\nlands given out by the Sultan to all and sundry in order to boost-\\n\\nup the State\\'s revenue. The British were fearful that unless the \\n\\ngrant of concessions was exercisable on a rational basis there \\n\\nwould be chaos and disputes would arise which would finally \\n\\naffect their commercial interests adversely. Hence once they \\n\\nobtained control over the government they lost no time in \\n\\nintroducing their system of administration. A number of regulations \\n\\nwere soon made and the most important one is the Government \\n\\nLand Regulations dated December 31, 1889.   The Regulations were the beginning of the present system of land \\n\\nadministration in Pahang. Until then the land law applicable was \\n\\nShariah Law of the Shafie school. Eight years later the \\n\\nRegulations were repealed and replaced by the Land Enactment \\n\\n1897, and the Registration of Title Enactment 1897 which came \\n\\ninto force on November 29, 1887 and December 24, 1897 \\n\\nrespectively. The 1897 Land Enactment was subsequently \\n\\nS/N 9eMnSljwvEGU0BZSVpXVFA\\n**Note : Serial number will be used to verify the originality of this document via eFILING portal\\n\\n\\n\\n10 \\n \\n\\nreplaced by the Land Enactment 1903 which came into force on \\n\\nJuly 1, 1903, and this Enactment was later superseded by FMS \\n\\nLand Code 1926 on December 24, 1926 and finally by the present \\n\\nNational Land Code in 1965.”   [12] Penelitian kepada Pahang General Land Regulations 11 of 1889, \\n\\nadalah didapati bahawa terdapatnya peruntukan berkenaan dengan \\n\\nsewaan untuk selama-lamanya. Ini dapat dinyatakan seperti berikut:   “Tenure – the tenure on which lands in class I. may be held is a \\n\\nlease in perpetuity, in form I. hereto annexed, subject to the \\n\\nfollowing conditions:  \\n\\n(a) . \\n\\n(b) . \\n\\n(c) . \\n\\n(d) . \\n\\n. ”   [13] Penelitian kepada seksyen 29 dalam Pahang General Land \\n\\nRegulations 11 of 1889 tersebut tiada sebarang petanda menunjukkan \\n\\nada digunakan frasa geran merujuk kepada hakmilik kekal selama-\\n\\nlamanya.   [14] Seterusnya rujukan kepada Pahang Land Regulations \\n\\nAmendment 11 of 1896. Ia hanya merupakan beberapa pindaan kecil \\n\\nkepada Pahang General Land Regulations 11 of 1889 yang juga tidak \\n\\nterdapat penggunaan frasa geran di dalamnya.  \\n\\nS/N 9eMnSljwvEGU0BZSVpXVFA\\n**Note : Serial number will be used to verify the originality of this document via eFILING portal\\n\\n\\n\\n11 \\n \\n\\n[15] Seterusnya, Mahkamah juga mendapati bahawa terdapat \\n\\npenggubalan Land Enactment 1897 pada 29.11.1897 yang mana ia \\n\\ntelah menggantikan Pahang General Land Regulation 1889.  Dalam \\n\\nLand Enactment 1897 ini frasa geran telah dinyatakan seperti berikut:   “Grant” means a grant of State Land issued by or on behalf of the \\n\\nRuler of the State, and includes a lease of State land issued prior \\n\\nto the coming into operation of this Enactment.   [16] Format geran telah dinyatakan dalam Jadual C Land Enactment \\n\\n1897 tersebut seperti berikut:   S/N 9eMnSljwvEGU0BZSVpXVFA\\n**Note : Serial number will be used to verify the originality of this document via eFILING portal\\n\\n\\n\\n12 \\n \\n\\n[17] Adalah didapati bahawa geran diberikan bagi tanah bandar di \\n\\nbawah seksyen 21.  Tanah negeri (Country land) yang melebihi 100 \\n\\nekar tetapi tidak melebihi 640 ekar seperti yang dinyatakan di bawah \\n\\nseksyen 46 yang perlu dikeluarkan geran seperti dalam Jadual C Land \\n\\nEnactment 1897.   [18] Pada tahun 24.11.1911 telah diperkenalkan Land Enactment No. \\n\\n11 Tahun 1911 iaitu undang-undang berkaitan dengan tanah yang \\n\\nterpakai kepada Negeri-negeri Melayu Bersekutu termasuklah Pahang.  \\n\\nDalam takrifan enakmen tersebut telah dinyatakan istilah geran yang \\n\\ndigunakan adalah membawa maksud seperti berikut:   “In the state of Perak, Selangor, and Pahang, “Grant” means a \\n\\ngrant of State land issued by or on behalf of the Ruler of the State \\n\\nand includes a lease of State land in perpetuity of for a terms of \\n\\nnot less than 999 years issued prior to the commencement of this \\n\\nEnactment.”   [19] Dalam konteks ini Land Enactment 1911 itu telah memberikan \\n\\ntakrifan “State land” kepada tanah bandar dan kampung, tanah negeri \\n\\nseluas 100 ekar atau tanah negeri yang melebihi daripada 100 ekar. Ia \\n\\ndinyatakan di bawah seksyen 3 dalam Land Enactment 1911 seperti \\n\\nberikut:   “3.  (i) State land, for the purposes of this Enactment, is \\n\\ndivided into the following classes – that is to say, \\n\\n(a)  Town and village lands; \\n\\nS/N 9eMnSljwvEGU0BZSVpXVFA\\n**Note : Serial number will be used to verify the originality of this document via eFILING portal\\n\\n\\n\\n13 \\n \\n\\n(b)  Country lands of 100 acres in area and under; \\n\\n(c) Country lands exceeding 100 acres in area.   (ii) Subject to the provisions of this Enactment, the \\n\\nResident in the States of Perak, Selangor, and Pahang, on behalf \\n\\nof the Ruler of the State, and in the State of Negri Sembilan in the \\n\\nname and on behalf of the Ruler of the State, may alienate State \\n\\nland for such interest and in such manner as is authorized by this \\n\\nEnactment and may, with the approval of the Chief Secretary, \\n\\nimpose special conditions in respect thereof to be set out in the \\n\\ntitle. \\n\\n (iii) Nothing is this section shall apply to mining lands \\n\\nexcept in so far as such lands may be occupied for purposes other \\n\\nthan those for which they were alienated.”   [20] Land Enactment 1911 ini telah memansuhkan The Land \\n\\nEnactment 1903 (Pahang No. 9 of 1903) dan Amendment Enactment \\n\\n1906. Dalam Land Enactment 1911 ini terdapat borang dalam Jadual D \\n\\n(i) iaitu geran untuk tanah yang dibaca bersama dengan seksyen 25, 32 \\n\\ndan 55 Land Enactment 1911 tersebut.   [21] Seterusnya Land Code (Cap. 138) telah diperkenalkan pada \\n\\n01.01.1928 di mana frasa geran digunakan seperti sama dalam Land \\n\\nEnactment 1911 tersebut.   Di bawah Land Code (Cap. 138) juga \\n\\nterdapat suatu format ataupun borang di Jadual VI yang menyatakan \\n\\n“grant for land” di mana seksyen 56 Land Code (Cap. 138) tersebut \\n\\nS/N 9eMnSljwvEGU0BZSVpXVFA\\n**Note : Serial number will be used to verify the originality of this document via eFILING portal\\n\\n\\n\\n14 \\n \\n\\ntelah menghendaki supaya Borang VI digunakan. Apa yang menarik \\n\\nialah dalam Jadual VI itu dinyatakan peruntukan seperti berikut:   S/N 9eMnSljwvEGU0BZSVpXVFA\\n**Note : Serial number will be used to verify the originality of this document via eFILING portal\\n\\n\\n\\n15 \\n \\n\\n[22] Istilah geran dalam Land Code (Cap. 138) ialah merujuk kepada \\n\\nhakmilik selama-lamanya seperti yang telah dinyatakan dalam Land \\n\\nEnactment 1911 seperti berikut:   “In the state of Perak, Selangor, and Pahang, “Grant” means a \\n\\ngrant of State land issued by or on behalf of the Ruler of the State \\n\\nand includes a lease of State land in perpetuity of for a terms of \\n\\nnot less than 999 years issued prior to the commencement of this \\n\\nEnactment.”   [23] Namun “State land” telah diberikan takrifan baharu seperti berikut:   “State land. “State land” means all land in any State including \\n\\n(i) the bed of any river stream, lake, pond or water-\\n\\ncourse, and \\n\\n(ii)  the foreshore and bed of the sea within the \\n\\nterritorial waters of the State \\n\\nexcept land which is for the time being, \\n\\n(a)  lawfully alienated, or \\n\\n(b)  reserved for a public purpose under this or any \\n\\nother Land Enactment and not leased under \\n\\nSection 24 of this Enactment, or  \\n\\n(c) reserved forest under the Forest Enactments or \\n\\nany other Enactment, \\n\\nand land held under a licence for temporary \\n\\noccupation or under approved application shall be \\n\\ntaken and deemed to be State land.” \\n\\nS/N 9eMnSljwvEGU0BZSVpXVFA\\n**Note : Serial number will be used to verify the originality of this document via eFILING portal\\n\\n\\n\\n16 \\n \\n\\n[24] Jika diteliti kepada seksyen 31 Land Code (Cap. 138) tersebut \\n\\nmenyatakan bahawa mana-mana tanah yang telah diberikan selepas \\n\\n31.12.1909 hendaklah tertakluk kepada semakan berkala berkenaan \\n\\ncukai tanah sama ada ia akan dikurangkan atau ditambah.   “31. (i) Subject to the provisions of the following sub-sections the \\n\\nrent of all land alienated after the 31st day of December, 1909, \\n\\nshall be liable to periodical revision which may result in either \\n\\nenhancement or reduction.   (ii) The first revision under this section may take place on of \\n\\nafter the 1st day of January, 1940, and subsequent revisions may \\n\\ntake place at intervals of not less than thirty years.   (iii) At each revision the rent reserved to the State may be \\n\\nrevised and a new rent fixed by the Resident but in making such \\n\\nrevision no improvements made by the proprietor or his \\n\\npredecessors in title shall be taken into account.   (iv) The rent of any land alienated under a lease of State \\n\\nland containing therein provision for the revision of rent at intervals \\n\\nof not more than thirty years shall not be liable to revision under \\n\\nthis section.”   [25] Penelitian kepada undang-undang tanah yang diluluskan dan \\n\\nberkuatkuasa di Pahang sebelum Kanun Tanah Negara 1965 adalah \\n\\npenting bagi memahami sama ada hakmilik tanah yang diberikan \\n\\nS/N 9eMnSljwvEGU0BZSVpXVFA\\n**Note : Serial number will be used to verify the originality of this document via eFILING portal\\n\\n\\n\\n17 \\n \\n\\nmelalui geran adalah sesuatu yang membawa maksud pemilikan \\n\\nselama-lamanya dan ia tidak dibatasi oleh penguatkuasaan Kanun \\n\\nTanah Negara 1965.  Ini adalah disebabkan hujahan pihak Pemohon \\n\\nhakmilik yang diberikan berkenaan tanah tersebut adalah suatu geran \\n\\nyang ditakrifkan di bawah Land Code (Cap. 138) adalah membawa \\n\\nmaksud hakmilik selama-lamanya sahaja atau sebaliknya. Ini adalah \\n\\ndisebabkan dalam Land Code (Cap. 138) terdapat borang yang \\n\\nmenyatakan format geran diberikan dan geran tersebut terpakai kepada \\n\\n“lease” dan juga pemberian tanah oleh Pihak berkuasa Negeri. Ini \\n\\nmencadangkan bahawa istilah geran dalam konteks Land Code (Cap. \\n\\n138) tidak semestinya mempunyai kaitan langsung dengan tempoh \\n\\nmasa pemilikan tanah tersebut untuk selama-lamanya.   [26] Namun demikian, Mahkamah juga perlu meneliti hujahan yang \\n\\ndikemukakan oleh pihak Pemohon yang menyatakan bahawa \\n\\npemakaian Kanun Tanah Negara 1965 tidak menjejaskan kedudukan \\n\\nhakmilik selama-lamanya oleh Pemohon. Ini adalah sesuai dengan \\n\\nkeputusan Mahkamah Persekutuan dalam kes Pengarah Tanah Dan \\n\\nGalian, Wilayah Persekutuan v Sri Lempah Enterprise Sdn Bhd \\n\\n[1979] 1 MLJ 135. Dalam kes tersebut fakta menunjukkan bahawa \\n\\njawatankuasa tanah telah mengeluarkan arahan bahawa pemilikan \\n\\npemilik yang mempunyai hakmilik selama-lamanya yang telah diberikan \\n\\ndi bawah Land Enactment 1891 dan juga Land Code (Cap. 138) untuk \\n\\ndigantikan dengan hakmilik 99 tahun telah diputuskan sebagai satu \\n\\nkeputusan yang tidak boleh dipertahankan. Tindakan tersebut \\n\\ndiputuskan sebagai sesuatu yang telah mengurangkan hak pemilikan \\n\\nS/N 9eMnSljwvEGU0BZSVpXVFA\\n**Note : Serial number will be used to verify the originality of this document via eFILING portal\\n\\n\\n\\n18 \\n \\n\\ntuan punya tanah. Ini telah dinyatakan oleh Raja Azlan Shah seperti \\n\\nberikut:   “It remains to deal with the order made by the learned judge. He \\n\\nfound that the respondents had fulfilled all the conditions under \\n\\nthe National Land Code and accordingly he made an order to the \\n\\neffect that the Land Executive Committee approve the \\n\\napplications for conversion and sub-division but excluding the \\n\\nimpugned condition, and that the Registrar issue titles in \\n\\ncontinuation of the grant in perpetuity to the sub-divided lots \\n\\nretained by the respondents in accordance with section 202(3)(a) \\n\\nof the National Land Code. With respect, that is not an appropriate \\n\\norder to make and one which certainly does not commend itself to \\n\\nthis Court. In the first place it must be made clear that the \\n\\nexistence of a statutory remedy is no bar to an action for a \\n\\ndeclaration. This case falls within the general principle that the \\n\\njurisdiction of the High Court is not to be taken away without \\n\\nexpress words; and this applies to an action for a declaration: \\n\\nsee Pyx Granite (ante). Secondly, all that a declaration does is to \\n\\ndeclare the rights of the parties, and the effect of making a \\n\\ndeclaration would be that it would give the Land Executive \\n\\nCommittee an opportunity of having second thoughts at the \\n\\nproblem. Lastly, it is not the province of the courts to review the \\n\\ndecisions of government departments merely on their merits. \\n\\nGovernment by judges would be regarded as an usurpation. That \\n\\nclear statement of principle has since been approved and applied \\n\\nby the appellate courts. In Associated Provincial Picture Houses \\n\\nS/N 9eMnSljwvEGU0BZSVpXVFA\\n**Note : Serial number will be used to verify the originality of this document via eFILING portal\\n\\n\\n\\n19 \\n \\n\\nLtd. v. Wednesbury Corpn. (ante), Lord Greene M.R. in the \\n\\ncourse of a judgment since approved by the House of Lords \\n\\nin Smith v East Elloe Rural District Council [1956] AC 736 763, \\n\\nand in Fawcett Properties Ltd. v. Buckingham County \\n\\nCouncil (ante), in dealing with the power of the court to interfere \\n\\nwith the decision of a local authority which has acted \\n\\nunreasonably, said (page 686): \\n\\n\"The power of the court to interfere in each case is not that of \\n\\nan appellate authority to override a decision of the local \\n\\nauthority, but is that of a judicial authority which is concerned, \\n\\nand concerned only, to see whether the local authority have \\n\\ncontravened the law by acting in excess of the powers which \\n\\nParliament has confided in it.\"   That is the reason for such cases to be remitted to the relevant \\n\\nauthority for a fresh consideration and conclusion according to \\n\\nlaw. In Kingston-upon-Thames Royal London Borough Council v \\n\\nSecretary of State for the Environment [1974] 1 All ER 193, the \\n\\ncase was sent back to the Secretary of State for reconsideration; \\n\\nin R. v. Hillingdon London Borough Council (ante), the Council \\n\\nwas required to reconsider the application for planning permission \\n\\nand reach a conclusion on it according to law. In my opinion the \\n\\nappropriate order would be to remit the case to the Land Executive \\n\\nCommittee for reconsideration and reach a conclusion on it \\n\\naccording to law.”   S/N 9eMnSljwvEGU0BZSVpXVFA\\n**Note : Serial number will be used to verify the originality of this document via eFILING portal\\n\\n\\n\\n20 \\n \\n\\n[27] Penelitian kepada kes tersebut menunjukkan bahawa \\n\\nJawatankuasa Tanah tidak boleh memberikan syarat-syarat yang \\n\\nmenghilangkan hakmilik selama-lamanya yang telah diberikan sebelum \\n\\ndaripada Kanun Tanah Negara 1965. Malahan dalam kes tersebut \\n\\nMahkamah Persekutuan telah mengembalikan kes tersebut untuk \\n\\ndipertimbangkan semula oleh Jawatankuasa Tanah dan tidak bersetuju \\n\\nbahawa Jawatankuasa Tanah mempunyai kuasa untuk menukarkan \\n\\ntanah yang mempunyai hakmilik selama-lamanya kepada yang lain.  \\n\\nSebaliknya dalam kes ini Mahkamah mendapati yang menjadi isu dalam \\n\\nkes ini ialah adakah semata-mata disebabkan tanah tersebut telah \\n\\ndikatakan diberikan geran maka ia telah menyebabkan hakmilik \\n\\ntersebut adalah selama-lamanya. Mahkamah ini berpeluang meneliti \\n\\npandangan yang dikemukakan oleh Hakim Elphinstone CJ dalam kes \\n\\nThe Jelai Concession (Pahang) Limited v Datoh Wan Tanjong (Dato \\n\\nMaharaja Perba Jelai), John Harold Irving [1931-32] FMSLR 1 dalam \\n\\nmenjelaskan maksud geran di bawah Land Enactment No. 11 of 1911 \\n\\nseperti berikut:   S/N 9eMnSljwvEGU0BZSVpXVFA\\n**Note : Serial number will be used to verify the originality of this document via eFILING portal\\n\\n\\n\\n21   S/N 9eMnSljwvEGU0BZSVpXVFA\\n**Note : Serial number will be used to verify the originality of this document via eFILING portal\\n\\n\\n\\n22   S/N 9eMnSljwvEGU0BZSVpXVFA\\n**Note : Serial number will be used to verify the originality of this document via eFILING portal\\n\\n\\n\\n23 \\n \\n\\n[28] Mahkamah juga meneliti takrifan “lease” di bawah Land Code \\n\\n(Cap. 138) yang menyatakan seperti berikut:   “ “Lease” means a lease of alienated land whether such land is \\n\\ncomprised in a grant, lease of State land, certificate of title or entry \\n\\nin the mukim register.”   [29] Mahkamah juga meneliti kepada bentuk pemberimilikan \\n\\n(alienation) yang dinyatakan di bawah Part 2 Land Code (Cap. 138) \\n\\nyang meliputi seksyen 8 hingga 24 seperti berikut:   S/N 9eMnSljwvEGU0BZSVpXVFA\\n**Note : Serial number will be used to verify the originality of this document via eFILING portal\\n\\n\\n\\n24   S/N 9eMnSljwvEGU0BZSVpXVFA\\n**Note : Serial number will be used to verify the originality of this document via eFILING portal\\n\\n\\n\\n25   S/N 9eMnSljwvEGU0BZSVpXVFA\\n**Note : Serial number will be used to verify the originality of this document via eFILING portal\\n\\n\\n\\n26   [30] Begitu juga berkenaan dengan tuan punya (proprietors) di bawah \\n\\nPart 5 Land Code (Cap. 138) yang meliputi seksyen 42 hingga 54 \\n\\nseperti berikut:   S/N 9eMnSljwvEGU0BZSVpXVFA\\n**Note : Serial number will be used to verify the originality of this document via eFILING portal\\n\\n\\n\\n27   S/N 9eMnSljwvEGU0BZSVpXVFA\\n**Note : Serial number will be used to verify the originality of this document via eFILING portal\\n\\n\\n\\n28   [31] Begitu juga berkenaan dengan Sijil Milikan (Certificate of Title) \\n\\nyang dinyatakan di bawah seksyen 60 dan 61 Land Code (Cap. 138) \\n\\ndibaca bersama dengan Jadual VII seperti berikut:   S/N 9eMnSljwvEGU0BZSVpXVFA\\n**Note : Serial number will be used to verify the originality of this document via eFILING portal\\n\\n\\n\\n29   S/N 9eMnSljwvEGU0BZSVpXVFA\\n**Note : Serial number will be used to verify the originality of this document via eFILING portal\\n\\n\\n\\n30 \\n \\n\\n[32] Ini semua ditinjau bagi melihat adakah frasa geran yang \\n\\ndinyatakan adalah merujuk kepada jenis hakmilik selama-lamanya \\n\\nataupun hanya merujuk kepada dokumen yang dikeluarkan bagi tujuan \\n\\npendaftaran ataupun pemilikan tanah tersebut.   [33] Dalam kes ini Mahkamah perlu melihat dalam eksibit yang \\n\\ndikemukakan dalam Affidavit Sokongan sama ada terdapatnya apa-apa \\n\\npetanda yang menunjukkan bahawa hakmilik yang diberikan di bawah \\n\\nLand Code (Cap. 138) tersebut adalah sesuatu yang mempunyai \\n\\nhakmilik selama-lamanya kepada Pemohon. Ini adalah disebabkan \\n\\nadalah hakmilik selama-lamanya boleh diberikan di bawah undang-\\n\\nundang Kanun Tanah Negeri-Negeri Bersekutu. Ini dinyatakan oleh \\n\\nDavid S.Y. Wong dalam Tenure and Land Dealings in The Malay \\n\\nStates, Singapore University Press 1975 di halaman 86 seperti \\n\\nberikut:   “Section 76 of the Code provides that State alienation of State \\n\\nland shall consist of its disposal by the State “in perpetuity or for a \\n\\nterm not exceeding ninety-nine years”.  Under the former F.M.S. \\n\\nLand Code, as had long been so, the State could alienate land to \\n\\nprivate person in perpetuity or for any fixed period of years. Now, \\n\\napparently, where land is not to be disposed of in perpetuity it may \\n\\nnot be otherwise alienated for any term which exceeds ninety-nine \\n\\nyears.”   S/N 9eMnSljwvEGU0BZSVpXVFA\\n**Note : Serial number will be used to verify the originality of this document via eFILING portal\\n\\n\\n\\n31 \\n \\n\\n[34] Adalah menjadi undang-undang jelas dan mantap bahawa \\n\\nResponden tidak boleh sekali-kali membuat penukaran hakmilik kekal \\n\\nselama-lamaya sekiranya ia diberikan kepada Pemohon. Ini dapat \\n\\ndilihat daripada kes Sri Lempah Enterprise (supra).  Ia juga dinyatakan \\n\\ndalam kes Leo Leslie Armstrong (as the President and Committee \\n\\nof The Young Men\\' s Christian Association of Kuala Lumpur) \\n\\n(Persatuan Pemuda Kristian Kuala Lumpur) v Jawatankuasa Kerja \\n\\nTanah Wilayah Persekutuan Kuala Lumpur (previously held by \\n\\nMajlis Mesyuarat Kerajaan Negeri Selangor) [2015] 1 MLJ 255 oleh \\n\\nMahkamah Rayuan seperti berikut :   “[41]  In this case, the respondent or its predecessor clearly has \\n\\nno authority or legal power to reduce the tenure of the appellant\\'s \\n\\nland holding from perpetuity to leasehold. Therefore, by resorting \\n\\nto such an act (ie to change the land tenure from freehold to \\n\\nleasehold) as a condition for approval of the appellant\\'s \\n\\napplication for subdivision of Lot 152 which was registered to the \\n\\nappellant into two lots – Lots A and B, the respondent or its \\n\\npredecessor had exceeded its legal power. Therefore, the act is \\n\\nnull and void.”   [33] Mahkamah juga perlu memberikan perhatian kepada peruntukan \\n\\nseksyen 4 Kanun Tanah Negara 1965 yang memberikan kedudukan \\n\\nkepada perkara-perkara yang telah diberikan di bawah undang-undang \\n\\ntanah sebelum daripada penguatkuasaan Kanun Tanah Negara 1965.   S/N 9eMnSljwvEGU0BZSVpXVFA\\n**Note : Serial number will be used to verify the originality of this document via eFILING portal\\n\\n\\n\\n32 \\n \\n\\n“4 Savings  \\n\\n(1) Nothing in this Act shall affect the past operation of, or anything \\ndone under, any previous land law or, so far as they relate to land, \\nthe provisions of any other law passed before the commencement \\nof this Act: \\n\\nProvided that any right, liberty, privilege, obligation or liability \\nexisting at the commencement of this Act by virtue of any such \\nlaw shall, except as hereinafter expressly provided, be subject to \\nthe provisions of this Act. \\n\\n(2) Except in so far as it is expressly provided to the contrary, \\nnothing in this Act shall affect the provisions of- \\n\\n(a) any law for the time being in force relating to customary tenure; \\n\\n(b) any law for the time being in force relating to Malay \\nreservations or Malay holdings; \\n\\n(c) any law for the time being in force relating to mining; \\n\\n(d) any law for the time being in force relating to sultanate lands; \\n\\n(e) any law for the time being in force relating to wakaf or bait-ul-\\nmal; \\n\\n(f) the Trengganu Settlement Enactment, 1356 [En. 65 of 1356]; \\n\\n(g) the Padi Cultivators (Control of Rent and Security of Tenure) \\nOrdinance, 1955 [Act 528]; \\n\\n(h) the Kelantan Land Settlement Ordinance, 1955 [Act 460]; \\n\\n(i) the Land (Group Settlement Areas) Act, 1960 [Act 530]; \\n\\n(ia) the Perlis Land Settlement Enactment 1966 [Perlis En. 6 of \\n1966]; or \\n\\n(j) any law for the time being in force relating to exemptions from \\nthe payment of land revenue; \\n\\nS/N 9eMnSljwvEGU0BZSVpXVFA\\n**Note : Serial number will be used to verify the originality of this document via eFILING portal\\n\\n\\n\\n33 \\n \\n\\nand, in the absence of express provision to the contrary, if any \\nprovision of this Act is inconsistent with any provision of any such \\nlaw, the latter provision shall prevail, and the former provision \\nshall, to the extent of the inconsistency, be void.”   [35] Seksyen 4 Kanun Tanah Negara 1965 ini telah menjadi sandaran \\n\\nkepada Mahkamah Tinggi dalam keputusan Sri Lempah Enterprise \\n\\n(supra) yang berpandangan bahawa hakmilik kekal tidak boleh \\n\\nditukarkan kepada sewaan (lease).  Namun demikian, Mahkamah juga \\n\\nmendapati bahawa pemakaian seksyen 4 ini perlu dihadkan kepada \\n\\nproviso yang menyatakan tertakluk kepada Kanun Tanah Negara 1965 \\n\\nsebarang hak atau keistimewaan obligasi atau tanggung jawab yang \\n\\ndinyatakan dalam undang-undang terdahulu.  Ini telah dinyatakan oleh \\n\\nMahkamah Rayuan dalam kes Silvam Sellapan & Anor v. Tamil \\n\\nSelvam Velusamy & Ors [2023] 3 CLJ 371 seperti berikut:   “[37] As for the \"expectation of title\" argument, we noted that the \\n\\nname entered on the Roll of Approved Applications in 1959 was \\n\\nthat of the school. But, even if it can be argued that the Ashrama \\n\\nhad \"expectation of title\", it was superseded in 2004 when a \\n\\nseparate IDT was issued by the State Authority to the school. The \\n\\nproviso to s. 4(1) of the NLC states that any existing right is \\n\\nsubject to the provisions of the Act.”   [36] Pihak Responden berhujah bahawa hakmilik yang diberikan \\n\\nsebelum daripada penguatkuasaan Kanun Tanah Negara 1965 perlu \\n\\ndisuaikan dengan peruntukan di bawah Kanun Tanah Negara 1965. \\n\\nS/N 9eMnSljwvEGU0BZSVpXVFA\\n**Note : Serial number will be used to verify the originality of this document via eFILING portal\\n\\n\\n\\n34 \\n \\n\\nRujukan telah dibuat oleh Responden kepada seksyen 438 Kanun \\n\\nTanah Negara 1965 yang memperuntukkan seperti berikut:   “438 Repeal and amendment of existing laws   (1) The enactments specified in the Eleventh Schedule are hereby \\n\\nrepealed as from the commencement of this Act.   (2) The Yang di-Pertuan Agong may, at any time within the period \\n\\nof two years beginning with the commencement of this Act, by \\n\\norder under this section-   (a) repeal any other written law in force immediately before \\n\\nthat commencement and rendered obsolete or unnecessary \\n\\nby any provision thereof;   (b) make such repeals or amendments in any such law as he \\n\\nmay consider necessary for the purpose of bringing the \\n\\nprovisions thereof into accord with the provisions of this Act, \\n\\nor of supplementing the last-mentioned provisions in any \\n\\nrespect:   Provided that the power conferred by this sub-section shall not be \\n\\nexercised in respect of a State law otherwise than with the \\n\\nconcurrence of the State Authority.”   S/N 9eMnSljwvEGU0BZSVpXVFA\\n**Note : Serial number will be used to verify the originality of this document via eFILING portal\\n\\n\\n\\n35 \\n \\n\\n[37] Peguam Responden juga merujuk kepada seksyen 441 dan 442 \\n\\nKanun Tanah Negara 1965.  Pada hemat Mahkamah ini kes ini tidak \\n\\nmelibatkan isu sama ada undang-undang tanah yang telah \\n\\ndikuatkuasakan sebelum Kanun Tanah Negara 1965 ini masih \\n\\nberkuatkuasa ataupun sebaliknya.  Apa yang menjadi isu dalam kes ini \\n\\nialah adakah hakmilik yang telah diberikan untuk selama-lamanya \\n\\nmasih berkuat kuasa di bawah Kanun Tanah Negara 1965.  Adalah \\n\\ntidak dapat dinafikan bahawa tujuan penggubalan Kanun Tanah Negara \\n\\nialah untuk menyelaraskan undang-undang tanah di negara ini.  Ini \\n\\ndapat dilihat melalui tajuk panjang Kanun Tanah Negara 1965 itu sendiri \\n\\nyang memperuntukkan seperti berikut:   “An act to amend and consolidate the laws relating to land and \\n\\nland tenure, the registration of title to land and of dealings \\n\\ntherewith and the collection of revenue therefrom within the States \\n\\nof Johore, Kedah, Kelantan, Malacca, Negeri Sembilan, Pahang, \\n\\nPenang, Perak, Perlis, Selangor, Terengganu and the Federal \\n\\nTerritory of Kuala Lumpur, and for purposes connected therewith. \\n\\nWHEREAS it is desired to introduce in the form of a National Land \\n\\nCode a uniform land system within the States of Johore, Kedah, \\n\\nKelantan, Malacca, Negeri Sembilan, Pahang, Penang, Perak, \\n\\nPerlis, Selangor, Terengganu and the Federal Territory of Kuala \\n\\nLumpur:   AND WHEREAS provision has been made by the National Land \\n\\nCode (Penang and Malacca Titles) Act 1963, for the introduction \\n\\nof a system of registration of title to land in the States of Penang \\n\\nS/N 9eMnSljwvEGU0BZSVpXVFA\\n**Note : Serial number will be used to verify the originality of this document via eFILING portal\\n\\n\\n\\n36 \\n \\n\\nand Malacca, for the issue of replacement titles, for the \\n\\nassimilation of such system to the provisions of the National Land \\n\\nCode, and for matters incidental thereto:   AND WHEREAS it is now expedient for the purpose only of \\n\\nensuring uniformity of law and policy to make a law with respect \\n\\nto land tenure, registration of titles relating to land, transfer of land, \\n\\nleases and charges in respect of land, and easements and other \\n\\nrights and interests in land:   NOW, THEREFORE, pursuant to the provisions of Clause (4) of \\n\\nArticle 76 of the Constitution BE IT ENACTED by the Duli Yang \\n\\nMaha Mulia Seri Paduka Baginda Yang di-Pertuan Agong with the \\n\\nadvice and consent of the Dewan Negara and Dewan Rakyat in \\n\\nParliament assembled, and by the authority of the same, as \\n\\nfollows:”   [38] Oleh itu dalam kes ini Mahkamah perlu ditunjukkan bahawa \\n\\nhakmilik tanah-tanah yang diperolehi Pemohon adalah merupakan \\n\\ngeran yang mempunyai hakmilik selama-lamanya. Ini membawa \\n\\nmaksud terdapat dokumen-dokumen yang dapat mengesahkan \\n\\nhakmilik selama-lamanya tersebut. Pada hemat Mahkamah penentuan \\n\\nberkenanan hakmilik selama-lamanya tersebut tidak boleh dibuat hanya \\n\\nberdasarkan kepada tafsiran geran di bawah Land Code (Cap. 138) \\n\\ntersebut. Jika ini dilakukan ia boleh membawa kepada kesilapan dan \\n\\nkekeliruan dengan istilah atau dengan frasa geran yang merupakan \\n\\nsuratan hakmilik seperti di Bahagian VI Enakmen tersebut. \\n\\nS/N 9eMnSljwvEGU0BZSVpXVFA\\n**Note : Serial number will be used to verify the originality of this document via eFILING portal\\n\\n\\n\\n37 \\n \\n\\n[39] Mahkamah juga mendapati bahawa terdapat juga dokumen yang \\n\\ndinyatakan di dalam ekshibit-ekshibit dan juga affidavit-afidavit kedua-\\n\\ndua pihak yang melampirkan suratan yang berkaitan dengan tanah-\\n\\ntanah milik Pemohon. Namun demikian, Mahkamah mendapati tiada \\n\\nsebarang dokumen yang dapat mengesahkan bahawa hakmilik tanah-\\n\\ntanah Pemohon tersebut diberikan sebagai hakmilik selama-lamanya. \\n\\nPenelitian kepada dokumen-dokumen yang menunjukkan susur galur \\n\\nhakmilik tanah-tanah tersebut juga adalah menunjukkan bahawa tidak \\n\\nterdapatnya hakmilik selama-lamanya diberikan kepada Pemohon.   [40] Mahkamah ini berpendapat ketiadaan dokumen tersebut tidak \\n\\nmembolehkan Mahkamah ini memutuskan bahawa Pemohon adalah \\n\\nmempunyai hakmilik selama-lamanya terhadap tanah-tanah tersebut. \\n\\nIa juga membawa maksud Responden tidak boleh diminta untuk \\n\\nmembetulkan kesilapan yang dikatakan oleh Pemohon telah dilakukan \\n\\noleh pihak Responden bagi membolehkan pembetulan dibuat di bawah \\n\\nseksyen 380 Kanun Tanah Negara 1965. Mahkamah mendapati \\n\\nbahawa tiada sebarang keterangan yang menunjukkan terdapat \\n\\nkesilapan seperti yang didakwa telah berlaku. Ini adalah berdasarkan \\n\\nkepada penelitian dan pemerhatian Mahkamah terhadap dokumen-\\n\\ndokumen berkaitan dengan tanah-tanah tersebut yang dikemukakan di \\n\\nhadapan Mahkamah ini.   Penutup   [41] Sesungguhnya, pemahaman dan penelitian kepada sejarah \\n\\nperundangan tanah di Negeri Pahang dalam konteks kes ini adalah \\n\\nS/N 9eMnSljwvEGU0BZSVpXVFA\\n**Note : Serial number will be used to verify the originality of this document via eFILING portal\\n\\n\\n\\n38 \\n \\n\\npenting bagi membolehkan penghayatan yang lebih mantap kepada \\n\\nperuntukan-peruntukan di bawah Kanun Tanah Negara 1965 yang \\n\\nmempunyai kaitan dengan undang-undang tanah yang pernah \\n\\ndikuatkuasakan di Negeri Pahang. Kegagalan memahami susur galur \\n\\nundang-undang tersebut boleh menyebabkan pihak yang mentadbirkan \\n\\ndan mentafsirkan undang-undang tanah akan tersasar daripada hasrat \\n\\npenggubalan undang-undang tanah yang telah berada dalam khazanah \\n\\nundang-undang.  Ia adalah wajar dielakkan.   [42] Akhirnya Mahkamah ini berpendapat bahawa permohonan pihak \\n\\nPemohon adalah ditolak dengan kos.   Bertarikh:  09hb. Februari 2024   (ROSLAN MAT NOR) \\n\\nHAKIM  \\n\\nMAHKAMAH TINGGI MALAYA \\n\\nTEMERLOH, PAHANG DARUL MAKMUR   S/N 9eMnSljwvEGU0BZSVpXVFA\\n**Note : Serial number will be used to verify the originality of this document via eFILING portal\\n\\n\\n\\n39 \\n \\n\\nPIHAK-PIHAK:   Bagi Pihak Pemohon \\n\\nNorazura binti Mohamed Mokhtar \\n\\nTetuan Azura Mokhtar & Low \\n\\nNo. 4A, Bangunan MBI, Jalan Ghazali Jawi \\n\\n31400 Ipoh \\n\\nPerak Darul Ridzuan   Bagi Pihak Responden \\n\\nUmira binti Mohd Noor \\n\\nPejabat Penasihat Undang-undang Negeri Pahang \\n\\nTingkat 2, Blok B \\n\\nWisma Sri Pahang \\n\\n25000 Kuantan \\n\\nPahang Darul Makmur \\n\\nS/N 9eMnSljwvEGU0BZSVpXVFA\\n**Note : Serial number will be used to verify the originality of this document via eFILING portal09/02/2024 15:08:55\\n\\nBA-42H-33-12/2022 Kand. 23\\n\\nS/N TVAhlAXVJ0S3y5ZBvdFffg\\n**Note : Serial number will be used to verify the originality of this document via eFILING portal\\n\\n\\n\\nS/N TVAhlAXVJ0S3y5ZBvdFffg\\n**Note : Serial number will be used to verify the originality of this document via eFILING portal\\n\\n\\n\\nS/N TVAhlAXVJ0S3y5ZBvdFffg\\n**Note : Serial number will be used to verify the originality of this document via eFILING portal\\n\\n\\n\\nS/N TVAhlAXVJ0S3y5ZBvdFffg\\n**Note : Serial number will be used to verify the originality of this document via eFILING portal\\n\\n\\n\\nS/N TVAhlAXVJ0S3y5ZBvdFffg\\n**Note : Serial number will be used to verify the originality of this document via eFILING portal\\n\\n\\n\\nS/N TVAhlAXVJ0S3y5ZBvdFffg\\n**Note : Serial number will be used to verify the originality of this document via eFILING portal\\n\\n\\n\\nS/N TVAhlAXVJ0S3y5ZBvdFffg\\n**Note : Serial number will be used to verify the originality of this document via eFILING portal\\n\\n\\n\\nS/N TVAhlAXVJ0S3y5ZBvdFffg\\n**Note : Serial number will be used to verify the originality of this document via eFILING portal\\n\\n\\n\\nS/N TVAhlAXVJ0S3y5ZBvdFffg\\n**Note : Serial number will be used to verify the originality of this document via eFILING portal\\n\\n\\n\\nS/N TVAhlAXVJ0S3y5ZBvdFffg\\n**Note : Serial number will be used to verify the originality of this document via eFILING portal\\n\\n\\n\\nS/N TVAhlAXVJ0S3y5ZBvdFffg\\n**Note : Serial number will be used to verify the originality of this document via eFILING portal\\n\\n\\n\\nS/N TVAhlAXVJ0S3y5ZBvdFffg\\n**Note : Serial number will be used to verify the originality of this document via eFILING portal\\n\\n\\n\\nS/N TVAhlAXVJ0S3y5ZBvdFffg\\n**Note : Serial number will be used to verify the originality of this document via eFILING portal\\n\\n\\n\\nS/N TVAhlAXVJ0S3y5ZBvdFffg\\n**Note : Serial number will be used to verify the originality of this document via eFILING portal\\n\\n\\n\\nS/N TVAhlAXVJ0S3y5ZBvdFffg\\n**Note : Serial number will be used to verify the originality of this document via eFILING portal\\n\\n\\n\\nS/N TVAhlAXVJ0S3y5ZBvdFffg\\n**Note : Serial number will be used to verify the originality of this document via eFILING portal\\n\\n\\n\\nS/N TVAhlAXVJ0S3y5ZBvdFffg\\n**Note : Serial number will be used to verify the originality of this document via eFILING portal\\n\\n\\n\\nS/N TVAhlAXVJ0S3y5ZBvdFffg\\n**Note : Serial number will be used to verify the originality of this document via eFILING portal\\n\\n\\n\\nS/N TVAhlAXVJ0S3y5ZBvdFffg\\n**Note : Serial number will be used to verify the originality of this document via eFILING portal\\n\\n\\n\\nS/N TVAhlAXVJ0S3y5ZBvdFffg\\n**Note : Serial number will be used to verify the originality of this document via eFILING portal\\n\\n\\n\\nS/N TVAhlAXVJ0S3y5ZBvdFffg\\n**Note : Serial number will be used to verify the originality of this document via eFILING portal\\n\\n\\n\\nS/N TVAhlAXVJ0S3y5ZBvdFffg\\n**Note : Serial number will be used to verify the originality of this document via eFILING portal\\n\\n\\n\\nS/N TVAhlAXVJ0S3y5ZBvdFffg\\n**Note : Serial number will be used to verify the originality of this document via eFILING portal\\n\\n\\n\\nS/N TVAhlAXVJ0S3y5ZBvdFffg\\n**Note : Serial number will be used to verify the originality of this document via eFILING portal\\n\\n\\n\\nS/N TVAhlAXVJ0S3y5ZBvdFffg\\n**Note : Serial number will be used to verify the originality of this document via eFILING portal\\n\\n\\n\\nS/N TVAhlAXVJ0S3y5ZBvdFffg\\n**Note : Serial number will be used to verify the originality of this document via eFILING portal\\n\\n\\n  BA—42H—33—12/2022 Kand. 23\\n\\nD9/02/2LV4A , 3; 57\\n\\n \\n\\nMAHKAMAH TINGGI MALAVA DI SHAH ALAM\\nDI DALAM NEGERI SELANGOR DARUL EHSAN, MALAYSIA\\nRAVUAN JENAVAH No. BA-42H-33-I2/2022\\n\\nANTARA\\nPENDAKWA RAVA  PERAVU\\nDAN\\nNUR FAYIN NAEILA awn AZMI  RESPDNDEN\\n\\n(No. K/F 98020241345014)\\nRAVUAM SILANG\\nIIIAHKAMAH TINGGI MALAYA DI SHAH ALAM\\n\\nDI DALAM NEGERI SELANGOR DARUL EHSAN. MALAVSIA\\nRAVUAN JENAVAH No. EA-425-24-11/2022\\n\\nANTARA\\nNUR FATIM NAEILA BINTI AZMI  FERAVU\\n(Nu. K/P’ 980202-06-6014)\\nDAN\\nFENDAKWA RAVA  RESPONDEII\\nALASAN PENGHAKIMAN\\n\\nI. PENGENALAN\\n\\nIni adaran mempakan vayuan Timbman Fendakwa Raya (Perayu)\\nterhadap hukumsn (Kandungan 15) den rayuan suang o\\\\eh Ienudun\\n(OKT) jugs larhadap hukuman (Kandungan 22).\\n\\nsw wAmAxv.ms:Iy5zamFNq\\n3 mm Sum M... M“ be used m wow u. nvwvuﬁlv mm; “Mm. VII mum Wm\\n\\n II. PERTUDUHAN\\nPertuduhan tamadap OKT adalah sepem benkul:\\n\\n‘Bahawa kamu pads e Jun 2021 jam Islam kurang 10.30 pagi,\\nbenempal an bmk um kanakkanak m Babes 3. Ton Chﬂdcare\\nCentre an avenue: Aras Bawah, Bkuk c, Kedlaman Kakllangan\\nHosp\\\\la\\\\ Sevdang. Jaxan Puchong, 43000 KaJang, m dalam Daevah\\nSepang, di dalam Megan Salangor Daml Ehsan. sebagal arena\\nyang mampunyal penlagaan ks acas kanakxanak yang bemama\\nSnﬁa Arm bin\\\\i Muhammad Amman Al~Khair (No, MyKid: moo»\\nm—11au) berumuv 1 lawn a bulan. maapau le\\\\ah mendedahkan\\nkanak—k.anak mu dengan cars mungkm menysbabkan keuederaan\\nﬂzikm lerhadsp kanak-kanak lersebut. Gish yang damikxan, kamu\\ncevah ms\\\\akukan suam kaaavanan dan buleh dmukum di bawah\\nSeksyen 31(1)(a| Akla Kanak-Kanak 2001.\"\\n\\nIII. FAKYA KEs\\n\\n[11 Fans kes adamh sebagaimana dinyalakan di dalam Nasan\\nPengnmnan Hakim Mahkamah Sesysn (nuns; an muka\\nsursl 13 mngga 15, Rskod Rayuan mm I dun jugs pads\\nekslhll F2, Rakod Rayuan Jwlid 3\\nPengadu dw dalam kes wnl mempakan mu kepada mangsa\\nyang bemmur 1 (shun a bulan pada mesa kejadwan dan beliau\\nbanugas sebagal Pegawai Pembatan dw Bahagwan Eumlngi dw\\nHnspilm Ssrdang\\n\\naw wAmAxv.msJy5zavaFNq\\n-ma Sum In-nhnv M“ be used m mm a. nﬂmnnﬂly mm; dun-mm VII mum Wm mu 2 M as   nngan dan dike! n. Peguam menquk kepada kes Tun Svl\\nAbdul Ruhlm Mohd Nnor v. PP [21101] : MLJ I.\\n\\n[33] um damn: kes mvsebul, Paguam msnghujahkan bahawa\\nIevdapal pnnsm yang menyahkan bahawa keadaan dw mans\\nkevarmngan swam sendm mewayarkan sssemang terluduh\\nMu ﬂdak dlmasukkan ke dalam penjara m da\\\\am tempuh yang\\npanjang Kerana Ia akan membawa banyak keburukan\\ndanpada kebaxkan,\\n\\n \\n\\nmama seseumng pesalah mu am\\nmerviadi neruenayah Iegar sﬂepas msnjalani hukuman\\npamara\\n\\n[371 Feguam sekali I391 berhujah dengan merujuk kapada\\nseksyen 3l11)(a) Am Kanak-Kanak‘\\n\\n-Penganiayaan, vengabawan, pembuangan alau vandedahan\\nkanak-kanak\\n\\n31. (1) Marla-mana mang, yang merupakan urang yang\\nmempunyav pernehharaan saeurang kanak-mak-\\n\\n(a) yang msngamayah menganaman‘ membuang atau\\nmandedahkan kanak-kanak nu mu berlmdak\\nsecara cum dengan cars yang mungkln akan\\nmenyebabkannya mengaxamx kecaderaan fzika\\\\\\nalau emusi atau yang rnenyebabkan alau\\nmembenarkanm mamayai, disbaikan, dlhuang\\nalau didedahkan seaamman, alau\\n\\nsw rvAmAxv.ms1y5zavaFN§\\n  -um Sum ...m.. WW be .15.. m van; M m\\\\g\\\\ruHIy mm; dun-mm VIZ .nuN<: puns! P . u m 25\\n\\n (b) yang mengsmayar nan saga seks kanawkanak nu\\navau yang menyehahkan atau mambenarkannyzi\\ndianlayal sedemikwan.\\nmemkukan suslu kesakahan dan apsbHa msamxkan\\nbuloh dluonua lldnk m chihl liml puluh rihu\\ntlnggll snau mpamarakan semma tampon Iidak\\nmmehmi due p-mm Lahun acau kedua<1uanya.\\'\\n\\n[as] Feguam huiahkan bahawa mat ulama Parnman Malaysia\\nda\\\\am mengguhal undang-undang dan hukuman dw hawah\\nseksysn W adalah bag mjuan mehndungi kanak—kanak den\\njuga hukuman bsrbemuk denda adiﬂah hukuman yang\\nulama‘\\n\\n[391 on yang panama kah mluduh ai bawah seksyen imdanlidak\\npaman me\\\\akukan apa—apa kesalahan jenayah m bawan\\nmanamana undang-undang di Malaysxa.\\n\\n[401 Femenjaraan sa\\\\ama (smpah lapan aavas (15) bulan yang\\ndwksnakan ks alas on merupakan sualu hukuman yang\\nagank beta! bag: slluasx on\\n\\n(411 Hakim Mahkamah Sesyen (elah gage! mampemnmangkan\\nsecara kesemmhan kesamua lakwrrfaklor mmgasi yang\\nre\\\\evan yang memihak kepada Parayu/Respanden apawa\\nlelah memaluhkan hukuman.\\n\\n[42] semasa dmuduh OKT hanyalah beruswa 23 vanun 4 bulan.\\nKami percaya hahama wujud kepenuan unmk mahkamah\\n\\nan wAmAxv.ms1y5zavaFNq\\n  -ma sum ...na.. MU be used m van; ..a an,n.u.y mm; dun-mm wa mum PM Me <2 nu-\\n\\n mempsrumbangkan ksselunman faxcantaktor miligasx yang\\nberplhsk kepada om xermas-man (mar usla muda dan\\nlaktnr-lakmr m gas! yang \\\\am\\n\\n[43] Dawn perkars W Psguam (elah merujuk kepada kes-kes Ru\\nJam: an. Ram: [1155] 1 MLJ 55,- [1955] 1 ms 115,\\nShnnmugnmlhnn VPublic Prosecutor [1957] 1 MLJ 204,-\\nYea Thiam cnyu v Public Prosecutor 11952} 1 MLJ 391\\nha * menuvuukkan bahawa oxr ssbag pesalah muda\\ndengan psnakuan kesa\\\\ehan panama wafer dtbenkan\\nnukuman yang Iehm nngan   [441 Seierusnya damn menghujahkan agar hukuman Iebm ringan\\ndibsnkan kepada om, Feguam mengmuahkan hahawa\\nkecedsraan yang malamx men pihak pengadu adalah udak\\nserius dan ﬂdak mempunyaw kesan yang berlamfan dan\\npamang\\n\\n[45] Dalam Isu Inl Feguam menghwahkan bahawa Laporan\\nFembaian yang dﬂerima tidak menuruukkan kecederaan\\nteruk. um laporun Isngkap psmbalan dtkemukakan hanya\\nLapomn Awal Pemanksaan sedangkan pengadu Ie‘|ah\\nmembawa mangsa unluk rawatan kesihatan G? dUE hospim\\nmasmgrmasmg dw Hospuan Sevdang dan Hospila\\\\ Pengapir\\nUniverswli Pulra Mzﬂaysla pads: 11 06.2021 ﬂan 14.12 2021.\\n\\n[45] Feguam psrcaya bahawa keuedensan yang amam. oleh\\npengadu mam. Udak senus di mana kecedel-aan Ierssbut\\nmarupakan bruises sahsp dan kscsderaan ssdem n Udak\\n\\nsw wAmAxv.ms:Iy5zavaFN§\\n  \\'Nnl2 sum ...m.. WW .. used m van; M .m,m.u., mm; dun-mm VII mum W Page 1: M an   [47]\\n\\n[45]\\n\\n[49]\\n\\n[50]\\n\\n[51]\\n\\n[521\\n\\nsw wAmAxv.ms1y5zavaFN§\\n-um smm ...m.mm be used m mm .. mmuny mm: dun-mm VI] muNG pm\\n\\nmenlnggalkan sebarang parul kekm malah Iwdak jugs\\nmenyehahkan kacacalan anggova badnn terhsdap mangsa.\\n\\nBsrkenaan dengan v-awalan Fslkiatn‘ Peguam hnqahkan\\nbahawa xamapae Ismpah enam (5) bulan se|e\\\\ah keuadlun\\nbarman mangsa mbawa unluk pemeriksaan dun ravmlan.\\n\\nMenuml rekod mangsa hsdnr kall panama ks hopntal psikialn\\naﬂsﬂah hanya pada1A.12.2(l21.\\n\\n0\\\\eh Mu sekivanya benar mangsa menghadapi masalah\\npsikiam my krilikm pasmah mangsa (Blah mbawa mum awav\\nunluk pemenksaan dsn awaken\\n\\nTempah s hulan sebelum rawayan Iurul diperlikax kerana\\nmungkinkah berlaku sesualu yang Iain damn: lsmpoh masa\\nlersebul sehmgga menyebabkan Vaporan Iersehul memam\\nudaklapal.\\n\\nLew. lanjul Peguam mengmuankan bahawn sepatmnya\\nrawaian mbual di Hospiliﬂ Semang dan bukan m Hnspi1.a\\\\\\nPengajar Unlversm Pulra Mamysxa yang merupakan huspnaw\\nswasta dw bawah keiolaan pihak Universih Pulra Malaysia.\\n\\nPeguam menquk kepada Eksibxl P23, muka suraI49. Rekad\\nRayuan ma 3 [13:13 perenggall 5 yang menyalakan.\\n\\n‘‘5‘ made ciricin Soﬁa mengala asilah a|au isu barman\\nkewewavan Derksmbangan, keeelsruan psrkemhangan samt\\n\\n{nsum develop mental drsorders] dan sehagainya \\'\\n\\n \\n\\nPlus .4 m :-\\n\\n [521 Juslem, kelmuan mangsa rnandapalkan rawalan swa\\\\ aw\\nkﬁmk aamam lsnabulmsmbukllkan mangsa max mengalaml\\nssbarang ksoederaan mama! yang senus.\\n\\n[541 Akhimya Peguam huiahkan bahawa Hakim Mahkamsh\\nSesyen lelah gags! memberi usnimbangan sewayamya\\nlamadap laklor-laklar mmgas. on.\\n\\n[55] Salem faklmusia muda ianu baruswa 23 xamm 4 bman semasa\\nkejauian. on zuga nanya bernendidikan Sijil Kemamran\\nMalaysia 1SKM) sahaja Klni on ndak bekena dan udak\\nmempunya\\\\ psmiapalan (slap setslah dmementikan danpada\\npusai Jagaan kanak-kanak Ievsebul\\n\\n[551 OKT Iidak Dernah memvurlyaw rekod Jenaysh Iampau dan mu\\nadalah kesalahan panama behau. Mempakan anak hangsu\\ndavipada lujuh (7) mang aavmzaramk dan linggal dengan\\nkakak beﬁau Eeﬁau mempunyai seurang bapa, berumur63\\nIahun dan uaak bekena manaksﬂa mu kepada om Ielah\\nmemnggal duma pads 23.5.2022 alubal penyakn kannmg\\n\\nmanis\\n\\n[57] on ssbagaw ssorang anak parempuan yang hemm\\nberkahwm Isiah mengambH langgungjawab unluk\\nmenggantlkan ternpal Ibunya den menjaga ayahnya an\\nkampung, Perak.\\n\\n[53] OKT ﬁdak hernia! mencedarakan mangsa, sudah msal dan\\nbenanyi unmk Iidak mengulangl pemuacan sebegim\\n\\nsw wAmAxv.ms1y5zavaFN§\\n  -ma smm ...m.mm be used m mm .. mmuny mm: dun-mm VI] muNG mm ’W- \\'5 =\\'“\\n\\n [59] Peguam OKT ken-umannya cewan mberikan kesempafan\\nuntuk mumlaﬂkan hujahan vambahan berkenaan dengan\\nyambar-gambar ﬂan rakaman CCTV.\\n\\n[an] um kerana Umiakan acau pemuacan on yang didakwa Ielah\\n\\'mendera\\' ﬂan/alau mexaxuxan perbualan ke1am (cruel\\nksatmervt) fsrhadap mangsa/anak pengadu sepsmmana\\nyang mputuakan olsh Hakim Mahkamah Sesyen ada\\\\ah udak\\nkansxstan ﬂan henepatan yang maria ﬁngkah Iaku OKT d1\\ndalam gambargambar pegurl ocrv lersebul. P161/A-G]\\n\\n[511 Gambar- gambar pagun ccrv Iarsebut hanya memaparkan\\nkeadaan Indwndu-Vndivldu u. dalam gambangamhar tersebm\\nlam: OKT den mangsa yang sanllasa bembah-ubah daﬂ segw\\nkedudukan/posxsx/pelgevaksn mereka dan Iidak ada\\npemuatan penderaan yang dx Vakukan we?‘ on larhadap\\nmangsa.\\n\\n[52] Ianya |angsung lidak mamaparksn sebarang perbuatan\\nberbahaya, bukamah perbualan \\'mendera“ mangsa nan\\nbukanxan punca mama yang menyebahkan dan/alau\\nperbualan yang bmeh memnggalkan kesan nauma/kevakmnn\\nkepada mangsa\\n\\n[63] Pemuacan-psmuaxan berkenaan adalah ndak kunsisten dam\\nsama sekali udak nulan/ndak dapat dlkailkan dengan\\nkwederaan menial (trauma) dan kecederaan ﬁﬂkal\\nsspemmana yang (elah auaporkan ax dalam Eksmhil P12(A—\\n\\nsyn wAmAxv.ms1y5zavaFNq .\\n  -um Sum ...n.. wmlxeusedmvamImenv\\\\g\\\\ruHIyM1M5 m.u.m...num puns! “=9 \\'°”\\'\\n\\n Hi dun iuga Laponln Pembalan mangsa (muka swat 47.52,\\nRekod Rayuan mm 3).\\n\\n[54] Seterusnya Feguam on menghulahkan bshawa rakaman\\nccw iailu Eksxbil FZBKA) dan P2B(B) max peman\\ndwserahkan kepada oxr sabalum on msmhual psngakuan\\nsa\\\\ah.\\n\\n[55] lanya hananoangan dengan ssksyen 51A Kanun Tamara\\nJena)/ah\\n\\n[ea] Psguam meruluk kes Data‘ Sari Anwar bin Ibrahim Iwn\\nFnndakwa Rays [201|\\'l] 1 MLJ 579‘ bemubung pemakaian\\nseksyen 51A Kanun Talacara Jena)/ah. Dw dalam kes ml‘\\nYang Arii Hakim Mamkamah Tmggl Kuala Lumpur lelah\\nnuenmen dapalan beﬁau (erhadap kepentingan seksyen am\\nKanun Talacara Jenayah as da\\\\am memaslikan keaduan\\nKepada semua pnhak\\n\\n[67] Eksrbm 923(5) amanan pemlng bagx\\nmsmbuklukan prima fauis case yang mann dckumen nu\\n\\n \\n\\nak pendakwaan untuk\\n\\nmempakan lakta yang menyebelahi pmnk pendakwaan Gan\\nsekiranyn on tidak membuut psngakuan narsaxan dan mgin\\nmsnemskan dengan pammaan. samssﬁnya dckumen\\nlersehul Vain: vniea ccw akan digunakan u\\\\eh pandskws\\ndalam perbwcariirlv\\n\\n[ea] AdsVah lldsk wajar Eksxbit P2815] dilandakan pads nan yang\\nsama on diialuhkan nukuman\\n\\nan wAmAxv.ms1y5zavaFN§ ,,\\n  -ma Snvmn-nhnvwmlxeusedmvamImenv\\\\g\\\\ruHIyM1M5dnu-mnlvunF\\\\uNG W \"av\" ‘*6\\n\\n [591 Ada\\\\ah dwlegaskan bahawa video cc1\\'v Eksxbxl P28(B) yang\\ndipavcayai sebagax om adalah di akuv setakal kehamran\\nom dw damn video wrssbul. Wabubagaxmanapun om\\nmenaﬁkan bahawalerdapatpemua|an—perbua1an pendenaan\\nsecara singkat a|au berparuangan yang di lukukan olsh pihak\\nOKT terhadap mangsa\\n\\n[70] oven in secara ksswmpulannya Peguam menghujahkan\\nbahawa alas faktor-laktar an ass, Sena kecederaan yang\\nHdak kelara‘ lerdapamya kelengahan sehingga enam (5)\\nhman unluk vawalan psmam meruyu agur hukuman (erhadap\\non mkevepikan aluu sekuanya ak mbsnarkan‘ on\\nmsmohon hukumsn berbenluk denda lidak max\\njamman sebanyak RM 1o,oun.uu   wang\\n\\nVI. DAPATAII MAHKAMAH\\n\\n[71] Mahkamah um sekalx Vagi merujuk kepada Pensyen Rayuan\\nbagt keduadua kss. yang neran mvaivkan m da\\\\am Rakod\\nRayuan Tambahan, liada mama-mana pmak mambang\\nisu berksnaan dervgan ssnuan yang mkanakan ke atas OKT\\n\\n \\n\\nan\\n\\n[72] one\\ndenuan sabwan dapal dibangkilkan a. dalam rayuan Ra vm   sek \\' agv mtagaskan bahawa Mada isu berksnaan\\n\\nAlasan Panghaklman mi akan nanya merujuk kepada raynan\\nmmauap hukuman sahaﬁ.\\n\\n[73] Rwukan kepada asksyen 305 Kanun Talacara Jenayah\\nadalah sepem berikut:\\n\\nsw wAmAxv.ms1y5zavaFNq\\n  -um Sum ...m.. WW be .15.. m van; M m\\\\g\\\\ruHIy mm; dun-mm VIZ mum puns! Fun ‘I M 2|\\n\\n ‘When plea of guuty lwmned ngm of appsaV\\n\\nWhen an accused has pleaded guilly and been eonmea by\\na Magistrate that men, there shaH be appeal m<oep\\\\ as to me\\nexfenl Of Iegewy ol the sentence \"\\n\\nU4] Merujuk Kepada ks: Rex v. Bull 35 Cr. Ann R. 134:\\n\\nvn me ﬁrs! place, we Court does nez after e sentence\\nwhich is me subject of en appeal merely because one\\nmembers of the Couﬂ might have passed 8 drffslsnr\\nsentence The ma] judge has seen me pnsonev and\\nheard ms hisfury and any wrtnssaes m character he may\\nneve enesen to ca//. me only when e senzenee appears\\nerr In principle [hat (his Court will alter if [M sentence ls\\nexcessive orilv adsquala to such an extent as lo sausly\\nwe Court that when n was passed mere was e reume Iv\\napp/y me ngm prmcip/ss, men Ilws com will intervene.\\n/n ueerarng me sppmplfals sentence e cum should\\nalways be guided by cellam considerations The ﬁrs!\\nand Iorsmosf rs me pub/M: mlsmsr.‘\\n\\n:75} Ss|emsnya dalam msnenlukan suatu nukumen, pnnsip an\\ndalam kas PP v. Loo Chuun Fall [1919] 2 IIILJ 25¢ ada!ah\\nditeliu seWni bsrikul.\\n\\nWham Hashim veop sam\\'./ (es mi men was) was ofma\\nView mar (‘Presidents and Magistrates are onen\\ninclined quite naturally to be avez—sympameo\\'c to ma\\n\\nsyn wAmAxv.ms1y5zavaFNq .\\n  -nee s.n.n...n..Mn.w...eM»,....engmn,.nn.m.n.nv...nune W Pa: hm\\n\\n accused. This re a normal psyehelogrealraactien to the\\nsiluat/an In whlch the lonely accused ls seen leerng an\\narray at witnesses wrth authollry. The mlligarlon\\nauhrnitteu by a eonvretedperson wlll also normally errng\\nup problems of lernlly hardslvlp and the other usual\\nprob/ems plllving. ln such a smratron the courts might\\nperhaps ﬁnd lt mmeult to decide es lo whet sentence\\nshould he imposedso thattne eonvretetlperacn maynal\\nbe lurther burdened wllh addltlollsl hardship. This in my\\nView re a wrong approach. The correct approach ls ta\\nstrike a balance, as lar as possible, between the\\nlnlslssts oflhs public and the rnterests olthe accused’\\n\\n[76] Mahkamah in: nuerutuk kee on La! Kim v. Public\\nProucuter[1w1]:IlI|.l111\\n\\n‘The Court wl//be leilrng in it: duryifir does no! impose\\na deterrent sentence in this case The gulllshmanl must\\nnot only date! the appellants from Damm/ﬂing 5 sfrlular\\noffence in Ms Iumra bill It must also deter nrhsrs from\\ncammilfing such an Uﬁ87IC9....\\n\\n/rl this case thsrsfbrs the punishment has to be\\nsufllclenlly harsh and propanronete [0 the harm done,\\notherwise society will leel that the ptrnrshrnenl ls\\nrnenilestly inadequate. The punishment must also\\nrelleet public dlseppmval cf the crime committed by the\\nappsllanls. see R v Roberts [1992] 1 All ER 60 at 61.‘\\n\\nSW wAmAxv.tnsJy5zavaFN§\\n  -we e.n.t ...nmn be ts... m van; .. m,n.u., aunts mmn ta mum W Pm \"1 M\"\\n\\n [21 on pula adavan Pembanlu Taaka m‘ Taska Babes 5. Tots\\nchuucare Centre, Aras Bawah. wok c. Kamaman Kaklxangan\\nHospman Serdang, .la\\\\an Puchong, moo Kzuang, Selsngnr.\\n\\n[3] Menurul pengadu, pads 86.2021 baHau |e\\\\ah menghamar\\nanaknya pads jam 7.50 pagn unluk uaga oleh OK7 di (aska\\nl.ersabu|\\n\\n[41 Kemudwannya pads jam 2.50 penang, on Ielah\\nmemaklumkan kepada Fangadu hahawa mangsa lelsh\\nmengaﬂami keeederaan pads pm Vuka dan kedua belah mata\\nd1 hahaglan bawah Iuka serla lebam CKT mamhsnvahu\\npengadu bahawa lsnuduh lidak perasan mengenai Vuka\\nlerszbut dun hanya sedar sslspas mendengar mangsa\\nmenangws.\\n\\n[51 Fakta selsmsnya adalah berkailan dengan usaha Fengadu\\nmendzpalkan dun menonlon rakaman CCTV \\'da|am tasks\\nberkenaan. Melalul raksman cow yang dmanda sebsgsu\\nEksvbil P1415), pengadu memiapau bahawa anaknya (srah\\ndwpsrlakukan dengan kasar dan ganas.\\n\\n[5] Lanju|an an nu, pengadu lelah membawa mangsa ke\\nBshagian Kecamasan, Haspilm Serdang pm 9 D6.2D21‘]am\\n1 JD pagi\\n\\nm Rujuk Eksxhit FZD mu Laporan Perubatan dan Hnspxtal\\nSerdang, m muka Surat ea Rekud Rayuan Jana 3, mm: yang\\n\\nsw wAmAxv.ms1y5zavaFNq\\n-um Sum ...m.. WW be used m mm u. nvwhuﬂlli mm; dun-mm VI] muNG mm m. x m 2.\\n\\n U7] D1 detanu kes R V. Hamil: [law] 1 All ER 541 tellen\\ndipuluskan hahawa:\\n\\n‘Courts should always bsar tn rnlnd lnat mmlnal\\nsentences were in almost every case tnlenae-1 to protect\\nthe pub/t\\'c, whether by punishing me alrender or\\nreion-mng turn, 01 by deterring mm and utllers, or by all\\nof mass lnlngs Comte cannnt and should rm! be\\ntmmmdlul L7! the important public mmenslen of mnunal\\nsentencing and the lntponenee of mamlslnlrlg putzlls\\ncunﬁdence lrl lne sentenclng system.‘\\n\\nma] Manakala berkenaan dengan bidang kuasa rayuan, pnnsip\\nkas H: v. Llnu Len Ho. [2015] 4 cu m‘ dlpuluskan\\nbahawa:\\n\\nThe appellate calm can and will inlerfevs In tne\\nsentence imposed by me lows! caun mt ls satlsﬁsd met\\nany anne fc//owmg Iour gmunds are made out.\\n\\n(5) The sentenarng [udgs had made a wrong declston\\nes to me proper faclualbasls for tne sentence.\\n\\n(DJ There had been an em)! on me pen DI the trial\\n/udgs tn appnactaflng the material facts placed\\nbefore film.’\\n\\n(0) The sentence was wrong ln prlnclple; ov\\n\\nla) The sentence lmposed was manrieslly excessne or\\nlnat1aquala.\\'\\n\\nan wANAxv.lnsJy5zavaFN§ ,,\\n  -we Smntn-nhnrwmlxeusedmvamlnentigtnnﬂlyMimsdnu-mnlvunF\\\\uNG we Pm\" \"-\\n\\n V9] Mahkamah mi merujuk kapada Alasan Psnghakiman cleh\\nHakim Mahkamah Sesyen an muka suraI11 mngga as. Rekcd\\nRayuan Jmd 1 dan berseluju (emadap a\\\\asan-a\\\\assn\\nmbenkan hukuman yang amenkan ke alas on.\\n\\n[an] Di aawam msmbual kapulusan lamadap hukuman, Hakim\\nMahkamah sesyen |e\\\\ah memmbang semua Vaklur\\nIarrnasuklah memaluhi kehandak undsngmndang,\\nkspenhngan awam, pangakuan bersalah on lak\\\\or—Vakwr\\nmmgasi dan mjukan lemadap beherapa kes yang bersamaan\\n\\n[s11 seam asasnya rzryuan lerhadap hukuman yang amujanxan\\nMeh on ada\\\\ah kersna saksyen yang dxperluduhkan\\nIerhadap om hdak mewajlbkan hukuman penjara sebahknya\\nmembenarkan hukuman denda dwkenakzn,\\n\\n[32] Dalam isu mi adaksh bermakna hukuman yang le\\\\ah\\ndvkenakan kn alas OKT ada\\\\ah salah Ruwk kepada seksyan\\n1730:) Kamm Tatacava Jenayah (Akla 59311\\n\\n-(17) Jika |enuduh mengsku sa\\\\ah alas penuduhan nu, sama\\nada da\\\\am bentuk asamya acau yang dipinda‘ akuan mu\\nhendaldah dwrekndkan dan ma blﬂeh disabxlkan atasnya dan\\nMahkamah hendaklah menialuhkan hukuman menwkul\\nundang-Imdang:\"\\n\\n[931 Berdasarkan seks‘/en :11(1)Ia)A1<1a Kanak-Kanak, hukuman\\nyang bmeh dqaluhkan |emadap on ada\\\\ah ‘.apab\\'1\\\\a\\nmsahllkan ho\\\\sh didemia lldak mevehmu hma puluh nbu ringgn\\n\\nsw wAmAxv.ms1y5zavaFNq\\n  -ma 5.11.1 ...m.. WW be .15.. m mm 1.. nﬂmnnﬂly mm; dun-mm VI] muNG pm >=a- 12 0\\' 1-\\n\\n atau dxpemarakan sslama Iempuh «ask mslebmi dua punm\\nvahun alau keduaduanya ~\\n\\n[941 Sebagalmsna dmyalakan pads perenggan 22 Nasan\\nPenghaldman Hakim Mahkamah Sesyen, di muka sum la\\n.mia 1. Rakud Rayuan yang Ialah menuuk kepada kes Lolllln\\nBusmun v Public Pro-acueor man: 5 mm 211, ‘alas\\nbahswa spams uaaanya hukuman mandalnu dmyalakan.\\nhaknm mempunyaw bud! mam unmk mengenakan hukuman\\nyang bersesuaxan dengan kesawanan dam on\\n\\n[as] (Nah nu, Mahkamah mi bersemu Ham Mahkamah Sesyen\\nuaak me\\\\akukan kasawahan apanua mengenakan hukuman\\npenjara ﬂan bukan hukuman denda lerhadau DKT\\n\\n[35] Hukuman Denjara yang dikenakan a\\\\eh Hskxm Mahkamah\\nsesyen sexexan behau menimbangkan Kesalahan yang\\nanakukan alsh om, kepenlmgan awam dan lakwr-faklcr\\nmiﬁgasi.\\n\\n[an Hakxm Mahkamah Sesyen telah menuhs berkenaan dengan\\nperkara mi secara kcmprehenswfpada muka sure! 19 Mnpga\\n35\\n\\n[aa] Mahkamah mu lurm meneliti Iemadap lakmr mmgasi\\n\\nkepenlmgan awam dalam memuuusm unruk mengekalkan\\nhukuman mg dijaluhkan men Hakim Mahkamah Sesyen.\\n\\nsw wAmAxv.ms1y5zavaFN§\\n  -um Sum ...m.. WW be used m mm u. nvwhuﬂlli mm; dun-mm VI] muNG pm Pm 15 M1-\\n\\n [as] Mahkamsh mangambu laK|cr»lak|or m\\\\ligas< yang amenxan\\nmsh OKT bshawa hsﬁau adalah hanya bemmur hanya 23\\nvamm A bman semasa kejaman, berkamlusan sm. snak\\nbnngsu nan sepalulnya membanlu keluarga msncan nafkah\\nkerani masmah xasmanan hapanya. Vbunya Ielah meninggal\\nduma dsn beﬂau lsrpaksa bemndak mamaga bapanya\\nSelspas kejadwan beﬁau aikanaxan sudah musk bekena\\n\\n[901 Pm mass sama Mahkamah peﬂu mmangi dengan\\nkepenlmgan swam. CKT hukan sahaja Iemba| dl GHVEVVI kes\\nyang meunatkan saurang kanak-kanak yang hanya beruswa 1\\nIahun a buhan mam-an behau benugas dx puss! 1agaan yang\\ndiamanahkan untuk msmaslikan Jagaan temam bagl anak\\nIerssbul.\\n\\n[911 Ka,aman sepeni . karap berlsku den masysrakal panu\\ndituniukkan pengajaran peﬂakuan ganas aana pangabauan\\noamaaap kanak-kanak sdalah suam yang |idak bavk dan perlu\\ndxkenakan lmdakan tsgas bukan setakal pembayaran denda\\nsahala.\\n\\n[92] Melahn r-akaman ccw .1. Exam 1223(5) menuniukkan\\npsﬂakuan on msmukul sarla menghempas mangsa ke\\nIamav dan wenya aaavan salu tindakan yang max wajar\\nIarhadap mangsa yang hanya herusna 1 (ahun a bman\\n\\n[93] mm mamnu pemmbangan adalah iaklor kecedevaan\\nIemadap mangsa. Wilaupun geguam on menghujahkan\\nbahawa Mada Keoedsman ﬂzlka1 yang leruk lerhadap\\n\\naw wAmAxv.ms1y5zavaFN§ _\\n  -ma Snvmnnnhnvwmlxeusedmvan;mem\\\\g\\\\ruHIyMimsdnu-mnlvunF\\\\uNG W M 1-W-\\n\\n mangsa‘ «exam ianya masih suam kecedeman Iarhadap\\nsearang kanak»kanak yang mak boksh mevawan\\n\\n[94] Merujuk kepada rskod parubalan psﬂdalri (1iE|s\\\\bitP23 muka\\nxural 51 dan 52. Rekeu Rayuan ma 3. jevas menunjukkan\\ndapaxan nleh Fegawaw Pevubaan bahawa mangsa\\nmenga\\\\amikeua1aman sues pzsca trauma (PTSD) dan wanya\\nmemberi Kesan (erhadap perkembangan kognnif, emosw\\nImgkah laku mangsa Axmamya ihu mangsa sacrang\\nPegawal Perubacan larpaksa bemenli kena unmk\\nlllemaganya bagi menjaganya\\n\\n[951 Peguam menghwahkan bahawa tampon masa sebelum\\nrawaian pmkialri ml auaxukan msnunjukkan hahawa uadanya\\nmasa\\\\ah senus kepaaa mangsa Walau pun Mahkamah Udsk\\nmenjumpax alasan mengapa kewewacan ml Ierjadi, telapw xanya\\npaslilah alas «em: mangsa dan keluarga mu senam daVam\\nmenangani «muma PTSD lsrsebul.\\n\\n[96] In: aapamimmuskan melalui lapor-an Hnsi|a\\\\ Psiklaln Iemshm\\npads Eksmm P23 tsrsebut.\\n\\n \\n\\n[97] Trandlerk keskesmehba|kankesalahandibawahseksyan\\n30(1)(a| Akﬁa Kanak-kanak menuruukkan [rend hukuman\\nyang sam.\\n\\n[93] Eardasarkan kepeda alasan-axasan di mas Mahkaman um\\nmendapam bahawa hukuman yang «swan dhaluhkan ulah\\n\\nsw wAmAxv.ms1y5zavaFNq .\\n  -um Snr1n\\\\nnuhnrw\\\\HI>eusedmvammsnr1g\\\\ruHIyMwsdnu-mnlvunF\\\\uNG puns! 7 *5 “\\'1\\'\\n\\n Hakim Eicara adalah adil ﬂan ssumpax yang mana Mahkamah\\nin dak perlu un|uk menguhah penmah Isrsebui\\n\\n[99] Hakim mesa ﬁada malakukan spa-spa krmaman segv (akta\\nﬂan urmang-undang. Huxuman (s\\\\ah dussmlhangkan dengan\\nfakior-lakmr rayuan alsh om dan juga kepevmngan swam\\n\\n[100]Mahkamah wn mengekmkan venmah Hakim Mahkamah\\nSesysn benankh 20.11.2022. O\\\\sh Mu Rayuan Fandakwa\\nRaya (erhadap hukuman dan rayuan sﬂang u¥eh Tenuduh\\nada\\\\ah dmﬂak   Mahkamah Tmggx Jenayih (7) Shah\\nBevlankh  3i \\n\\nPmsk-pmak:\\n\\nPen-ayu/Respam1an—\\nTuan Lnkman bin Kaiim\\n[Pejabac TimbaVan Pendakwa Raya Negen sewangml\\n\\nResponden/Perayu»\\n\\nuik lllohd Faris Synzwan bln hinuuamlnl\\nMohammad Shaﬁq bin Muhammad Laxlm\\n[Tetuan Namrl Mahmud. Fans 5. Nadia]\\n\\nsw rvAmAxv.msJy5zavaFNq . ,\\n  -ms Sum In-nhnv WW he used m mm u. nvwhuﬂly mm; dun-mm VII mum mm P v 1\\' M 2\\'\\n\\n merewel mangsa menyalakan hahawa marlgsa rriengeleirii\\nkeoeoereeri seperli berikul.\\n\\n\"Pemerlksaan Flslkal (Physical Exerriirieiiorri:\\n\\nAlan, pink, ::n< zsees, good pulse volume. warm peripneriee,\\nnot (achypneic\\n\\nUpper limbs. bruises over rigrrr elbow -lerii.\\n\\nLower limbs‘ rrrillrirrie bruises over laileierel iiiigri. aria rigm\\neeil -leiri ska linear eereieh mark over rlgm cheek ~acrii,\\npelacrilae bilateral lower eyelid.“\\n\\nls] selaniuzriya rujuk Lapcrsn Perubeleri Exsloil F21 di mukai\\nsurai M, Rekod Rayuan Jllid 3:\\n\\nMulllple ecers noise.\\n\\n1 2am and Liam linear eoresiori over me riglil cheek.\\n\\n2 Bruise aver irie riglii lower eyelld. radish in colour, size\\naround 2cm.\\n\\n3 Bruise over lelerel aspect cf leﬂ proximal radius, yellow\\ngmanlsh in oolour erio srze 05cm x 0.59m.\\n\\n4 Bruise over leu rriidsriin, yellow greenish iii wioul and\\nsize 1cm x «cm\\n\\n5 Bruise uvsr leii medial Hugh, yellow greenish iri mlour\\nand size zorri x iorri.\\n\\n6 Bmise aver rlgm medial lmgn, yellaw greenish in colour\\nand sIZe< u.5ciri.\\n\\n7 Bruise over right rriidsriin. yellvw greeriieri in colour and\\nsize 1 cm x 0 5cm.\\n\\nSIN l\\'vA:ilAxv.lnsJy5zavaFN§\\n-roe Sunni In-vlhnrwﬂl be used e mm ms nrwlruilly mi. dun-mm via nFluNG rm rue. A 91 ac\\n\\n [0] Pengadu Iurul membual salu Laponan P3115 yang dwandakan\\nssbaga|Eks1hilP3 darn balsh Lﬂrujuk di muka sm-am, Rekod\\nRayuan mm 3.\\n\\n[101 on lslah dwluduh di Mahkamah Sssyen Sepang pads\\n21.05.2021 ﬂan diluduh uz bawah seksyen 3l(1)|a) ma\\nKanak Kanak 2001.\\n\\n[11] Kes \\\\e|aI1 anecapkan unluk kncava pemm kali perlama pads\\n13.07.2021 selslah rsprssamasi on mwlak namun\\ndwangguhkan unluk OKT memiailkan plea bargammg den\\nxamumannya pada 21.09.2022 drmaklumkan hahawa plea\\nbargaining yang dipahnn lelah mxolak\\n\\n(121 Pads wikh mam selamulnya imlu 30112022, on le\\\\ah\\nmengaku salah (erhadap penuduhan dun Halum Mahkamah\\nSesyen telah menarima dan merekodkan uengakuan sa\\\\ah\\non Ruiuk muka swat 17 hingga 22 Rekod Rayuan Jvhd 2.\\n\\n[13] men nu DKT (elah mdapau barsalah ﬂan disabnkan dengan\\nImkuman d1 bawah seksyen 31(1)(a) Akla Kanak-Kanak\\nsspemberikur\\n\\n11) FenjaIa15 bulan davi vankh mun hukum\\n\\n(11) OKT nendakvan sempumakan ban berkelukuan hawk\\ndengan jumhah jamman bemagarsebanyak RM5,0D0,DD\\ndengan ssulang pslqamin h5g1 tempo?! salama dua (2)\\nlahun di bawah seksyen 31(2)(a) Akla Kanak-kanak.\\nLnpar dun d1 Ba|a1PoIis berhamuiran lempat nnggav OKT\\n\\nsw rvAmAxv.ms1y5zavaFN§\\n10.2 5.11.1 ...m.m11 be used .2 mm 1.. 0011.11-y mm. dun-mm VI] .r1uNG pm Pan: 5 n. is\\n\\n seuap salu hanbulan seﬁap bulan sepamang dua cam\\nfzrsebut se|e\\\\ah sewesav menjalsni hukuman penjara\\n\\n(m) om mxenenaakz melaksanakan Pevimah Kmdmat\\nMasyarakal selama (empeh seratus enam puluh (160)\\n]am agnagat dengen psmanlauan Pegawax Kebapkan\\nMasyarakal dakxm Iempoh enam 16] bman dad lankh\\npenniah se\\\\aras dengan pemmukan as hawah seksyen\\n31(2)(n) Akca Kanak-kanak.\\n\\nW. HUJAHAN PENDAKWA RAVA\\n\\n[14] Rujuk kenada Peusyen Rayuan bag! ksduadua kes. yang\\nwan dwankan an dalam Rekod Rayuan Tambahan‘ (iada\\nmana-mans pmak msnmangknkan wsu berkenaan dsngan\\nsatman yang dikenakan ke alas OKT\\n\\n[15] Rujuk pula kepada Nola Ksterangan a. da\\\\am Rekod Rayuan\\nJﬂld 2 G1 muka sum: 17. OKT telah mengaku sa\\\\ah (erhadap\\npenuduhan yang amacaxan. om iuga telah duersngkan den\\namamxan swan dan aklbat pengakuannya man on masm\\nmengaku salah. on jugs ada rﬂwakﬂi o\\\\eh Peguam semasa\\npengakuan sa\\\\ah Iersanut dan wanya dmuax lanpa syaral.\\n\\nus] Dleh nu ma isu berkanaan dengan sabilan dapat\\ntﬂbangkltkan til dalam myuan kes ink\\n\\n[17] Pmak pendakwaan an dalam Pemsyen Rayuan di muka sursl\\n5 mngga 9, Rakad Rayuan Tambahan menyaxakan aVasan\\nmengapa Timbakln Pendakwa Rays hdak berpuas nan\\n\\nsw wAmAxv.ms1y5zavaFNq\\n-um Sum ...m.. WW be used m mm u. nvwhuﬂlli mm; dun-mm VI] muNG Wm! mg u mi\\n\\n dengan kapulusan yang diberikan oien Hakim Mahkamah\\nsesyen\\n\\n[18] Secara nngkasnya, pihsk pendakwaan msnyalakari bahswa\\nhukumen yang diberikan terlampau ringan (mannaauy\\ninadequate) ks atas OKT bagi kesai.-man di bawah seksyen\\n31(I)(a)Akta Kanik-Kanak 2001.\\n\\n[19] Hukuman W dibsrikan Ianpa mengambii Kira gravliti\\nkesaianan sens kekeriapavi beﬂakunya Kesalahan seumpania\\nIN kebeiakangan Ini ﬂan ienamaau mengimbil Kira fnklcr\\npengakuan salah oien on\\n\\n[20] Tlada sabararig special cncunisiances yang boien\\nmenjuslmkasi hukuman-hukuman yang rsndah Isrsebul\\ndiberikan Kepada OKT dan is amallah Udak berpadanan unluk\\nmenjaga kepenlirlgarl awam den menjadi iakmi deterrence\\nsens Dengaiaran kepada on uan aakai pesaian (woi.IId—be\\noffends!) yang lain.\\n\\n[21] Di daiam nuianan raynannya, pihak pendakwaan\\n\\n \\n\\nmerighuiahkan bahawa Hakim Bicara gagai mengambi\\nkessluruhan lakia kes dengan lelill dslam menenmkan\\nhukuman yang 5%suai tevhadap OKT\\n\\n[221 Selemsaya menyaiakan bahawa Akia Kansk-Kanak 2001\\nmen\\n\\n \\n\\nvat kanalvkanak sehagai kunci ksniaupan.\\npembangunan dan kemakmuran masyarakal yang sekahgus\\nmengakui bahawa kanak-kanak men-enukan peninaungan\\npemahharaari ﬂan bariluan khas sslspas kelamnan unluk lurul\\n\\nSIN i\\'vAniAxv.ins1y5zavaFN§\\n  -nag a.n.i In-vihnrwm be used M mm a. nﬂﬂinnﬂly MIN: dun-mm y.. arium mm P-w 7 M 26\\n\\n sena dawn ﬂan menyumbang secara posmt ka arah\\nmemhenluk suam masyavakal Ma\\\\ay:As yang unggul.\\n\\n[23] Mangsa adakm kanak-kanak yang herumur 1 (ahun s bman\\nyang mama maslh sangal muda darn (idak msmpunyai apa-\\napa ksupsyaan unluk mehndungw mrinya. Manakala on\\nada\\\\a7I Fambanlu Taska yang sudah devmsa dun\\ndiamanahkan unluk menjaga mangsa\\n\\n[24] Fmak pendakwaan m da\\\\am rayuannya msrujuk kepada\\nmuka sural 5, ma 3 Reknd Rayuan bagi menurwkkan betxpa\\nksiamnya perlakuan OKT Ierhadap mangsa\\n\\n[25] Tmdakan ganas (emadap mangsa yang dihmahkan o\\\\eh\\nPendakwa Raya adalah dengan menemx rakaman CCTV\\nadalah\\n\\nm on (elah menoederakan mangsa dengan kasar sena\\nbenindak ganas dengan Cara menghempas mangaa ks\\nmam, menarik hangan dan menampar peha mangaa.\\n\\n(H) Femsnksaan pemuaxan lemadap mangsa mendapan\\nmangsa msngalalm keuederaan ﬁzlkal yang pelbagaw\\nUapursn perubalan :11 make sure: 37dan 41 Jim 3 Rekod\\nRayuan dimjuk)\\n\\n(HI) Pamanksaan pamnan |smadap mangsa mendapau\\nmangsa mengalami kecekuruan slress pasca trauma dan\\nkeadaan Ierssbul «elm: memberikan kssan bukan hanya\\nkepada psrkembangan sma -aeaual, xogmm dan\\nlmgkahlaku mangsa, ma\\\\ahan ibu bapa dan keluargi Jllga\\nIurul nemesan bwamana ibu mangsa Ierpaksa bemanu\\n\\naw wAmAxv.ms1y5zavaFN§\\n  -ma Sum ...ua.. WW be used m van; me m\\\\g\\\\ruHIy mm; dun-mm VII mum pm Fri: a mu\\n\\n kena ksvana keadaan emusi mangsa yang tidak soabiv\\n(Iaparan perubaxan di muka sure! 44 den 46 Jilid 3 Rekod\\nRayuan mmuk)\\n\\n[25] Mangsa mengaxamu trauma keoewuan suass pasca trauma\\ndan kaadaan terssbul «slan membenkan kesan bukan hanya\\nkepaaa perkembangan emosx, swan, kognmv dan lingkahlaku\\nmangsa\\n\\n[27] Fendakwaan luvu\\\\ barman bahawa pmdaan kepada Akla\\nKanak—KarIak Dada Blwn 2016 dengan menaikkan hukuman\\ndsnda danpada RM2o,ooa.oo ka RM50,000 oo dan (ampoh\\nhukuman pemara duamban daripsda an lahun ke 20 Oahun\\nmsmbayangkan swkap Parhman msmandang beral a|as\\n\\nkesalahan per-deraan Ierhadav kanak—kanak\\n\\n[23] Permakwaan manghxqahkan baharwa salu hukuman banal\\nhams\\\\ah dmenxan agar pengmaran diberikan bukan sav-a;a\\nkevada csnuauh, mamh orang lam supaya Iidak melakukan\\nkesalahan yang sama an masa hadapan\\n\\n[291 Pendakwa Rays memohun supaya hukuman lemadap on\\ndlkelepikan dan mganlikan dangan sa|u hukuman yang Vebih\\nImggn.\\n\\nV. HUJANAN FEGUAM\\n\\n[so] Peguam on L1! da\\\\am hujahannya luml menyatakan bahawa\\nHukuman yang dijatuhkan oleh hakim bicara adalah\\n\\nsw rvAmAxv.ms1y5zavaFN§\\n-ma Sum ...m.. WW be used m mm ua nvwhuﬂlli mm; dun-mm VI] .nuNG pm Plea u ulzl\\n\\n manrfesr/y excessive dan bmeh mkalakan bsrsﬂat banenman\\nla\\\\ah dlhukum (erhadap Psrayu dan/atau Respondan.\\n\\n[313 Peguam rnenghumhkan bahawa dsngan Jabs :1! dalam\\nseksyen 31mm Ana Kanak-Kanik zoo: lsrsabux. benluk\\nhukumsn yang panama yang ax perunlukkan adalah hukuman\\nberbemuk dends wm ads\\\\ah jslas memmjukkan bahawa\\nkesalahan m bahawa sexsyen mi adamh salu kesalahan yang\\nwen m denda.\\n\\n[32] Hukuman bevbanluk pemara pma adalah merupakan saw\\nwhen apabna dinyalakan sehagai “almf sekiranya hukuman\\npenjara adalah Vebih bersesuawan diksnakan kepada psrayu\\ndanlalau responden d‘ dalam Kes In‘.\\n\\n[33] Dawn wsu ini Peguam OKT ssvarusnya menghujahkan\\nhahswa hukuman Dams:-a jug: bo\\\\eh msyaralkan haIsama-\\nsama hukuman denda seklranya perayu gagal unmk\\nmembayar denda yang akan m kanakan oxen Hakwm\\nMahkamah Sesyen\\n\\n[34] OKT meVa|u7 naslhal yang telah d1 berikan uleh pihﬂk Deguam\\n(shah menukar pengakuan bagi tujuan memudahkan prose:\\ndw Mahkamah Perbuzaraan an Mahkamah ﬂan dengan Nat\\nImluk mermapalkan Sam hukuman berbentuk denda dan OKT\\nbersedxa unluk hukuman denda tersebul\\n\\n[35] Peguam menghmahkan banawa Kepenlmgan seseorang\\nlenuduh dw dalam sesuam kss iuga lidak bo\\\\eh m pindang\\n\\nsw wAmAxv.ms1y5zavaFN§\\n-um smm ...m.mm be used m mm .. mmuny mm: dun-mm VI] mum pm m. In muDALAM MAHKAMAH TINGGI DI GEORGETOWN \\n\\nDALAM NEGERI PULAU PINANG \\n\\nRAYUAN SIVIL NO. PA-11BNCVC-4-03/2023   ANTARA   AT ENGINEERING SOLUTION SDN BHD \\n\\n(NO SYARIKAT: 631531-X)   ...PERAYU   DAN   RANK ELECTRONICS SDN BHD \\n\\n(NO. SYARIKAT: 1039886-D)   .RESPONDEN   DALAM MAHKAMAH MAJISTRET DI GEORGETOWN \\n\\nDALAM NEGERI PULAU PINANG \\n\\nWRTI SAMAN NO. PA-A722NCVC-430-08/2021   ANTARA   AT ENGINEERING SOLUTION SDN BHD \\n\\n(NO SYARIKAT: 631531-X)   ...PLAINTIF   DAN   RANK ELECTRONICS SDN BHD \\n\\n(NO. SYARIKAT: 1039886-D)   .DEFENDAN   JUDGMENT \\n\\n(APPLICATION TO STRIKE OUT THE APPEAL)   09/02/2024 12:44:27\\n\\nPA-11BNCvC-4-03/2023 Kand. 17\\n\\nS/N gjG98ExN7UePkJ2VPuxKwA\\n**Note : Serial number will be used to verify the originality of this document via eFILING portal\\n\\n\\n\\nPRELUSION \\n\\n[1] The Appellant-Plaintiff (P) and the Respondent-Defendant (D) \\n\\nwent to trial in the Magistrates Court (MC).   [2] The MC dismissed P’s claim. P appeals to the High Court.   [3] In the Appeal proceeding, D filed an Application to strike out the \\n\\nAppeal on the ground that the Appeal is “null and void” because P did not \\n\\ncomply with the mandatory Order 55 Rule 3(4) of the Rules Of Court 2012 \\n\\n(ROC 2012). Order 55 governs post-trial Appeals from the Subordinate \\n\\nCourts to the High Court.   [4] D’s Application to strike out the Appeal is Enclosure 4 in this \\n\\nAppeal proceeding.   THE PERTINENT CHRONOLOGY \\n\\n[5] This is the pertinent chronology relating to this Appeal—  \\n\\n24.2.2023 — MC dismissed P’s claim \\n\\n8.3.2023 — P filed Notice Of Appeal (NOA) — within time \\n\\n10.3.2023 — P’s deadline to file and serve the NOA — 14 days \\n\\nfrom the “date of decision” per Order 55 Rule 2 and \\n\\nOrder 55 Rule 3(4) of the ROC 2012 \\n\\n6.4.2023 — P finally served on D the NOA – 27 days out of time   THE LAW ON THE COMPETENCY OF APPEALS \\n\\n[6] First, the Court Of Appeal—in Gurbachan Singh v Seagrott & \\n\\nCampbell (No 2) [1962] 1 MLJ 370 (CA); [1962] LNS 48; [1962] 1 MLRA \\n\\n91—propounded the principle that “an appeal could only be said to be \\n\\nbrought when the notice of appeal was served on the respondent”. \\n\\nS/N gjG98ExN7UePkJ2VPuxKwA\\n**Note : Serial number will be used to verify the originality of this document via eFILING portal   [7] Second, Gurbachan Singh (supra) was cited with approval by the \\n\\nFederal Court in Tong Lee Hwa & Anor v Malayan Banking Bhd [1978] 1 \\n\\nMLJ 257 (FC); [1978] 1 MLRA 342, at MLJ page 258. The Federal Court \\n\\nalso held (at MLJ page 258) that “there is a statutory requirement for [the] \\n\\nservice of the notice [of appeal]”. The Federal Court dismissed an \\n\\napplication by the appellant there for an extension of time to serve the \\n\\nnotice of appeal out of the prescribed time to serve the notice of appeal, \\n\\nand struck out the appeal.   [8] Third, in Tong Lee Hwa (supra), the Federal Court also reiterated \\n\\nwith agreement another judgment of the Federal Court in Tan Ting Kok v \\n\\nCheong Lep Keen & Anor [1969] 1 MLJ 153 (CA); [1969] 1 LNS 186; \\n\\n[1969] 1 MLRA 197, and held (at MLJ page 153) that—   .when notice of appeal is filed with the court, a copy must at the same time \\n\\nbe served on the respondents or their solicitors. On this interpretation, the \\n\\nFederal Court was of the opinion that where notice had not been served on \\n\\nthe other side within time, the appeal had not been brought before it.   [emphasis added]   [9] Fourth, the Court Of Appeal in Majlis Perbadanan Kangar v Sonati \\n\\nDevelopment Corporation Sdn Bhd [2007] 1 MLJ 133 (CA); [2006] 6 AMR \\n\\n647; [2006] 4 CLJ 953; [2006] 2 MLRA 331, cited the three case law \\n\\nauthorities above and held that— \\n\\n[12]  .this court is bound by the decisions in Gurubachan Singh, Tan Ting \\n\\nKok v Cheong Lep Keen & Anor [1969] 1 MLJ 153 and Tong Lee Hwa, so that \\n\\nthe result still remains that an appeal is not \\'brought\\' until the notice of \\n\\nappeal is both filed and served. Accordingly, the earlier appeal lodged by \\n\\nS/N gjG98ExN7UePkJ2VPuxKwA\\n**Note : Serial number will be used to verify the originality of this document via eFILING portal\\n\\n\\n\\nthe instant appellant had not been properly brought and was utterly \\n\\nincompetent.   [emphasis added]   THE PERTINENT FACTS HERE \\n\\n[10] In P’s Affidavit In Reply to this Enclosure 4, P admits that the NOA \\n\\nwas not served within time. P avers that it was inadvertent. P avers that \\n\\nthey only realised that the NOA was not served when they were preparing \\n\\nthe Record Of Appeal for filing.   P’s ARGUMENTS \\n\\n[11] P submits that this Court can exercise its discretion under Order 55 \\n\\nRule 13 to allow P to serve the NOA out of time.   [12] P submits that their omission to serve the NOA was inadvertent.   [13] P submits that their omission to serve the NOA on D caused no \\n\\nprejudice to D.   MY FINDINGS \\n\\nDiscretion under Order 55 Rule 13 \\n\\n[14] On the use of the Court’s discretion under Order 55 Rule 13—I set \\n\\nout below the terms of Order 55 Rule 13 for reference—   High Court may direct service on person not served (O. 55, r. 13)   13. When an appeal is called on for hearing or at any previous time on the \\n\\napplication of any person interested, the High Court may direct that the \\n\\nrecord of appeal, or any notice of cross appeal, be served on any party \\n\\nS/N gjG98ExN7UePkJ2VPuxKwA\\n**Note : Serial number will be used to verify the originality of this document via eFILING portal\\n\\n\\n\\nto the cause or matter who has not been served therewith, or on any \\n\\nperson not already a party to the cause or matter, and may, for the purpose of \\n\\nsuch service, adjourn the hearing upon such terms as are just, and may give \\n\\nsuch judgment and make such order as might have been given or made if the \\n\\nparties served with such record or notice had been originally parties.   [15] I find that Order 55 Rule 13 is not applicable. First, Order 55 Rule \\n\\n13 requires an application to be made by a “person interested”. P has not \\n\\nmade such an application here. P merely submits that this Court can \\n\\nexercise its discretion under Order 55 Rule 13 to allow P to serve the NOA \\n\\non D out of time.   [16] Second, Order 55 Rule 13 relates only the Record Of Appeal and \\n\\nthe Notice Of Cross Appeal. The NOA in an appeal proceeding is \\n\\nexpressly not included in this Rule.   [17] Third, I cannot exercise the discretion available under Order 55 \\n\\nRule 13 to circumvent or override the mandatory requirement to serve the \\n\\nNOA under Order 55 Rule 3(4)   Inadvertence \\n\\n[18] On the submission that P’s omission to serve the NOA was \\n\\ninadvertent—I am of the view that the explanation that P gives does not \\n\\nabsolve or relieve P from complying with the mandatory requirement to \\n\\nserve the NOA, and to serve it within the prescribed time. This \\n\\nfundamental non-compliance is fatal to P’s Appeal.   Prejudice \\n\\n[19] On the submission that P’s non-compliance with the requirement \\n\\nto serve the NOA did not cause D any prejudice—I am of the view that P’s \\n\\nS/N gjG98ExN7UePkJ2VPuxKwA\\n**Note : Serial number will be used to verify the originality of this document via eFILING portal\\n\\n\\n\\naverment that their failure to serve the NOA on D did not cause any \\n\\nprejudice to D—is untenable. I find that P’s non-compliance had indeed \\n\\ncaused a prejudice to D.   [20] D was successful in the MC, after the trial of the case. I reiterate \\n\\nthat the MC’s judgment in favour of D was given on 24.2.2023. P had 14 \\n\\ndays to lodge an Appeal. Fourteen days after 24.2.2023 was 10.3.2023. \\n\\nThe deadline to file and serve the NOA was 10.3.2023. P filed the NOA \\n\\non 8.3.2023 but did not serve it on D. In other words, D was not notified \\n\\nabout P’s purported Appeal.   [21] On the 10.3.2023 deadline, D must have, in some manner, waited \\n\\nto see if P would serve on them a NOA. When no NOA was served, D \\n\\nwould have concluded that P was not appealing against the MC’s \\n\\ndecision. D would have thought that the dispute concerning the rights and \\n\\nobligations of the parties in the MC suit had finally ended. D would have \\n\\nfound closure to the litigation that P had instituted against them.   [22] It was not until about a month later, on 6.4.2023, that P served the \\n\\nNOA on D. D must have been, to say the least, surprised by the purported \\n\\nservice of the NOA on them. D would have thought that all of a sudden, P \\n\\nis again thrusting D into further litigation on the same dispute.   [23] This, I find, is the prejudice that is caused upon D. I am compelled \\n\\nto find that P’s non-compliance of not serving the NOA on D within time, \\n\\nis seriously prejudicial to D, with the manner of prejudice that is not \\n\\nreparable or compensable. The non-compliance is not curable and is \\n\\nprocedurally lethal, rendering P’s Appeal defective and hence \\n\\nincompetent.   S/N gjG98ExN7UePkJ2VPuxKwA\\n**Note : Serial number will be used to verify the originality of this document via eFILING portal\\n\\n\\n\\nCONCLUSION \\n\\n[24] On the case law authorities that both guide and bind me, and for the \\n\\nreasons that I allude to above, I allow D’s Application in Enclosure 4, and \\n\\nstrike out P’s Appeal, with costs of RM7K to be paid by P to D by 7.3.2024. \\n\\nCosts are subject to the allocator.   Dated: 9 February 2024   signed \\n\\nKENNETH ST JAMES   Judicial Commissioner \\n\\nPenang High Court   Counsel/Solicitors   For the Appellant: Syarifah Amnah Syed Zainal \\n\\n [Messrs. LC Ng & Associates \\n\\n(Ipoh)]   For the Respondent: Cheah Ee Keong \\n\\n [Messrs. See, Ramsun & Tan \\n\\n (Penang)]   Legislation referred to: \\n\\n1. Order 55 Rule 3(4) of the Rules of Court 2012 \\n\\n2. Order 55 Rule 13 of the Rules of Court 2012   Cases referred to:  \\n\\nS/N gjG98ExN7UePkJ2VPuxKwA\\n**Note : Serial number will be used to verify the originality of this document via eFILING portal\\n\\n\\n\\n1. Gurbachan Singh v Seagrott & Campbell (No 2) [1962] 1 MLJ 370 \\n\\n(CA); [1962] LNS 48; [1962] 1 MLRA 91. \\n\\n2. Tong Lee Hwa & Anor v Malayan Banking Bhd [1978] 1 MLJ 257 \\n\\n(FC); [1978] 1 MLRA 342. \\n\\n3. Tan Ting Kok v Cheong Lep Keen & Anor [1969] 1 MLJ 153 (CA); \\n\\n[1969] 1 LNS 186; [1969] 1 MLRA 197. \\n\\n4. Majlis Perbadanan Kangar v Sonati Development Corporation Sdn \\n\\nBhd [2007] 1 MLJ 133 (CA); [2006] 6 AMR 647; [2006] 4 CLJ 953; \\n\\n[2006] 2 MLRA 331. \\n\\nS/N gjG98ExN7UePkJ2VPuxKwA\\n**Note : Serial number will be used to verify the originality of this document via eFILING portalWA-33-205-04/2023  9 February 2024 \\n\\n... \\n\\n...   1 \\n\\nIN THE HIGH COURT OF MALAYA AT KUALA LUMPUR \\n\\nIN THE FEDERAL TERRITORY, MALAYSIA \\n\\nDIVORCE PETITION NO: WA-33-205-04/2023   In the matter of sections  \\n\\n54, 64, 76, 77, 78, 86 and 102 of the  \\nLaw Reform (Marriage & Divorce) Act 1976   BETWEEN   LIOW KENG LUAN   ....PETITIONER \\n\\nAND   TAN SI HAI @ TAN SI YEN   ...RESPONDENT \\n \\n\\nAND   ELAINE SEAH LI HUEI   ...CO-RESPONDENT   GROUNDS OF JUDGMENT   09/02/2024 19:14:46\\n\\nWA-33-205-04/2023 Kand. 65\\n\\nS/N hbQdTkZr9EuK02zJKsPy8g\\n**Note : Serial number will be used to verify the originality of this document via eFILING portal\\n\\n\\n\\nWA-33-205-04/2023  9 February 2024 \\n\\n... \\n\\n...   2 \\n\\nIntroduction   [1] This was an application (“this Application”) by the Petitioner Wife in \\n\\nenclosure 23 for the following, namely (i) that the Respondent Husband \\n\\nincluding the Co-Respondent, be restrained until further order from \\n\\nmolesting, harassing, or threatening the Petitioner; and (ii) that the \\n\\nRespondent be restrained from bringing, authorising, or allowing his \\n\\nagents, including the Co-Respondent, from entering the residence at \\n\\nBukit Damansara (“the Bukit Damansara Residence”).   The factual background \\n\\n \\n[2] The Petitioner and Respondent, (collectively, “the Parties”), both aged \\n\\n64 at the time of the hearing of this Application, registered their \\n\\nmarriage in Malaysia in October 1987, and were blessed with two \\n\\ndaughters, born in 1991 and 1997 respectively.   [3] Throughout their married life, the Parties resided in various locations. \\n\\nThis was due to the Respondent\\'s professional obligations as a \\n\\nnephrologist at Prince Court Hospital which necessitated a dynamic \\n\\nlifestyle, prompting the family to divide their time between residences \\n\\nin Bandar Utama and Binjai on the Park (“the Binjai Residence”). \\n\\nNotably, the Petitioner\\'s presence at the Binjai Residence dwindled \\n\\nprogressively, culminating in a complete cessation of visits in the year \\n\\n2017. The Petitioner eventually moved to their residence in Bukit \\n\\nDamansara (“the Bukit Damansara Residence”) in 2021.   S/N hbQdTkZr9EuK02zJKsPy8g\\n**Note : Serial number will be used to verify the originality of this document via eFILING portal\\n\\n\\n\\nWA-33-205-04/2023  9 February 2024 \\n\\n... \\n\\n...   3 \\n\\n[4] As the years unfolded, the marital bond began to fray, marked by \\n\\nallegations of adultery and unreasonable behaviour on the part of the \\n\\nRespondent. These issues escalated, prompting the Petitioner to file \\n\\nfor judicial separation, in April 2023. This was followed by a response \\n\\nby the Respondent in June 2023.   [5] In July 2023, the Petitioner filed this Application pursuant to section \\n\\n103 of the Law Reform (Marriage and Divorce) Act 1976 (“Law Reform \\n\\n(Marriage and Divorce) Act”), which reads:   Section 103 – Injunctions against molestation   The court shall have power during the pendency of any matrimonial \\n\\nproceedings or on or after the grant of a decree or divorce, judicial \\n\\nseparation or annulment, to order any person to refrain from forcing his or \\n\\nher society on his or her spouse or former spouse and from other acts of \\n\\nmolestation.   [Emphasis added.]   The issues \\n\\n \\n[6] The pivotal matters under consideration in the present case \\n\\nencompassed three main facets, namely: (i) delineating the scope and \\n\\nsignificance of \\'molestation\\'; (ii) assessing the justification for a non-\\n\\nmolestation order in the current circumstances; and (iii) determining \\n\\nthe extent to which a non-molestation order could impinge upon the \\n\\nRespondent\\'s access to the Bukit Damansara Residence.   S/N hbQdTkZr9EuK02zJKsPy8g\\n**Note : Serial number will be used to verify the originality of this document via eFILING portal\\n\\n\\n\\nWA-33-205-04/2023  9 February 2024 \\n\\n... \\n\\n...   4 \\n\\n[7] Given the nature of this application as an injunction, additional points \\n\\nof contention revolved around the presence of serious questions to be \\n\\ntried and in whose favour the balance of convenience lay.   [8] This Application was allowed partially for the following reasons.   Contentions, findings, and evaluation  \\n \\nThe meaning of ‘molestation’ \\n\\n[9] At the outset, it was crucial to determine the meaning of \\n\\n‘molestation’ in the context of section 103 of the Law Reform (Marriage \\n\\nand Divorce) Act.   [10] The word ‘molestation’ is not defined in the Law Reform (Marriage and \\n\\nDivorce) Act. This was acknowledged by Abdul Malik Ishak J (as he \\n\\nthen was) in Chan Ah Moi @ Chan Kim Moy v Phang Wai Ann [1995] \\n\\n3 CLJ 846 in the following passage, where reference was made to the \\n\\nEnglish cases of Vaughan v. Vaughan [1973] 3 All ER 449, George v. \\n\\nGeorge [1986] 2 FLR 347 and Johnson v. Walton [1990] 1 FLR 350, \\n\\nas well as the Britannica World Language Edition of The Oxford \\n\\nDictionary:  \\n\\nUnfortunately, the word \"molestation\" is not defined in the Act. The \\n\\nBritannica World Language Edition of The Oxford Dictionary defines \\n\\n\"molestation\" as: \\n\\nthe action of molesting or condition of being molested; annoyance, \\ndisturbance, vexation \\n\\nWhereas the Pocket Oxford Dictionary of Current English compiled by F.G. \\n\\nFowler & H.W. Fowler, 4th Edn. defines \"molestation\" simply as \\n\\n\"troublesome\". Davies LJ, in Vaughan v. Vaughan [1973] 3 All ER 449 CA, \\n\\nS/N hbQdTkZr9EuK02zJKsPy8g\\n**Note : Serial number will be used to verify the originality of this document via eFILING portal\\n\\n\\n\\nWA-33-205-04/2023  9 February 2024 \\n\\n... \\n\\n...   5 \\n\\nreferred to two dictionaries for the meaning of the word \"molestation\". His \\n\\nLordship said this (p. 452): \\n\\nAccording to Counsel for the husband we find two different definitions \\n\\nrespectively in the Concise Oxford Dictionary and in the Shorter Oxford \\n\\nDictionary. The former gives the meaning for \\'molest\\' as: \\'meddle hostilely \\n\\nor injuriously\\'. The Shorter Oxford Dictionary gives a much wider definition \\n\\nof these terms: \\'to cause trouble; to vex; to annoy; to put to inconvenience.   George v. George [1986] 2 FLR 347 and Johnson v. Walton [1990] 1 FLR \\n\\n350 adopted Davies LJ\\'s approach to the meaning of \"molestation\" \\n\\nin Vaughan v. Vaughan (supra). \\n\\n[Emphasis added.]   [11] In the case of Sheng Lien @ Shen Len Yee v Tan Teng Heng & Anor \\n\\n[2010] 11 MLRH 849, the Court granted an injunctive order pursuant \\n\\nto section 103 of the Law Reform (Marriage and Divorce) Act. Such \\n\\ndecision was grounded in the wife’s apprehension, even in the \\n\\nabsence of tangible evidence of physical abuse or a filed police report. \\n\\nThe court, in that case, adopted the perspective that it was not \\n\\nobligated to delay intervention until a moment of actual violence \\n\\ntranspires, asserting that ‘the court does not have to wait for the day \\n\\nwhen violence occurs before it grants such order, that would be too \\n\\nlate’. This underscores the Court\\'s proactive stance in safeguarding \\n\\nthe well-being of individuals and preventing potential harm before it \\n\\nmaterialises. \\n\\n \\n[12] The concept of molestation therefore extends beyond mere physical \\n\\nviolence or abuse, encompassing a broad spectrum of behaviour. This \\n\\nprinciple is underscored by the precedent set in the case of Lee Sook \\n\\nKwan v Yap Woon [2010] 11 MLRH 167, where Her Ladyship Yeoh \\n\\nS/N hbQdTkZr9EuK02zJKsPy8g\\n**Note : Serial number will be used to verify the originality of this document via eFILING portal\\n\\n\\n\\nWA-33-205-04/2023  9 February 2024 \\n\\n... \\n\\n...   6 \\n\\nWee Siam J (as she then was) drew from the case of Chan Ah Moi @ \\n\\nChan Kim Moy v Phang Wai Ann to grant a non-molestation order.   Whether ‘non-molestation’ order was warranted \\n\\n [13] Recognising that both the act of molestation and the experience of \\n\\nbeing molested encompass elements of annoyance, disturbance, and \\n\\nvexation, I found it imperative to grant a non-molestation order in the \\n\\ncurrent context. Such decision was rooted in the profoundly \\n\\nacrimonious relationship between the involved parties, accentuated by \\n\\nprevious distressing encounters that had inflicted considerable \\n\\nemotional turmoil upon the Petitioner.   [14] For instance, it was undisputed that the Respondent had brought the \\n\\nCo-Respondent to the Bukit Damansara Residence, an action that had \\n\\ninduced distress, mental anguish, and embarrassment for the \\n\\nPetitioner. Although both the Respondent and Co-Respondent had \\n\\ndisputed the latter’s involvement in the breakdown of the marriage of \\n\\nthe Parties, it was essential to note that the Petitioner had explicitly \\n\\nnamed the Co-Respondent in the petition for judicial separation. The \\n\\ndetermination of this specific issue has yet to be made.   [15] Furthermore, the Petitioner experienced heightened pressure and \\n\\nanxiety due to the Respondent\\'s actions, including cancellation of the \\n\\nPetitioner’s supplementary credit cards and the Respondent’s refusal \\n\\nto contribute to household expenses. This behaviour, perceived by the \\n\\nPetitioner as a form of financial coercion, compounded her emotional \\n\\ndistress.   S/N hbQdTkZr9EuK02zJKsPy8g\\n**Note : Serial number will be used to verify the originality of this document via eFILING portal\\n\\n\\n\\nWA-33-205-04/2023  9 February 2024 \\n\\n... \\n\\n...   7 \\n\\nWhether this Court had jurisdiction to exclude Respondent from the Bukit \\n\\nDamansara Residence \\n\\n[16] In the present case, the Petitioner not only sought a non-molestation \\n\\norder under section 103 of the Law Reform (Marriage and Divorce) Act, \\n\\nbut she had also prayed for an order to bar the Respondent from the \\n\\nBukit Damansara Residence, until the disposal of the hearing of the \\n\\njudicial separation petition. The pivotal question at hand, therefore, \\n\\nwas whether this Court possessed the jurisdiction to grant an exclusion \\n\\norder.   [17] In my view, the Court indeed had the power to bar the Respondent \\n\\nfrom the Bukit Damansara Residence. I drew guidance from the \\n\\nprecedent set in the case of Jayakumari a/p Arul Pragasam v Suriya \\n\\nNarayanan a/l V Ramanathan [1996] 4 MLJ 421, where the Court had \\n\\nderived its jurisdiction from section 3(1)(a) of the Civil Law Act 1956, \\n\\nand the English cases of Gurasz v Gurasz [1969] 3 All ER 822 which \\n\\ndelineated the common law position in England by citing Bendall v \\n\\nMcWhirter [1952] 2 QB 466 and Silverstone v Silverstone [1953] P 174. \\n\\nThe relevant provision, section 3(1)(a) of the Civil Law Act, states:   Section 3 – Application of UK common law, rules of equity and certain \\n\\nstatutes   (1) Save so far as other provision has been made or may hereafter be made \\n\\nby any written law in force in Malaysia, the Court shall –   (a) in Peninsular Malaysia or any part thereof, apply the common law of \\n\\nEngland and the rules of equity as administered in England on the 7 April \\n\\n1956;   ... \\n\\nS/N hbQdTkZr9EuK02zJKsPy8g\\n**Note : Serial number will be used to verify the originality of this document via eFILING portal\\n\\n\\n\\nWA-33-205-04/2023  9 February 2024 \\n\\n... \\n\\n...   8 \\n\\n[Emphasis added.]   [18] In Jayakumari a/p Arul Pragasam v Suriya Narayanan a/l V \\n\\nRamanathan, addressing the matter of whether one spouse could \\n\\nrestrict the other\\'s access to the matrimonial home, James Foong J (as \\n\\nhe then was) articulated the following position:   As the English common law prior to 7 April 1956 is applicable to our country, \\nthe English case of Silverstone v Silverstone [1953] P 174 may be of \\nrelevance as regards jurisdiction. Here, Pearce J expressed as follows at p \\n177: \\n\\nIn my view, she has a right to be in a matrimonial home while a petition is \\npending before this court, and this court is entitled to protect that right and \\nensure that pressure is not put on a wife to abandon her petition by evicting \\nher from the home. In the present case, I am satisfied that if I let the \\nhusband go back to the house I am really driving her out. \\n\\n \\nBy the same token, the court should have jurisdiction to evict a husband \\nfrom the matrimonial home pending the trial of the action, if there is \\nevidence based on considered principles to do so, otherwise the wife will \\nbe bullied out of her remedy or deterred by pressure from seeking the help \\nof the court. \\n \\n\\nThis proposition of the wife\\'s right to remain in the matrimonial home is \\n\\nbased on the ruling by Denning LJ (as he then was) in the case of Bendall \\n\\nv McWhirter [1952] 2 QB 466, where he affirmed that a wife is not without \\n\\nrights in the matrimonial home even though it belongs to the husband, and \\n\\nher right to stay in the matrimonial home is presumed in law to have been \\n\\nconferred upon her by her husband flowing from the concept of a marriage. \\n\\nThis issue of jurisdiction is further confirmed by the English courts in the \\n\\ncase of Gurasz v Gurasz [1969] 3 All ER 822 which is a strong persuasive \\n\\nauthority to our laws and can even be applicable under s 47 of the Act which \\n\\nprovides that: \\n\\n(47) Principles of law to be applied \\n\\nSubject to the provisions contained in this Part, the court shall in all suits \\nand proceedings hereunder act and give relief on principles which in the \\nopinion of the court are, as nearly as may be, conformable to the principles \\non which the High Court Justice in England acts and gives relief in \\nmatrimonial proceedings. \\n\\nS/N hbQdTkZr9EuK02zJKsPy8g\\n**Note : Serial number will be used to verify the originality of this document via eFILING portal\\n\\n\\n\\nWA-33-205-04/2023  9 February 2024 \\n\\n... \\n\\n...   9 \\n\\nIn the case of Gurasz v Gurasz, the parties being husband and wife lived \\n\\nwith four children in a matrimonial house jointly owned by the parties. The \\n\\nwife due to intolerable conditions left the matrimonial home with the \\n\\nchildren. The husband remained in the house and subsequently took in \\n\\nanother man to live with him. The wife sought relief from the court to evict \\n\\nthe husband and to reinstate her possession of the house with the children. \\n\\nThe county court judge granted her application and on appeal to the Court \\n\\nof Appeal, Denning MR reiterated the position of the wife\\'s right to occupy \\n\\nthe matrimonial home and to evict an errant husband under common law. \\n\\nThis proposition is common law was supported by fellow panel judge, \\n\\nEdmund Davies LJ in the same case when he expressed that: \\n\\nthat such a general power (the power to evict a husband from the \\nmatrimonial home) unquestionably existed has, if I may say so, been amply \\nand convincingly demonstrated by Lord Denning MR. \\n\\nBased on the aforesaid authorities, this court is convinced that it has \\n\\njurisdiction to entertain, and if found satisfied, to grant the second relief of \\n\\nthe petitioner\\'s application in encl 8. \\n\\n [Emphasis added.]   [19] I also maintained the view that Order 92 rule 4 of the Rules of Court \\n\\n2012 (“Rules of Court”) provided ample authority for this Court to grant \\n\\nan order excluding the Respondent from accessing the Bukit \\n\\nDamansara Residence. The pertinent provision reads:  \\n\\nOrder 92 – Miscellaneous  \\n\\nRule 4 – Inherent powers of the Court  \\n\\nFor the removal of doubt it is hereby declared that nothing in these Rules \\n\\nshall be deemed to limit or affect the inherent powers of the Court to make \\n\\nany order as may be necessary to prevent injustice or to prevent an abuse \\n\\nof the process of the Court.   [Emphasis added.] \\n\\nS/N hbQdTkZr9EuK02zJKsPy8g\\n**Note : Serial number will be used to verify the originality of this document via eFILING portal\\n\\n\\n\\nWA-33-205-04/2023  9 February 2024 \\n\\n... \\n\\n...   10 \\n\\n[20] Reference was additionally made to the case of Tan Boon Lang v Lim \\n\\nTong Sin [1997] 4 MLJ 485, where the Brunei High Court asserted its \\n\\ninherent jurisdiction under the Brunei High Court Rules Order 86 rule \\n\\n4 (the equivalent of Order 92 rule 4 of the Rules of Court) to mandate \\n\\na party to vacate the matrimonial house, notwithstanding proprietary \\n\\nrights, as long as matrimonial proceedings were pending. The court, in \\n\\nthat case, emphasised the necessity to ensure that a party has the right \\n\\nto pursue legal remedies without pressure or intimidation, allowing \\n\\nthem to proceed freely with matrimonial proceedings. \\n\\n[21] Furthermore, in Chan Ah Moi @ Chan Kim Moy v Phang Wai Ann, in \\n\\ndeciding whether to make an order to exclude one spouse from the \\n\\nmatrimonial home, guidance was drawn from the insights in Family \\n\\nLaw by PJ Pace, where learned author articulated:   While it has been said that an injunction excluding one spouse from the \\n\\nmatrimonial home (as opposed to one restraining molestation) is a \"drastic \\n\\norder\" (Hall v. Hall [1971] C.A.), it is recognised that it is \"fair, just and \\n\\nreasonable\" that a spouse should be excluded, the Court will so order \\n\\n(Walker v. Walker [1978] CA). In deciding whether to make such an order \\n\\nthe Court will have regard to such matters as: \\n\\n \\n(a) the parties\\' behaviour; \\n\\n(b) the effect on the children if exclusion is, or is not, ordered; \\n\\n(c) the personal circumstances of the person sought to be excluded; \\n\\n(d) the accommodation available to the parties; \\n\\n(e) the likelihood of injuries to the parties; and \\n\\n(f) the parties\\' health.   S/N hbQdTkZr9EuK02zJKsPy8g\\n**Note : Serial number will be used to verify the originality of this document via eFILING portal\\n\\n\\n\\nWA-33-205-04/2023  9 February 2024 \\n\\n... \\n\\n...   11 \\n\\n[Emphasis added.]   [22] The palpable tension in the relationship between the Parties was not \\n\\nonly evident but reached a point of strain that could not be ignored. To \\n\\ncompound the already delicate circumstances, the Respondent made \\n\\nthe highly reprehensible decision to introduce the Co-Respondent into \\n\\nthe Bukit Damansara Residence. This move, devoid of sensitivity, \\n\\nexacerbated an already difficult situation.   [23] Living under the same roof was not just inappropriate; it subjected the \\n\\nPetitioner to a constant state of harassment, anxiety, and discomfort \\n\\ndue to the presence of the Respondent. Drawing guidance from the \\n\\nprecedent set in the case of Johnson v. Walton [1990] FCR 568, 1 FLR \\n\\n350, it was clear that ‘molestation also applies to any conduct which \\n\\nintentionally causes harassment.’ \\n\\n \\n[24] The Respondent argued that being excluded from the Bukit \\n\\nDamansara Residence would be unfair, citing his desire to host friends \\n\\nat that location. In my view, the Respondent’s contention was bereft of \\n\\nmerit, given the unchallenged fact that the Binjai Residence offers \\n\\nsufficient space to accommodate a substantial number of guests. \\n\\nConsidering the heightened animosity between the Parties, it would be \\n\\nmore suitable for the Respondent to host gatherings at the Binjai \\n\\nResidence.   [25] Furthermore, as the Respondent has enjoyed quiet and undisturbed \\n\\nliving at the Binjai Residence, to the exclusion of the Petitioner, since \\n\\nS/N hbQdTkZr9EuK02zJKsPy8g\\n**Note : Serial number will be used to verify the originality of this document via eFILING portal\\n\\n\\n\\nWA-33-205-04/2023  9 February 2024 \\n\\n... \\n\\n...   12 \\n\\n2017, it would only be equitable for the Petitioner to be afforded a \\n\\nsimilar environment at the Bukit Damansara Residence.  \\n\\nWhether there were serious questions to be tried \\n\\n [26] In this Application, it was imperative for the Petitioner to convince this \\n\\nCourt that there is a serious question to be tried, and that the balance \\n\\nof convenience lies in her favour. \\n\\n [27] The necessity for a serious question to be tried pertains to the cause \\n\\nof action between the parties. My reference point for this principle was \\n\\ngleaned from the case of ABC & Anor v JKL [2020] 11 MLJ 421, \\n\\nwherein the Supreme Court decision in Tien Ik & Ors v Peter Kuok \\n\\nKhoon Hwong [1993] 1 CLJ 9; [1992] 2 MLJ 689, was referred to. In \\n\\nthe latter case, Hj Mohd. Jemuri Serjan SCJ articulated the significance \\n\\nof a serious question to be tried in the following passage:  \\n\\nIn an application for an interim injunction, the court is not called upon to \\n\\nmake any final decision on any question of fact. What is required at that \\n\\nstage is for the learned judge to decide on the affidavits available before \\n\\nhim that the claim in the originating summons is not frivolous or vexatious, \\n\\nin other words, there is a serious question to be tried, and having so decided \\n\\nhe must go on to consider the question of balance of convenience.  \\n\\n[Emphasis added.]   [28] In the current context, Parties are involved in judicial separation \\n\\nproceedings, and it was evident that there are serious questions to be \\n\\ntried in such proceedings.   S/N hbQdTkZr9EuK02zJKsPy8g\\n**Note : Serial number will be used to verify the originality of this document via eFILING portal\\n\\n\\n\\nWA-33-205-04/2023  9 February 2024 \\n\\n... \\n\\n...   13 \\n\\nWhere the balance of convenience lay \\n\\n[29] It was also my view that the balance of convenience and the broader \\n\\nprinciples of justice favoured the Petitioner for several compelling \\n\\nreasons. Firstly, both Parties have been residing in distinct residences, \\n\\nindicating a pre-existing separation. Secondly, the Respondent has \\n\\nenjoyed exclusive and quiet enjoyment of the Binjai Residence since \\n\\n2017. As such, allowing this Application would not be prejudicial to the \\n\\nRespondent.   [30] Furthermore, it was imperative to take into account the emotional well-\\n\\nbeing of the Petitioner. The visible presence of the Respondent had a \\n\\ndiscernible impact on the Petitioner’s state of mind, emphasising the \\n\\nneed for a resolution that prioritises her emotional welfare.   Conclusion \\n\\n \\n[31] Counsel for the Respondent argued that allowing this Application \\n\\nwould be unjust, invoking the adage that a man’s home is his castle. \\n\\nHowever, it was essential to emphasise to the Respondent that the \\n\\nsanctity of ‘a man’s home is his castle’ holds true, but only ‘until his \\n\\nqueen arrives.’ Consequently, it was ordered that the Respondent, \\n\\nincluding the Co-Respondent, be enjoined until further order, from \\n\\nmolesting, harassing, threatening, or otherwise forcing his or her \\n\\nsociety upon or interfering with the Petitioner.   [32] However, in the interest of justice and fairness, and in light of the \\n\\nRespondent\\'s expressed desire to visit the Bukit Damansara \\n\\nS/N hbQdTkZr9EuK02zJKsPy8g\\n**Note : Serial number will be used to verify the originality of this document via eFILING portal\\n\\n\\n\\nWA-33-205-04/2023  9 February 2024 \\n\\n... \\n\\n...   14 \\n\\nResidence, allowance was made for the Respondent, by himself only, \\n\\nto enter the Bukit Damansara Residence between the hours of 12 noon \\n\\nand 6 pm every Saturday.   Dated: 9 February 2024   SIGNED \\n... \\n\\n \\n(EVROL MARIETTE PETERS) \\n\\nJudge  \\nHigh Court, Kuala Lumpur   Counsel:   For the Petitioner – YN Foo, Kiran Dhaliwal, and John Heng; Messrs \\n\\nYN Foo & Partners   For the Respondent – WH Kan, Goh Loh Boon and Lim Yee; Messrs \\n\\nWH Kan   For the Co-Respondent – WH Kan, Goh Loh Boon and Lim Yee; \\n\\nMessrs WH Kan   Cases referred to:  \\n\\n➢ ABC & Anor v JKL [2020] 11 MLJ 421 \\n\\n➢ Bendall v McWhirter [1952] 2 QB 466 \\n\\nS/N hbQdTkZr9EuK02zJKsPy8g\\n**Note : Serial number will be used to verify the originality of this document via eFILING portal\\n\\n\\n\\nWA-33-205-04/2023  9 February 2024 \\n\\n... \\n\\n...   15 \\n\\n➢ Chan Ah Moi @ Chan Kim Moy v Phang Wai Ann [1995] 3 CLJ 846 \\n\\n➢ George v. George [1986] 2 FLR 347 \\n\\n➢ Gurasz v Gurasz [1969] 3 All ER 822 \\n\\n➢ Jayakumari a/p Arul Pragasam v Suriya Narayanan a/l V \\n\\nRamanathan [1996] 4 MLJ 421 \\n\\n➢ Johnson v. Walton [1990] 1 FLR 350 \\n\\n➢ Lee Sook Kwan v Yap Woon [2010] 11 MLRH 167 \\n\\n➢ Sheng Lien @ Shen Len Yee v Tan Teng Heng & Anor [2010] 11 \\n\\nMLRH 849 \\n\\n➢ Silverstone v Silverstone [1953] P 174 \\n\\n➢ Tan Boon Lang v Lim Tong Sin [1997] 4 MLJ 485 \\n\\n➢ Tien Ik & Ors v Peter Kuok Khoon Hwong [1993] 1 CLJ 9; [1992] 2 MLJ \\n\\n689 \\n\\n➢ Vaughan v. Vaughan [1973] 3 All ER 449   Legislation referred to: \\n\\n➢ Civil Law Act 1956 – section 3(1)(a)  \\n\\n➢ High Court Rules (Brunei) – Order 86 rule 4 \\n\\n➢ Law Reform (Marriage & Divorce) Act 1976 – section 103 \\n\\n➢ Rules of Court 2012 – Order 92 rule 4   Other sources referred to: \\n\\n➢ Britannica World Language Edition of The Oxford Dictionary   S/N hbQdTkZr9EuK02zJKsPy8g\\n**Note : Serial number will be used to verify the originality of this document via eFILING portalAP Matheri.pdf\\n\\n\\n09/02/2024 11:43:22\\n\\nBC-62JSK-112-11/2023 Kand. 8\\n\\nS/N 3rFFjEKaeEKAQ7m3rVwkng\\n**Note : Serial number will be used to verify the originality of this document via eFILING portal\\n\\n\\n\\nS/N 3rFFjEKaeEKAQ7m3rVwkng\\n**Note : Serial number will be used to verify the originality of this document via eFILING portal\\n\\n\\n\\nS/N 3rFFjEKaeEKAQ7m3rVwkng\\n**Note : Serial number will be used to verify the originality of this document via eFILING portal\\n\\n\\n\\nS/N 3rFFjEKaeEKAQ7m3rVwkng\\n**Note : Serial number will be used to verify the originality of this document via eFILING portal\\n\\n\\n\\nS/N 3rFFjEKaeEKAQ7m3rVwkng\\n**Note : Serial number will be used to verify the originality of this document via eFILING portal\\n\\n\\n\\nS/N 3rFFjEKaeEKAQ7m3rVwkng\\n**Note : Serial number will be used to verify the originality of this document via eFILING portal\\n\\n\\n\\nS/N 3rFFjEKaeEKAQ7m3rVwkng\\n**Note : Serial number will be used to verify the originality of this document via eFILING portal\\n\\n\\n\\nS/N 3rFFjEKaeEKAQ7m3rVwkng\\n**Note : Serial number will be used to verify the originality of this document via eFILING portal\\n\\n\\n  m\\n\\n20\\n\\n15\\n\\nKand. 5\\n:o,a2,;m 11 LCUAA\\n\\nac—62.Jsk—112—11/2023\\n\\nDALAM MAHKAMAH szsvzn DI AMPANG\\nDALAM NEGERI ssuwaon mam EHSAN\\nKES JENAVAH : EC-5ZJSK»112-11/1023\\n\\nPENDAKWA RAVA\\n\\nLAWAN\\n\\nMATNERI\\n\\nALASAN PENGHAKIMAN\\n\\nLgjgr Bglgkgng\\n\\n1 Ini ada\\\\ah Rzyuan on lemadap hukuman sahaja\\n\\nDalam kes Im, on |e\\\\ah dmuduh dengan penuduhan seperu\\nbenkm.\\n\\nBahawa kamu pads so/1a/2023 jam /em kurang aaa pelang\\nmngga [am 330 pelarlg nenempa: m daram stun belakang /lat\\nTaman Sn Taryung, 43500 semenym Dalam Daerah Ka;ang‘\\nda/am Negerl Selangar, reran melakukarl amang seksual lrzrkal\\nDag: man seksuat mm; dsngan msnggessl ksmaluan kamu\\nkepeda Kemaluan seonsng kana)<~ksnak perempuan bemama\\nNurul Dahllsya Khahssya mm Nurul Aszrm (No K/P 1712234»\\n1\\n\\n5w w.z»usmnmm»<m\\n3\" mm Sum M... M“ be used m wow u. nvwvuﬁlv mm; “Mm. VII mum Wm\\n\\n D524) yang barumur 5 zanun 9 man kelrks ks/swan. O/sh yang\\ndermkran, kamu Ie/ah melakukan kesalahan m‘ bawah Seksyen\\nan ma) Akta Kssa/ansn»kasa/ahan Seksua! Tsmsdap Kanak-Kanak\\n2017 yang be/eh dmukum m bawah Seksyerl 14 Akla yang same”\\n\\n2 Dalam Res ml on telah mengaku sa\\\\ah ow le\\\\ah\\nmengsmukakan [akla kes yang kemumannya Lelah dvbacakan\\n\\nas lakla tersebut kepada on on laham dan mengakw cam kes\\nada\\\\ah benar. Fakla kes nu duandakan sehagan P1.\\n\\n3 Psngadu da\\\\am kes mu adalah mu kapaaa kanak-kanak yang ‘age\\nmangsa dalam kes im. secara nngkasnya. kejadwan ml nenaku\\nw sewakm mu mangsa mencan anaknya (mangsa) yang bemama\\nNurul Dahheya berumur s Lahun an seknar kawasaan perumahan\\nkerana mangsa maapan naaa dw dalam rumah ><e.aa.an benaku\\npada 30/10/2023 pada Jam 3 an pelang lbu mzngsa |e\\\\ah nampak\\nmangsa ksmar dan kawasan kebun newakang pemmanan «arsanm\\nas (Taman Sen Taruung Semenywh), dengan senrang lakw-lam\\nlndnnsswa |av|u on on man jlran meraka yang umumya 55\\nlahun Apabila pengadu nenanya kepada rnangsa, mangsa\\nmembenlahu on yang dipanggu aluk nelan mengqak mangsa\\nunluk mengambll buah varnoman Sewaklu sampaw dw rumah,\\nso mangsa \\\\ems ke landas den ssper1vke\\\\aku\\\\an Mangsa mengadu\\npada pengaau l/Eng kemamannya sakll Mangsa rnernoemanu\\npengadu bahawa on ma memasukkan kemamannya ke da\\\\am\\nkemaluan mangsa namun udak berlaya on Juslél |e\\\\ah\\nbenkannya RM1u.ou. Pengadu dan ayan psngadu le\\\\ah pergw\\n2\\n\\n \\n\\nN :IvFF1EK2sEKAn7nw:arw0<rv!\\nma Sum Mn... Mu be used m mm a. nnmnaulv mm; nnmmnnl vn mum Wm\\n\\n S5 benumpa aengan om namun on wax msngakm. Falvs lelah\\ndmubungi om melankan dm namun benaya mxangkap Hasu\\nswasatan menaapan ow telsh melakukan amang ssksual\\nIemadap mangsa dengan menggeselkan kemamannya kepada\\nkemaluan mangsa. on |eIah mnmuh m bawah Seksyen Wat\\n\\nso Akla Kesa\\\\ahan Seksual Tevhadap Kanak—Kanak 2017 Fakla kes\\nW cmanuaxan sebagan F1.\\n\\n4 DPP ma ls\\\\ah mengemukakan barang kss wallu Laparan Pohs\\nPengzdu, Lapavan Polls Tangkzpan, 9 kepmg gambar Iempal\\n\\nas kejaman, 2 kspmg gambar mangsa. sskepmg gambar on. sun\\nLamr mangsa‘ Laporan Pembatan pemenksaan awa\\\\ mangsa dan\\nVakaran rqah anagram ‘a‘ (record tear). Mahkamah |s\\\\ah\\nmenandakan barang kes Ievsebm sebagm P2 — P9\\n\\n70 5 OKT |e\\\\ah mehhal dan mengakw benar P2 — P9 tersebm\\nSs\\\\an;u|nya Mahkamah |e|ah mendapah OKT ada\\\\ah bersalah dam\\nmensabmkan on dengan kesahhan sepem mane perluduhan\\n\\nR-ayuan our\\n75\\n\\ne on berumur 55 tahun ox? mohon hukuman nngan on nekeqa\\nmembma rumah qmmm kenlrak) dw Ma\\\\aysva. Ksmarga sekarang\\nberada dw lndnneswa lbubapa te\\\\ah men-nggax duma on bwayaw\\nkeluarga dw negara asa\\\\ om sudah ma dan mlma maav alas\\n\\nw kesawanan.\\n\\n \\n\\nN w.z»usmnmm»<m\\nmm Sum M... M“ be used m mm u. nvVWuH|Y mm; “Mm. VII mum Wm\\n\\n :5\\n\\nmo\\n\\n:05\\n\\n \\n\\nHu ahan P mboratan Fendakwa Raya\\n\\n7 DPP yang buaksana dawn muahan memberalkan hukumannya\\nberhulah agar hukuman yang bevbentuk pengajaran/deterrent\\nmbsnkan kepada on nan mohan Mahkamah ambu kura bahawa\\nkes sepem Im serlng beliaku dan amat beﬂeluasa DPP juga\\nmonon hukuman sebalan mkenakan. DPP .uga menghxuahkan\\nbahawa on cuba merogm seorang kanak-kanak yang masm kecﬂ\\nnamun max benaya. lm kesalahan yang senus. Perbua|an Mu\\nIelah menyebabkan mzngsa oedera on ml wavgz asmg yang\\naepammya beksna sana.a m Malaysia den aepammya\\nmenghormau undang-undang negara W Saya mohon hukuman\\nberal berbenluk Dengqaran\\n\\nKogutunn Mahkamnh/Alann\\n\\na Mahkamah (e\\\\ah memaumkan hukuman saxama 5 Iahun peruara\\ncan 2 kalw sebatan femadap on Dalam memmbangkan hukuman\\nyang sawaamya yang perm duahmkan, Mahkamah mangamnn\\nkva bebevapa laklor dalam merualuhkzn hukuman\\n\\n9 Mahkamah mendapall Im adalah Jenam yhng senus can\\nsewaamya on amenkan hukuman pemsnjaraan yang Vama\\nsebagaw suam oenmk pengmaran kepadanw. khasnya dan juga\\nkepada masyarakat awam, amnya. Mahkamah wga mengambﬂ\\nmra pnnswp kepemmgan swam adalah mengalasw kepentmgan\\nmdmdu.\\n\\nN :|vFF1EK2sEKAD7m:Irw0<IV!\\n\\nma Sam M... M“ be used m mm a. nvVWuH|Y mm; nnmmnnl VII mum Wm\\n\\n no 10 Pnnslp kepenlmgan awam sepeni yang dinyahkan a\\\\eh Hr/bery .I\\nex ealam kes R v. sen (19511 35 cnnnner A;mea/ Ream 154.\\nEkemen im semiasa |erpaka\\\\ an dalam kes—kesIempalan sepem kes\\nPP v. Loo Choon an [1976] 1 ms 102‘ [1576] 2 MLJ 25, PF v.\\nRa!/indran .9. or: (supra), PP -/. ren Ah CIleng[1976]1 LNS116,\\n\\n115 Tea Slew Pang A Ors. v. PP [1954] 1 ms 71 and PF v.\\nNazarudin bin Ahmad 4. 2 015 [1993] 2 cm 543; Hﬂbery .1 d1\\nealem kes R v. Ball [supn) «swan msnyatakan sepem eenkm\\n\\n\"In decrdmg me aporopnats sentence a com should\\nno always be gurded by cenern consrderaxrons The ﬁrs!\\nand/memos! rs me pub/rc rntsrasl The Cnmmal Law\\nrs pub/rc/y en/weed, not only mm me 013/99! 0/\\npumshmg enme, em a/so m (he nope evprevennng u\\nA ploper sentence, passed in pub/rc, serves me\\n115 public mlersst In two ways. /1 may dstsr amsrs Mm\\nmight be Iempled la Ily cnme as seen-mg to offer\\neasy money on the supposman, that .1 me allendsr .5\\ncaught and Brought to justice, me punishment will be\\nneglrgrb/9 Such a msntence may also deter me\\nno pamcurer crlmmal Irum commmmg a crime again, or\\nmducs mm to mm from a crvmmal to an honest we\\nrne pub/rc mleresl Is maeed served and besrserved‘\\nrflhs ollendsr IS meueed 10 (um Imm cnmmal ways\\nlo harvest llvmg Our law does not merelme ﬁx me\\n135 sentence rma pamcurer enme, bu! ﬁxes a maximum\\n\\n5\\n\\n \\n\\nN JvFF:EK:sEKAn7m:arvwkrv§\\nwe Sum Mn... Mu be used m mm we mwvuulv mm; nnmmnnl VII mum Wm\\n\\n 140\\n\\nms\\n\\n150\\n\\n.5;\\n\\nIsa\\n\\n \\n\\nH\\n\\n12.\\n\\nssnlsncs and/eaves n to the com to dscrds what rs,\\nwrarnn ma: maxmmm, the appmprvale semence Io:\\neach cnmmal In the namcu/arcrrcumstancss o/sacn\\ncase. Nor on/ylrl regard to each crime‘ but In regard\\nto each cnmmak ms mun has me rvghl and me my\\nfa decrde whemerxo be lemenf or severe \"\\n\\nPaaa hemal Mahkamahy hukuman yang dlkenakan oxen\\nMahkamam lam: 5 |ahun neruara ﬂan 2 kah sebalan rolan ada\\\\ah\\nsualu hukuman yang wajarbagl memben pengayanan kepada on\\nHukuman Im yuga mampu msmben reneku kepada kesenusan\\nyenayan tersebul. on Im seovang yang sudah beruswa 56 tahun\\nyang sepalumya menyam pelmdung kspada mangsa yang hanya\\nberumur 5 Lahun Mawahnn mangsa um bmeh manggap sepem\\ncucunya ssndm Mahkamah yuga msmpemmbangkan nanawa\\nmangsa dalam usia yang lerlalu kecil mak mampu unluk me\\\\awan\\n\\n \\n\\non yang yaun wamn ma darlpadanya dan mempunyaw Isnaga yang\\nVeblh kuat danpada mangsn\\n\\nfakva kes\\nlerdapalnya cubaan merugal mangsa namun naslb mangsa hawk\\n\\nMahkamah yuga mempemmbangkan bahawa\\nKenna OKT tldak benaya merogoxnya aenaasamnn P1, mangsa\\nmenyaxakan on berkala kepadanya bahawa kemamannya mam\\nkeenly make cubaan nu gagal lm menumukkan Ierdapal ma! jahat\\non im umuk mercgm mangsa yang masm kecﬂ Akxbat kegagalan\\nIersebut makn om nanya damn menggesexkan kemamannya\\nkepada kemaluan mangsa sanmgga kemaluan mangsa camera.\\n\\n5\\n\\nn :IvFF1EK2sEKAD7m:Irw0<rv!\\n\\nma Sam M... wm be used m mm a. nﬂmruﬂlv Mm; nnmmnnl vn mum Wm\\n\\n 155\\n\\nno\\n\\n175\\n\\nm\\n\\n135\\n\\n \\n\\n13\\n\\n«A.\\n\\n15.\\n\\non ‘age (elah msngupah mangsa dengan wang RMIO supaye\\nmangsa max memberﬂahu seswapa .|e\\\\as sekah pevbuatan\\nyanayan vm sepsm Ielah dwancang olsh on. Perbualan ml sangal\\nbahaya kepada kanakrkanak lngatan yuga narus mbenkan kepada\\nmubana unluk lvdak dengan numah mempsrcayav manamana\\nwarga ma yang kellhalan sepem ovang yang balk dan kenalan\\nKeluarga pula. namun yalas msmpunyax rua| mala ﬁds.\\n\\nMankaman yuga msmpemmbangkan on W xalah wan kepada\\nmangsa yang mmah mereka adzlah bevdekman sana.a Jelas\\naakan on (em: mengambu kesempalan sebagau man ﬂan\\nmpanggu amk oleh mangsa namun mempunyaw silat dan niaz yang\\nyanax kepada mangsa. Mahkamah berpendapal hukuman yang\\nwajardan pa|u| sens seIAmpa\\\\ bag KT ml adalah 5 tahun peruara\\nﬂan 2 xan ssbatan. Mahkamah memmbangkan .uga on ml |s\\\\ah\\nmengaku sawarn umur mangsa dan umur on sewaklu kejad n\\nbeﬂaku. Mahkamah dapah pertuduhan an bawah Seksyen may\\n«oak menetapkan hukuman pemeruaraan nwnm,\\n\\nDalam menenmkan hukuman yang dualuhkan, Mahkamah Ielah\\nmengambﬂ klra kesemua Vaklor mmgasw uleh om dan mga\\nhtuahan DPP Mahkamah pemaya hukuman penyara Slahun aan\\n2 sebavan adalah ssumpal bag on\\n\\nA|as a\\\\asan W Mahkamah memumskan bahawa hukuman\\nDuiiara sllnma 5 uhun dari urikh mlgkw dun 2 km sohuan\\nlerllzdap om ada\\\\ah wa‘an amx dan bersesuawan.\\n\\n7\\n\\nN :|vFF1EK2sEKAD7m:Irw0<IV!\\n\\nma Sam M... Mu be used m mm na nnmnaulv mm; nnmmnnl vn mum Wm\\n\\n 190 Kogumsan Mahkamah\\n\\n16 Mahkamah «swan meruahmkan hukuman semma 5 |ahun peruars\\ndan 2 kall sebalan lemadap OKT\\n\\n.9; Pgnngh Lyn\\n\\nnokumermokumen kepada Ian Mahkzmah\\n\\nma Bsrlankhnada an/2024.\\n\\n(NORSHILA sum KAMARUDDIN)\\nHakim\\n\\nms Mahkamah Sesyen JSKK\\nAmpang, Selangur\\n\\nPihak Responden:\\nTImba\\\\an Pendakwa Raye\\n\\nzw d/a Pe]aba|Penas|ha1Undang—Undang Negerl sewangw\\nBangunan suuan sawanuaam Abdul Am Shah\\n40503 Shah mam, Selangor Dam! Ehsan\\n\\n \\n\\nak Perayu:\\nus Mm-«Em\\n\\nsw w.z»uszmnmm»<m\\n-ms Sum M... M“ be used m mm u. nvVWuH|Y mm; “Mm. VII mum Wm09/02/2024 14:55:47\\n\\nCB-62D-333-12/2023 Kand. 11\\n\\nS/N JpyZhLR9UmViD/xq3vV2g\\n**Note : Serial number will be used to verify the originality of this document via eFILING portal\\n\\n\\n\\nS/N JpyZhLR9UmViD/xq3vV2g\\n**Note : Serial number will be used to verify the originality of this document via eFILING portal\\n\\n\\n\\nS/N JpyZhLR9UmViD/xq3vV2g\\n**Note : Serial number will be used to verify the originality of this document via eFILING portal\\n\\n\\n\\nS/N JpyZhLR9UmViD/xq3vV2g\\n**Note : Serial number will be used to verify the originality of this document via eFILING portal\\n\\n\\n\\nS/N JpyZhLR9UmViD/xq3vV2g\\n**Note : Serial number will be used to verify the originality of this document via eFILING portal\\n\\n\\n\\nS/N JpyZhLR9UmViD/xq3vV2g\\n**Note : Serial number will be used to verify the originality of this document via eFILING portal\\n\\n\\n\\nS/N JpyZhLR9UmViD/xq3vV2g\\n**Note : Serial number will be used to verify the originality of this document via eFILING portal\\n\\n\\n\\nS/N JpyZhLR9UmViD/xq3vV2g\\n**Note : Serial number will be used to verify the originality of this document via eFILING portal\\n\\n\\n\\nS/N JpyZhLR9UmViD/xq3vV2g\\n**Note : Serial number will be used to verify the originality of this document via eFILING portal\\n\\n\\n\\nS/N JpyZhLR9UmViD/xq3vV2g\\n**Note : Serial number will be used to verify the originality of this document via eFILING portal\\n\\n\\n\\nS/N JpyZhLR9UmViD/xq3vV2g\\n**Note : Serial number will be used to verify the originality of this document via eFILING portal\\n\\n\\n\\nS/N JpyZhLR9UmViD/xq3vV2g\\n**Note : Serial number will be used to verify the originality of this document via eFILING portal\\n\\n\\n\\nS/N JpyZhLR9UmViD/xq3vV2g\\n**Note : Serial number will be used to verify the originality of this document via eFILING portal\\n\\n\\n\\nS/N JpyZhLR9UmViD/xq3vV2g\\n**Note : Serial number will be used to verify the originality of this document via eFILING portal\\n\\n\\n\\nS/N JpyZhLR9UmViD/xq3vV2g\\n**Note : Serial number will be used to verify the originality of this document via eFILING portal\\n\\n\\n\\nS/N JpyZhLR9UmViD/xq3vV2g\\n**Note : Serial number will be used to verify the originality of this document via eFILING portal\\n\\n\\n\\nS/N JpyZhLR9UmViD/xq3vV2g\\n**Note : Serial number will be used to verify the originality of this document via eFILING portal\\n\\n\\n\\nS/N JpyZhLR9UmViD/xq3vV2g\\n**Note : Serial number will be used to verify the originality of this document via eFILING portal\\n\\n\\n\\nS/N JpyZhLR9UmViD/xq3vV2g\\n**Note : Serial number will be used to verify the originality of this document via eFILING portal\\n\\n\\n\\nS/N JpyZhLR9UmViD/xq3vV2g\\n**Note : Serial number will be used to verify the originality of this document via eFILING portal\\n\\n\\n\\nS/N JpyZhLR9UmViD/xq3vV2g\\n**Note : Serial number will be used to verify the originality of this document via eFILING portal\\n\\n\\n\\nS/N JpyZhLR9UmViD/xq3vV2g\\n**Note : Serial number will be used to verify the originality of this document via eFILING portal\\n\\n\\n\\nS/N JpyZhLR9UmViD/xq3vV2g\\n**Note : Serial number will be used to verify the originality of this document via eFILING portal\\n\\n\\n  ca—s2D—333—12/2023 Kand. 11\\n\\n. ,0;/22:4 4-» u\\n\\n \\n\\nDALAM MAHKAMAN sesvsu DI TEMERLOH.\\nDALAM NEGERI PAHANG DARUL MAKMUR, MALAYSIA\\nKES N0: ca-52D-3:53-12/2n2J\\n. DI ANTARA\\nPENDAKWA RAVA ...PENDAKWA\\n\\nDAN\\n\\nAZDI am ALWI ...TERTUDUH\\n\\nV5 KORUM: HAJI JAMALUDIN BIN HAJI MAT,\\nHAKIM MAHKAMAH SESVEN 1.\\nTEMERLOH\\n\\nTARIKH HUKUMAN‘ 21 DISEMEER mu\\n\\n:0\\n\\nALASAN FENGHAKIMAN   mg: 1   maﬁa ﬁ;mW_q»5mgum...m M V.” mum\\n\\nmm Sum M... M“ be used m wow u. nvwvuﬁlv mm; “Mm. VII mum Wm   PERMULAAN\\n\\n1 Alasan pengnakuman inn dlsedlakan benkman danpada Iayuan\\n\\nYerluduh yang uaak berpuas ham |emadap kepulusan saya\\n\\n. yang umenxan paaa 21.12.2023 yang mana saya telah\\n\\nmensamxan Temmuh an bawah Seksyen 15(1](:) Akla Dadlh\\n\\nEnrbahaya 1952 dan dmukum penjara selnma 5 lahun mma.\\n\\ndanpada tankh 21.122202: den 1 senaun an bawah Seksyen\\n\\n$9C(1)(|1) Aku Dadnh Bcrhlhaya 1952 dan aupennnamn\\n\\nm memalaru pangawasan AADK selama 2 mm\" smspas\\n\\nmemalaru hukuman ax bawah Seksyen axe Am Dadan\\nBarhahnya 1552\\n\\n2 Rayuan ada\\\\ah xemaaap hukuman sahala\\n\\n3 Penman pememaraan mak dnawakmkan\\n\\nPERTUDUHAN\\n\\n:u 4 Pass 21.122023‘ Terluduh le\\\\ah amaaapkan xe Mshkamah\\nSesyen Temenrm dengan paﬂuduhan sepem berlkul   ,,mmWﬂ1mv‘D_m,,w.;.7‘ ..~ MW! A1h.I!1Al mu m 1131 Page ;\\n-ms Sum In-nhnv WW he used m mm u. nvwhuﬂly mm; dun-mm VII mum pm\\n\\n 23 Prmsnp yang sama Jugs niuelaskan nagn man Mahkamah Rayuan\\ndalam kes Gnlnesnln .I/I Nlcnllppln A Ors v. Pcndakwa\\nREVS [2000] 3 AMR 2621 yang menyatakan\\n\\n5 “The pawemn stnlsrlclng gwen m 3 man cmm ns 3 dnsmehnnary\\nan: nnd In under (or us. as me appennane mun, |a ansnnnm ms\\nsennenme nmnasea, we mnnsn be wrwnnoed man the man Judas\\nrnaa evved m avwylng he oorvs¢1 plwnclpbs ufxememzlng or had\\nembavkad on same unllllhunleﬂ ar emaneaus exemnse cl\\n\\nm dnscvellm nsee FP V Lou Chow! Far! have! 2 MLJ 255 and\\nannmuramaa Jayatﬂaks v PV|1vEZ] 1 Mu 9:) \\'\\n\\n24 Fandangan yang sama dnegaskan nnanam Ines Tan syn Abdul\\nmm». Mend Noor Iwn. PP [2001] 1 cm 545 El: rnanaman 553\\nh an mana Mahkamah nnenyanakan\\n\\n‘Kuasa Denghukuman adalah Ierlelak dn alas nmanmcana\\nmahkamah ma memmcznaxan seiualu m Mahbnzmah\\nlerseuul mempnnnyan ﬂak din Ialwﬁungpawnb “mm nkan\\n\\n:0 nansnnap lemhnt nan kerns. Maw budlhnnara nensennnn\\nheudnklah ninlnlﬁanaksn menuml pnnsnponmsnp pemnanan\\nhuknman my man dnervna vakal salami um nsnna nman Punm:\\nPmsuwarv Knmamn usezy 1 mm 331)\\n\\n1» Pnnsvp nnmnanmmnnansn ‘IBM: meﬂﬂnavnspandu raw?\" Medan\\nhukuman yang annannnrnxan oleh mahkamah ylng nnnnmnnmnnnm.\\npanama kah sesualu ks! xdmah mgn nenann .enas nnnpnnnusnnan\\nsebelum nnnn Mnhkamnh Rayuan max akan menguanswnn\\ndengnn sesualu hukuman yang duanuhkan malinnkan Iarw:\\n\\n>0 nnaaan dnunlnkkan bahawa dalam Iul keadaln sesuntu kes\\n\\nnmmn‘ hukumzn (usebul aﬂllih Izvmmmu man man Nigel:\\n\\nS’ﬁWHw%v‘D’XaW MW IV Mon mnnnmw 31 Pa: H\\n\\n«-ms smm nmnmrwm be used m mm .. nmmmuly mm. dun-mm VII .mnc v-man   alaunun dahm nnenetankan hukumarv Iersebul‘ mahkzmah\\nIehh gm» seclm mellcukupv mnmmbang ssmlu Iiklnf-hklnr\\nyang vdevan samadn mm man terhadav nesalah yang\\nberkenaan (SH: mm Puma Pruseculovv Sn/mman am Anmaa\\n\\n» .1993} 1 MU 74) Adam: ma» melqaaw suatu nmahn ylng\\nmlenma hahawn Mahkamah Rayuan mak mu mengubah\\nmum rmkuman mm kerana xanya mungkm meruzluhkan\\nhukuman yang baﬂaman Wa\\\\au bagalmanapun hukuman yang\\n.1 mm hendildah melvglmhangw a. umavu kepeﬂlmgan\\n\\nm awam ﬂan kevenlmgan Iznudun (sun mm mm Prosecutor V\\nL00 cr-can Fa!I[1975I 2 ML! 255} Dalam kes um Guan Eng v\\nPub»: Ptuaccular [ma] 3 cu vew mm. Gupnl Sn Ram,\\nmm dxlam menyxmpaxkan klpmussn mmmn mm\\nanlava lam menyalakan sepem henkm\\n\\nSufﬁoe to say that a cow! mama, man unvemng an\\namused, uke mm awmml =\\\\|cunsrdera1mn:. rzlevnm in\\nme case mcluﬂlng me grawly al me aﬂenw. the\\nmrcumslancai smmunmng me zumnussmn ulme uifenoe‘\\nlbs lnlncldsnu n! ma accused. (ha dslevrsn|aWm:1 Ihal\\npunuhmem .; m hnve. Any Lnaar |7Ii| warvanls spemal\\nallemmn emu m Vavnuv ov awamsl In: accused and\\nshame all me punnc wmevest Reasons muﬂ bu gwen fov\\nwmposmg a pamculir senlence m eruble an nppeHaI.2\\n:« mun In ensure Ihauhete has [men ..n arm m vnncwme “\\n\\n \\n\\nKESALANAN SERIUS\\n\\n25 Kembalx kepada kes Ierhadap Termduh Inv, saya mengamhxl\\nm maklum bahawa kesa\\\\ahan yang dnakukan oleh Terluduh\\n\\n \\n\\ns,n.,9;mQ%v‘D,X§Mwun‘.....m ,‘ wzzvm u..m.»...‘-5; mu:\\n«ms smm ...m.mm be used m mm .. mm-y mm: dun-mm VII mum pm   admah suatu kesmahan yang senus dan dlpandang berat aleh\\nPavllmen yang menetapkan hukuman psruara mlmma 5 (ahun\\ndarn bcleh sampal 7 lamm dan sebalan bnleh sampal 3 sebalan\\nan hawah soksyen 39C(1)AkIa naaan Berbaluy: 1952\\n\\n26 Penmlukan hukuman yang beral xtu menuruukkan banawa\\nkesalanan yang mlakukan aleh Tenuduh ada\\\\ah senus\\n\\nFAKTOR MITIGASI\\nm\\n27 D. sampmg ﬂu saya ;uga mernpenlmbangkan mlllgasx Tertuduh\\nWalau bagamlanapuru saya ugak nampak seharang alasan\\nyang munasahah dlkemukakan bag‘! memhenarkan Terluduh\\nlevus mengulangi kesalahan yang same hemlang kalv\\nis\\n23 saya nuenaapan rmllgasw yang dxbenkan uleh Tenuduh max\\nhelmenl sama sekan\\nPEMGAKIJAN SALAH\\n2»\\n29 saya Jugs mengambil klva pengakuan salah Terluduh yang\\nlelah menumalkan masa dan kas pnnamamak yang lerhbal\\nso Wa\\\\au bagalmanapun. pengakuan sakah Terluduh max hcleh\\n1: menjadl faklor mmgzsw yang kual dalam keadaan an mana\\n\\nTerluduh mernang Iidak mempunyal apa—apa pembe\\\\aan pka\\n\\nkes ml dnbucarakan\\n\\n,ﬁW§ﬁ*v‘D,X&munwn~ALvn Wm mun”. wm hne u\\n-ma saw ...m.mn be used m van; .. mn.u.y mm: dun-mm wa mum puns!   31 Mahkamah ml mengamw pendekatan yang sama\\nsebagawmana daram kes Tia Ah Lang 1/. Public Fmsecutor\\n[2004] 4 CLJ 77 as man: YA Mokmar Stdln HMR menyalakan\\n\\n“|1[A|mm1gh n \\\\s an act>ep|ed rule av practice that an amused\\npevscn , who pveaas gumym an oﬁeme wulh Much he has been\\nchmgnd . shall! be grvan . dxscmml on line sentaenoe max\\nwould mherwxse hnve been Impcsad on him had he bun\\n\\nm cnnvlcled my a max ye| mere ale nnpmnz axcstalmru m on;\\ngeneral ml: Indeed, he nﬂenczs may nn. Dangerous Drugs\\nAcI1952 are excephans to (Ms male\"\\n\\n32. Mahkamah im selaruuinya memjuk kes PP v. Abdul Hllim\\n1, Ishak & snu Lagi [2013] 9 CLJ 559 an mane VA Mohd Zawewx\\nsauen HMR |e\\\\ah menzahrrkan pandangannya sebagaimana\\nhenkul\\n\\n[21] Txdak mm dwpemkaxknn bahawa kesmahan yang\\n10 berkzvlan German dzaan admin mempakan szlu kaaauhan\\nyang senus yang lumen mengantzm kexe\\\\im.llnn dun\\nketcnleaman negirn mu kesmanan umum Dauah lelah\\ndusylxhimnn sebagm musuh nombov salu negava man Kalapan\\npadz Iamm was Jusrenn uka mahkznlah mengnluhkan\\n:4 hukuman yang Hngan kzpaﬂa um xesaxanm yang uuaapxan\\nmaLI\\\\m Pimmen senagm semis. sudah lenlu perlmdungan\\nsewayamya udak dapal dvhenkan kepada cram lama: Dalam\\nRes Yusmarm sammmn V wmm; mnhkamah menegisknn\\n\\n5,~.,5,,m,mW,X¢,,,,h.mw.m xvrvmun ,3 mun ,1 wmu\\n\\n«-um smm n-nhnrwm be used m van; .. mn.ny mums dun-mm VII mum pans!   The sevemy oi sentence can my he no veﬂecl\\nwamamnns mnnon mal oonvwlwon my bemg n\\npossassmn gr 2 large amoum cl 3\")’ «Mn no Piummted\\ndrugs mus\\\\ commensuvate wwh Ihe sentence m be\\nDassed an me vecmrar lacis mam. case”\\n\\nPESALAH TEGAR\\n\\n33 saya juga mempemmbangkan «am: bahswa samlsn xan nu\\nm bukamah kesamhan pertama Terluduh Rekmi saman Iampau\\nP5\\nyang dlkemukakan di Mahxamah mervunjukkan bahawa\\n\\n \\n\\nTerluduh sebagannana yang dvcermlnkan dalam eksh\\n\\nTenuduh mempunyaw 2 amun ken an bawah saksyon 15(1)\\nAm uaaah Eerbahaya 1952. In: adalah kenlahnn mag.-\\n.s on as hawah aeksyen yang sama.\\n\\n34. Rekod samcan Vampau Tenuduh menurwkkan bahawa\\nTenuuun merupaxan pesalan cegar, masm bemm wnsal dan\\nmasm hemm senk walaupun lelah berulang kah keluar masuk\\n\\n:n peruara\\n\\n35 men yang gamma\", sawayamya Ts.-nuduh dnkenakan Iwkuman\\nVang beraf\\n\\n2; as Berkenaan perkara um. suka saya memenx ksputusan\\nMahkamah Rayuan dalam kes FF y Muhammad Falz Full\\nMahmud [2016] 1 ms 523 yang telah membenarkan rayuan   ,M’w2§t“,guhv‘D,XﬂN|’gAzw-‘Mum n mm: sw..y..ym rm w:\\n\\n‘Nuns sum In-nhnv wm be used m yaw u. nﬂmnnﬂly mm; ﬂan-mm wa mum wrm\\n\\n plhak pendakwaan Ke a|ss hukuman pemara 7 nanun yang\\n\\nmkenakan uleh Hakim Mahkamah Tmggl bag! kesalahan an\\n\\nbawah Soksyon sum ADE 1952 nan menggannkannya\\n\\ndengan 10 lahun peruava Mahkamah Rayuan menegaskan\\n5 aepembenkul\\n\\n‘13]AlteI pemsmg the Recon alADDea\\\\ and having considered\\nme iubrmiivuni ny mn pames we had unammuusly agreed\\n|7Ii||h!VmPHSOH1l|SlV|fEllﬂ avsmn years .5 was mam ml by\\n\\nm we Venmed Hwgh Cam Judge was manﬂesﬂy Inadequate\\nml Uvbermosl on om we when daalmg wnn Ims mg ml an\\nappeal ‘s the fador ov punnc wmelesl A: Is um, ulmmal mm ‘s\\npumldy enfurued and Iha unison undenymg mm palmy has\\nbeen |ha| a cnme mus| be dean mm m such a way man wuu|d—\\n\\n:: he anenam wnmr! be dulelved «mm mmmmng sumlar Mfume\\nGvanled (Hal rahablmznon mny aka a. . vabvlnl farlnr m be\\nmnsxdeved m dese rages me Court mvanalﬂy mu lean m\\n«mm of melmg out . delzvrenl sentence laklng me account\\nwe ma ol oﬂenoe mat was wmmmad by we Mfendar mm the\\n\\n2» ramparvcy nu? man an uwence Havmg mnudered Ilmse Metals.\\n\\nWe Own mu Ihen :32 mm Ihe (rend an senlencmg my sumlar\\n\\nmu nvaﬂevme lhalwas being ea-masvea an appeal would be\\n\\nnx. Having um mat. lha Com ws wsﬂ swans man (here ‘s no\\nsuch (Mug as . ‘one mm ﬂu aw km of sentence for an\\noﬂances The law memes lnr a vange oa senlence wuhm which\\nwe Conn Vs emnoweled |a me|e am an avmopnate ssmannsx\\n\\n \\n\\nnever-amg on ma vmcvanl «mm: as We cwcumsmnces cl Ihe\\ncast: m¢Y P-new [See genmwy, the mse nf R V new [1951]\\n35 0! Ann R 164019 an-cued nmamem M Hune-y J]\\n\\nm [15] In We use me valevanl law on Dunrshmenl cm the mm M\\n\\noffence wmmmed by (he Raspundam as cnnumed nude!\\n\\n5,,,,5,mm,;,W__u,m m...m mm xvwrmxuvmsx »..g.m\\n«ms smm ...m.mm be used m mm .. mm-y mm: dun-mm VII mum pm   secmn 39A42\\\\ al me om, has numaea my a maxnnum\\nsemenoe M we xmpnsunmenl nmny yams! em a mwumum\\nImwlwnmenl av rm years‘ on uamnemn und am e mwmmum\\nnf Ian shake: nl me whnppmg In me me, me veamen mgr.\\nCa-m Juﬂge had Imposed an Ampnsanmenltaerm ul seven yeavs\\nHavmg scmlwused at me lacls ow om sale and me\\numumshnoes sunuundmg me ulnmrsslnn :71 me ewenee and\\nme 05:! than me Respnneem had nlemsed smny ana was a\\nyaumnn oneneer. we were at me wnswdeved vnuw mat me\\nno weemea Hvgn Cami Judge had enea m alamsmg ms ameuon\\nwn pasung such a sentence of nnpueanmem on me nespomen:\\nu was me Women to us «nan had me Lavdsmn liken unm\\naeeomu me wane mleresl as me pammoum eomldevinan‘ he\\nwould nm have menea am such a senlawe a ne am There\\n:5 wax nu auenemxe rensnn ‘uxhfymg In meﬁy Venuenlssvulenae\\nmm was wmvnsed an we Flespnnﬂem In me case at\\nElvamtulananda ./ayal/(aka v PP [mail 1 mu 5:, ma apex\\n\\nCmnl nad uncaswon In any\\n‘Hem (2) we learned ma! gudge was Jusur-ea m\\n2» antlwewghmg me Dlea of mmuamn In «avwr er we won:\\nWaves! wnn a uewe In upmxa me dmnﬂy and iulhcmly nl\\n\\n(he wew In Ims can-my ‘\\n\\npa} Cansndenng me public mleresl and me Item an sememmg\\n«or slmﬂav ewenee m vwew onne lam amnunl cl Cannabli, we\\n:5 aaveed mm ma weeznea ow «nan nne senlence Dewy appeibd\\nIglnm was minﬂnsﬂy midequale in me cwcumslanoes we\\nhad seen new an aﬂevme ohms name nugm co bednlt mm In\\npnewo-my uemea eases and time was no veamn fuv us m\\ndapaﬂ mm me p-evemng Irena mat wwd be diycemed «am\\nwe cne senlenurvg palteln «auamea by we Com m snnuar cases\\nwe range at sentencmg «nan we named was nerween len lo\\n\\n5mwmW_,,,W,X§ nw .....w WM Show Ann wsl W n\\n“Nnne sanaw n-nhnrwm be LAIQ4 m may he anmn.u-y em. dun-mm VII muNG v-mm   |mneen years Vmpmonmenl Yha\\\\ gave us nn nee Mwml me\\napprowwlle senlevice nugm In be mm mm amount me\\nDaculmnlnes cl we use The amount at Cznnams m |ms sale\\nwas an gvavvvnes Tha| amoum had vsvlsscmsd move man\\n5 mn «me; me mreslvmd amwm L11 so glimmes mm wmﬂd\\nhugger me opemuun ea secxmn 3 av Ihe um um xi pumsneme\\nImdev sewnn awn ac |he same Au To be mu, m was\\nsevenlean «mes mu me Ihvuhold amnum of so gnlmmes\\nmm aermnexy would reﬂecl me aevmusrless Mme mfenue The\\nm lac1 mm Ihe Respondenl had vleadeﬂ mm to In: change doe!\\nnot mean mal he was enuuea In an amomeuc vedunmu m we\\nsenlenne In D: -mpum\\nSqnlanclng V: amIre)y .| Iha meaeum. at me Cmm umess me\\n‘aw under scrmmy supmauea meme m me case 07 Szcmk\\nVs Aoam Rah/nan v PP [2004] 2 cu 512 (“Baum Am: Rahnun\\ncase“) n was held mar (here can lherelore he rm aummaiu:\\nMa (hat 2 gm, pwee an as awn enmes an accused m a lesser\\nDumshmem - Even u an acmsed pevsurv Vs armed to e\\nveducnon such veducvun must mum ms Wwlxar\\ncwvumstancss vf ma vsmcular cue Sn‘ any veduclmn M\\nxanlsnci must be 42:1-sensmve u mus! he ampry msmea by\\nme exlenualmg mrcumiunces ac me case before me\\nsenlencmy Court m shall‘ 1: sum: um [13 lwardad armxuniy‘\\nrather n mama be a mm‘ at a mnmve exzrcnse M ,uu.m.|\\namenen As was held by we mm m we Eachnk bm Abdul\\nRzhman case [sunval wag a raqunmn ws nu . sum rule wn\\nIna! “In axzvmsa -7? ns aweuom u may reﬁne ln glam any\\n\\n \\n\\nmxcmIm\\'\\n[17| Hamng so censrdered, we um bum: to our unanimous\\nm decwsuon man me semenw M umpnsonmenn D‘ seven years\\nougm m be 521 um and m It: phcl. we ma wmpmed an\\n\\n5mﬁﬂWmW,,M.mr...m..e. zvr\\'11Im XMUI)1DII‘7;I Page xx\\nmm. sew ...m.mm .. LAIQ4 m may he mm»-y mm: dun-mm VII mum v-max   ImpHsL7nmen| term alien yeavs m be effective mm 01: Gabe av\\n\\nmg arlesl We had a\\\\so deemed noc to mslurh Ihe semenue M\\n\\n(en slmkcs er live wnlppmg mm was nnpnsea by the learned\\n\\nHnn Cmm Judge We had lheveluve iﬂuwed the appuw by In:\\n\\\\ mun Pvasecmov ‘\\n\\n37 Berdasarkan kepada rvas-nas m alas, saya berpuas nan\\nbahawa hukuman Danjnu 5 man can 1 sebalan yang\\ndlkenakan o\\\\ah Mahkamah .n. ada\\\\a?I selavl dengan kepumsan\\n\\nwu Mankamah Rayuan dw alas yang menghendakx Mahkamah\\nmengenakan hukuman yang beral bagx kes-kes yang\\nmellbalkan kepemlngan swam Hukunun pemm 5 mum\\nﬂan 1 Iebatan «mahun melupaknn hukuman yang paling\\nrinqln yang Mahkamah bnren .amnkan an bawah seksyen\\n\\n.~ seam) Aka Dndah Eerbahaya 1952. Hukuman peruara\\nmpenmah benalan dan (avikh jnmn hukum kevana sebelum ml,\\non herada dalam ;amman\\n\\nTIADA RASA INSAF DAN BERTAUBAY\\n\\n20\\nas Wa\\\\aupun aaram mmgaslnya. Tenuduh ada menyacakan vasa\\nkesal nan mar, |efapI kelakuan OKT menunjukkan sebahknya\\n19 Seklranya bellau benar-benar man man Ientu behau hdak\\n5 akan mengmang: kesawahan yang sama berulang kalu   ,ﬁ.,E,mmw_ M WW. ,. W/77V :.wqn4mLw:1 Pu: «y\\n-um am ...n.mn be used m mm n. mm-y mm: dun-mm VII .mm mm\\n\\n Au Mahkamah Im meruwk kes PP v. ren Ah cnenq [ms] 2 MLJ\\n«as m mana YA Abacus! Cedar H (elah menyatakan seperll\\nbenkul\\n\\n. ‘The vespundem also pms comm M: II: {ﬂea wn mmgauon me\\nnu ma? he \\\\s empbyed and suppons an aged mmhev and\\nshenbmlhevs He mun m own: have moughl 01 W5 mm\\ncommmmg the nﬂenaes and um am, he V5 m (ad weadmg\\nhaldsmp anslng [mm the consequences of ms UWII 3:15 mud n\\n\\nm womd vwtsmie vmal I had masm plevmusly to observe m\\nnumber case mu .In awmm shuwd nol exam lo excnle ov\\nharness any Svmnamy on an wpse dun by (alum mac ilarwe ac\\nthe Impmuoui youth who med ms paveals wllh nn axz and men\\nyielded m mmgamn mm he was an nrpnan -\\n\\nKEFENTINGAN AWAM TERPELIHARA\\n\\n41 Saya percaya, kepenllngan swam akan Vebuh Ierpemwara jlka\\nTermduh duasmgkan danpada masyaraka| dalam sua|u lempoh\\n21> yang paruang\\n\\n42 Tempnh pemeruavaan yang paruang ;uga amarepxan dapat\\nmembanlu Tenuduh unmk melupakan naps dadah yang\\nmungkm sudah memadl darah dagwng Temxiuh\\n\\n \\n\\n43. Tempoh pemeruaraan yang panrang jugs mnarapkan dapal\\nmemuluskan hubungan Terluduh dengan rakan»rakan   M,§m1W§mv‘D_§m mwunm 1 vzmx \\\\:«...»m ..;.\\num smm ...m.mm be used m mm .. mm-y mm: dun-mm VII muNG pm\\n\\n m;RILuuHAN\\nEAHAWA mum mu w umnu AN smwmrx 2; um man-1\\nxnuuc us yI:rANu BLKILMVAI D1 max: a,m/xuuw\\nsxAsA1’Ar\\\\ nsmwm wwmonx mu mum mus umm-1 mu.\\n\\n, m mum mnwl saw. at mm»: NEGERI mmwu uAku|\\nMAKMUR. T|:LAn namvm Mmnnzum m».m mm KAMU\\nswam mmu BERBAHAYA news -mrucumnxs\" um\\n’M[TILAMP||ETA‘/IINE\". mu “man KESALAHAN KALI «mm\\noma nu KAMU mm MIZLAKUKAN snu KESALAHAV nuuwm\\n\\nm sax um...) AKTA mm\" BERBAHAVA H132 mu noun Dlnuxuw\\nnnmwm: smsyw 190:) um vane smm uuma nmasam\\nsnksvm mm mm mum seam-ma N52.\\n\\nmmuwm\\n\\n.< um DISAI-ill’ xmwum umw¢,\\\\n mi-1Ui{uM vrwmu\\nSr. MA xwmu nmx xra/mo (51 muux mm mm (Ham\\num m mam mu H!-‘v\\\\D.\\\\KLAH nnxemmm sHsA1‘I’n>Ax mm\\nmm m sFuAr».r\\\\ um vmemmszm In)/\\\\K xx/RAM. 2 wmu\\non nu/\\\\K MELLHINHTAHUN\\n\\nPENGAKUAN\\n\\n5 Perm-man m ates lelah dmacakan dengsn lerang din jelas\\nkepada Terluduh dalam Banasa Mamysaa yang mcahami oxen\\n2: Terluduh\\n\\n5 Terlumm dsngan sukarela mengaku bevsalah ke atas\\npeﬂuduhan tersebm   swwmummumm\" “\"  W‘\\n\\n«W. smm ...m.mm .. LAIQ4 w may he mm-y mm: dnuumnl VII mum Wm!   45\\n\\nsepemenayah yang lam dan Tenuuun dapaf merualam\\npmgrarwprugram pemuhhan dervgan arnan\\n\\nsemoga se\\\\apas menglkun program-program yang (e\\\\ah\\ndisusun semasa m pemara nann dapal mengmsafkan Terluduh\\ndan member: pemang kepada Termduh unluk belmuhasabah\\ndun dan beruhah kepada samang wnsan yang Vebih balk dan\\ndapal menlnggalkan dadah sepenuhnya.\\n\\nsaya Juga berharap behau mengannnl peluang semasa\\nmerumanx hukuman penjara unluk rnen\\\\paxa;an pelbagau\\nkemamran benaaaan yang buleh dlgunakan unluk mencarl\\nvezem yang halal kellka amebaskan aanpaaa peruara narm\\n\\nPELUANG MEMBAIKI DIRI\\n\\nAs\\n\\n47\\n\\n \\n\\nSemoga dengan lempah perneluavaan yang Varna um menmen\\npemang kevada Terluduh un|uk bevubah dan mernpemam am\\nmenjadl seorang wanzanegava yang berguna din menukar cars\\nhldup kepada yang Iebih balk\\n\\nD: peruara ]uga Tertuduh berpeluang umuk gelayar I|mu—Ilmu\\n\\nakademwk dan Ilmlmlmu kemamran kendm secara uzvsusun\\n\\nbersama vegawahpegawal yang benaulvah\\n\\nPugs :1\\n\\n 43. Aaaxan duharapkan, se\\\\epas dxbebaskan danpada perqara nanu,\\nTertuduh ‘will turn mm a new lea!‘ dan membebaskan dm\\ndanpada najls dadah sena meruam seuvang msan Dam yang\\nwenm produkm menyayangr din msayangl oleh anggma\\n\\n» masyarakae\\n\\nnumusm\\n49 D: akhlr anal-sus, says. bevpendapal hukuman yang telah\\n.0 dua|uhkan adaran menglkul unaang--maang, wsjar den\\n\\nmurvasaban sens seumpal dengan kesalahan yang dllakukan\\nmen Tenuduh\\n\\n1: Eenarikh pad: Bhb. Fehnuri 2024.   unm am HAJI MAT\\nHakim\\n\\nzn Mahkamah Sesyen Yemerluh,\\nPaham: |>aruI Mnkmur.   W,,1p.:y2mm_.,._\"v‘D,X;5V.¢,,w,.;.,;‘... 1. mm. \\\\.m.,A... m mm:\\nmm Sum In-nhnv WW .. used M my u. nvmnnﬁly mm; dun-mm VII mum pm   Fmak-Pihak:\\n\\nFendakwa Raya dlwaklll oleh Pun\" TFR Alidazul Azwa mu.\\nKamarul Amm.\\n\\nPajabat Timbalan Pendakwa Raya,\\n\\nremerloh.\\n\\nEnctk Khalrul Anuav bln Abu Hasnn Ashaari, Peguzm VEGK\\nmewzk \\'lerIuduh.   :uazmwmmuyxe.nww\"‘~‘~-W A\\n\\n-m Sum M... M“ be used m van; M nugvuuly mm; “Mm. VII mum puns!\\n\\n 7 Mahkamah selerusnya menerangkan snfal dan akxbal\\npengakuan sa\\\\ah (ersebm dan perunmkan hukuman yang\\nmen dxkenakan ke alas Tenuduh\\n\\n> 5 Yerluduh memahaml penerangan Manxaman dan maslh\\nmengaku salah ke alas perluduhan‘ nan «anam snal den akwhat\\npengakuannyi rm.\\n\\nRINGKASAN FAKTA xss PENDAKWAAN\\n\\nm\\n9 secerusnya, Tlmbalan Pendakwa Raye (erpeleuar\\nmengemukakan rmgkasan lakta kes pendakwaan\\nso Rmgkasan fakla kes telah amacakan kepada Tenuduh mehlul\\n:. wrubahasa Mahkamah den dnsahkan sabagal mm.\\n\\n11 Rmgkasan lakta kes kemumannya dwtandakan sebagau eksmm\\nP1\\n\\nIn EKSHIBIT-EKSHIBIT\\n\\n12 Selerusnya, Tlmbalan Pendakwa Raye cerpexapar\\nmengemukakan ekshwbmekshiblt sepem berIku|   ,,g,_,&wmmvm \\\\”wI1ﬂ\\\\II4MW1 mm. mm ‘ mun VJS1 W 1\\nmm Sum ...m.. WW be .15.. m van; M m\\\\g\\\\ruHIy mm; dun-mm VIZ mum puns!\\n\\n (3) Banner 32 Report Nu 777/23 ssbagax P2\\n(17) Tnang Report No 3120/23 sebagax P3\\n\\n(:1 Lapnran patolagn sehagau P4 — mmnjukkan ﬂan mam\\n\\n(:1) Rekod Pusat Pendaharan Perqenayah sebagan P5 »\\n\\n. mnacakan dan mam\\n(e) 4 xepvng gambar mm urin sebagal PEA-D — dilunwkkan\\naan dlakul\\nRAYUAN TERTUDUH\\nm\\n\\n13 Mahkamah seterusnya mar-dengav rayuan daripada Terluduh\\n\\n<4 Tertuduh me\\\\a\\\\uI peguamnya menyacaxan\\n(a) on berusxa 44 tamm\\nV» (b) OKT sudah berceraw\\n(c) on bekeria sebagaw buruh av waaang kelava sawu dengan\\npendapalan ﬂakam Rm ‘coo sebulan\\nmy on mempunyax 3 (anggungan ‘am; 3 arang anak yang\\nmasm berseknlah\\n:0 (e) on msar dan menyesaL Sena berjanu Iwdak ulangl wag:\\nkesaVaharv yang sama pada masa hadapan\\n(0 Pengakuan saﬂah hams\\\\ah dmenma sebagav laktm mwllgasx\\nxevana telah jvmalkan mass‘ (snaga dan sumber pIhak~pmak\\nseklranya kss w dxbncarakan‘ dan memudahkan kena\\n:3 semua pmak\\n(g) on lelah bevikan kenasama sepenuhnya kepada pnhak\\npuhs dan |arIkh langkapan sehlngga (ankh pendakwaan\\n\\n,mmmhv‘D,XﬂW Imuw: zmzwmx <x\\'w::u-Ivlsww Page »\\n\\n-um smm ...m.mm be used m mm .. mmuny mm: dun-mm VI] muNG pm   (n) on adalah pencan narkan mama kemavga\\n(:1 on when hukuman penlara sebatan dan pengawasan\\nyang rmmma den dlkua dan lankh tangkap\\n\\n: NUJAH PEMBERATAN OLEH TIMBALAN PENDAKWA RAYA\\n\\n15 TImha\\\\an Pendakwa Raya lerpe\\\\a;ar berhwah sepem berlkur\\n0) Puhan Sam hukuman yang beret mxenaxan Kepada on\\ndengan mengamhll kua faklur kepentmgan awam melebxm\\nwu kspermngan on\\n(n) lnl merupakan kesawanan ke-3 OKT dx bawan s15(1Ka)\\nADE 1952\\n(ml Berdasarkan ersnmn P5 cersenuc, menunmkkan bahawa\\nOKT Ixdak sevik dan benamsan memehakkan dm dalem\\n15 game penagunan dadan\\n(wt OKT beraﬂa dalam iamman selepas dnangkap sehin9§aIah\\nmmuun dw Manxamah pada nan Im.\\n\\nSASITAN\\n\\n15 Se1elah mendengav pengakuan salah Terluduh tanpa syamc.\\nmenganahsa lakla kes, menelm eksmbllekshlbn yang wan\\ndlkernukakan dw hadapan Mahkamah‘ Mahkamah menerima\\npengakuan salan Temmun Ks alas pertuﬂuhan dan\\n\\nZ: rnensabmkan Terluduh sebagalmana perluduhan   ,N.,5mmmW_¢,mw. .....m 2. new sun H -mu vm Page ..\\n-ma saw ...n.mn be used m mm .. mmnmly mm: dun-mm VII mum pm\\n\\n HUKUMAN\\n\\n17. sexelah menimbang vayuan Terluduh dun hwah pemberatan\\nTwmbalan Psndakwa Raya‘ Mahkamah menghukum Terluduh\\n. dengan nukuman sepem benkul\\n\\nOKT dmukum perqara selama 5 Iahun mma: aanpaaa\\n21.12.2023 dan 1 sehalan dx bawah seksyen 39c(1)(n) Akl:\\nDadlh Berbuhaya 1952 darn dupenncankan m2n]a\\\\am\\n\\nI/I psngawasan AADK se\\\\ama 2 uhun se\\\\epas menya\\\\am\\nhukuman dw bawah seksyan 335 Akﬂ DIE-I|\\'I Berbahuya\\nI952\\n\\nALASAN ATAS HUKUMAN SEDEMIKIAN DIPUTUSKAN\\n\\nPRINSIP UNDANGVUNDANG DALAM MENGHUKUM\\n\\n13. Pnnswp undang-undang berhubung hukuman lelah je\\\\as dan\\nmanlap Femmbangan mama mengenax hukuman vm selam\\n\\nzn !ak(or-!aklnv Lam ada\\\\ah laklov kepemlngan awam D. samplng\\nmu‘ faklor Kepentmgan awam ml penu dumhangw dengarv vakxor\\nmmgasl Termduh\\n\\n19 Eenepatan m sum un|uk dnmbas kembah panduan menghukum\\n\\n:: yang dlnyalakan da\\\\am kes Fuhlic Pmsecutnr -/. Lno Chonn\\nFan [1976] 2 MLJ 259 yang memexasxan sepem benkul   ,,ﬁ5mmmWD,Xmm.mM..n. .m,;. sxmmn ‘:1 may\\n\\n-ms Sum In-nhnv WW he .15.. m van; M m\\\\g\\\\ruHIy mm; dun-mm VII mum puns!\\n\\n ‘One at me mmn mnsnieralmns m me assessment al sentence\\n:5 av nouvse me uuesuon ul Dubhc Imerzsl on um: new I ma\\nmy me: a paws: hum me ludamem 01 Hllbaly J m Re: V\\nKenneth John Hall as inﬂows.\\n\\n; ‘In decnmng me appropriate semenoe . mun shnmd\\naways be uunea by certain conihialanons The N51 and\\ncommon Is my pubhc m|erss| rue cwmnll Viw ws puuwy\\nenfomed no! my wmn me amen at punlshmg cnme‘ hm\\n3150 m we have 01 Dvevennnv l| A warm sentence‘\\n\\nm pasud m yuan; ssrvas me pIIbYvc\\\\merus1In Mu way: u\\nmay deter wlhers who mgm be Izmpled In ﬂy mm: as\\nseemmg Ln we. easy money an we suppnsman mm Wlhe\\nWendel ws mughl and nmuam Ia Alxswe. me Dumshmen|\\nwm be neglwglble Sum a ientarvce may ilw delev Lhs\\n\\n\\\\» plmcmlr cnmmll «mm cumrmllmg . cnme :9“ ur\\nmm mm m mm mm a cnmma\\\\ m an honest we me\\nam: Imeresl Is Indeed skewed‘ and um served n ma\\nwane» Is induced tn mm «mm cHmIna\\\\ wnys |u hune:|\\n\\nmg Our law does nm. nmevma. H: the semen: for .\\n\\nm uamauxau curve, but ms 3 maxvnum sentence and\\nWeave: n to we own to name what vs, wrmm me\\nmamum. me apwapnala umsnce «or each I:limma\\\\ m\\nIhe pimwlir circumstances :4 each case No! mm m\\nmama to each crime mu m regard In each cnmmal, me\\n\\nx wall has me -gm and me my In «em vmsther In be\\nVumem or xsvem ‘\\n\\nmsmsms and Mnmslrales ave oﬂsn Irmlmed we nnmvaly m\\nbe ovev—symna|net>c to me accused This u a nwmal\\npmnoxogucan vaadwn «o the mama m much my loneiy\\nan acmea us men hcmg an army mwnngammm lulhumy The\\nmnlngahan suhmmed by a cnrwxcled vevsan w-VI aha nermalw\\n\\n \\n\\n5,,«,,M¢,§WWD,X_qf my mum: mm.‘ A‘1‘KIHM)l\\\\\\'I§A Paar x\\nmm. smm ...m.mm .. LAIQ4 w may he mm-y mm: dun-mm VII mum pm   hung uv pvamems at «my namsnv and me my usua\\\\\\n\\nnmmsms oe wing In such a slluanun Ins canni rmgm Pumapx\\n\\nM m mum: In deuce as m wha\\\\ sentence shuuld be wmpaxed\\n\\nso Ihal me oanwued pecsen may nnl be lunher mmenea wnn\\n\\nadmmnm hardship ms Vs my vwew Is a wmnsl avbmach\\n\\nme corvan appvuach w |u sink: a balance, as can as posswble‘\\n\\nbelween me unnemsu nl me pm: and me mlewesls M the\\n\\naccused Loni Goddard LCJ In Rex v Gmndkowskr aﬂered\\nsome am advwrae when he mu —\\n\\nH) ‘The mdga mun oonmdav m. Imuvssh aﬂusune u mu as\\nme mterests :71 me pnsanevx u ‘s ma Mien nowadays\\nmougm. or seems to he moum mac Ine wmevests cl\\nmm means omy Ihe Imeresls our-e pnsnners -\\n\\nh 217 Eerdasavkan kepada nas-nas an a|as, Mallkamah perm\\nmenlmbangkan bahawa kepe an awam adalah menemm\\n\\nkepenllngan perlbadl pesalah\\n\\n \\n\\nEUDI BICARA\\n2a\\n\\n21. sewam mu, saya Auga mengambn maklum bahawa undangr\\nundang memoenxan my mom sepenuhnya kepada haklrn\\nbucara untuk menentukan hukuman yang sepatmnya ﬂualuhkan\\nke a|as pesalah tetapl kuasa ml hendaklah dulaksanakan secara\\n\\n2~ adn dan saksama selalas dengan Dvmswp undang—u-mang\\n\\nbemubung hukuman\\n\\n»-.5. v\\n\\n5,mMMmW,mfMw.‘ MW 2‘ vnm smruwaurx\\n\\n«-um smm ...m.mm be used m mm .. mm-y mm: dun-mm VII muNG pm   22 Prinswp mu mnyacakan dengan ]e¥as dalam kes PP v. Jala bin\\nDlud[I9B1] < ms 25, [1951] 1 MLJ 315, d\\\\ mans Hakim\\nMohamed Azrm (pada masa mu msngganskan pnmlp-grlnswp\\n\\nnukuman yang sepamnya sebagawmana benkut\\n\\n‘A ‘senlenoe zcmmmg In um means mm Ine sentence mm\\nmm nnly n. mnnn the zmbn av me pumshame secnon am an\\nmus| mu :7: assessed and pamc m acouvdanoe wnn\\neslzbhshed mam: Dvmclples xn anessmg sentence, one -71\\n\\nm m mam canons |o be consndemd Vs whelher me cnnvnﬂed\\npe/xan us . am wenaer u \\\\s «on (ms purpose that won\\npassmg SE1’\\\\|EHDS.i Miglnrals is vsquved lo caH my evldsnce\\noi mlonnanun regammg me backgmund nnmmdem and\\ncharanev of me accused Where the convmed pennn has\\n\\nY; pmvlmls vswvds anu gums mum is cmm me court must\\noonsnier whelhcr the wane: ur nﬂsnces cummmed prewoasvy\\nme an smlar naluve as me one wmh whch he \\\\s pnasemrv\\ndvavged The com! mus| then cousins! the sentences Impnsed\\nm me nlevmus mnwcmns lur swmlav oflences xu detevmme\\n\\nan whether they have mm iny dehenenl .«m an nnn Whale he \\\\s\\nmna «o be a nemscenn Mlendev cm a swmlhr Iype uvanmzs,\\nmen n u m the Wales! at wshae Inzl a delenem sealenae\\nsnoma be pnsxed mu‘ n such 2 cm, uman (hm ave\\nexaeonanal cwrcumslanees me ﬁuinmy‘ nllm: nr vahle of me\\n\\n:, summmang: or me uﬂmce with whmh he \\\\s cwreully charged\\ncan very lireﬁy mnsmnla a mmgalmg may (emphasxs aaaear\\n\\nS,ﬂ.,9ymwfmv‘D_55mw.;nnn.... lmwzuzx s1cr(uAm M2 Page m\\n“Nuns smm n-nhnrwm be used m mm .. nrW\\\\nnU|Y mm: dun-mm vu mum pm'}"
      ]
     },
     "execution_count": 6,
     "metadata": {},
     "output_type": "execute_result"
    }
   ],
   "source": [
    "data_monitor[0]"
   ]
  },
  {
   "cell_type": "code",
   "execution_count": 14,
   "id": "c6f47d40",
   "metadata": {},
   "outputs": [
    {
     "data": {
      "text/plain": [
       "1689"
      ]
     },
     "execution_count": 14,
     "metadata": {},
     "output_type": "execute_result"
    }
   ],
   "source": [
    "len(data_monitor)"
   ]
  },
  {
   "cell_type": "code",
   "execution_count": 15,
   "id": "3b0099a4",
   "metadata": {},
   "outputs": [
    {
     "data": {
      "text/plain": [
       "107861"
      ]
     },
     "execution_count": 15,
     "metadata": {},
     "output_type": "execute_result"
    }
   ],
   "source": [
    "# check count accuracy\n",
    "data_monitor[3]['count']"
   ]
  },
  {
   "cell_type": "code",
   "execution_count": 16,
   "id": "c4eae051",
   "metadata": {},
   "outputs": [
    {
     "data": {
      "text/plain": [
       "total_tokens: 107861"
      ]
     },
     "execution_count": 16,
     "metadata": {},
     "output_type": "execute_result"
    }
   ],
   "source": [
    "# verify with model\n",
    "model.count_tokens(data_monitor[3]['context'])"
   ]
  },
  {
   "cell_type": "code",
   "execution_count": 17,
   "id": "701c46d6",
   "metadata": {},
   "outputs": [],
   "source": [
    "prefix = \"\"\"\n",
    "Context:\n",
    "```\n",
    "{context}\n",
    "```\n",
    "\n",
    "Provide a response in a structured JSON format that matches the following model: {json_model}\n",
    "Based on Context above, generate a complex question.\n",
    "\n",
    "\"\"\""
   ]
  },
  {
   "cell_type": "code",
   "execution_count": 18,
   "id": "df8061d7",
   "metadata": {},
   "outputs": [],
   "source": [
    "prefix1 = \"\"\"\n",
    "Context:\n",
    "```\n",
    "{context}\n",
    "```\n",
    "\n",
    "Based on Context above, generate a complex question.\n",
    "\n",
    "answer this format, and reply only in English:\n",
    "\n",
    "question: \n",
    "\n",
    "answer:\n",
    "\n",
    "\"\"\""
   ]
  },
  {
   "cell_type": "code",
   "execution_count": 19,
   "id": "819c77e0",
   "metadata": {},
   "outputs": [
    {
     "data": {
      "text/plain": [
       "response:\n",
       "GenerateContentResponse(\n",
       "    done=True,\n",
       "    iterator=None,\n",
       "    result=protos.GenerateContentResponse({\n",
       "      \"candidates\": [\n",
       "        {\n",
       "          \"content\": {\n",
       "            \"parts\": [\n",
       "              {\n",
       "                \"text\": \"question:  In the case of WSA Precision Sdn Bhd v Lee Kok Cheong, the Defendant was accused of breaching his fiduciary duty by establishing competing companies and selling the Plaintiff's goods at discounted prices. However, the Defendant argued that the Plaintiff was aware of his involvement in the competing companies and that the discounts were authorized by the Plaintiff's management. Considering the specific details of the case, including the evidence presented by both parties and the legal principles involved, how does the court reconcile the Defendant's claims of awareness and authorization with the Plaintiff's allegations of breach of fiduciary duty? \\n\\nanswer: This is a complex question that requires a deep understanding of the case and its context. The answer necessitates a comprehensive analysis of the evidence presented by both parties, a thorough understanding of fiduciary duty and its requirements, and the application of relevant legal principles. \\n\\nThe court's decision hinges on several key points:\\n\\n* **Disclosure:** The court found that the Defendant failed to adequately disclose his involvement in the competing companies to the appropriate authority figure within the Plaintiff company, specifically the Managing Director (PW5). While the Defendant claimed his superior (Mr. Chin Ya Yen) was aware, the lack of independent evidence to support this claim left the court unconvinced. \\n* **Discounts:** While the Plaintiff's management had authorized discounts up to 30%, the court found that the Defendant exceeded these limits when selling goods to his own companies. This further strengthens the Plaintiff's case that the Defendant was acting in his own self-interest at the expense of the Plaintiff. \\n* **Conflicting Interests:**  The court acknowledged that the Defendant's involvement in competing companies created a conflict of interest, especially given his position as Marketing and Distribution Manager. This conflict is a central element of breach of fiduciary duty.\\n\\nUltimately, the court determined that the Defendant's claims of awareness and authorization were not sufficient to negate the breach of fiduciary duty. The court emphasized the importance of clear and direct disclosure, the clear disregard of authorized limits on discounts, and the inherent conflict of interest that resulted from the Defendant's actions. This led to the court finding the Defendant liable for damages. \\n\"\n",
       "              }\n",
       "            ],\n",
       "            \"role\": \"model\"\n",
       "          },\n",
       "          \"finish_reason\": \"STOP\",\n",
       "          \"index\": 0,\n",
       "          \"safety_ratings\": [\n",
       "            {\n",
       "              \"category\": \"HARM_CATEGORY_SEXUALLY_EXPLICIT\",\n",
       "              \"probability\": \"NEGLIGIBLE\"\n",
       "            },\n",
       "            {\n",
       "              \"category\": \"HARM_CATEGORY_HATE_SPEECH\",\n",
       "              \"probability\": \"NEGLIGIBLE\"\n",
       "            },\n",
       "            {\n",
       "              \"category\": \"HARM_CATEGORY_HARASSMENT\",\n",
       "              \"probability\": \"NEGLIGIBLE\"\n",
       "            },\n",
       "            {\n",
       "              \"category\": \"HARM_CATEGORY_DANGEROUS_CONTENT\",\n",
       "              \"probability\": \"NEGLIGIBLE\"\n",
       "            }\n",
       "          ]\n",
       "        }\n",
       "      ],\n",
       "      \"usage_metadata\": {\n",
       "        \"prompt_token_count\": 107900,\n",
       "        \"candidates_token_count\": 442,\n",
       "        \"total_token_count\": 108342\n",
       "      }\n",
       "    }),\n",
       ")"
      ]
     },
     "execution_count": 19,
     "metadata": {},
     "output_type": "execute_result"
    }
   ],
   "source": [
    "# test on one example\n",
    "prompt = prefix1.format(context=data_monitor[3]['context'])\n",
    "response = model.generate_content(prompt)\n",
    "\n",
    "response"
   ]
  },
  {
   "cell_type": "markdown",
   "id": "ea77ae1a",
   "metadata": {},
   "source": [
    "#### 2.2 Inference"
   ]
  },
  {
   "cell_type": "code",
   "execution_count": 20,
   "id": "5f082fed",
   "metadata": {},
   "outputs": [],
   "source": [
    "prefix1 = \"\"\"\n",
    "Context:\n",
    "```\n",
    "{context}\n",
    "```\n",
    "\n",
    "Based on Context above, generate a complex question.\n",
    "\n",
    "answer this format, and reply only in English:\n",
    "\n",
    "question: \n",
    "\n",
    "answer:\n",
    "\n",
    "\"\"\""
   ]
  },
  {
   "cell_type": "code",
   "execution_count": 21,
   "id": "19bcfd93",
   "metadata": {},
   "outputs": [
    {
     "name": "stderr",
     "output_type": "stream",
     "text": [
      "575it [05:07,  1.41s/it] "
     ]
    },
    {
     "name": "stdout",
     "output_type": "stream",
     "text": [
      "Error at document with this index: 574\n"
     ]
    },
    {
     "name": "stderr",
     "output_type": "stream",
     "text": [
      "576it [10:12,  3.39s/it]"
     ]
    },
    {
     "name": "stdout",
     "output_type": "stream",
     "text": [
      "Error at document with this index: 575\n"
     ]
    },
    {
     "name": "stderr",
     "output_type": "stream",
     "text": [
      "586it [17:36, 47.03s/it]"
     ]
    },
    {
     "name": "stdout",
     "output_type": "stream",
     "text": [
      "Error at document with this index: 585\n"
     ]
    },
    {
     "name": "stderr",
     "output_type": "stream",
     "text": [
      "610it [29:38, 108.67s/it]"
     ]
    },
    {
     "name": "stdout",
     "output_type": "stream",
     "text": [
      "Error at document with this index: 609\n"
     ]
    },
    {
     "name": "stderr",
     "output_type": "stream",
     "text": [
      "616it [36:28, 116.08s/it]"
     ]
    },
    {
     "name": "stdout",
     "output_type": "stream",
     "text": [
      "Error at document with this index: 615\n"
     ]
    },
    {
     "name": "stderr",
     "output_type": "stream",
     "text": [
      "623it [43:02, 110.08s/it]"
     ]
    },
    {
     "name": "stdout",
     "output_type": "stream",
     "text": [
      "Error at document with this index: 622\n"
     ]
    },
    {
     "name": "stderr",
     "output_type": "stream",
     "text": [
      "629it [49:06, 91.27s/it] "
     ]
    },
    {
     "name": "stdout",
     "output_type": "stream",
     "text": [
      "Error at document with this index: 628\n"
     ]
    },
    {
     "name": "stderr",
     "output_type": "stream",
     "text": [
      "638it [55:57, 103.11s/it]"
     ]
    },
    {
     "name": "stdout",
     "output_type": "stream",
     "text": [
      "Error at document with this index: 637\n"
     ]
    },
    {
     "name": "stderr",
     "output_type": "stream",
     "text": [
      "643it [1:02:00, 116.10s/it]"
     ]
    },
    {
     "name": "stdout",
     "output_type": "stream",
     "text": [
      "Error at document with this index: 642\n"
     ]
    },
    {
     "name": "stderr",
     "output_type": "stream",
     "text": [
      "655it [1:10:03, 104.77s/it]"
     ]
    },
    {
     "name": "stdout",
     "output_type": "stream",
     "text": [
      "Error at document with this index: 654\n"
     ]
    },
    {
     "name": "stderr",
     "output_type": "stream",
     "text": [
      "659it [1:16:01, 124.72s/it]"
     ]
    },
    {
     "name": "stdout",
     "output_type": "stream",
     "text": [
      "Error at document with this index: 658\n"
     ]
    },
    {
     "name": "stderr",
     "output_type": "stream",
     "text": [
      "660it [1:21:05, 178.49s/it]"
     ]
    },
    {
     "name": "stdout",
     "output_type": "stream",
     "text": [
      "Error at document with this index: 659\n"
     ]
    },
    {
     "name": "stderr",
     "output_type": "stream",
     "text": [
      "667it [1:27:53, 118.69s/it]"
     ]
    },
    {
     "name": "stdout",
     "output_type": "stream",
     "text": [
      "Error at document with this index: 666\n"
     ]
    },
    {
     "name": "stderr",
     "output_type": "stream",
     "text": [
      "678it [1:35:58, 105.98s/it]"
     ]
    },
    {
     "name": "stdout",
     "output_type": "stream",
     "text": [
      "Error at document with this index: 677\n"
     ]
    },
    {
     "name": "stderr",
     "output_type": "stream",
     "text": [
      "679it [1:41:05, 164.96s/it]"
     ]
    },
    {
     "name": "stdout",
     "output_type": "stream",
     "text": [
      "Error at document with this index: 678\n"
     ]
    },
    {
     "name": "stderr",
     "output_type": "stream",
     "text": [
      "697it [1:49:49, 84.21s/it] "
     ]
    },
    {
     "name": "stdout",
     "output_type": "stream",
     "text": [
      "Error at document with this index: 696\n"
     ]
    },
    {
     "name": "stderr",
     "output_type": "stream",
     "text": [
      "700it [1:55:31, 123.85s/it]"
     ]
    },
    {
     "name": "stdout",
     "output_type": "stream",
     "text": [
      "Error at document with this index: 699\n"
     ]
    },
    {
     "name": "stderr",
     "output_type": "stream",
     "text": [
      "789it [2:34:58, 102.04s/it]"
     ]
    },
    {
     "name": "stdout",
     "output_type": "stream",
     "text": [
      "Error at document with this index: 788\n"
     ]
    },
    {
     "name": "stderr",
     "output_type": "stream",
     "text": [
      "790it [2:40:04, 163.37s/it]"
     ]
    },
    {
     "name": "stdout",
     "output_type": "stream",
     "text": [
      "Error at document with this index: 789\n"
     ]
    },
    {
     "name": "stderr",
     "output_type": "stream",
     "text": [
      "793it [2:45:39, 152.61s/it]"
     ]
    },
    {
     "name": "stdout",
     "output_type": "stream",
     "text": [
      "Error at document with this index: 792\n"
     ]
    },
    {
     "name": "stderr",
     "output_type": "stream",
     "text": [
      "799it [2:52:15, 122.05s/it]"
     ]
    },
    {
     "name": "stdout",
     "output_type": "stream",
     "text": [
      "Error at document with this index: 798\n"
     ]
    },
    {
     "name": "stderr",
     "output_type": "stream",
     "text": [
      "809it [2:59:42, 107.55s/it]"
     ]
    },
    {
     "name": "stdout",
     "output_type": "stream",
     "text": [
      "Error at document with this index: 808\n"
     ]
    },
    {
     "name": "stderr",
     "output_type": "stream",
     "text": [
      "818it [3:07:18, 111.83s/it]"
     ]
    },
    {
     "name": "stdout",
     "output_type": "stream",
     "text": [
      "Error at document with this index: 817\n"
     ]
    },
    {
     "name": "stderr",
     "output_type": "stream",
     "text": [
      "823it [3:13:10, 116.54s/it]"
     ]
    },
    {
     "name": "stdout",
     "output_type": "stream",
     "text": [
      "Error at document with this index: 822\n"
     ]
    },
    {
     "name": "stderr",
     "output_type": "stream",
     "text": [
      "838it [3:22:11, 104.12s/it]"
     ]
    },
    {
     "name": "stdout",
     "output_type": "stream",
     "text": [
      "Error at document with this index: 837\n"
     ]
    },
    {
     "name": "stderr",
     "output_type": "stream",
     "text": [
      "839it [3:27:17, 164.57s/it]"
     ]
    },
    {
     "name": "stdout",
     "output_type": "stream",
     "text": [
      "Error at document with this index: 838\n"
     ]
    },
    {
     "name": "stderr",
     "output_type": "stream",
     "text": [
      "849it [3:34:30, 107.52s/it]"
     ]
    },
    {
     "name": "stdout",
     "output_type": "stream",
     "text": [
      "Error at document with this index: 848\n"
     ]
    },
    {
     "name": "stderr",
     "output_type": "stream",
     "text": [
      "853it [3:40:15, 123.68s/it]"
     ]
    },
    {
     "name": "stdout",
     "output_type": "stream",
     "text": [
      "Error at document with this index: 852\n"
     ]
    },
    {
     "name": "stderr",
     "output_type": "stream",
     "text": [
      "854it [3:45:19, 177.78s/it]"
     ]
    },
    {
     "name": "stdout",
     "output_type": "stream",
     "text": [
      "Error at document with this index: 853\n"
     ]
    },
    {
     "name": "stderr",
     "output_type": "stream",
     "text": [
      "871it [3:54:21, 101.68s/it]"
     ]
    },
    {
     "name": "stdout",
     "output_type": "stream",
     "text": [
      "Error at document with this index: 870\n"
     ]
    },
    {
     "name": "stderr",
     "output_type": "stream",
     "text": [
      "880it [4:02:21, 107.27s/it]"
     ]
    },
    {
     "name": "stdout",
     "output_type": "stream",
     "text": [
      "Error at document with this index: 879\n"
     ]
    },
    {
     "name": "stderr",
     "output_type": "stream",
     "text": [
      "894it [4:10:54, 104.35s/it]"
     ]
    },
    {
     "name": "stdout",
     "output_type": "stream",
     "text": [
      "Error at document with this index: 893\n"
     ]
    },
    {
     "name": "stderr",
     "output_type": "stream",
     "text": [
      "895it [4:15:59, 164.66s/it]"
     ]
    },
    {
     "name": "stdout",
     "output_type": "stream",
     "text": [
      "Error at document with this index: 894\n"
     ]
    },
    {
     "name": "stderr",
     "output_type": "stream",
     "text": [
      "899it [4:21:42, 136.98s/it]"
     ]
    },
    {
     "name": "stdout",
     "output_type": "stream",
     "text": [
      "Error at document with this index: 898\n"
     ]
    },
    {
     "name": "stderr",
     "output_type": "stream",
     "text": [
      "914it [4:30:39, 103.80s/it]"
     ]
    },
    {
     "name": "stdout",
     "output_type": "stream",
     "text": [
      "Error at document with this index: 913\n"
     ]
    },
    {
     "name": "stderr",
     "output_type": "stream",
     "text": [
      "959it [4:47:44, 104.81s/it]"
     ]
    },
    {
     "name": "stdout",
     "output_type": "stream",
     "text": [
      "Error at document with this index: 958\n"
     ]
    },
    {
     "name": "stderr",
     "output_type": "stream",
     "text": [
      "1004it [5:05:43, 106.75s/it]"
     ]
    },
    {
     "name": "stdout",
     "output_type": "stream",
     "text": [
      "Error at document with this index: 1003\n"
     ]
    },
    {
     "name": "stderr",
     "output_type": "stream",
     "text": [
      "1034it [5:20:01, 103.06s/it]"
     ]
    },
    {
     "name": "stdout",
     "output_type": "stream",
     "text": [
      "Error at document with this index: 1033\n"
     ]
    },
    {
     "name": "stderr",
     "output_type": "stream",
     "text": [
      "1050it [5:30:08, 109.09s/it]"
     ]
    },
    {
     "name": "stdout",
     "output_type": "stream",
     "text": [
      "Error at document with this index: 1049\n"
     ]
    },
    {
     "name": "stderr",
     "output_type": "stream",
     "text": [
      "1092it [5:46:20, 101.84s/it]"
     ]
    },
    {
     "name": "stdout",
     "output_type": "stream",
     "text": [
      "Error at document with this index: 1091\n"
     ]
    },
    {
     "name": "stderr",
     "output_type": "stream",
     "text": [
      "1095it [5:51:58, 132.40s/it]"
     ]
    },
    {
     "name": "stdout",
     "output_type": "stream",
     "text": [
      "Error at document with this index: 1094\n"
     ]
    },
    {
     "name": "stderr",
     "output_type": "stream",
     "text": [
      "1100it [5:58:19, 124.57s/it]"
     ]
    },
    {
     "name": "stdout",
     "output_type": "stream",
     "text": [
      "Error at document with this index: 1099\n"
     ]
    },
    {
     "name": "stderr",
     "output_type": "stream",
     "text": [
      "1101it [6:03:25, 178.82s/it]"
     ]
    },
    {
     "name": "stdout",
     "output_type": "stream",
     "text": [
      "Error at document with this index: 1100\n"
     ]
    },
    {
     "name": "stderr",
     "output_type": "stream",
     "text": [
      "1103it [6:08:50, 183.40s/it]"
     ]
    },
    {
     "name": "stdout",
     "output_type": "stream",
     "text": [
      "Error at document with this index: 1102\n"
     ]
    },
    {
     "name": "stderr",
     "output_type": "stream",
     "text": [
      "1105it [6:14:09, 184.56s/it]"
     ]
    },
    {
     "name": "stdout",
     "output_type": "stream",
     "text": [
      "Error at document with this index: 1104\n"
     ]
    },
    {
     "name": "stderr",
     "output_type": "stream",
     "text": [
      "1144it [6:29:55, 103.56s/it]"
     ]
    },
    {
     "name": "stdout",
     "output_type": "stream",
     "text": [
      "Error at document with this index: 1143\n"
     ]
    },
    {
     "name": "stderr",
     "output_type": "stream",
     "text": [
      "1155it [6:37:17, 101.22s/it]"
     ]
    },
    {
     "name": "stdout",
     "output_type": "stream",
     "text": [
      "Error at document with this index: 1154\n"
     ]
    },
    {
     "name": "stderr",
     "output_type": "stream",
     "text": [
      "1172it [6:46:44, 102.98s/it]"
     ]
    },
    {
     "name": "stdout",
     "output_type": "stream",
     "text": [
      "Error at document with this index: 1171\n"
     ]
    },
    {
     "name": "stderr",
     "output_type": "stream",
     "text": [
      "1186it [6:55:13, 103.08s/it]"
     ]
    },
    {
     "name": "stdout",
     "output_type": "stream",
     "text": [
      "Error at document with this index: 1185\n"
     ]
    },
    {
     "name": "stderr",
     "output_type": "stream",
     "text": [
      "1202it [7:04:41, 103.18s/it]"
     ]
    },
    {
     "name": "stdout",
     "output_type": "stream",
     "text": [
      "Error at document with this index: 1201\n"
     ]
    },
    {
     "name": "stderr",
     "output_type": "stream",
     "text": [
      "1216it [7:13:06, 103.59s/it]"
     ]
    },
    {
     "name": "stdout",
     "output_type": "stream",
     "text": [
      "Error at document with this index: 1215\n"
     ]
    },
    {
     "name": "stderr",
     "output_type": "stream",
     "text": [
      "1244it [7:25:52, 103.49s/it]"
     ]
    },
    {
     "name": "stdout",
     "output_type": "stream",
     "text": [
      "Error at document with this index: 1243\n"
     ]
    },
    {
     "name": "stderr",
     "output_type": "stream",
     "text": [
      "1275it [7:45:30, 108.27s/it]"
     ]
    },
    {
     "name": "stdout",
     "output_type": "stream",
     "text": [
      "Error at document with this index: 1274\n"
     ]
    },
    {
     "name": "stderr",
     "output_type": "stream",
     "text": [
      "1284it [7:52:56, 106.72s/it]"
     ]
    },
    {
     "name": "stdout",
     "output_type": "stream",
     "text": [
      "Error at document with this index: 1283\n"
     ]
    },
    {
     "name": "stderr",
     "output_type": "stream",
     "text": [
      "1291it [7:59:16, 108.65s/it]"
     ]
    },
    {
     "name": "stdout",
     "output_type": "stream",
     "text": [
      "Error at document with this index: 1290\n"
     ]
    },
    {
     "name": "stderr",
     "output_type": "stream",
     "text": [
      "1299it [8:06:06, 107.01s/it]"
     ]
    },
    {
     "name": "stdout",
     "output_type": "stream",
     "text": [
      "Error at document with this index: 1298\n"
     ]
    },
    {
     "name": "stderr",
     "output_type": "stream",
     "text": [
      "1304it [8:12:11, 117.43s/it]"
     ]
    },
    {
     "name": "stdout",
     "output_type": "stream",
     "text": [
      "Error at document with this index: 1303\n"
     ]
    },
    {
     "name": "stderr",
     "output_type": "stream",
     "text": [
      "1321it [8:21:42, 102.73s/it]"
     ]
    },
    {
     "name": "stdout",
     "output_type": "stream",
     "text": [
      "Error at document with this index: 1320\n"
     ]
    },
    {
     "name": "stderr",
     "output_type": "stream",
     "text": [
      "1324it [8:27:11, 131.36s/it]"
     ]
    },
    {
     "name": "stdout",
     "output_type": "stream",
     "text": [
      "Error at document with this index: 1323\n"
     ]
    },
    {
     "name": "stderr",
     "output_type": "stream",
     "text": [
      "1328it [8:32:57, 128.82s/it]"
     ]
    },
    {
     "name": "stdout",
     "output_type": "stream",
     "text": [
      "Error at document with this index: 1327\n"
     ]
    },
    {
     "name": "stderr",
     "output_type": "stream",
     "text": [
      "1331it [8:38:28, 140.65s/it]"
     ]
    },
    {
     "name": "stdout",
     "output_type": "stream",
     "text": [
      "Error at document with this index: 1330\n"
     ]
    },
    {
     "name": "stderr",
     "output_type": "stream",
     "text": [
      "1332it [8:43:34, 190.21s/it]"
     ]
    },
    {
     "name": "stdout",
     "output_type": "stream",
     "text": [
      "Error at document with this index: 1331\n"
     ]
    },
    {
     "name": "stderr",
     "output_type": "stream",
     "text": [
      "1366it [8:56:42, 100.73s/it]"
     ]
    },
    {
     "name": "stdout",
     "output_type": "stream",
     "text": [
      "Error at document with this index: 1365\n"
     ]
    },
    {
     "name": "stderr",
     "output_type": "stream",
     "text": [
      "1393it [9:10:29, 102.25s/it]"
     ]
    },
    {
     "name": "stdout",
     "output_type": "stream",
     "text": [
      "Error at document with this index: 1392\n"
     ]
    },
    {
     "name": "stderr",
     "output_type": "stream",
     "text": [
      "1394it [9:15:39, 164.46s/it]"
     ]
    },
    {
     "name": "stdout",
     "output_type": "stream",
     "text": [
      "Error at document with this index: 1393\n"
     ]
    },
    {
     "name": "stderr",
     "output_type": "stream",
     "text": [
      "1400it [9:22:21, 122.15s/it]"
     ]
    },
    {
     "name": "stdout",
     "output_type": "stream",
     "text": [
      "Error at document with this index: 1399\n"
     ]
    },
    {
     "name": "stderr",
     "output_type": "stream",
     "text": [
      "1443it [9:38:54, 105.33s/it]"
     ]
    },
    {
     "name": "stdout",
     "output_type": "stream",
     "text": [
      "Error at document with this index: 1442\n"
     ]
    },
    {
     "name": "stderr",
     "output_type": "stream",
     "text": [
      "1450it [9:45:13, 107.91s/it]"
     ]
    },
    {
     "name": "stdout",
     "output_type": "stream",
     "text": [
      "Error at document with this index: 1449\n"
     ]
    },
    {
     "name": "stderr",
     "output_type": "stream",
     "text": [
      "1468it [9:55:23, 103.78s/it]"
     ]
    },
    {
     "name": "stdout",
     "output_type": "stream",
     "text": [
      "Error at document with this index: 1467\n"
     ]
    },
    {
     "name": "stderr",
     "output_type": "stream",
     "text": [
      "1469it [10:00:28, 164.31s/it]"
     ]
    },
    {
     "name": "stdout",
     "output_type": "stream",
     "text": [
      "Error at document with this index: 1468\n"
     ]
    },
    {
     "name": "stderr",
     "output_type": "stream",
     "text": [
      "1485it [10:09:20, 105.87s/it]"
     ]
    },
    {
     "name": "stdout",
     "output_type": "stream",
     "text": [
      "Error at document with this index: 1484\n"
     ]
    },
    {
     "name": "stderr",
     "output_type": "stream",
     "text": [
      "1493it [10:16:20, 108.70s/it]"
     ]
    },
    {
     "name": "stdout",
     "output_type": "stream",
     "text": [
      "Error at document with this index: 1492\n"
     ]
    },
    {
     "name": "stderr",
     "output_type": "stream",
     "text": [
      "1500it [10:23:20, 110.45s/it]"
     ]
    },
    {
     "name": "stdout",
     "output_type": "stream",
     "text": [
      "Error at document with this index: 1499\n"
     ]
    },
    {
     "name": "stderr",
     "output_type": "stream",
     "text": [
      "1583it [10:50:53, 102.08s/it]"
     ]
    },
    {
     "name": "stdout",
     "output_type": "stream",
     "text": [
      "Error at document with this index: 1582\n"
     ]
    },
    {
     "name": "stderr",
     "output_type": "stream",
     "text": [
      "1627it [11:07:35, 102.80s/it]"
     ]
    },
    {
     "name": "stdout",
     "output_type": "stream",
     "text": [
      "Error at document with this index: 1626\n"
     ]
    },
    {
     "name": "stderr",
     "output_type": "stream",
     "text": [
      "1640it [11:16:01, 105.26s/it]"
     ]
    },
    {
     "name": "stdout",
     "output_type": "stream",
     "text": [
      "Error at document with this index: 1639\n"
     ]
    },
    {
     "name": "stderr",
     "output_type": "stream",
     "text": [
      "1646it [11:22:09, 111.62s/it]"
     ]
    },
    {
     "name": "stdout",
     "output_type": "stream",
     "text": [
      "Error at document with this index: 1645\n"
     ]
    },
    {
     "name": "stderr",
     "output_type": "stream",
     "text": [
      "1651it [11:28:15, 117.99s/it]"
     ]
    },
    {
     "name": "stdout",
     "output_type": "stream",
     "text": [
      "Error at document with this index: 1650\n"
     ]
    },
    {
     "name": "stderr",
     "output_type": "stream",
     "text": [
      "1657it [11:34:44, 114.55s/it]"
     ]
    },
    {
     "name": "stdout",
     "output_type": "stream",
     "text": [
      "Error at document with this index: 1656\n"
     ]
    },
    {
     "name": "stderr",
     "output_type": "stream",
     "text": [
      "1658it [11:39:47, 171.26s/it]"
     ]
    },
    {
     "name": "stdout",
     "output_type": "stream",
     "text": [
      "Error at document with this index: 1657\n"
     ]
    },
    {
     "name": "stderr",
     "output_type": "stream",
     "text": [
      "1677it [11:49:19, 101.25s/it]"
     ]
    },
    {
     "name": "stdout",
     "output_type": "stream",
     "text": [
      "Error at document with this index: 1676\n"
     ]
    },
    {
     "name": "stderr",
     "output_type": "stream",
     "text": [
      "1689it [11:52:35, 25.31s/it] \n"
     ]
    }
   ],
   "source": [
    "fw = 'malaysia-ejudgement_synthetic_qa_sets_1.jsonl'\n",
    "fr = 'malaysia-ejudgement_context_append.jsonl'\n",
    "\n",
    "with open(fw, 'w') as fwrite:\n",
    "    with open(fr) as fread:\n",
    "        i = 0\n",
    "        for x in tqdm(fread):\n",
    "            \n",
    "            final_res = {}\n",
    "            \n",
    "            x=json.loads(x)\n",
    "            \n",
    "            prompt = prefix1.format(context=x['context'])\n",
    "            \n",
    "            try:\n",
    "                for attempt in Retrying(wait=wait_fixed(60 * 5), stop=stop_after_attempt(2)):\n",
    "                    with attempt:\n",
    "                        # based on checkpoints\n",
    "                        if i > 573:\n",
    "                            response = model.generate_content(prompt)\n",
    "\n",
    "                            final_res['context_length'] = x['count']\n",
    "                            final_res['context'] = x['context']\n",
    "                            final_res['qna'] = response.candidates[0].content.parts[0].text\n",
    "\n",
    "                            json.dump(final_res, fwrite)\n",
    "                            fwrite.write('\\n')\n",
    "                        \n",
    "                        i += 1\n",
    "            except RetryError:\n",
    "                print(f'Error at document with this index: {i}')\n",
    "                i += 1\n",
    "                continue"
   ]
  },
  {
   "cell_type": "code",
   "execution_count": 9,
   "id": "7d24d20c",
   "metadata": {},
   "outputs": [],
   "source": [
    "# check final results\n",
    "data = []\n",
    "\n",
    "with open('malaysia-ejudgement_synthetic_qa_sets_1.jsonl') as f:\n",
    "    for x in f:\n",
    "        data.append(json.loads(x))"
   ]
  },
  {
   "cell_type": "code",
   "execution_count": 10,
   "id": "ad327f66",
   "metadata": {},
   "outputs": [
    {
     "data": {
      "text/plain": [
       "dict_keys(['context_length', 'context', 'qna'])"
      ]
     },
     "execution_count": 10,
     "metadata": {},
     "output_type": "execute_result"
    }
   ],
   "source": [
    "data[0].keys()"
   ]
  },
  {
   "cell_type": "code",
   "execution_count": 23,
   "id": "929b86fe",
   "metadata": {},
   "outputs": [
    {
     "data": {
      "text/plain": [
       "1034"
      ]
     },
     "execution_count": 23,
     "metadata": {},
     "output_type": "execute_result"
    }
   ],
   "source": [
    "len(data)"
   ]
  },
  {
   "cell_type": "code",
   "execution_count": 24,
   "id": "8107324e",
   "metadata": {},
   "outputs": [
    {
     "data": {
      "text/plain": [
       "'question: In the context of the provided legal documents, how does the principle of indefeasibility of title, as enshrined in the National Land Code (KTN), interact with the alleged representations made by TNB employees to the Defendants regarding their occupancy of the land? Does the  doctrine of laches, or the existence of a TOL (Lesen Pendudukan Sementara), potentially diminish or negate the enforceability of TNB\\'s indefeasible title in this case? \\n\\nanswer: This is a complex legal question with multiple layers. The provided case analysis suggests that TNB has a valid and indefeasible title to the land based on its registration in the land register. This principle, enshrined in Section 89 of the KTN, generally renders such registered titles unassailable, barring specific exceptions like fraud. However, the Defendants claim they received assurances from TNB employees allowing their continued occupancy, despite lacking a formal written agreement. \\n\\nThe issue hinges on whether TNB\\'s actions or inaction, including its employees\\' statements, could constitute a \"laches\" defense, where the delay in asserting ownership leads to a loss of rights. This defense hinges on a finding of unfair prejudice to the Defendants due to TNB\\'s delay and their reliance on the representations. The TOL, while a short-term permit, also creates ambiguity. If deemed a legitimate grant by a proper authority, it could arguably be seen as a formal recognition of occupancy, challenging the completeness of TNB\\'s title.\\n\\nThe judgment ultimately rejects both laches and the impact of the TOL. The court emphasizes the conclusiveness of the land register,  finding that neither TNB\\'s delay nor the TOL constitutes evidence of fraud or vitiates their indefeasible title.  This highlights the significant weight given to registered land titles under the Torrens system. However, the case raises important questions about the limits of indefeasibility when faced with conflicting representations and potential reliance by occupants. \\n'"
      ]
     },
     "execution_count": 24,
     "metadata": {},
     "output_type": "execute_result"
    }
   ],
   "source": [
    "data[0]['qna']"
   ]
  },
  {
   "cell_type": "markdown",
   "id": "2e724eb9",
   "metadata": {},
   "source": [
    "### 3.0 Split Q&A into columns and get 'Explanation' column\n",
    "\n",
    "Yeah, probs should've used the SyntheticQASchema earlier!"
   ]
  },
  {
   "cell_type": "code",
   "execution_count": 45,
   "id": "ab212049",
   "metadata": {
    "scrolled": true
   },
   "outputs": [
    {
     "name": "stderr",
     "output_type": "stream",
     "text": [
      "165it [08:54,  3.15s/it]"
     ]
    },
    {
     "name": "stdout",
     "output_type": "stream",
     "text": [
      "165\n",
      "['question:  In the context of the provided legal documents, explain the legal principles of \"Res Judicata\" and \"Issue Estoppel\" and how they were applied (or not applied) in the decision regarding the Plaintiffs\\' claims against the Defendant. \\n \\nanswer: The provided legal documents highlight a complex case involving the Plaintiffs (AirAsia Berhad and AirAsia X Berhad) and the Defendant (Malaysia Airports (Sepang) Sdn Bhd).  The Defendant argued that the Plaintiffs were barred from pursuing their claims due to the doctrine of Res Judicata, which prevents parties from relitigating issues already decided by a court. The Defendant specifically argued the Plaintiffs\\' claims were subject to Issue Estoppel, which prohibits the relitigation of specific issues already decided in previous cases.\\n\\nThe Judicial Commissioner\\'s decision focused on the absence of a clear and conclusive settlement agreement between the parties.  The Court found that there was no binding agreement to resolve all disputes, including the disputed PSC rates.  Furthermore, the Court concluded that the issues raised in the Plaintiffs\\' present case were not necessarily decided with precision in the prior proceedings.  The previous judgments focused on the right of set-off, not the broader merits of the Plaintiffs\\' claims for breach of contract and negligence. The Court held that the Plaintiffs were not barred from pursuing these separate claims, as they were not precluded by the prior judgments and were still subject to determination.\\n\\nIn essence, the Court found that the Plaintiffs\\' claims were not caught by the doctrine of Res Judicata because the prior judgments had not definitively decided the issues raised in the current case. The Court also rejected the Defendant\\'s argument that the Plaintiffs were abusing the process of court by pursuing multiple claims. The Court acknowledged that the Plaintiffs had the right to pursue separate claims against different parties on different grounds, even if they arose from the same factual context.  \\n']\n",
      "\n"
     ]
    },
    {
     "name": "stderr",
     "output_type": "stream",
     "text": [
      "214it [11:27,  3.11s/it]"
     ]
    },
    {
     "name": "stdout",
     "output_type": "stream",
     "text": [
      "213\n",
      "['question: In the context of the legal proceedings between CMM1 Investment Limited and the Minister of Finance Malaysia, does the applicant\\'s application for judicial review represent a valid challenge to the respondent\\'s inaction, despite the absence of a direct decision by the Minister? Does the application raise genuine issues regarding the Minister\\'s failure to consider the applicability of the Labuan Business Activity Tax Act 1990 (LBATA) and the applicant\\'s legitimate expectations stemming from the Exemption Order?\\n \\nanswer: The answer is multifaceted and hinges on several key aspects of the legal framework governing judicial review in Malaysia. Firstly, the concept of \"deemed decision\" – where inaction by a public authority can be construed as a decision – is a crucial element. Secondly, the application\\'s arguability, based on the applicant\\'s claim that the LBATA should have been applied instead of the ITA, raises a critical question about the Minister\\'s alleged failure to consider the applicable law. Thirdly, the question of whether the Minister\\'s inaction constitutes a denial of the applicant\\'s legitimate expectations, potentially creating grounds for a breach of natural justice, adds another layer of complexity. \\n \\nUltimately, the question lies at the heart of judicial review\\'s role in ensuring the proper exercise of public powers and protecting individuals\\' rights in relation to government actions or inactions. The court will need to carefully weigh the evidence and consider established legal principles to determine whether the applicant\\'s application for judicial review is valid in this specific scenario. \\n']\n",
      "\n"
     ]
    },
    {
     "name": "stderr",
     "output_type": "stream",
     "text": [
      "880it [48:30,  2.29s/it]"
     ]
    },
    {
     "name": "stdout",
     "output_type": "stream",
     "text": [
      "Model coundn't generate for this index: 877\n"
     ]
    },
    {
     "name": "stderr",
     "output_type": "stream",
     "text": [
      "1034it [56:46,  3.29s/it]\n"
     ]
    }
   ],
   "source": [
    "with open('parsed_qna_malaysia_ejudgement.jsonl', 'w') as f_write:\n",
    "    with open('malaysia-ejudgement_synthetic_qa_sets_1.jsonl') as f:\n",
    "        i = 0\n",
    "        for l in tqdm(f):\n",
    "            try:\n",
    "                l = json.loads(l)\n",
    "                splitted = l['qna'].split('\\n\\nanswer:')\n",
    "                if len(splitted) != 2:\n",
    "                    _ = splitted\n",
    "                    splitted = l['qna'].split('\\n \\nanswer:')\n",
    "                    print(i)\n",
    "                    print(_)\n",
    "                    print('')\n",
    "\n",
    "                question = splitted[0].split('stion:')[1].strip()\n",
    "                answer = splitted[1].strip()\n",
    "\n",
    "                context = l[\"qna\"]\n",
    "                appended_prompt = f\"\"\"\n",
    "                    Context:\n",
    "                    ```\n",
    "                    {context}\n",
    "                    ```\n",
    "\n",
    "                    According to the context, please explain why you answer this\n",
    "                    \"\"\"\n",
    "\n",
    "                l['raw_context'] = l.pop('context')\n",
    "                l['question'] = question\n",
    "                l['answer'] = answer\n",
    "                l[\"answer_explanation\"] = model.generate_content(appended_prompt) \\\n",
    "                                               .candidates[0].content.parts[0].text\n",
    "                l['count_token'] = l.pop('context_length')\n",
    "                l.pop('qna')\n",
    "\n",
    "                # write l dictionary to f_write\n",
    "                f_write.write(f'{json.dumps(l)}\\n')\n",
    "            except IndexError:\n",
    "                # handle the exception where Gemini blocks the output and returns nothing\n",
    "                print(f\"Model coundn't generate for this index: {i}\")\n",
    "                continue\n",
    "            \n",
    "            i += 1"
   ]
  },
  {
   "cell_type": "code",
   "execution_count": 46,
   "id": "b9cd25a2",
   "metadata": {},
   "outputs": [
    {
     "name": "stderr",
     "output_type": "stream",
     "text": [
      "1031it [00:01, 860.04it/s]\n"
     ]
    }
   ],
   "source": [
    "# check final results\n",
    "data = []\n",
    "\n",
    "with open('parsed_qna_malaysia_ejudgement.jsonl') as f:\n",
    "    for x in tqdm(f):\n",
    "        data.append(json.loads(x))"
   ]
  },
  {
   "cell_type": "code",
   "execution_count": 47,
   "id": "0e3c675a",
   "metadata": {},
   "outputs": [
    {
     "data": {
      "text/plain": [
       "dict_keys(['raw_context', 'question', 'answer', 'answer_explanation', 'count_token'])"
      ]
     },
     "execution_count": 47,
     "metadata": {},
     "output_type": "execute_result"
    }
   ],
   "source": [
    "data[0].keys()"
   ]
  },
  {
   "cell_type": "code",
   "execution_count": 48,
   "id": "329b16b1",
   "metadata": {},
   "outputs": [
    {
     "data": {
      "text/plain": [
       "\"In the context of the provided legal documents, how does the principle of indefeasibility of title, as enshrined in the National Land Code (KTN), interact with the alleged representations made by TNB employees to the Defendants regarding their occupancy of the land? Does the  doctrine of laches, or the existence of a TOL (Lesen Pendudukan Sementara), potentially diminish or negate the enforceability of TNB's indefeasible title in this case?\""
      ]
     },
     "execution_count": 48,
     "metadata": {},
     "output_type": "execute_result"
    }
   ],
   "source": [
    "data[0]['question']"
   ]
  },
  {
   "cell_type": "code",
   "execution_count": 49,
   "id": "57e6f7a1",
   "metadata": {},
   "outputs": [
    {
     "data": {
      "text/plain": [
       "'This is a complex legal question with multiple layers. The provided case analysis suggests that TNB has a valid and indefeasible title to the land based on its registration in the land register. This principle, enshrined in Section 89 of the KTN, generally renders such registered titles unassailable, barring specific exceptions like fraud. However, the Defendants claim they received assurances from TNB employees allowing their continued occupancy, despite lacking a formal written agreement. \\n\\nThe issue hinges on whether TNB\\'s actions or inaction, including its employees\\' statements, could constitute a \"laches\" defense, where the delay in asserting ownership leads to a loss of rights. This defense hinges on a finding of unfair prejudice to the Defendants due to TNB\\'s delay and their reliance on the representations. The TOL, while a short-term permit, also creates ambiguity. If deemed a legitimate grant by a proper authority, it could arguably be seen as a formal recognition of occupancy, challenging the completeness of TNB\\'s title.\\n\\nThe judgment ultimately rejects both laches and the impact of the TOL. The court emphasizes the conclusiveness of the land register,  finding that neither TNB\\'s delay nor the TOL constitutes evidence of fraud or vitiates their indefeasible title.  This highlights the significant weight given to registered land titles under the Torrens system. However, the case raises important questions about the limits of indefeasibility when faced with conflicting representations and potential reliance by occupants.'"
      ]
     },
     "execution_count": 49,
     "metadata": {},
     "output_type": "execute_result"
    }
   ],
   "source": [
    "data[0]['answer']"
   ]
  },
  {
   "cell_type": "code",
   "execution_count": 50,
   "id": "36a86ace",
   "metadata": {},
   "outputs": [
    {
     "data": {
      "text/plain": [
       "\"The answer provided is a concise and accurate explanation of the legal complexities surrounding the interplay between the principle of indefeasibility of title, laches, and the existence of a TOL (Lesen Pendudukan Sementara) in the context of the provided legal documents. \\n\\nHere's why:\\n\\n1. **Understanding the Key Concepts:** The answer correctly identifies and defines the core legal principles involved: \\n    * **Indefeasibility of Title:** This principle, enshrined in the National Land Code (KTN), protects registered land titles from challenges unless specific exceptions like fraud are proven. The answer correctly highlights Section 89 of the KTN as the relevant provision.\\n    * **Laches:**  This doctrine refers to the delay in asserting a legal right, which can result in the loss of that right if it causes unfair prejudice to the opposing party. The answer explains how this doctrine could potentially impact the case by examining the effect of TNB's inaction and the representations made by its employees.\\n    * **TOL (Lesen Pendudukan Sementara):** This refers to a temporary occupancy permit. The answer acknowledges its potential ambiguity and its ability to potentially challenge the completeness of TNB's title.\\n\\n2. **Application to the Case:** The answer effectively applies these legal concepts to the specific facts of the case. It recognizes the inherent conflict between TNB's registered title and the Defendants' claims based on representations and the TOL.\\n\\n3. **Analyzing the Court's Decision:** The answer accurately summarizes the court's decision, emphasizing the court's reliance on the principle of indefeasibility and its rejection of both the laches defense and the impact of the TOL.\\n\\n4. **Addressing the Limitations:** The answer acknowledges the limitations of indefeasibility, particularly when confronted with conflicting representations and potential reliance by occupants. This recognizes the ongoing debate surrounding the scope and application of indefeasibility in such situations.\\n\\n5. **Clarity and Structure:** The answer is well-structured and uses clear language, making it easy to follow the legal arguments and the court's reasoning.\\n\\nOverall, the provided answer demonstrates a solid understanding of the relevant legal concepts and their application in the specific case scenario. It highlights the complexity of the legal issue and presents a balanced and informed analysis of the court's decision. \\n\""
      ]
     },
     "execution_count": 50,
     "metadata": {},
     "output_type": "execute_result"
    }
   ],
   "source": [
    "data[0][\"answer_explanation\"]"
   ]
  },
  {
   "cell_type": "code",
   "execution_count": 54,
   "id": "1cf560ff",
   "metadata": {},
   "outputs": [
    {
     "data": {
      "application/vnd.jupyter.widget-view+json": {
       "model_id": "88dc215f03a942b6b132caba52bd0993",
       "version_major": 2,
       "version_minor": 0
      },
      "text/plain": [
       "parsed_qna_malaysia_ejudgement.jsonl:   0%|          | 0.00/402M [00:00<?, ?B/s]"
      ]
     },
     "metadata": {},
     "output_type": "display_data"
    },
    {
     "data": {
      "text/plain": [
       "CommitInfo(commit_url='https://huggingface.co/datasets/malaysia-ai/long-context-malaysia-ejudgement-QA/commit/f46e5fc9e3c18bbc3079f8cc4d8afe2553beba4e', commit_message='Upload parsed_qna_malaysia_ejudgement.jsonl with huggingface_hub', commit_description='', oid='f46e5fc9e3c18bbc3079f8cc4d8afe2553beba4e', pr_url=None, pr_revision=None, pr_num=None)"
      ]
     },
     "execution_count": 54,
     "metadata": {},
     "output_type": "execute_result"
    }
   ],
   "source": [
    "# export dataset!\n",
    "api = HfApi()\n",
    "\n",
    "api.upload_file(\n",
    "    path_or_fileobj='parsed_qna_malaysia_ejudgement.jsonl',\n",
    "    path_in_repo='parsed_qna_malaysia_ejudgement.jsonl',\n",
    "    repo_id='malaysia-ai/long-context-malaysia-ejudgement-QA',\n",
    "    repo_type='dataset',\n",
    ")"
   ]
  },
  {
   "cell_type": "code",
   "execution_count": null,
   "id": "a345559c",
   "metadata": {},
   "outputs": [],
   "source": []
  }
 ],
 "metadata": {
  "kernelspec": {
   "display_name": "Python 3 (ipykernel)",
   "language": "python",
   "name": "python3"
  },
  "language_info": {
   "codemirror_mode": {
    "name": "ipython",
    "version": 3
   },
   "file_extension": ".py",
   "mimetype": "text/x-python",
   "name": "python",
   "nbconvert_exporter": "python",
   "pygments_lexer": "ipython3",
   "version": "3.10.12"
  }
 },
 "nbformat": 4,
 "nbformat_minor": 5
}
